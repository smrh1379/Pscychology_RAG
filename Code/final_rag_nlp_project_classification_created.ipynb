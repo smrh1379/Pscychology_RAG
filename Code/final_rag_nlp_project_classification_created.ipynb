{
  "cells": [
    {
      "cell_type": "code",
      "execution_count": 1,
      "metadata": {
        "colab": {
          "base_uri": "https://localhost:8080/"
        },
        "execution": {
          "iopub.execute_input": "2024-08-16T12:45:20.319595Z",
          "iopub.status.busy": "2024-08-16T12:45:20.319261Z",
          "iopub.status.idle": "2024-08-16T12:46:20.875130Z",
          "shell.execute_reply": "2024-08-16T12:46:20.874026Z",
          "shell.execute_reply.started": "2024-08-16T12:45:20.319567Z"
        },
        "id": "_FgclcO6zoP4",
        "outputId": "846264da-948b-4b92-a74f-61e995ee4557",
        "trusted": true
      },
      "outputs": [
        {
          "name": "stdout",
          "output_type": "stream",
          "text": [
            "\u001b[?25l     \u001b[90m━━━━━━━━━━━━━━━━━━━━━━━━━━━━━━━━━━━━━━━━\u001b[0m \u001b[32m0.0/647.5 kB\u001b[0m \u001b[31m?\u001b[0m eta \u001b[36m-:--:--\u001b[0m\r\u001b[2K     \u001b[91m━━━━━━━━━━━━━━━━━━━━━━━━━━━━━━━━━━━━━━━\u001b[0m\u001b[91m╸\u001b[0m \u001b[32m645.1/647.5 kB\u001b[0m \u001b[31m35.1 MB/s\u001b[0m eta \u001b[36m0:00:01\u001b[0m\r\u001b[2K     \u001b[90m━━━━━━━━━━━━━━━━━━━━━━━━━━━━━━━━━━━━━━━━\u001b[0m \u001b[32m647.5/647.5 kB\u001b[0m \u001b[31m17.5 MB/s\u001b[0m eta \u001b[36m0:00:00\u001b[0m\n",
            "\u001b[?25h  Preparing metadata (setup.py) ... \u001b[?25l\u001b[?25hdone\n",
            "\u001b[2K     \u001b[90m━━━━━━━━━━━━━━━━━━━━━━━━━━━━━━━━━━━━━━━━\u001b[0m \u001b[32m86.7/86.7 kB\u001b[0m \u001b[31m7.0 MB/s\u001b[0m eta \u001b[36m0:00:00\u001b[0m\n",
            "\u001b[?25h  Preparing metadata (setup.py) ... \u001b[?25l\u001b[?25hdone\n",
            "\u001b[2K     \u001b[90m━━━━━━━━━━━━━━━━━━━━━━━━━━━━━━━━━━━━━━━━\u001b[0m \u001b[32m50.4/50.4 kB\u001b[0m \u001b[31m3.5 MB/s\u001b[0m eta \u001b[36m0:00:00\u001b[0m\n",
            "\u001b[2K   \u001b[90m━━━━━━━━━━━━━━━━━━━━━━━━━━━━━━━━━━━━━━━━\u001b[0m \u001b[32m137.5/137.5 MB\u001b[0m \u001b[31m7.7 MB/s\u001b[0m eta \u001b[36m0:00:00\u001b[0m\n",
            "\u001b[2K   \u001b[90m━━━━━━━━━━━━━━━━━━━━━━━━━━━━━━━━━━━━━━━━\u001b[0m \u001b[32m1.0/1.0 MB\u001b[0m \u001b[31m41.4 MB/s\u001b[0m eta \u001b[36m0:00:00\u001b[0m\n",
            "\u001b[2K   \u001b[90m━━━━━━━━━━━━━━━━━━━━━━━━━━━━━━━━━━━━━━━━\u001b[0m \u001b[32m41.8/41.8 kB\u001b[0m \u001b[31m2.8 MB/s\u001b[0m eta \u001b[36m0:00:00\u001b[0m\n",
            "\u001b[2K   \u001b[90m━━━━━━━━━━━━━━━━━━━━━━━━━━━━━━━━━━━━━━━━\u001b[0m \u001b[32m302.9/302.9 kB\u001b[0m \u001b[31m22.9 MB/s\u001b[0m eta \u001b[36m0:00:00\u001b[0m\n",
            "\u001b[2K   \u001b[90m━━━━━━━━━━━━━━━━━━━━━━━━━━━━━━━━━━━━━━━━\u001b[0m \u001b[32m171.5/171.5 kB\u001b[0m \u001b[31m11.7 MB/s\u001b[0m eta \u001b[36m0:00:00\u001b[0m\n",
            "\u001b[2K   \u001b[90m━━━━━━━━━━━━━━━━━━━━━━━━━━━━━━━━━━━━━━━━\u001b[0m \u001b[32m85.5/85.5 MB\u001b[0m \u001b[31m8.3 MB/s\u001b[0m eta \u001b[36m0:00:00\u001b[0m\n",
            "\u001b[2K   \u001b[90m━━━━━━━━━━━━━━━━━━━━━━━━━━━━━━━━━━━━━━━━\u001b[0m \u001b[32m527.3/527.3 kB\u001b[0m \u001b[31m29.8 MB/s\u001b[0m eta \u001b[36m0:00:00\u001b[0m\n",
            "\u001b[2K   \u001b[90m━━━━━━━━━━━━━━━━━━━━━━━━━━━━━━━━━━━━━━━━\u001b[0m \u001b[32m163.9/163.9 kB\u001b[0m \u001b[31m9.7 MB/s\u001b[0m eta \u001b[36m0:00:00\u001b[0m\n",
            "\u001b[2K   \u001b[90m━━━━━━━━━━━━━━━━━━━━━━━━━━━━━━━━━━━━━━━━\u001b[0m \u001b[32m116.3/116.3 kB\u001b[0m \u001b[31m9.8 MB/s\u001b[0m eta \u001b[36m0:00:00\u001b[0m\n",
            "\u001b[2K   \u001b[90m━━━━━━━━━━━━━━━━━━━━━━━━━━━━━━━━━━━━━━━━\u001b[0m \u001b[32m27.0/27.0 MB\u001b[0m \u001b[31m41.8 MB/s\u001b[0m eta \u001b[36m0:00:00\u001b[0m\n",
            "\u001b[2K   \u001b[90m━━━━━━━━━━━━━━━━━━━━━━━━━━━━━━━━━━━━━━━━\u001b[0m \u001b[32m2.0/2.0 MB\u001b[0m \u001b[31m38.9 MB/s\u001b[0m eta \u001b[36m0:00:00\u001b[0m\n",
            "\u001b[2K   \u001b[90m━━━━━━━━━━━━━━━━━━━━━━━━━━━━━━━━━━━━━━━━\u001b[0m \u001b[32m140.4/140.4 kB\u001b[0m \u001b[31m11.0 MB/s\u001b[0m eta \u001b[36m0:00:00\u001b[0m\n",
            "\u001b[2K   \u001b[90m━━━━━━━━━━━━━━━━━━━━━━━━━━━━━━━━━━━━━━━━\u001b[0m \u001b[32m15.9/15.9 MB\u001b[0m \u001b[31m23.6 MB/s\u001b[0m eta \u001b[36m0:00:00\u001b[0m\n",
            "\u001b[2K   \u001b[90m━━━━━━━━━━━━━━━━━━━━━━━━━━━━━━━━━━━━━━━━\u001b[0m \u001b[32m361.5/361.5 kB\u001b[0m \u001b[31m21.4 MB/s\u001b[0m eta \u001b[36m0:00:00\u001b[0m\n",
            "\u001b[2K   \u001b[90m━━━━━━━━━━━━━━━━━━━━━━━━━━━━━━━━━━━━━━━━\u001b[0m \u001b[32m53.0/53.0 kB\u001b[0m \u001b[31m3.5 MB/s\u001b[0m eta \u001b[36m0:00:00\u001b[0m\n",
            "\u001b[2K   \u001b[90m━━━━━━━━━━━━━━━━━━━━━━━━━━━━━━━━━━━━━━━━\u001b[0m \u001b[32m39.9/39.9 MB\u001b[0m \u001b[31m15.0 MB/s\u001b[0m eta \u001b[36m0:00:00\u001b[0m\n",
            "\u001b[2K   \u001b[90m━━━━━━━━━━━━━━━━━━━━━━━━━━━━━━━━━━━━━━━━\u001b[0m \u001b[32m71.1/71.1 kB\u001b[0m \u001b[31m5.6 MB/s\u001b[0m eta \u001b[36m0:00:00\u001b[0m\n",
            "\u001b[2K   \u001b[90m━━━━━━━━━━━━━━━━━━━━━━━━━━━━━━━━━━━━━━━━\u001b[0m \u001b[32m1.1/1.1 MB\u001b[0m \u001b[31m31.8 MB/s\u001b[0m eta \u001b[36m0:00:00\u001b[0m\n",
            "\u001b[2K   \u001b[90m━━━━━━━━━━━━━━━━━━━━━━━━━━━━━━━━━━━━━━━━\u001b[0m \u001b[32m4.3/4.3 MB\u001b[0m \u001b[31m57.5 MB/s\u001b[0m eta \u001b[36m0:00:00\u001b[0m\n",
            "\u001b[2K   \u001b[90m━━━━━━━━━━━━━━━━━━━━━━━━━━━━━━━━━━━━━━━━\u001b[0m \u001b[32m134.8/134.8 kB\u001b[0m \u001b[31m8.0 MB/s\u001b[0m eta \u001b[36m0:00:00\u001b[0m\n",
            "\u001b[2K   \u001b[90m━━━━━━━━━━━━━━━━━━━━━━━━━━━━━━━━━━━━━━━━\u001b[0m \u001b[32m194.1/194.1 kB\u001b[0m \u001b[31m12.8 MB/s\u001b[0m eta \u001b[36m0:00:00\u001b[0m\n",
            "\u001b[2K   \u001b[90m━━━━━━━━━━━━━━━━━━━━━━━━━━━━━━━━━━━━━━━━\u001b[0m \u001b[32m75.6/75.6 kB\u001b[0m \u001b[31m4.7 MB/s\u001b[0m eta \u001b[36m0:00:00\u001b[0m\n",
            "\u001b[2K   \u001b[90m━━━━━━━━━━━━━━━━━━━━━━━━━━━━━━━━━━━━━━━━\u001b[0m \u001b[32m77.9/77.9 kB\u001b[0m \u001b[31m5.4 MB/s\u001b[0m eta \u001b[36m0:00:00\u001b[0m\n",
            "\u001b[2K   \u001b[90m━━━━━━━━━━━━━━━━━━━━━━━━━━━━━━━━━━━━━━━━\u001b[0m \u001b[32m318.9/318.9 kB\u001b[0m \u001b[31m19.3 MB/s\u001b[0m eta \u001b[36m0:00:00\u001b[0m\n",
            "\u001b[2K   \u001b[90m━━━━━━━━━━━━━━━━━━━━━━━━━━━━━━━━━━━━━━━━\u001b[0m \u001b[32m15.5/15.5 MB\u001b[0m \u001b[31m52.6 MB/s\u001b[0m eta \u001b[36m0:00:00\u001b[0m\n",
            "\u001b[2K   \u001b[90m━━━━━━━━━━━━━━━━━━━━━━━━━━━━━━━━━━━━━━━━\u001b[0m \u001b[32m1.2/1.2 MB\u001b[0m \u001b[31m40.8 MB/s\u001b[0m eta \u001b[36m0:00:00\u001b[0m\n",
            "\u001b[2K   \u001b[90m━━━━━━━━━━━━━━━━━━━━━━━━━━━━━━━━━━━━━━━━\u001b[0m \u001b[32m49.2/49.2 kB\u001b[0m \u001b[31m3.7 MB/s\u001b[0m eta \u001b[36m0:00:00\u001b[0m\n",
            "\u001b[2K   \u001b[90m━━━━━━━━━━━━━━━━━━━━━━━━━━━━━━━━━━━━━━━━\u001b[0m \u001b[32m141.9/141.9 kB\u001b[0m \u001b[31m12.1 MB/s\u001b[0m eta \u001b[36m0:00:00\u001b[0m\n",
            "\u001b[2K   \u001b[90m━━━━━━━━━━━━━━━━━━━━━━━━━━━━━━━━━━━━━━━━\u001b[0m \u001b[32m288.3/288.3 kB\u001b[0m \u001b[31m24.5 MB/s\u001b[0m eta \u001b[36m0:00:00\u001b[0m\n",
            "\u001b[2K   \u001b[90m━━━━━━━━━━━━━━━━━━━━━━━━━━━━━━━━━━━━━━━━\u001b[0m \u001b[32m307.2/307.2 kB\u001b[0m \u001b[31m26.4 MB/s\u001b[0m eta \u001b[36m0:00:00\u001b[0m\n",
            "\u001b[2K   \u001b[90m━━━━━━━━━━━━━━━━━━━━━━━━━━━━━━━━━━━━━━━━\u001b[0m \u001b[32m53.1/53.1 kB\u001b[0m \u001b[31m4.4 MB/s\u001b[0m eta \u001b[36m0:00:00\u001b[0m\n",
            "\u001b[2K   \u001b[90m━━━━━━━━━━━━━━━━━━━━━━━━━━━━━━━━━━━━━━━━\u001b[0m \u001b[32m53.6/53.6 kB\u001b[0m \u001b[31m4.6 MB/s\u001b[0m eta \u001b[36m0:00:00\u001b[0m\n",
            "\u001b[2K   \u001b[90m━━━━━━━━━━━━━━━━━━━━━━━━━━━━━━━━━━━━━━━━\u001b[0m \u001b[32m169.4/169.4 kB\u001b[0m \u001b[31m14.0 MB/s\u001b[0m eta \u001b[36m0:00:00\u001b[0m\n",
            "\u001b[2K   \u001b[90m━━━━━━━━━━━━━━━━━━━━━━━━━━━━━━━━━━━━━━━━\u001b[0m \u001b[32m295.8/295.8 kB\u001b[0m \u001b[31m24.9 MB/s\u001b[0m eta \u001b[36m0:00:00\u001b[0m\n",
            "\u001b[2K   \u001b[90m━━━━━━━━━━━━━━━━━━━━━━━━━━━━━━━━━━━━━━━━\u001b[0m \u001b[32m207.3/207.3 kB\u001b[0m \u001b[31m17.7 MB/s\u001b[0m eta \u001b[36m0:00:00\u001b[0m\n",
            "\u001b[2K   \u001b[90m━━━━━━━━━━━━━━━━━━━━━━━━━━━━━━━━━━━━━━━━\u001b[0m \u001b[32m62.7/62.7 kB\u001b[0m \u001b[31m4.9 MB/s\u001b[0m eta \u001b[36m0:00:00\u001b[0m\n",
            "\u001b[2K   \u001b[90m━━━━━━━━━━━━━━━━━━━━━━━━━━━━━━━━━━━━━━━━\u001b[0m \u001b[32m58.3/58.3 kB\u001b[0m \u001b[31m5.2 MB/s\u001b[0m eta \u001b[36m0:00:00\u001b[0m\n",
            "\u001b[?25h  Building wheel for colbert-ai (setup.py) ... \u001b[?25l\u001b[?25hdone\n",
            "  Building wheel for annoy (setup.py) ... \u001b[?25l\u001b[?25hdone\n",
            "\u001b[31mERROR: pip's dependency resolver does not currently take into account all the packages that are installed. This behaviour is the source of the following dependency conflicts.\n",
            "cudf-cu12 24.4.1 requires pyarrow<15.0.0a0,>=14.0.1, but you have pyarrow 17.0.0 which is incompatible.\n",
            "ibis-framework 8.0.0 requires pyarrow<16,>=2, but you have pyarrow 17.0.0 which is incompatible.\u001b[0m\u001b[31m\n",
            "\u001b[0m"
          ]
        }
      ],
      "source": [
        "!pip install -q torch \\\n",
        "    transformers \\\n",
        "    accelerate \\\n",
        "    bitsandbytes \\\n",
        "    langchain \\\n",
        "    sentence-transformers \\\n",
        "    faiss-gpu \\\n",
        "    openpyxl \\\n",
        "    pacmap \\\n",
        "    python-dotenv \\\n",
        "    pandas \\\n",
        "    datasets \\\n",
        "    matplotlib \\\n",
        "    ragatouille \\\n",
        "    langchain-openai \\\n",
        "    ragas"
      ]
    },
    {
      "cell_type": "code",
      "execution_count": 2,
      "metadata": {
        "execution": {
          "iopub.execute_input": "2024-08-16T12:46:20.879830Z",
          "iopub.status.busy": "2024-08-16T12:46:20.879404Z",
          "iopub.status.idle": "2024-08-16T12:46:33.043252Z",
          "shell.execute_reply": "2024-08-16T12:46:33.042296Z",
          "shell.execute_reply.started": "2024-08-16T12:46:20.879798Z"
        },
        "id": "eoujYMwW9-9J",
        "trusted": true
      },
      "outputs": [],
      "source": [
        "from tqdm.notebook import tqdm\n",
        "import pandas as pd\n",
        "from typing import Optional, List, Tuple\n",
        "from datasets import Dataset\n",
        "import matplotlib.pyplot as plt\n",
        "from langchain_openai import ChatOpenAI\n",
        "from langchain_core.prompts import ChatPromptTemplate\n",
        "from langchain_core.output_parsers import StrOutputParser\n",
        "import datasets\n",
        "from langchain.vectorstores import FAISS\n",
        "from langchain_community.embeddings import HuggingFaceEmbeddings\n",
        "from langchain_community.vectorstores.utils import DistanceStrategy\n",
        "from datetime import datetime\n",
        "import ragas\n",
        "from ragatouille import RAGPretrainedModel\n",
        "\n",
        "pd.set_option(\n",
        "    \"display.max_colwidth\", None\n",
        ")  # this will be helpful when visualizing retriever outputs"
      ]
    },
    {
      "cell_type": "code",
      "execution_count": 3,
      "metadata": {
        "colab": {
          "base_uri": "https://localhost:8080/"
        },
        "execution": {
          "iopub.execute_input": "2024-08-16T12:46:33.045273Z",
          "iopub.status.busy": "2024-08-16T12:46:33.044518Z",
          "iopub.status.idle": "2024-08-16T12:46:33.053262Z",
          "shell.execute_reply": "2024-08-16T12:46:33.051642Z",
          "shell.execute_reply.started": "2024-08-16T12:46:33.045238Z"
        },
        "id": "Zf6--d_NLOkI",
        "outputId": "570615db-c880-4b6e-d237-45a0721c5b6c",
        "trusted": true
      },
      "outputs": [
        {
          "data": {
            "text/plain": [
              "1"
            ]
          },
          "execution_count": 3,
          "metadata": {},
          "output_type": "execute_result"
        }
      ],
      "source": [
        "import torch\n",
        "torch.cuda.device_count()"
      ]
    },
    {
      "cell_type": "code",
      "execution_count": 4,
      "metadata": {
        "execution": {
          "iopub.execute_input": "2024-08-16T12:46:33.056219Z",
          "iopub.status.busy": "2024-08-16T12:46:33.055878Z",
          "iopub.status.idle": "2024-08-16T12:46:33.163976Z",
          "shell.execute_reply": "2024-08-16T12:46:33.163002Z",
          "shell.execute_reply.started": "2024-08-16T12:46:33.056189Z"
        },
        "id": "4dTKWxY1p87S",
        "trusted": true
      },
      "outputs": [],
      "source": [
        "QUESTION = 'I have a scenario for a disorder can say what is the sub type based on senario? the senario is: A 30-year-old man began using prescription painkillers for a back injury and now uses opioids daily, unable to stop despite severe health and legal issues.'\n",
        "\n",
        "# Embedding model for RAG first retrieval\n",
        "ENCODER = \"thenlper/gte-small\"\n",
        "\n",
        "# Config for the optional reranking step\n",
        "NUM_RETRIEVED_DOCS = 4\n",
        "RERANKER = 'colbert-ir/colbertv2.0'\n",
        "NUM_RERANKED_DOCS = 3\n",
        "\n",
        "# The LLM we will use as \"reader\"\n",
        "# LLM = 'gpt-3.5-turbo-0125'   \"microsoft/Phi-3-mini-128k-instruct\""
      ]
    },
    {
      "cell_type": "code",
      "execution_count": 5,
      "metadata": {
        "execution": {
          "iopub.execute_input": "2024-08-16T13:08:59.039790Z",
          "iopub.status.busy": "2024-08-16T13:08:59.038828Z",
          "iopub.status.idle": "2024-08-16T13:08:59.053573Z",
          "shell.execute_reply": "2024-08-16T13:08:59.052221Z",
          "shell.execute_reply.started": "2024-08-16T13:08:59.039750Z"
        },
        "id": "ztwiGQZcVrbN",
        "trusted": true
      },
      "outputs": [],
      "source": [
        "import re\n",
        "\n",
        "def clean_text(text):\n",
        "    # Remove headers, footers, and unnecessary sections\n",
        "    text = remove_headers_and_footers(text)\n",
        "    text = remove_copyright_info(text)\n",
        "    text = remove_redundant_section_headers(text)\n",
        "\n",
        "    # Normalize spaces and remove non-ASCII characters\n",
        "    text = re.sub(r'\\n+', '\\n', text)  # Normalize multiple newlines\n",
        "    text = re.sub(r'\\s+', ' ', text)  # Remove excessive whitespace\n",
        "    text = re.sub(r'[^\\x00-\\x7F]+', '', text)  # Remove non-ASCII characters\n",
        "\n",
        "    # Remove specific patterns\n",
        "    text = re.sub(r'(DSM-5TM)', '', text, flags=re.IGNORECASE)\n",
        "    text = re.sub(r'(American Psychiatric Association)', '', text, flags=re.IGNORECASE)\n",
        "\n",
        "    return text.strip()\n",
        "\n",
        "def remove_headers_and_footers(text):\n",
        "    lines = text.splitlines()\n",
        "    clean_lines = []\n",
        "    for line in lines:\n",
        "        if not line.strip().startswith('DIAGNOSTIC AND STATISTICAL MANUAL') and \\\n",
        "           not line.strip().startswith('DSM-5') and \\\n",
        "           not line.strip().startswith('American Psychiatric Association'):\n",
        "            clean_lines.append(line)\n",
        "    return '\\n'.join(clean_lines)\n",
        "\n",
        "def remove_copyright_info(text):\n",
        "    copyright_patterns = [\n",
        "        r'Copyright © [0-9]{4} American Psychiatric Association',\n",
        "        r'ALL RIGHTS RESERVED',\n",
        "        r'Correspondence regarding copyright permissions should be directed to DSM Permissions',\n",
        "        r'Manufactured in the United States of America on acid-free paper',\n",
        "        r'Library of Congress Cataloging-in-Publication Data'\n",
        "    ]\n",
        "    for pattern in copyright_patterns:\n",
        "        text = re.sub(pattern, '', text, flags=re.IGNORECASE)\n",
        "    return text\n",
        "\n",
        "def remove_redundant_section_headers(text):\n",
        "    section_patterns = [\n",
        "        r'Section I[\\s\\S]*?Section II',\n",
        "        r'Section III[\\s\\S]*?Appendix'\n",
        "    ]\n",
        "    for pattern in section_patterns:\n",
        "        text = re.sub(pattern, '', text, flags=re.IGNORECASE)\n",
        "    return text\n",
        "\n",
        "# Load and clean the text\n",
        "# with open('DSM5.txt', 'r') as file:\n",
        "#     raw_text = file.read()\n",
        "\n",
        "# cleaned_text = clean_text(raw_text)\n",
        "\n",
        "# # Save the cleaned text to a new file\n",
        "# with open('DSM5_cleaned.txt', 'w') as file:\n",
        "#     file.write(cleaned_text)\n",
        "\n",
        "# print(\"Text cleaning and preprocessing completed.\")"
      ]
    },
    {
      "cell_type": "code",
      "execution_count": 7,
      "metadata": {
        "execution": {
          "iopub.execute_input": "2024-08-16T15:45:12.643148Z",
          "iopub.status.busy": "2024-08-16T15:45:12.642723Z",
          "iopub.status.idle": "2024-08-16T15:45:13.482257Z",
          "shell.execute_reply": "2024-08-16T15:45:13.481425Z",
          "shell.execute_reply.started": "2024-08-16T15:45:12.643120Z"
        },
        "id": "o2oJ98MOAN-_",
        "trusted": true
      },
      "outputs": [],
      "source": [
        "with open('/content/DSM5 ENGLISH.txt','r') as file:\n",
        "  raw_text = file.read()\n",
        "  text = clean_text(raw_text)\n",
        "with open('/content/final_disease_subdisease_summaries.txt','r') as file:\n",
        "  text2 = file.read()\n",
        "ds = [text, text2]"
      ]
    },
    {
      "cell_type": "code",
      "execution_count": 8,
      "metadata": {
        "execution": {
          "iopub.execute_input": "2024-08-16T15:45:13.484282Z",
          "iopub.status.busy": "2024-08-16T15:45:13.483988Z",
          "iopub.status.idle": "2024-08-16T15:45:13.488438Z",
          "shell.execute_reply": "2024-08-16T15:45:13.487528Z",
          "shell.execute_reply.started": "2024-08-16T15:45:13.484257Z"
        },
        "id": "K8SKSZrqIjb-",
        "trusted": true
      },
      "outputs": [],
      "source": [
        "ds2 = [text2]"
      ]
    },
    {
      "cell_type": "code",
      "execution_count": 9,
      "metadata": {
        "execution": {
          "iopub.execute_input": "2024-08-16T15:45:13.490052Z",
          "iopub.status.busy": "2024-08-16T15:45:13.489763Z",
          "iopub.status.idle": "2024-08-16T15:45:13.497804Z",
          "shell.execute_reply": "2024-08-16T15:45:13.496939Z",
          "shell.execute_reply.started": "2024-08-16T15:45:13.490007Z"
        },
        "id": "836Q7vF49-9K",
        "trusted": true
      },
      "outputs": [],
      "source": [
        "from langchain.docstore.document import Document as LangchainDocument\n",
        "\n",
        "LANGCHAIN_RAW_KNOWLEDGE_BASE = [\n",
        "    LangchainDocument(page_content=doc)\n",
        "    for doc in ds\n",
        "]"
      ]
    },
    {
      "cell_type": "code",
      "execution_count": 10,
      "metadata": {
        "execution": {
          "iopub.execute_input": "2024-08-16T15:45:14.554254Z",
          "iopub.status.busy": "2024-08-16T15:45:14.553879Z",
          "iopub.status.idle": "2024-08-16T15:45:14.559341Z",
          "shell.execute_reply": "2024-08-16T15:45:14.558307Z",
          "shell.execute_reply.started": "2024-08-16T15:45:14.554215Z"
        },
        "id": "JlYELLiBJvLO",
        "trusted": true
      },
      "outputs": [],
      "source": [
        "LANGCHAIN_DISEASES_KNOWLEDGE_BASE = [\n",
        "    LangchainDocument(page_content=doc)\n",
        "    for doc in ds2\n",
        "]"
      ]
    },
    {
      "cell_type": "code",
      "execution_count": 11,
      "metadata": {
        "colab": {
          "base_uri": "https://localhost:8080/",
          "height": 284,
          "referenced_widgets": [
            "97784a5ea66c43328c660a3582837881",
            "49db9fec5b3a4d83aee48c819ba35271",
            "37136f2a502b401fbe914d1fff85a1a8",
            "d1ef4ef5b8984b57a054e40f7e3e3aeb",
            "0269e7f713a64dd9aecb7f606624439f",
            "eee34618d08048b6886f2cc6635a079c",
            "2de1ca42f0e646b4b405f483f2d7955c",
            "a2b26d41485740f682fc2b060dd31f4c",
            "5a498b225ab2419a927ac9cb07fd917b",
            "ea2f5afb61c24af5912a81a42364eb8a",
            "f9a01a07182f4dc88e3d70b760bb1fc7",
            "1ee4627731974b989ebb77686c6873bc",
            "602d468ef9a2472ea4ddc8a44a73d305",
            "51039df23e034225bc03860378e906f5",
            "76a331a733b946d2bc1e50fe8ec3ab09",
            "c97c8b77efdb41eba15961989df6e9c4",
            "e8876471964842298f2b53c2db9f5855",
            "19ddd5e5c8ea4406a32079f145a87439",
            "21e563fbe34a411ca8eee57d9ec8cede",
            "a95eed872de042d3a7f856805d9ad72d",
            "3063f32707274efe9e4d9cf6f41a8727",
            "8ee20d7ca3714fd8b23915bcbc2e36e3",
            "d92993ab1df64ebc8807d82f658b1622",
            "f365965e7ba34cec92a879bb5ce0f439",
            "2af4a8fe651c4dc9bce961703a5775a6",
            "3caba0cf4eb649c796110423ddb41d76",
            "7439c355ee934c2bb73696c65ba0bb4d",
            "008e5e719f2046779b8a22be3a1deb56",
            "2249c87a3d964a1abcb68d0065070c3b",
            "e867f3f278aa4466a9d9415737dbde11",
            "993925eec1464991acf417f0064e4ab0",
            "ae33322780664d6ea7d1d391ebc995ef",
            "5630f5a53c304cf894c62791f5d50317",
            "80a499b8566a42e089305dd96ad87d78",
            "1074db11928a4663aafb036e5dea3389",
            "35e15e940ff0423498501a36008b4cc8",
            "1169ccf32a2c4731889e02725a47700f",
            "fa24ca3089de46f5b32af04d60718dc3",
            "97329a0f918943e9ab703cf6659419b0",
            "48b77f774e8242bfbccd588e5db57382",
            "318d07d670ff4a9687cc5a050611f747",
            "b9dd6c99f335458299250a0abd685921",
            "065401c62ce24f17a54f135db3eec684",
            "387b8667cd1647d8bca60336d85607ca"
          ]
        },
        "execution": {
          "iopub.execute_input": "2024-08-16T15:45:15.730832Z",
          "iopub.status.busy": "2024-08-16T15:45:15.730433Z",
          "iopub.status.idle": "2024-08-16T15:45:48.945772Z",
          "shell.execute_reply": "2024-08-16T15:45:48.944827Z",
          "shell.execute_reply.started": "2024-08-16T15:45:15.730801Z"
        },
        "id": "9hvIL2jO9-9M",
        "outputId": "1856500d-e22c-44e3-8a87-ad856bdd616b",
        "trusted": true
      },
      "outputs": [
        {
          "name": "stderr",
          "output_type": "stream",
          "text": [
            "/usr/local/lib/python3.10/dist-packages/huggingface_hub/utils/_token.py:89: UserWarning: \n",
            "The secret `HF_TOKEN` does not exist in your Colab secrets.\n",
            "To authenticate with the Hugging Face Hub, create a token in your settings tab (https://huggingface.co/settings/tokens), set it as secret in your Google Colab and restart your session.\n",
            "You will be able to reuse this secret in all of your notebooks.\n",
            "Please note that authentication is recommended but still optional to access public models or datasets.\n",
            "  warnings.warn(\n"
          ]
        },
        {
          "data": {
            "application/vnd.jupyter.widget-view+json": {
              "model_id": "97784a5ea66c43328c660a3582837881",
              "version_major": 2,
              "version_minor": 0
            },
            "text/plain": [
              "tokenizer_config.json:   0%|          | 0.00/394 [00:00<?, ?B/s]"
            ]
          },
          "metadata": {},
          "output_type": "display_data"
        },
        {
          "data": {
            "application/vnd.jupyter.widget-view+json": {
              "model_id": "1ee4627731974b989ebb77686c6873bc",
              "version_major": 2,
              "version_minor": 0
            },
            "text/plain": [
              "vocab.txt:   0%|          | 0.00/232k [00:00<?, ?B/s]"
            ]
          },
          "metadata": {},
          "output_type": "display_data"
        },
        {
          "data": {
            "application/vnd.jupyter.widget-view+json": {
              "model_id": "d92993ab1df64ebc8807d82f658b1622",
              "version_major": 2,
              "version_minor": 0
            },
            "text/plain": [
              "tokenizer.json:   0%|          | 0.00/712k [00:00<?, ?B/s]"
            ]
          },
          "metadata": {},
          "output_type": "display_data"
        },
        {
          "data": {
            "application/vnd.jupyter.widget-view+json": {
              "model_id": "80a499b8566a42e089305dd96ad87d78",
              "version_major": 2,
              "version_minor": 0
            },
            "text/plain": [
              "special_tokens_map.json:   0%|          | 0.00/125 [00:00<?, ?B/s]"
            ]
          },
          "metadata": {},
          "output_type": "display_data"
        },
        {
          "name": "stderr",
          "output_type": "stream",
          "text": [
            "100%|██████████| 2/2 [00:25<00:00, 12.83s/it]\n",
            "100%|██████████| 1/1 [00:00<00:00, 26.09it/s]\n"
          ]
        }
      ],
      "source": [
        "from langchain.text_splitter import RecursiveCharacterTextSplitter\n",
        "from transformers import AutoTokenizer\n",
        "import tqdm\n",
        "\n",
        "CHUNK_SIZE = 256 # because we know it's the max seq length from the embedding model\n",
        "MARKDOWN_SEPARATORS = [\n",
        "    \"\\n#{1,6} \",\n",
        "    \"\\n\\n\",\n",
        "    \"\\n\",\n",
        "    \" \",\n",
        "    \"\",\n",
        "]\n",
        "\n",
        "text_splitter = RecursiveCharacterTextSplitter.from_huggingface_tokenizer(\n",
        "    AutoTokenizer.from_pretrained(ENCODER),\n",
        "    chunk_size=CHUNK_SIZE,\n",
        "    chunk_overlap=int(CHUNK_SIZE / 10),\n",
        "    add_start_index=True,\n",
        "    strip_whitespace=True,\n",
        "    separators=MARKDOWN_SEPARATORS,\n",
        ")\n",
        "\n",
        "# same as before, just with the new tokenizer\n",
        "docs_processed = []\n",
        "for doc in tqdm.tqdm(LANGCHAIN_RAW_KNOWLEDGE_BASE):\n",
        "    docs_processed += text_splitter.split_documents([doc])\n",
        "\n",
        "\n",
        "diseases_docs_processed = []\n",
        "for doc in tqdm.tqdm(LANGCHAIN_DISEASES_KNOWLEDGE_BASE):\n",
        "    diseases_docs_processed += text_splitter.split_documents([doc])"
      ]
    },
    {
      "cell_type": "code",
      "execution_count": 12,
      "metadata": {
        "execution": {
          "iopub.execute_input": "2024-08-16T15:45:48.948368Z",
          "iopub.status.busy": "2024-08-16T15:45:48.947921Z",
          "iopub.status.idle": "2024-08-16T15:45:48.960602Z",
          "shell.execute_reply": "2024-08-16T15:45:48.959691Z",
          "shell.execute_reply.started": "2024-08-16T15:45:48.948334Z"
        },
        "id": "GYZxjw6GI2Yl",
        "trusted": true
      },
      "outputs": [],
      "source": [
        "# Remove duplicates\n",
        "unique_texts = set()\n",
        "docs_processed_unique = []\n",
        "for doc in docs_processed:\n",
        "    if doc.page_content not in unique_texts:\n",
        "        unique_texts.add(doc.page_content)\n",
        "        docs_processed_unique.append(doc)"
      ]
    },
    {
      "cell_type": "code",
      "execution_count": 13,
      "metadata": {
        "colab": {
          "base_uri": "https://localhost:8080/"
        },
        "execution": {
          "iopub.execute_input": "2024-08-16T15:45:48.962405Z",
          "iopub.status.busy": "2024-08-16T15:45:48.962030Z",
          "iopub.status.idle": "2024-08-16T15:45:48.970247Z",
          "shell.execute_reply": "2024-08-16T15:45:48.969364Z",
          "shell.execute_reply.started": "2024-08-16T15:45:48.962371Z"
        },
        "id": "4Y6IRBo4WYQ9",
        "outputId": "33f0267c-b8dc-4ca2-8332-84c0b36f2071",
        "trusted": true
      },
      "outputs": [
        {
          "name": "stdout",
          "output_type": "stream",
          "text": [
            "5023\n",
            "5021\n"
          ]
        }
      ],
      "source": [
        "print(len(docs_processed))\n",
        "print(len(docs_processed_unique))"
      ]
    },
    {
      "cell_type": "code",
      "execution_count": 14,
      "metadata": {
        "execution": {
          "iopub.execute_input": "2024-08-16T15:45:48.973019Z",
          "iopub.status.busy": "2024-08-16T15:45:48.972709Z",
          "iopub.status.idle": "2024-08-16T15:45:48.979197Z",
          "shell.execute_reply": "2024-08-16T15:45:48.978325Z",
          "shell.execute_reply.started": "2024-08-16T15:45:48.972995Z"
        },
        "id": "4uVQZDicKf0C",
        "trusted": true
      },
      "outputs": [],
      "source": [
        "# Remove duplicates\n",
        "unique_texts_diseases = set()\n",
        "diseases_docs_processed_unique = []\n",
        "for doc in diseases_docs_processed:\n",
        "    if doc.page_content not in unique_texts_diseases:\n",
        "        unique_texts_diseases.add(doc.page_content)\n",
        "        diseases_docs_processed_unique.append(doc)"
      ]
    },
    {
      "cell_type": "code",
      "execution_count": 15,
      "metadata": {
        "colab": {
          "base_uri": "https://localhost:8080/"
        },
        "execution": {
          "iopub.execute_input": "2024-08-16T15:45:48.980543Z",
          "iopub.status.busy": "2024-08-16T15:45:48.980219Z",
          "iopub.status.idle": "2024-08-16T15:45:48.988376Z",
          "shell.execute_reply": "2024-08-16T15:45:48.987477Z",
          "shell.execute_reply.started": "2024-08-16T15:45:48.980519Z"
        },
        "id": "2cB7zmY8LGqP",
        "outputId": "fdee3558-c08a-4a14-9e7e-ab577542fc5a",
        "trusted": true
      },
      "outputs": [
        {
          "name": "stdout",
          "output_type": "stream",
          "text": [
            "16\n",
            "16\n"
          ]
        }
      ],
      "source": [
        "print(len(diseases_docs_processed))\n",
        "print(len(diseases_docs_processed_unique))"
      ]
    },
    {
      "cell_type": "code",
      "execution_count": 16,
      "metadata": {
        "colab": {
          "base_uri": "https://localhost:8080/",
          "height": 244,
          "referenced_widgets": [
            "9fe46e4c6466491985e4691fb67cad04",
            "eda62242fad6414e949ad8b9117a75b6",
            "09be5dd9f90c46b5b0c4115e1ed1cc05",
            "f0219c64f8de419983f2adbb410117f7",
            "35da8c3c8437456b920309f9efc6fbf8",
            "3acedf500033442987549fd05e95a734",
            "4b6fb204b6ff435e811f74d70f6d73ba",
            "c08e8ed882c64da8a5b57f571e0fedc2",
            "a62a65a4bce7421793aebf5ed5dffb8e",
            "88c9c5f435544ea094e0febf8f6a258e",
            "cf30cb1c7678422299fe8164f674564c",
            "95761cdf486e4f2590edff39ec60eaba",
            "9657e1f3ac934fed9712995270bc8748",
            "020ce049c28249768a55478da50e8ee8",
            "798905c2ba5543e7b8caa4d73d4697f4",
            "8066c5f06129408f94465487945fdbf3",
            "3195089f2e5c4987ad75e884d0cd3dac",
            "2b938cf4e3814d9fa1afa0b68ffcb6a5",
            "9e67eba6f2cd4808a84ee79ea5352ebf",
            "a29d6a0ed6b44e13b150ed9d1f67ab31",
            "45ea17e76fe146b18d43e9aebe14bb83",
            "14dddb3438d746d092234e7306bb7ccf",
            "70b139c3cc8441a3b6a70425774aeaa9",
            "3d7aeff90eb746e59e5e03517826b962",
            "d518299f7b2d49a0bc0dcb403d898ca9",
            "ab6c35e0b56641babbb2bfb0f27b5702",
            "6257382ca558490e8311aab9f326c2b8",
            "9d251f4e96a2461f9930a7be5ddc5949",
            "1415f7f357c3496f91c5707905972bbf",
            "1a54a6bbebd44764a042c6aea82ea2eb",
            "6afeb80768ae4fe79180629a17f46cae",
            "9d1719854c754ba1a2880c7198f22696",
            "c46cf61ab55b489da8cd4998c9975168",
            "e92491e176df4f12aa301670b1895af3",
            "ef55ca3b29e44b0484639bb6c98adf6d",
            "a28fd3b428ce4528928750eb66ec0e52",
            "fce8e0744e9b407a82cef0ebc10ecc73",
            "a480adec5a694887a21a45d9aa00c23c",
            "338cc4d0dbe14ad3a93494ce5e98ef49",
            "43e5697eb6984c6dabffa45ee82e5ddf",
            "9996785a43f74aa0bc1bd74899482f15",
            "b8688f3db14849f3a2052f195bc6ec32",
            "6f0697d1b2e84657a3bf61c7854ddf8f",
            "97e226ab5add49e7990a5290028d13e5",
            "24fe885af95b43d5a4fc646332daa988",
            "83a35d583e1641af9c60488735add458",
            "9afe46534e52483aa884d8b6828934f0",
            "237f704a35654a9cb3552acfc5fcbd4a",
            "bb8e1d66541e45cfbcb756195039dd4b",
            "9c0330bb97194a96b6b04b33f913fd9f",
            "6551e1c893e642159afb8225aa3ee973",
            "525d283ec1d74fb9a3964fdf1b5f7031",
            "24d388ca793a4d2f8b2db4e5680d8cc3",
            "5cfca4f1c804404890cecc320728ea93",
            "7db03e50e39e43d685099ff0c9b5afed",
            "ceb13c3187fa435095498c21918e0c3c",
            "55a83d40c1a4440bbc295ead729f87fa",
            "38bff6f532af4119ad181db5dbe9dd09",
            "47cb9d463511430db1971a55fb18fc0e",
            "46d675fe44df47cd887d2c7386dcac9a",
            "a4d3dcccae804dc58ac0f7c69ce8a8d5",
            "a9e4bce77e7a4c91a41899df31a43d3b",
            "47953e5b73ec4bd8aa11df90d123144c",
            "7f5a3a01e8c24e0587a9f3fbbaf62849",
            "d39adc1a7dcd4cd9a868ecd9eec8a363",
            "a2e9817392934fd9abe31d7285bcca79"
          ]
        },
        "execution": {
          "iopub.execute_input": "2024-08-16T15:45:48.990096Z",
          "iopub.status.busy": "2024-08-16T15:45:48.989846Z",
          "iopub.status.idle": "2024-08-16T15:46:02.140381Z",
          "shell.execute_reply": "2024-08-16T15:46:02.139229Z",
          "shell.execute_reply.started": "2024-08-16T15:45:48.990075Z"
        },
        "id": "dalledM99-9M",
        "outputId": "ead80d1b-3c6e-48df-a930-b7e2165b781f",
        "trusted": true
      },
      "outputs": [
        {
          "data": {
            "application/vnd.jupyter.widget-view+json": {
              "model_id": "9fe46e4c6466491985e4691fb67cad04",
              "version_major": 2,
              "version_minor": 0
            },
            "text/plain": [
              "modules.json:   0%|          | 0.00/385 [00:00<?, ?B/s]"
            ]
          },
          "metadata": {},
          "output_type": "display_data"
        },
        {
          "data": {
            "application/vnd.jupyter.widget-view+json": {
              "model_id": "95761cdf486e4f2590edff39ec60eaba",
              "version_major": 2,
              "version_minor": 0
            },
            "text/plain": [
              "README.md:   0%|          | 0.00/68.1k [00:00<?, ?B/s]"
            ]
          },
          "metadata": {},
          "output_type": "display_data"
        },
        {
          "data": {
            "application/vnd.jupyter.widget-view+json": {
              "model_id": "70b139c3cc8441a3b6a70425774aeaa9",
              "version_major": 2,
              "version_minor": 0
            },
            "text/plain": [
              "sentence_bert_config.json:   0%|          | 0.00/57.0 [00:00<?, ?B/s]"
            ]
          },
          "metadata": {},
          "output_type": "display_data"
        },
        {
          "data": {
            "application/vnd.jupyter.widget-view+json": {
              "model_id": "e92491e176df4f12aa301670b1895af3",
              "version_major": 2,
              "version_minor": 0
            },
            "text/plain": [
              "config.json:   0%|          | 0.00/583 [00:00<?, ?B/s]"
            ]
          },
          "metadata": {},
          "output_type": "display_data"
        },
        {
          "data": {
            "application/vnd.jupyter.widget-view+json": {
              "model_id": "24fe885af95b43d5a4fc646332daa988",
              "version_major": 2,
              "version_minor": 0
            },
            "text/plain": [
              "model.safetensors:   0%|          | 0.00/66.7M [00:00<?, ?B/s]"
            ]
          },
          "metadata": {},
          "output_type": "display_data"
        },
        {
          "data": {
            "application/vnd.jupyter.widget-view+json": {
              "model_id": "ceb13c3187fa435095498c21918e0c3c",
              "version_major": 2,
              "version_minor": 0
            },
            "text/plain": [
              "1_Pooling/config.json:   0%|          | 0.00/190 [00:00<?, ?B/s]"
            ]
          },
          "metadata": {},
          "output_type": "display_data"
        },
        {
          "name": "stdout",
          "output_type": "stream",
          "text": [
            "Starting embedding at 2024-08-16T18:02:00.971037\n",
            "Finished embedding at 2024-08-16T18:02:15.359291\n"
          ]
        }
      ],
      "source": [
        "def get_cur_time():\n",
        "  now = datetime.now()\n",
        "  return now.isoformat()\n",
        "\n",
        "embedding_model = HuggingFaceEmbeddings(\n",
        "    model_name=ENCODER,\n",
        "    multi_process=True,\n",
        "    model_kwargs={\"device\": \"cuda\"},\n",
        "    encode_kwargs={\"normalize_embeddings\": True},  # set True for cosine similarity\n",
        ")\n",
        "\n",
        "start = get_cur_time()\n",
        "print(f'Starting embedding at {start}')\n",
        "KNOWLEDGE_VECTOR_DATABASE = FAISS.from_documents(\n",
        "    docs_processed_unique, embedding_model, distance_strategy=DistanceStrategy.COSINE\n",
        ")\n",
        "\n",
        "end = get_cur_time()\n",
        "print(f'Finished embedding at {end}')"
      ]
    },
    {
      "cell_type": "code",
      "execution_count": 17,
      "metadata": {
        "colab": {
          "base_uri": "https://localhost:8080/"
        },
        "execution": {
          "iopub.execute_input": "2024-08-16T15:46:02.141961Z",
          "iopub.status.busy": "2024-08-16T15:46:02.141657Z",
          "iopub.status.idle": "2024-08-16T15:46:09.783903Z",
          "shell.execute_reply": "2024-08-16T15:46:09.782905Z",
          "shell.execute_reply.started": "2024-08-16T15:46:02.141934Z"
        },
        "id": "iF-MnUmjLtCD",
        "outputId": "4ffdd26f-a84d-4457-9730-c96992915c54",
        "trusted": true
      },
      "outputs": [
        {
          "name": "stdout",
          "output_type": "stream",
          "text": [
            "Starting embedding at 2024-08-16T18:02:15.375915\n",
            "Finished embedding at 2024-08-16T18:02:19.796133\n"
          ]
        }
      ],
      "source": [
        "start = get_cur_time()\n",
        "print(f'Starting embedding at {start}')\n",
        "KNOWLEDGE_VECTOR_DATABASE_1 = FAISS.from_documents(\n",
        "    diseases_docs_processed_unique, embedding_model, distance_strategy=DistanceStrategy.COSINE\n",
        ")\n",
        "\n",
        "end = get_cur_time()\n",
        "print(f'Finished embedding at {end}')"
      ]
    },
    {
      "cell_type": "code",
      "execution_count": 18,
      "metadata": {
        "execution": {
          "iopub.execute_input": "2024-08-16T15:46:09.785211Z",
          "iopub.status.busy": "2024-08-16T15:46:09.784932Z",
          "iopub.status.idle": "2024-08-16T15:46:17.185656Z",
          "shell.execute_reply": "2024-08-16T15:46:17.184780Z",
          "shell.execute_reply.started": "2024-08-16T15:46:09.785186Z"
        },
        "id": "rhvcE3vH9-9N",
        "trusted": true
      },
      "outputs": [],
      "source": [
        "# embed a user query in the same space\n",
        "query_vector = embedding_model.embed_query(QUESTION)"
      ]
    },
    {
      "cell_type": "code",
      "execution_count": 19,
      "metadata": {
        "execution": {
          "iopub.execute_input": "2024-08-16T15:46:17.187092Z",
          "iopub.status.busy": "2024-08-16T15:46:17.186795Z",
          "iopub.status.idle": "2024-08-16T15:46:17.192380Z",
          "shell.execute_reply": "2024-08-16T15:46:17.191517Z",
          "shell.execute_reply.started": "2024-08-16T15:46:17.187066Z"
        },
        "id": "qbQln-HMFJaK",
        "trusted": true
      },
      "outputs": [],
      "source": [
        "KNOWLEDGE_VECTOR_DATABASE_1.save_local('test1')"
      ]
    },
    {
      "cell_type": "code",
      "execution_count": 20,
      "metadata": {
        "execution": {
          "iopub.execute_input": "2024-08-16T15:46:17.195454Z",
          "iopub.status.busy": "2024-08-16T15:46:17.195188Z",
          "iopub.status.idle": "2024-08-16T15:46:17.242840Z",
          "shell.execute_reply": "2024-08-16T15:46:17.242107Z",
          "shell.execute_reply.started": "2024-08-16T15:46:17.195432Z"
        },
        "id": "vkMNQWwyPeVH",
        "trusted": true
      },
      "outputs": [],
      "source": [
        "KNOWLEDGE_VECTOR_DATABASE.save_local('test')"
      ]
    },
    {
      "cell_type": "code",
      "execution_count": 21,
      "metadata": {
        "colab": {
          "base_uri": "https://localhost:8080/"
        },
        "execution": {
          "iopub.execute_input": "2024-08-16T12:47:43.235866Z",
          "iopub.status.busy": "2024-08-16T12:47:43.235561Z",
          "iopub.status.idle": "2024-08-16T12:48:07.122547Z",
          "shell.execute_reply": "2024-08-16T12:48:07.121309Z",
          "shell.execute_reply.started": "2024-08-16T12:47:43.235841Z"
        },
        "id": "ZeH10uZMYwUm",
        "outputId": "4bf43b5d-a3a6-4695-f243-f48991aed9b3",
        "trusted": true
      },
      "outputs": [
        {
          "name": "stdout",
          "output_type": "stream",
          "text": [
            "\u001b[2K     \u001b[90m━━━━━━━━━━━━━━━━━━━━━━━━━━━━━━━━━━━━━━━━\u001b[0m \u001b[32m43.7/43.7 kB\u001b[0m \u001b[31m2.3 MB/s\u001b[0m eta \u001b[36m0:00:00\u001b[0m\n",
            "\u001b[2K   \u001b[90m━━━━━━━━━━━━━━━━━━━━━━━━━━━━━━━━━━━━━━━━\u001b[0m \u001b[32m9.5/9.5 MB\u001b[0m \u001b[31m82.9 MB/s\u001b[0m eta \u001b[36m0:00:00\u001b[0m\n",
            "\u001b[?25h"
          ]
        }
      ],
      "source": [
        "!pip install langchain-huggingface transformers -qU"
      ]
    },
    {
      "cell_type": "code",
      "execution_count": 23,
      "metadata": {
        "colab": {
          "base_uri": "https://localhost:8080/",
          "height": 153,
          "referenced_widgets": [
            "8d67c311b2d64a9c8385de0efc8be6ec",
            "6cc99046da41443fb751109f1eba4ae3",
            "1f30e2d15b8743c7baeeb2c212dd3a78",
            "0bc0f6968d7f408e8184edf34a5a54c0",
            "bd403d6d0bf34ba08add5d9e9b2e5903",
            "6542a2a21446425394edc42c6d3964fc",
            "5965ee3b04de4f6cac5b0844a4f8532c",
            "3f8b3da3465e43fea06311168aa6046f",
            "e9cda838602743918881f7f20a84092f",
            "0a7b1331bf2049dbada5d0d02d77eb8d",
            "2ffabe2f54d949ffa5d94d3d09c0b5a4",
            "cbc7040c07bc451988bfad19a82f57e7",
            "fb08b354e17445d2b82818d000c9c7a1",
            "5c92e8d30e284b11b3bfad767eae619d",
            "61d475cb9b1a4323be12cd751bbd18ac",
            "26b405e190334a4e9b2db92ed71fc64f",
            "01102d3750544024bf4450d75adf1fee",
            "a54eb7172d2b4a9eb83c88ebffb63ba7",
            "37844d2a7c5f4218a2240e82ce97cf19",
            "15fa35d3f46e4757a1dfb25f805dacbb",
            "3018bb644cf84bf4829d2f556864e2ef",
            "d27beb13dcde45239e96c5d049c4286e"
          ]
        },
        "execution": {
          "iopub.execute_input": "2024-08-16T15:46:17.244584Z",
          "iopub.status.busy": "2024-08-16T15:46:17.244274Z",
          "iopub.status.idle": "2024-08-16T15:46:21.320787Z",
          "shell.execute_reply": "2024-08-16T15:46:21.319829Z",
          "shell.execute_reply.started": "2024-08-16T15:46:17.244559Z"
        },
        "id": "RxDL9XsBeI1i",
        "outputId": "2ca0e1c0-bbe9-4204-975b-52832c9d0e7a",
        "trusted": true
      },
      "outputs": [
        {
          "name": "stderr",
          "output_type": "stream",
          "text": [
            "Special tokens have been added in the vocabulary, make sure the associated word embeddings are fine-tuned or trained.\n",
            "WARNING:transformers_modules.microsoft.Phi-3-mini-128k-instruct.d548c233192db00165d842bf8edff054bb3212f8.modeling_phi3:`flash-attention` package not found, consider installing for better performance: No module named 'flash_attn'.\n",
            "WARNING:transformers_modules.microsoft.Phi-3-mini-128k-instruct.d548c233192db00165d842bf8edff054bb3212f8.modeling_phi3:Current `flash-attention` does not support `window_size`. Either upgrade or use `attn_implementation='eager'`.\n"
          ]
        },
        {
          "data": {
            "application/vnd.jupyter.widget-view+json": {
              "model_id": "8d67c311b2d64a9c8385de0efc8be6ec",
              "version_major": 2,
              "version_minor": 0
            },
            "text/plain": [
              "Loading checkpoint shards:   0%|          | 0/2 [00:00<?, ?it/s]"
            ]
          },
          "metadata": {},
          "output_type": "display_data"
        },
        {
          "data": {
            "application/vnd.jupyter.widget-view+json": {
              "model_id": "cbc7040c07bc451988bfad19a82f57e7",
              "version_major": 2,
              "version_minor": 0
            },
            "text/plain": [
              "generation_config.json:   0%|          | 0.00/181 [00:00<?, ?B/s]"
            ]
          },
          "metadata": {},
          "output_type": "display_data"
        }
      ],
      "source": [
        "from langchain_huggingface import HuggingFacePipeline\n",
        "from transformers import AutoModelForCausalLM, AutoTokenizer, pipeline\n",
        "\n",
        "model_id = \"microsoft/Phi-3-mini-128k-instruct\"\n",
        "tokenizer = AutoTokenizer.from_pretrained(model_id)\n",
        "model = AutoModelForCausalLM.from_pretrained(model_id, torch_dtype=torch.bfloat16, device_map='cuda:0', trust_remote_code = True)\n",
        "pipe = pipeline(\n",
        "    \"text-generation\", model=model, tokenizer=tokenizer, max_new_tokens=128\n",
        ")\n",
        "hf_pipe = HuggingFacePipeline(pipeline=pipe)"
      ]
    },
    {
      "cell_type": "code",
      "execution_count": 36,
      "metadata": {
        "execution": {
          "iopub.execute_input": "2024-08-16T16:07:15.156302Z",
          "iopub.status.busy": "2024-08-16T16:07:15.155467Z",
          "iopub.status.idle": "2024-08-16T16:07:15.166579Z",
          "shell.execute_reply": "2024-08-16T16:07:15.165544Z",
          "shell.execute_reply.started": "2024-08-16T16:07:15.156272Z"
        },
        "id": "__6gIPHsaWgs",
        "trusted": true
      },
      "outputs": [],
      "source": [
        "class Reader:\n",
        "\n",
        "    def __init__(self):#, openai_api_key: str):\n",
        "\n",
        "        self.llm = hf_pipe#ChatOpenAI(openai_api_key=openai_api_key, model=LLM)\n",
        "        #self.openai_api_key = openai_api_key\n",
        "        self.output_parser = StrOutputParser()\n",
        "\n",
        "    def base_llm_answer(self, question: str) -> str:\n",
        "        base_prompt = ChatPromptTemplate.from_messages([\n",
        "            (\"system\", \"You are a helpful assistant.\"),\n",
        "            (\"user\", \"{question}\")\n",
        "        ])\n",
        "        chain = base_prompt | self.llm | self.output_parser\n",
        "        answer = chain.invoke({'question': question})\n",
        "        return answer\n",
        "\n",
        "    def rag_llm_answer(self, question: str, context: Optional[str] = None) -> str:\n",
        "        rag_prompt = ChatPromptTemplate.from_messages([\n",
        "            (\"system\", \"\"\"Using the information contained in the context,\n",
        "            give a comprehensive answer to the question.\n",
        "            Respond only to the question asked, response should be concise and relevant to the question.\n",
        "            Provide the number of the source document when relevant.\n",
        "            If the answer cannot be deduced from the context, do not give an answer.\"\"\"),\n",
        "            (\"user\", \"\"\"Context:\n",
        "            {context}\n",
        "            ---\n",
        "            Now here is the question you need to answer.\n",
        "\n",
        "            Question: {question}\"\"\")\n",
        "        ])\n",
        "        chain = rag_prompt | self.llm | self.output_parser\n",
        "        answer = chain.invoke({'context': context, 'question': question})\n",
        "        return answer\n",
        "\n",
        "# Let's initialize our Reader class, and use it to answer our question based on previously retrieved documents! First for a small test.\n",
        "\n",
        "reader = Reader()#openai_api_key=openai_api_key)\n"
      ]
    },
    {
      "cell_type": "code",
      "execution_count": 37,
      "metadata": {
        "execution": {
          "iopub.execute_input": "2024-08-16T16:07:20.311914Z",
          "iopub.status.busy": "2024-08-16T16:07:20.311285Z",
          "iopub.status.idle": "2024-08-16T16:07:20.324327Z",
          "shell.execute_reply": "2024-08-16T16:07:20.323302Z",
          "shell.execute_reply.started": "2024-08-16T16:07:20.311883Z"
        },
        "id": "Ga5TqW6OuqVl",
        "trusted": true
      },
      "outputs": [],
      "source": [
        "# let's write some convenience functions\n",
        "\n",
        "def retrieved_docs_to_prompt_context(retrieved_docs):\n",
        "    retrieved_docs_text = [\n",
        "        doc.page_content for doc in retrieved_docs\n",
        "    ]  # we only need the text of the documents\n",
        "    context = \"\\nExtracted documents:\\n\"\n",
        "    context += \"\".join(\n",
        "        [f\"Document {str(i)}:::\\n\" + doc for i, doc in enumerate(retrieved_docs_text)]\n",
        "    )\n",
        "    return retrieved_docs_text\n",
        "\n",
        "def rag_pipeline(question, reranker=None, return_context=False):\n",
        "    # Step 1: Enhance the question using the base_llm_answer method.\n",
        "    enhanced_question = question\n",
        "\n",
        "    # Step 2: Perform the retrieval and optionally reranking\n",
        "    retrieved_docs = KNOWLEDGE_VECTOR_DATABASE.similarity_search(\n",
        "        query=enhanced_question, k=NUM_RETRIEVED_DOCS)\n",
        "\n",
        "    # No need to print the number of retrieved documents\n",
        "    prompt_context = retrieved_docs_to_prompt_context(retrieved_docs)\n",
        "\n",
        "    if reranker:\n",
        "        relevant_docs_reranked = reranker.rerank(enhanced_question,\n",
        "                                                 [doc.page_content for doc in retrieved_docs],\n",
        "                                                 k=NUM_RERANKED_DOCS)\n",
        "\n",
        "        # No need to print the reranking process\n",
        "        relevant_docs_reranked_text = [doc[\"content\"] for doc in relevant_docs_reranked]\n",
        "\n",
        "        # Step 3: Use the refined question to get a final RAG answer\n",
        "        rag_answer = reader.rag_llm_answer(enhanced_question, relevant_docs_reranked_text)\n",
        "    else:\n",
        "        # Step 3: Use the refined question to get a final RAG answer\n",
        "        rag_answer = reader.rag_llm_answer(enhanced_question, prompt_context)\n",
        "\n",
        "    # Only return the answer (and context if requested)\n",
        "    if return_context:\n",
        "        return (rag_answer, retrieved_docs)\n",
        "    else:\n",
        "        return rag_answer\n",
        "\n",
        "\n",
        "def classificationn_pipeline(question, reranker=None, return_context = False):\n",
        "    retrieved_docs = KNOWLEDGE_VECTOR_DATABASE_1.similarity_search(\n",
        "    query=question, k=1)\n",
        "    print(f'=> Retrieved {len(retrieved_docs)} docs')\n",
        "    prompt_context = retrieved_docs_to_prompt_context(retrieved_docs)\n",
        "    if reranker:\n",
        "       print(f\"=> Reranking documents...\")\n",
        "       relevant_docs_reranked = reranker.rerank(question,\n",
        "                                               [doc.page_content for doc in retrieved_docs],\n",
        "                                               k=1)\n",
        "       print(f'=> After reranking, {len(relevant_docs_reranked)} docs')\n",
        "       relevant_docs_reranked_text = [doc[\"content\"] for doc in relevant_docs_reranked]\n",
        "       rag_answer = reader.rag_llm_answer(question, relevant_docs_reranked_text)\n",
        "       if return_context:\n",
        "        return (rag_answer, relevant_docs_reranked)\n",
        "    else:\n",
        "       rag_answer = reader.rag_llm_answer(question, prompt_context)\n",
        "       if return_context:\n",
        "          return (rag_answer, retrieved_docs)\n",
        "       else:\n",
        "          return rag_answer"
      ]
    },
    {
      "cell_type": "code",
      "execution_count": 26,
      "metadata": {
        "execution": {
          "iopub.execute_input": "2024-08-16T16:07:26.764159Z",
          "iopub.status.busy": "2024-08-16T16:07:26.763772Z",
          "iopub.status.idle": "2024-08-16T16:07:26.768682Z",
          "shell.execute_reply": "2024-08-16T16:07:26.767668Z",
          "shell.execute_reply.started": "2024-08-16T16:07:26.764129Z"
        },
        "id": "s-lWNhmVaC2n",
        "trusted": true
      },
      "outputs": [],
      "source": [
        "QUESTION = 'I have a scenario for a disorder, can you say what is the sub type based on senario? Please explain. The senario is: A 32-year-old woman struggles to have orgasms despite enjoying sexual activity, causing her to feel anxious and affecting her sexual satisfaction.'"
      ]
    },
    {
      "cell_type": "code",
      "execution_count": 27,
      "metadata": {
        "colab": {
          "base_uri": "https://localhost:8080/"
        },
        "execution": {
          "iopub.execute_input": "2024-08-16T13:10:44.803640Z",
          "iopub.status.busy": "2024-08-16T13:10:44.803298Z",
          "iopub.status.idle": "2024-08-16T13:10:53.765453Z",
          "shell.execute_reply": "2024-08-16T13:10:53.764449Z",
          "shell.execute_reply.started": "2024-08-16T13:10:44.803614Z"
        },
        "id": "8NofkeRw0wCw",
        "outputId": "d921af7f-9092-4336-aa71-d13e4cb76947",
        "trusted": true
      },
      "outputs": [
        {
          "name": "stderr",
          "output_type": "stream",
          "text": [
            "The `seen_tokens` attribute is deprecated and will be removed in v4.41. Use the `cache_position` model input instead.\n",
            "WARNING:transformers_modules.microsoft.Phi-3-mini-128k-instruct.d548c233192db00165d842bf8edff054bb3212f8.modeling_phi3:You are not running the flash-attention implementation, expect numerical differences.\n"
          ]
        },
        {
          "name": "stdout",
          "output_type": "stream",
          "text": [
            "System: You are an expert assistant specialized in psychology. Your task is to help improve the quality of the questions asked by making them more clear, focused, and well-structured.\n",
            "Human: Please refine the following question for better clarity and focus: 'I have a scenario for a disorder, can you say what is the sub type based on senario? Please explain. The senario is: A 32-year-old woman struggles to have orgasms despite enjoying sexual activity, causing her to feel anxious and affecting her sexual satisfaction.'\n",
            "Assistant: Refined Question: \"What subtype of sexual dysfunction might be indicated by a 32-year-old woman's difficulty in achieving orgasm despite enjoying sexual activity, and how does this condition affect her sexual satisfaction and emotional well-being?\"\n",
            "\n",
            "Explanation: The refined question is more focused and clear, as it specifically asks for the subtype of sexual dysfunction that may be indicated by the given scenario. It also highlights the impact of the condition on the woman's sexual satisfaction and emotional well-being, which provides a more compreh\n"
          ]
        }
      ],
      "source": [
        "# no rag\n",
        "print(reader.base_llm_answer(QUESTION))"
      ]
    },
    {
      "cell_type": "code",
      "execution_count": 28,
      "metadata": {
        "colab": {
          "base_uri": "https://localhost:8080/",
          "height": 730,
          "referenced_widgets": [
            "3523b96232154f6889ff118dd75dd097",
            "a0d305189f9c44258a3f06b22e490509",
            "a688908d1d3e4594aac870335f12924e",
            "b883609e9284449bb8f9775f69b70cd1",
            "c3c8dfec96ff4860820fd5061a0f626f",
            "27f10aabf07443c695d3389180fb75a2",
            "57f06bdc4c1c4a00bd1968a99eb62f00",
            "406f8e522bb3466e9d44378095dc6800",
            "08a7c7b70f77439ea52140cbd5a5245b",
            "4784697b98e8497ea66d8695d37a8704",
            "5f36f3bbf91f4769bef2ddd0d67cc0fe",
            "cde5792c832841a69faac93c74cfe272",
            "bc5b68fa0b5a402c8c84476bc08f0db3",
            "7456d6d612ae41babac7e8c6f73ce860",
            "447612cf95814a0b9d4508ca6cd42755",
            "aa812b4d063d4e7ba9b8e7c531ab5aaa",
            "47c3e2d888f34ea0b0db1d607df23010",
            "70d80ab0c46b47b8b8ac1e9269896b20",
            "a0aa2c7b2fa94333bcb9f946cf0ce39a",
            "e617330e9ddc42d48dfdc1a36a3afb1e",
            "ec44dfa0aa094c36a095bfc051b371f8",
            "b2f52f9ec21b4b6d9d6f920a4d840cf1",
            "762235359f714f31a027d552b7b962b7",
            "8d9bf73514614e30ae3b0eadb831a277",
            "64fdce2d565142f7946e6fcb454fb7e0",
            "cc789f44fb0141188ccb8516b7f17aa8",
            "c530662271d8403cafa3a9f85aa3c6b0",
            "4664b270e70c4177b765da68ce6a0f5b",
            "a80e23d4913e466f83e7b24f387219c1",
            "c87f800a5968474483f9df1d34087f5b",
            "7abee038384641fc845300194389baf9",
            "37504c661b4a437e8459cd199c832990",
            "4aa3f187f761430387d3be91160e3ced",
            "2cb3100175bd4134ac48c411078d6a99",
            "bc24b7acfe474faf8f6d745cfd3f685e",
            "87ba7589ee0643819431719a4053c550",
            "0eb8c34ded4947d6b928d6526f8b8434",
            "0512c0d30c9d4ab9849014f935516012",
            "707a7cfb4ac64c90965263706db66a41",
            "78e442a86d0546be98bbc02f3879d0c6",
            "949bd60868aa4ba682259ac4d9c8beec",
            "b2ae16f5e05c478bad07f12ff6899b42",
            "c7d98db60dff4b7289d5402c45dfe5e5",
            "e549e9a396f542c0be5af2903a839f62",
            "cc028d0a932744eebb3fafd00f7c1bf7",
            "6f4fd051163d4bec831437b609d93759",
            "9959cbe616dd4390ad9e67a90c51b76b",
            "2317562651ed41fc8cb2804bc570cc88",
            "072b74ebae06439da00f1d8d89cdc3ff",
            "102fe8d038e749a5bc9bf9e82d7f5273",
            "c4bdd73ba4ec43a8ad6c845628b6e1e6",
            "c9e95e01be38487fa47315df425f93d7",
            "410a1349155749e3ad74cb8711eff47f",
            "d35b3af37dec42c38f1160781c82331f",
            "0d85bf2d05e14ab2a88b6ceb58170f01",
            "d97056e3227b40bb8874058f7eece662",
            "db2be4b2f87944f4b942cb1b193044f1",
            "cfb84971b0364c6f9c2ce48ea3d65c69",
            "2898905bdb1d40fa8ec288346085ef9d",
            "13e5f21da39a4182af5ddf6369da979a",
            "ebdb46361627425bb1d9964177becc6d",
            "2d88b1818757468c914b9f2913289ea9",
            "cbda7f7671724c07a7e841a974fe1d27",
            "9ee4bf1a2afa41949eafe1ece1badf12",
            "f06ee5fdcdfc442d8ea88556b4806552",
            "0dd95fe4d17e421a9a090466381533d4",
            "d56f8ea6fdb443f1bbc378b38721ef4c",
            "f989d01112ab4bc18147147d12cc9917",
            "539ff4d4093a46f2b5aca4049dec78cd",
            "7ddda285495743b1a4c2db28928f6803",
            "f6f0a5c5efe04a329d1ab4e0f57bf218",
            "190a3e44089a46c199a56b8569b38b3c",
            "3b75f6b2cc514c9e922b98dc7ece86f8",
            "6e45ee5eba6743aaa7566c3c7eeab729",
            "9f68f7cd2dad4fb9a4ab79825ee83bb9",
            "a40adbec32c7472c93f684482ce71511",
            "f5269cda66df4e0fa637a455bed9284d"
          ]
        },
        "execution": {
          "iopub.execute_input": "2024-08-16T16:07:30.528664Z",
          "iopub.status.busy": "2024-08-16T16:07:30.528278Z",
          "iopub.status.idle": "2024-08-16T16:07:52.550744Z",
          "shell.execute_reply": "2024-08-16T16:07:52.549716Z",
          "shell.execute_reply.started": "2024-08-16T16:07:30.528633Z"
        },
        "id": "9RMUHU4v0HLE",
        "outputId": "c25db759-8991-40f5-96a2-ac28fa9efbed",
        "trusted": true
      },
      "outputs": [
        {
          "data": {
            "application/vnd.jupyter.widget-view+json": {
              "model_id": "3523b96232154f6889ff118dd75dd097",
              "version_major": 2,
              "version_minor": 0
            },
            "text/plain": [
              "artifact.metadata:   0%|          | 0.00/1.63k [00:00<?, ?B/s]"
            ]
          },
          "metadata": {},
          "output_type": "display_data"
        },
        {
          "data": {
            "application/vnd.jupyter.widget-view+json": {
              "model_id": "cde5792c832841a69faac93c74cfe272",
              "version_major": 2,
              "version_minor": 0
            },
            "text/plain": [
              "config.json:   0%|          | 0.00/743 [00:00<?, ?B/s]"
            ]
          },
          "metadata": {},
          "output_type": "display_data"
        },
        {
          "data": {
            "application/vnd.jupyter.widget-view+json": {
              "model_id": "762235359f714f31a027d552b7b962b7",
              "version_major": 2,
              "version_minor": 0
            },
            "text/plain": [
              "model.safetensors:   0%|          | 0.00/438M [00:00<?, ?B/s]"
            ]
          },
          "metadata": {},
          "output_type": "display_data"
        },
        {
          "data": {
            "application/vnd.jupyter.widget-view+json": {
              "model_id": "2cb3100175bd4134ac48c411078d6a99",
              "version_major": 2,
              "version_minor": 0
            },
            "text/plain": [
              "tokenizer_config.json:   0%|          | 0.00/405 [00:00<?, ?B/s]"
            ]
          },
          "metadata": {},
          "output_type": "display_data"
        },
        {
          "data": {
            "application/vnd.jupyter.widget-view+json": {
              "model_id": "cc028d0a932744eebb3fafd00f7c1bf7",
              "version_major": 2,
              "version_minor": 0
            },
            "text/plain": [
              "vocab.txt:   0%|          | 0.00/232k [00:00<?, ?B/s]"
            ]
          },
          "metadata": {},
          "output_type": "display_data"
        },
        {
          "data": {
            "application/vnd.jupyter.widget-view+json": {
              "model_id": "d97056e3227b40bb8874058f7eece662",
              "version_major": 2,
              "version_minor": 0
            },
            "text/plain": [
              "tokenizer.json:   0%|          | 0.00/466k [00:00<?, ?B/s]"
            ]
          },
          "metadata": {},
          "output_type": "display_data"
        },
        {
          "data": {
            "application/vnd.jupyter.widget-view+json": {
              "model_id": "d56f8ea6fdb443f1bbc378b38721ef4c",
              "version_major": 2,
              "version_minor": 0
            },
            "text/plain": [
              "special_tokens_map.json:   0%|          | 0.00/112 [00:00<?, ?B/s]"
            ]
          },
          "metadata": {},
          "output_type": "display_data"
        },
        {
          "name": "stderr",
          "output_type": "stream",
          "text": [
            "100%|██████████| 1/1 [00:00<00:00, 42.36it/s]\n"
          ]
        },
        {
          "name": "stdout",
          "output_type": "stream",
          "text": [
            "System: You are a licensed psychologist with extensive expertise in diagnosing psychological disorders.\n",
            "        Your task is to analyze the provided scenario and determine the most likely psychological disorder based solely on the data given to you.\n",
            "\n",
            "        Important Instructions:\n",
            "        1. You must identify the disorder in this strict format:\n",
            "           Disorder Name Category: Broader Category Name\n",
            "           (e.g., Autism Spectrum Disorder Category: Neurodevelopmental Disorders)\n",
            "        2. After identifying the disorder, provide a clear and well-reasoned explanation for why this specific disorder was diagnosed, strictly using the information from the scenario. All reasoning must be rooted in the data presented.\n",
            "        3. It is forbidden to provide an answer in any format other than the specified structure.\n",
            "        4. You must always provide an answer based on the data given in the scenario, even if the information seems limited or ambiguous. Stick to the data and do not introduce external assumptions.\n",
            "\n",
            "        Ensure that your response is professional, concise, and based solely on the provided data, following the required structure without any deviations.\n",
            "Human: Context:\n",
            "        ['child, 718 nonspouse or nonpartner, 722 spouse or partner, 720 Sexual dysfunctions, 423-450 delayed ejaculation, 423,424-426 erectile disorder, 423,426-429 female orgasmic disorder, 423,429-432 female sexual interest/arousal disorder, 423, 433-437 genito-pelvic pain/penetration disorder, 423, 437-440 highlights of changes from', 'Unspecified gender dysphoria 302.70 Unspecified sexual dysfunction 302.71 Male hypoactive sexual desire disorder 302.72 Erectile disorder 302.72 Female sexual interest/arousal disorder 302.73 Female orgasmic disorder 302.74 Delayed ejaculation 302.75 Premature (early) ejaculation 302.76 Genito-pelvic pain/penetration disorder 302.79 Other specified sexual dysfunction 302.81', '354 Female orgasmic disorder, 423, 429-432 associated features supporting diagnosis of, 430-431 comorbidity with, 432 culture-related diagnostic issues in, 432 development and course of, 431 diagnostic criteria for, 429-430 diagnostic features of, 430 diagnostic markers for, 432 differential diagnosis of, 432 functional consequences of,']\n",
            "        ---\n",
            "        Now, here is the question you need to answer:\n",
            "\n",
            "        Question:  A 32-year-old woman struggles to have orgasms despite enjoying sexual activity, causing her to feel anxious and affecting her sexual satisfaction. She has been experiencing this issue for over a year. Based on the provided context, what is the most likely psychological disorder she is facing?\n",
            "\n",
            "        Answer: Female orgasmic disorder Category: Sexual Dysfunctions\n",
            "\n",
            "        Explanation: The woman's difficulty in achieving orgasm despite enjoying sexual activity, coupled with the duration of over a year, aligns with the diagnostic criteria for Female orgasmic disorder as outlined in the context. This disorder is characterized by a persistent or recurrent delay in, or absence of, orgasm following\n",
            "*********************\n",
            "Answer: Female orgasmic disorder Category: Sexual Dysfunctions\n",
            "\n",
            "        Explanation: The woman's difficulty in achieving orgasm despite enjoying sexual activity, coupled with the duration of over a year, aligns with the diagnostic criteria for Female orgasmic disorder as outlined in the context. This disorder is characterized by a persistent or recurrent delay in, or absence of, orgasm following\n"
          ]
        }
      ],
      "source": [
        "RERANKER_MODEL_NAME = \"colbert-ir/colbertv2.0\"\n",
        "reranker = RAGPretrainedModel.from_pretrained(RERANKER_MODEL_NAME)\n",
        "que = \" A 32-year-old woman struggles to have orgasms despite enjoying sexual activity, causing her to feel anxious and affecting her sexual satisfaction\"\n",
        "try:\n",
        "    rag_answer = rag_pipeline(que, reranker=reranker, return_context=False)\n",
        "    print(rag_answer)\n",
        "    print(\"*********************\")\n",
        "    start_index = rag_answer.find(\"Answer:\")\n",
        "\n",
        "    # If \"Answer:\" is found, print everything after that\n",
        "    if start_index != -1:\n",
        "        print(rag_answer[start_index:].strip())\n",
        "    else:\n",
        "        print(rag_answer)\n",
        "except Exception as e:\n",
        "    print(f'ERROR! {e}')\n"
      ]
    },
    {
      "cell_type": "code",
      "execution_count": 29,
      "metadata": {
        "colab": {
          "base_uri": "https://localhost:8080/"
        },
        "execution": {
          "iopub.execute_input": "2024-08-16T13:12:19.840613Z",
          "iopub.status.busy": "2024-08-16T13:12:19.839805Z",
          "iopub.status.idle": "2024-08-16T13:12:37.853659Z",
          "shell.execute_reply": "2024-08-16T13:12:37.852600Z",
          "shell.execute_reply.started": "2024-08-16T13:12:19.840576Z"
        },
        "id": "AtUkc0_zqH0T",
        "outputId": "a5a79b65-074a-4a4a-be0a-346c325b5124",
        "trusted": true
      },
      "outputs": [
        {
          "name": "stdout",
          "output_type": "stream",
          "text": [
            "=> Retrieved 1 docs\n",
            "System: You are a licensed psychologist with extensive expertise in diagnosing psychological disorders.\n",
            "        Your task is to analyze the provided scenario and determine the most likely psychological disorder based solely on the data given to you.\n",
            "\n",
            "        Important Instructions:\n",
            "        1. You must identify the disorder in this strict format:\n",
            "           Disorder Name Category: Broader Category Name\n",
            "           (e.g., Autism Spectrum Disorder Category: Neurodevelopmental Disorders)\n",
            "        2. After identifying the disorder, provide a clear and well-reasoned explanation for why this specific disorder was diagnosed, strictly using the information from the scenario. All reasoning must be rooted in the data presented.\n",
            "        3. It is forbidden to provide an answer in any format other than the specified structure.\n",
            "        4. You must always provide an answer based on the data given in the scenario, even if the information seems limited or ambiguous. Stick to the data and do not introduce external assumptions.\n",
            "\n",
            "        Ensure that your response is professional, concise, and based solely on the provided data, following the required structure without any deviations.\n",
            "Human: Context:\n",
            "        ['Sexual Dysfunctions - Female Orgasmic Disorder : This sub-disease typically involves female orgasmic disorder\\nKeywords: sexual, female, orgasmic, dysfunctions, erectile\\n\\nSexual Dysfunctions - Narcolepsy : This sub-disease typically involves narcolepsy\\nKeywords: sexual, female, orgasmic, dysfunctions, erectile\\n\\nSleep-Wake Disorders - Encopresis : This sub-disease typically involves encopresis\\nKeywords: restlessness, wake, insomnia, nightmares, narcolepsy, sleepwalking, fatigue, encopresis, sleep, sleepiness\\n\\nSleep-Wake Disorders - Insomnia Disorder : This sub-disease typically involves insomnia disorder\\nKeywords: restlessness, wake, insomnia, nightmares, narcolepsy, sleepwalking, fatigue, encopresis, sleep, sleepiness\\n\\nSleep-Wake Disorders - Narcolepsy : This sub-disease typically involves narcolepsy\\nKeywords: restlessness, wake, insomnia, nightmares, narcolepsy, sleepwalking, fatigue, encopresis, sleep, sleepiness']\n",
            "        ---\n",
            "        Now, here is the question you need to answer:\n",
            "\n",
            "        Question: I have a scenario for a disorder, can you say what is the sub type based on senario? Please explain. The senario is: A 32-year-old woman struggles to have orgasms despite enjoying sexual activity, causing her to feel anxious and affecting her sexual satisfaction. She has been experiencing this issue for over a year.\n",
            "\n",
            "        Answer: Female Orgasmic Disorder Category: Sexual Dysfunctions\n",
            "        The scenario describes a woman who has difficulty achieving orgasm during sexual activity, despite having a desire for it. This has been ongoing for more than a year and is causing her distress and affecting her sexual satisfaction. These symptoms align with the key characteristics of Female Orgasmic Disorder, a subtype of Sexual Dysfunctions. The woman's struggle with orgasm, her distress, and the duration of the issue are\n",
            "*********************\n",
            "Answer: Female Orgasmic Disorder Category: Sexual Dysfunctions\n",
            "        The scenario describes a woman who has difficulty achieving orgasm during sexual activity, despite having a desire for it. This has been ongoing for more than a year and is causing her distress and affecting her sexual satisfaction. These symptoms align with the key characteristics of Female Orgasmic Disorder, a subtype of Sexual Dysfunctions. The woman's struggle with orgasm, her distress, and the duration of the issue are\n"
          ]
        }
      ],
      "source": [
        "try:\n",
        "    rag_answer = classificationn_pipeline(QUESTION, reranker=False, return_context=False)\n",
        "    print(rag_answer)\n",
        "    print(\"*********************\")\n",
        "    start_index = rag_answer.find(\"Answer:\")\n",
        "\n",
        "    # If \"Answer:\" is found, print everything after that\n",
        "    if start_index != -1:\n",
        "        print(rag_answer[start_index:].strip())\n",
        "    else:\n",
        "        print(rag_answer)\n",
        "except Exception as e:\n",
        "    print(f'ERROR! {e}')"
      ]
    },
    {
      "cell_type": "code",
      "execution_count": 30,
      "metadata": {
        "colab": {
          "base_uri": "https://localhost:8080/"
        },
        "execution": {
          "iopub.execute_input": "2024-08-16T15:53:32.240885Z",
          "iopub.status.busy": "2024-08-16T15:53:32.240515Z",
          "iopub.status.idle": "2024-08-16T15:53:32.271964Z",
          "shell.execute_reply": "2024-08-16T15:53:32.270979Z",
          "shell.execute_reply.started": "2024-08-16T15:53:32.240854Z"
        },
        "id": "h-egOMfmPxdR",
        "outputId": "10352691-4533-43fd-f07c-1ec83ae56b14",
        "trusted": true
      },
      "outputs": [
        {
          "name": "stdout",
          "output_type": "stream",
          "text": [
            "                                                                                                                                                                                     Question  \\\n",
            "0    A 6-year-old girl has difficulty making eye contact and often repeats phrases she hears from her favorite TV show. She becomes extremely distressed when her daily routine is disrupted.   \n",
            "1                                                      An 8-year-old boy has limited interests, focusing only on trains. He struggles to interact with peers and prefers solitary activities.   \n",
            "2                                                        A 4-year-old child does not respond to their name and avoids physical contact. They engage in repetitive hand flapping when excited.   \n",
            "3                                                              A 7-year-old girl has significant delays in language development and prefers to play alone, often spinning objects repeatedly.   \n",
            "4                                                                      A 5-year-old boy has intense reactions to certain sounds and textures, leading to frequent meltdowns in public places.   \n",
            "..                                                                                                                                                                                        ...   \n",
            "212                                                                                      A 55-year-old woman has severe depression and anxiety after being diagnosed with multiple sclerosis.   \n",
            "213                      A 30-year-old woman exhibits symptoms of anxiety and depression, but they do not fit neatly into any specific disorder, causing significant distress and impairment.   \n",
            "214                                        A 40-year-old man experiences a combination of paranoia and mood swings that do not align with any particular diagnosis, affecting his daily life.   \n",
            "215                                         A 25-year-old woman has symptoms of obsessive thoughts and compulsive behaviors that are not fully consistent with obsessive-compulsive disorder.   \n",
            "216                                                    A 35-year-old man experiences intermittent periods of extreme sadness and euphoria that do not meet the criteria for bipolar disorder.   \n",
            "\n",
            "                                                                                           ground_truth  \n",
            "0                                      Autism Spectrum Disorder  Category: Neurodevelopmental Disorders  \n",
            "1                                      Autism Spectrum Disorder  Category: Neurodevelopmental Disorders  \n",
            "2                                      Autism Spectrum Disorder  Category: Neurodevelopmental Disorders  \n",
            "3                                      Autism Spectrum Disorder  Category: Neurodevelopmental Disorders  \n",
            "4                                      Autism Spectrum Disorder  Category: Neurodevelopmental Disorders  \n",
            "..                                                                                                  ...  \n",
            "212  Other Specified Mental Disorder Due to Another Medical Condition  Category: Other Mental Disorders  \n",
            "213                                       Unspecified Mental Disorder  Category: Other Mental Disorders  \n",
            "214                                       Unspecified Mental Disorder  Category: Other Mental Disorders  \n",
            "215                                       Unspecified Mental Disorder  Category: Other Mental Disorders  \n",
            "216                                       Unspecified Mental Disorder  Category: Other Mental Disorders  \n",
            "\n",
            "[217 rows x 2 columns]\n"
          ]
        }
      ],
      "source": [
        "import re\n",
        "import pandas as pd\n",
        "\n",
        "# File path\n",
        "file_path = '/content/updated_scenarios_dataset.txt'\n",
        "\n",
        "# Read the data from the file\n",
        "with open(file_path, 'r', encoding='utf-8') as file:\n",
        "    data = file.read()\n",
        "\n",
        "# Regular expression to find scenarios, disorders, and categories\n",
        "pattern = re.compile(r'\\*\\*Scenario\\*\\*: (.*?)\\n\\s+\\*\\*Disorder\\*\\*: (.*?)\\n\\s+\\*\\*Category\\*\\*: (.*?)\\n', re.DOTALL)\n",
        "\n",
        "# Find all matches\n",
        "matches = pattern.findall(data)\n",
        "\n",
        "# Create a list of dictionaries to store the parsed data\n",
        "parsed_data = [{'Question': scenario.strip(), 'ground_truth': f\"{disorder.strip()}  Category: {category.strip()}\"} for scenario, disorder, category in matches]\n",
        "\n",
        "# Convert the list of dictionaries to a pandas DataFrame\n",
        "df = pd.DataFrame(parsed_data)\n",
        "\n",
        "# Display the DataFrame\n",
        "print(df)\n",
        "\n",
        "# Save DataFrame to a CSV file for further analysis or usage\n",
        "df.to_csv('parsed_mental_health_disorders.csv', index=False)"
      ]
    },
    {
      "cell_type": "code",
      "execution_count": 31,
      "metadata": {
        "colab": {
          "base_uri": "https://localhost:8080/"
        },
        "execution": {
          "iopub.execute_input": "2024-08-16T15:53:35.675900Z",
          "iopub.status.busy": "2024-08-16T15:53:35.675536Z",
          "iopub.status.idle": "2024-08-16T15:53:35.685692Z",
          "shell.execute_reply": "2024-08-16T15:53:35.684541Z",
          "shell.execute_reply.started": "2024-08-16T15:53:35.675870Z"
        },
        "id": "ssFHRv-hVrbk",
        "outputId": "e2d23639-dab1-4441-c378-ef6dc93126b9",
        "trusted": true
      },
      "outputs": [
        {
          "data": {
            "text/plain": [
              "217"
            ]
          },
          "execution_count": 31,
          "metadata": {},
          "output_type": "execute_result"
        }
      ],
      "source": [
        "len(df)"
      ]
    },
    {
      "cell_type": "code",
      "execution_count": 32,
      "metadata": {
        "colab": {
          "base_uri": "https://localhost:8080/"
        },
        "execution": {
          "iopub.execute_input": "2024-08-16T15:53:35.964879Z",
          "iopub.status.busy": "2024-08-16T15:53:35.964149Z",
          "iopub.status.idle": "2024-08-16T15:53:35.969896Z",
          "shell.execute_reply": "2024-08-16T15:53:35.968997Z",
          "shell.execute_reply.started": "2024-08-16T15:53:35.964845Z"
        },
        "id": "dK59h2oRVrbp",
        "outputId": "e103a033-4fc2-40d2-ff7b-019258dfcfb6",
        "trusted": true
      },
      "outputs": [
        {
          "name": "stdout",
          "output_type": "stream",
          "text": [
            "217\n"
          ]
        }
      ],
      "source": [
        "question_list = df['Question'].to_list()\n",
        "print(len(question_list))"
      ]
    },
    {
      "cell_type": "code",
      "execution_count": 48,
      "metadata": {
        "execution": {
          "iopub.execute_input": "2024-08-16T16:08:49.349211Z",
          "iopub.status.busy": "2024-08-16T16:08:49.348295Z",
          "iopub.status.idle": "2024-08-16T16:08:50.137355Z",
          "shell.execute_reply": "2024-08-16T16:08:50.136510Z",
          "shell.execute_reply.started": "2024-08-16T16:08:49.349177Z"
        },
        "id": "YETNlmMAVrbp",
        "trusted": true
      },
      "outputs": [],
      "source": [
        "from datasets import Dataset\n",
        "import tqdm\n",
        "\n",
        "# RERANKER_MODEL_NAME = \"colbert-ir/colbertv2.0\"\n",
        "# reranker = RAGPretrainedModel.from_pretrained(RERANKER_MODEL_NAME)\n",
        "\n",
        "def assemble_ragas_dataset(input_df):\n",
        "    question_list = input_df['Question'].to_list()\n",
        "    truth_list = input_df['ground_truth'].to_list()\n",
        "\n",
        "    # Initialize the RAG pipeline to get the RAG answers and contexts\n",
        "    rag_answer_list = []\n",
        "    context_list = []\n",
        "\n",
        "    # Iterate over even-numbered indices from 0 to 20\n",
        "    for i in tqdm.tqdm(range(len(question_list))):\n",
        "        # QUESTION = 'I have a scenario for a disorder, can you say what is the sub type based on senario? Please explain. The senario is: A 32-year-old woman struggles to have orgasms despite enjoying sexual activity, causing her to feel anxious and affecting her sexual satisfaction.'\n",
        "        question = question_list[i]\n",
        "        truth = truth_list[i]\n",
        "\n",
        "        # Get the RAG answer and contexts from the pipeline\n",
        "        # print(question)\n",
        "        (rag_answer, rag_context) = classificationn_pipeline(question, reranker=False, return_context=True)\n",
        "\n",
        "        # Extract the plain text from the retrieved Document objects\n",
        "        retrieved_contexts_text = [doc.page_content for doc in rag_context]\n",
        "        # print(rag_answer)\n",
        "        # Process the answer to extract everything after \"Answer:\"\n",
        "        start_index = rag_answer.find(\"Answer:\")\n",
        "        if start_index != -1:\n",
        "            final_answer = rag_answer[start_index:].strip()\n",
        "        else:\n",
        "            final_answer = rag_answer.strip()\n",
        "\n",
        "        # Append the results to the respective lists\n",
        "        rag_answer_list.append(final_answer)\n",
        "        context_list.append(retrieved_contexts_text)  # This is now plain text\n",
        "\n",
        "    # Create the dataset from the selected questions and answers\n",
        "    ragas_ds = Dataset.from_dict({\n",
        "        \"question\": question_list,  # Select even-numbered questions\n",
        "        \"contexts\": context_list,\n",
        "        \"answer\": rag_answer_list,\n",
        "        \"ground_truth\": truth_list  # Select even-numbered ground truths\n",
        "    })\n",
        "\n",
        "    return ragas_ds"
      ]
    },
    {
      "cell_type": "code",
      "execution_count": 49,
      "metadata": {
        "colab": {
          "base_uri": "https://localhost:8080/"
        },
        "execution": {
          "iopub.execute_input": "2024-08-16T16:08:50.170234Z",
          "iopub.status.busy": "2024-08-16T16:08:50.169410Z",
          "iopub.status.idle": "2024-08-16T16:12:29.946622Z",
          "shell.execute_reply": "2024-08-16T16:12:29.945620Z",
          "shell.execute_reply.started": "2024-08-16T16:08:50.170201Z"
        },
        "id": "-M7-EU_7Vrbp",
        "outputId": "a6d5579e-0fb3-4de7-b2b9-db4220182c7f",
        "trusted": true
      },
      "outputs": [
        {
          "name": "stderr",
          "output_type": "stream",
          "text": [
            "\r  0%|          | 0/217 [00:00<?, ?it/s]"
          ]
        },
        {
          "name": "stdout",
          "output_type": "stream",
          "text": [
            "=> Retrieved 1 docs\n"
          ]
        },
        {
          "name": "stderr",
          "output_type": "stream",
          "text": [
            "\r  0%|          | 1/217 [00:16<58:19, 16.20s/it]"
          ]
        },
        {
          "name": "stdout",
          "output_type": "stream",
          "text": [
            "=> Retrieved 1 docs\n"
          ]
        },
        {
          "name": "stderr",
          "output_type": "stream",
          "text": [
            "\r  1%|          | 2/217 [00:31<55:10, 15.40s/it]"
          ]
        },
        {
          "name": "stdout",
          "output_type": "stream",
          "text": [
            "=> Retrieved 1 docs\n"
          ]
        },
        {
          "name": "stderr",
          "output_type": "stream",
          "text": [
            "\r  1%|▏         | 3/217 [00:45<53:22, 14.97s/it]"
          ]
        },
        {
          "name": "stdout",
          "output_type": "stream",
          "text": [
            "=> Retrieved 1 docs\n"
          ]
        },
        {
          "name": "stderr",
          "output_type": "stream",
          "text": [
            "\r  2%|▏         | 4/217 [01:00<52:35, 14.81s/it]"
          ]
        },
        {
          "name": "stdout",
          "output_type": "stream",
          "text": [
            "=> Retrieved 1 docs\n"
          ]
        },
        {
          "name": "stderr",
          "output_type": "stream",
          "text": [
            "\r  2%|▏         | 5/217 [01:14<51:49, 14.67s/it]"
          ]
        },
        {
          "name": "stdout",
          "output_type": "stream",
          "text": [
            "=> Retrieved 1 docs\n"
          ]
        },
        {
          "name": "stderr",
          "output_type": "stream",
          "text": [
            "\r  3%|▎         | 6/217 [01:28<51:23, 14.62s/it]"
          ]
        },
        {
          "name": "stdout",
          "output_type": "stream",
          "text": [
            "=> Retrieved 1 docs\n"
          ]
        },
        {
          "name": "stderr",
          "output_type": "stream",
          "text": [
            "\r  3%|▎         | 7/217 [01:44<52:00, 14.86s/it]"
          ]
        },
        {
          "name": "stdout",
          "output_type": "stream",
          "text": [
            "=> Retrieved 1 docs\n"
          ]
        },
        {
          "name": "stderr",
          "output_type": "stream",
          "text": [
            "\r  4%|▎         | 8/217 [02:00<52:42, 15.13s/it]"
          ]
        },
        {
          "name": "stdout",
          "output_type": "stream",
          "text": [
            "=> Retrieved 1 docs\n"
          ]
        },
        {
          "name": "stderr",
          "output_type": "stream",
          "text": [
            "\r  4%|▍         | 9/217 [02:15<52:39, 15.19s/it]"
          ]
        },
        {
          "name": "stdout",
          "output_type": "stream",
          "text": [
            "=> Retrieved 1 docs\n"
          ]
        },
        {
          "name": "stderr",
          "output_type": "stream",
          "text": [
            "\r  5%|▍         | 10/217 [02:31<53:26, 15.49s/it]"
          ]
        },
        {
          "name": "stdout",
          "output_type": "stream",
          "text": [
            "=> Retrieved 1 docs\n"
          ]
        },
        {
          "name": "stderr",
          "output_type": "stream",
          "text": [
            "\r  5%|▌         | 11/217 [02:46<52:13, 15.21s/it]"
          ]
        },
        {
          "name": "stdout",
          "output_type": "stream",
          "text": [
            "=> Retrieved 1 docs\n"
          ]
        },
        {
          "name": "stderr",
          "output_type": "stream",
          "text": [
            "\r  6%|▌         | 12/217 [03:01<51:41, 15.13s/it]"
          ]
        },
        {
          "name": "stdout",
          "output_type": "stream",
          "text": [
            "=> Retrieved 1 docs\n"
          ]
        },
        {
          "name": "stderr",
          "output_type": "stream",
          "text": [
            "\r  6%|▌         | 13/217 [03:16<51:58, 15.29s/it]"
          ]
        },
        {
          "name": "stdout",
          "output_type": "stream",
          "text": [
            "=> Retrieved 1 docs\n"
          ]
        },
        {
          "name": "stderr",
          "output_type": "stream",
          "text": [
            "\r  6%|▋         | 14/217 [03:33<52:48, 15.61s/it]"
          ]
        },
        {
          "name": "stdout",
          "output_type": "stream",
          "text": [
            "=> Retrieved 1 docs\n"
          ]
        },
        {
          "name": "stderr",
          "output_type": "stream",
          "text": [
            "\r  7%|▋         | 15/217 [03:48<51:51, 15.40s/it]"
          ]
        },
        {
          "name": "stdout",
          "output_type": "stream",
          "text": [
            "=> Retrieved 1 docs\n"
          ]
        },
        {
          "name": "stderr",
          "output_type": "stream",
          "text": [
            "\r  7%|▋         | 16/217 [04:02<51:04, 15.25s/it]"
          ]
        },
        {
          "name": "stdout",
          "output_type": "stream",
          "text": [
            "=> Retrieved 1 docs\n"
          ]
        },
        {
          "name": "stderr",
          "output_type": "stream",
          "text": [
            "\r  8%|▊         | 17/217 [04:17<50:24, 15.12s/it]"
          ]
        },
        {
          "name": "stdout",
          "output_type": "stream",
          "text": [
            "=> Retrieved 1 docs\n"
          ]
        },
        {
          "name": "stderr",
          "output_type": "stream",
          "text": [
            "\r  8%|▊         | 18/217 [04:32<49:44, 15.00s/it]"
          ]
        },
        {
          "name": "stdout",
          "output_type": "stream",
          "text": [
            "=> Retrieved 1 docs\n"
          ]
        },
        {
          "name": "stderr",
          "output_type": "stream",
          "text": [
            "\r  9%|▉         | 19/217 [04:47<49:30, 15.00s/it]"
          ]
        },
        {
          "name": "stdout",
          "output_type": "stream",
          "text": [
            "=> Retrieved 1 docs\n"
          ]
        },
        {
          "name": "stderr",
          "output_type": "stream",
          "text": [
            "\r  9%|▉         | 20/217 [05:03<49:57, 15.21s/it]"
          ]
        },
        {
          "name": "stdout",
          "output_type": "stream",
          "text": [
            "=> Retrieved 1 docs\n"
          ]
        },
        {
          "name": "stderr",
          "output_type": "stream",
          "text": [
            "\r 10%|▉         | 21/217 [05:19<51:11, 15.67s/it]"
          ]
        },
        {
          "name": "stdout",
          "output_type": "stream",
          "text": [
            "=> Retrieved 1 docs\n"
          ]
        },
        {
          "name": "stderr",
          "output_type": "stream",
          "text": [
            "\r 10%|█         | 22/217 [05:35<50:40, 15.59s/it]"
          ]
        },
        {
          "name": "stdout",
          "output_type": "stream",
          "text": [
            "=> Retrieved 1 docs\n"
          ]
        },
        {
          "name": "stderr",
          "output_type": "stream",
          "text": [
            "\r 11%|█         | 23/217 [05:50<49:38, 15.35s/it]"
          ]
        },
        {
          "name": "stdout",
          "output_type": "stream",
          "text": [
            "=> Retrieved 1 docs\n"
          ]
        },
        {
          "name": "stderr",
          "output_type": "stream",
          "text": [
            "\r 11%|█         | 24/217 [06:05<48:57, 15.22s/it]"
          ]
        },
        {
          "name": "stdout",
          "output_type": "stream",
          "text": [
            "=> Retrieved 1 docs\n"
          ]
        },
        {
          "name": "stderr",
          "output_type": "stream",
          "text": [
            "\r 12%|█▏        | 25/217 [06:19<48:15, 15.08s/it]"
          ]
        },
        {
          "name": "stdout",
          "output_type": "stream",
          "text": [
            "=> Retrieved 1 docs\n"
          ]
        },
        {
          "name": "stderr",
          "output_type": "stream",
          "text": [
            "\r 12%|█▏        | 26/217 [06:34<47:49, 15.03s/it]"
          ]
        },
        {
          "name": "stdout",
          "output_type": "stream",
          "text": [
            "=> Retrieved 1 docs\n"
          ]
        },
        {
          "name": "stderr",
          "output_type": "stream",
          "text": [
            "\r 12%|█▏        | 27/217 [06:50<47:58, 15.15s/it]"
          ]
        },
        {
          "name": "stdout",
          "output_type": "stream",
          "text": [
            "=> Retrieved 1 docs\n"
          ]
        },
        {
          "name": "stderr",
          "output_type": "stream",
          "text": [
            "\r 13%|█▎        | 28/217 [07:05<48:22, 15.35s/it]"
          ]
        },
        {
          "name": "stdout",
          "output_type": "stream",
          "text": [
            "=> Retrieved 1 docs\n"
          ]
        },
        {
          "name": "stderr",
          "output_type": "stream",
          "text": [
            "\r 13%|█▎        | 29/217 [07:21<48:18, 15.42s/it]"
          ]
        },
        {
          "name": "stdout",
          "output_type": "stream",
          "text": [
            "=> Retrieved 1 docs\n"
          ]
        },
        {
          "name": "stderr",
          "output_type": "stream",
          "text": [
            "\r 14%|█▍        | 30/217 [07:36<47:27, 15.23s/it]"
          ]
        },
        {
          "name": "stdout",
          "output_type": "stream",
          "text": [
            "=> Retrieved 1 docs\n"
          ]
        },
        {
          "name": "stderr",
          "output_type": "stream",
          "text": [
            "\r 14%|█▍        | 31/217 [07:51<47:17, 15.26s/it]"
          ]
        },
        {
          "name": "stdout",
          "output_type": "stream",
          "text": [
            "=> Retrieved 1 docs\n"
          ]
        },
        {
          "name": "stderr",
          "output_type": "stream",
          "text": [
            "\r 15%|█▍        | 32/217 [08:06<46:24, 15.05s/it]"
          ]
        },
        {
          "name": "stdout",
          "output_type": "stream",
          "text": [
            "=> Retrieved 1 docs\n"
          ]
        },
        {
          "name": "stderr",
          "output_type": "stream",
          "text": [
            "\r 15%|█▌        | 33/217 [08:21<46:28, 15.15s/it]"
          ]
        },
        {
          "name": "stdout",
          "output_type": "stream",
          "text": [
            "=> Retrieved 1 docs\n"
          ]
        },
        {
          "name": "stderr",
          "output_type": "stream",
          "text": [
            "\r 16%|█▌        | 34/217 [08:37<47:01, 15.42s/it]"
          ]
        },
        {
          "name": "stdout",
          "output_type": "stream",
          "text": [
            "=> Retrieved 1 docs\n"
          ]
        },
        {
          "name": "stderr",
          "output_type": "stream",
          "text": [
            "\r 16%|█▌        | 35/217 [08:53<46:51, 15.45s/it]"
          ]
        },
        {
          "name": "stdout",
          "output_type": "stream",
          "text": [
            "=> Retrieved 1 docs\n"
          ]
        },
        {
          "name": "stderr",
          "output_type": "stream",
          "text": [
            "\r 17%|█▋        | 36/217 [09:08<46:09, 15.30s/it]"
          ]
        },
        {
          "name": "stdout",
          "output_type": "stream",
          "text": [
            "=> Retrieved 1 docs\n"
          ]
        },
        {
          "name": "stderr",
          "output_type": "stream",
          "text": [
            "\r 17%|█▋        | 37/217 [09:22<45:23, 15.13s/it]"
          ]
        },
        {
          "name": "stdout",
          "output_type": "stream",
          "text": [
            "=> Retrieved 1 docs\n"
          ]
        },
        {
          "name": "stderr",
          "output_type": "stream",
          "text": [
            "\r 18%|█▊        | 38/217 [09:37<44:53, 15.05s/it]"
          ]
        },
        {
          "name": "stdout",
          "output_type": "stream",
          "text": [
            "=> Retrieved 1 docs\n"
          ]
        },
        {
          "name": "stderr",
          "output_type": "stream",
          "text": [
            "\r 18%|█▊        | 39/217 [09:52<44:12, 14.90s/it]"
          ]
        },
        {
          "name": "stdout",
          "output_type": "stream",
          "text": [
            "=> Retrieved 1 docs\n"
          ]
        },
        {
          "name": "stderr",
          "output_type": "stream",
          "text": [
            "\r 18%|█▊        | 40/217 [10:07<44:35, 15.11s/it]"
          ]
        },
        {
          "name": "stdout",
          "output_type": "stream",
          "text": [
            "=> Retrieved 1 docs\n"
          ]
        },
        {
          "name": "stderr",
          "output_type": "stream",
          "text": [
            "\r 19%|█▉        | 41/217 [10:23<45:01, 15.35s/it]"
          ]
        },
        {
          "name": "stdout",
          "output_type": "stream",
          "text": [
            "=> Retrieved 1 docs\n"
          ]
        },
        {
          "name": "stderr",
          "output_type": "stream",
          "text": [
            "\r 19%|█▉        | 42/217 [10:39<45:21, 15.55s/it]"
          ]
        },
        {
          "name": "stdout",
          "output_type": "stream",
          "text": [
            "=> Retrieved 1 docs\n"
          ]
        },
        {
          "name": "stderr",
          "output_type": "stream",
          "text": [
            "\r 20%|█▉        | 43/217 [10:54<44:49, 15.46s/it]"
          ]
        },
        {
          "name": "stdout",
          "output_type": "stream",
          "text": [
            "=> Retrieved 1 docs\n"
          ]
        },
        {
          "name": "stderr",
          "output_type": "stream",
          "text": [
            "\r 20%|██        | 44/217 [11:09<43:54, 15.23s/it]"
          ]
        },
        {
          "name": "stdout",
          "output_type": "stream",
          "text": [
            "=> Retrieved 1 docs\n"
          ]
        },
        {
          "name": "stderr",
          "output_type": "stream",
          "text": [
            "\r 21%|██        | 45/217 [11:24<43:17, 15.10s/it]"
          ]
        },
        {
          "name": "stdout",
          "output_type": "stream",
          "text": [
            "=> Retrieved 1 docs\n"
          ]
        },
        {
          "name": "stderr",
          "output_type": "stream",
          "text": [
            "\r 21%|██        | 46/217 [11:39<42:42, 14.99s/it]"
          ]
        },
        {
          "name": "stdout",
          "output_type": "stream",
          "text": [
            "=> Retrieved 1 docs\n"
          ]
        },
        {
          "name": "stderr",
          "output_type": "stream",
          "text": [
            "\r 22%|██▏       | 47/217 [11:54<42:29, 15.00s/it]"
          ]
        },
        {
          "name": "stdout",
          "output_type": "stream",
          "text": [
            "=> Retrieved 1 docs\n"
          ]
        },
        {
          "name": "stderr",
          "output_type": "stream",
          "text": [
            "\r 22%|██▏       | 48/217 [12:09<42:41, 15.16s/it]"
          ]
        },
        {
          "name": "stdout",
          "output_type": "stream",
          "text": [
            "=> Retrieved 1 docs\n"
          ]
        },
        {
          "name": "stderr",
          "output_type": "stream",
          "text": [
            "\r 23%|██▎       | 49/217 [12:25<42:59, 15.35s/it]"
          ]
        },
        {
          "name": "stdout",
          "output_type": "stream",
          "text": [
            "=> Retrieved 1 docs\n"
          ]
        },
        {
          "name": "stderr",
          "output_type": "stream",
          "text": [
            "\r 23%|██▎       | 50/217 [12:40<42:16, 15.19s/it]"
          ]
        },
        {
          "name": "stdout",
          "output_type": "stream",
          "text": [
            "=> Retrieved 1 docs\n"
          ]
        },
        {
          "name": "stderr",
          "output_type": "stream",
          "text": [
            "\r 24%|██▎       | 51/217 [12:55<41:35, 15.03s/it]"
          ]
        },
        {
          "name": "stdout",
          "output_type": "stream",
          "text": [
            "=> Retrieved 1 docs\n"
          ]
        },
        {
          "name": "stderr",
          "output_type": "stream",
          "text": [
            "\r 24%|██▍       | 52/217 [13:09<41:08, 14.96s/it]"
          ]
        },
        {
          "name": "stdout",
          "output_type": "stream",
          "text": [
            "=> Retrieved 1 docs\n"
          ]
        },
        {
          "name": "stderr",
          "output_type": "stream",
          "text": [
            "\r 24%|██▍       | 53/217 [13:25<41:07, 15.05s/it]"
          ]
        },
        {
          "name": "stdout",
          "output_type": "stream",
          "text": [
            "=> Retrieved 1 docs\n"
          ]
        },
        {
          "name": "stderr",
          "output_type": "stream",
          "text": [
            "\r 25%|██▍       | 54/217 [13:40<41:21, 15.22s/it]"
          ]
        },
        {
          "name": "stdout",
          "output_type": "stream",
          "text": [
            "=> Retrieved 1 docs\n"
          ]
        },
        {
          "name": "stderr",
          "output_type": "stream",
          "text": [
            "\r 25%|██▌       | 55/217 [13:56<41:43, 15.45s/it]"
          ]
        },
        {
          "name": "stdout",
          "output_type": "stream",
          "text": [
            "=> Retrieved 1 docs\n"
          ]
        },
        {
          "name": "stderr",
          "output_type": "stream",
          "text": [
            "\r 26%|██▌       | 56/217 [14:12<41:23, 15.42s/it]"
          ]
        },
        {
          "name": "stdout",
          "output_type": "stream",
          "text": [
            "=> Retrieved 1 docs\n"
          ]
        },
        {
          "name": "stderr",
          "output_type": "stream",
          "text": [
            "\r 26%|██▋       | 57/217 [14:27<40:45, 15.28s/it]"
          ]
        },
        {
          "name": "stdout",
          "output_type": "stream",
          "text": [
            "=> Retrieved 1 docs\n"
          ]
        },
        {
          "name": "stderr",
          "output_type": "stream",
          "text": [
            "\r 27%|██▋       | 58/217 [14:41<40:01, 15.10s/it]"
          ]
        },
        {
          "name": "stdout",
          "output_type": "stream",
          "text": [
            "=> Retrieved 1 docs\n"
          ]
        },
        {
          "name": "stderr",
          "output_type": "stream",
          "text": [
            "\r 27%|██▋       | 59/217 [14:56<39:34, 15.03s/it]"
          ]
        },
        {
          "name": "stdout",
          "output_type": "stream",
          "text": [
            "=> Retrieved 1 docs\n"
          ]
        },
        {
          "name": "stderr",
          "output_type": "stream",
          "text": [
            "\r 28%|██▊       | 60/217 [15:11<38:56, 14.88s/it]"
          ]
        },
        {
          "name": "stdout",
          "output_type": "stream",
          "text": [
            "=> Retrieved 1 docs\n"
          ]
        },
        {
          "name": "stderr",
          "output_type": "stream",
          "text": [
            "\r 28%|██▊       | 61/217 [15:26<39:03, 15.03s/it]"
          ]
        },
        {
          "name": "stdout",
          "output_type": "stream",
          "text": [
            "=> Retrieved 1 docs\n"
          ]
        },
        {
          "name": "stderr",
          "output_type": "stream",
          "text": [
            "\r 29%|██▊       | 62/217 [15:42<39:27, 15.28s/it]"
          ]
        },
        {
          "name": "stdout",
          "output_type": "stream",
          "text": [
            "=> Retrieved 1 docs\n"
          ]
        },
        {
          "name": "stderr",
          "output_type": "stream",
          "text": [
            "\r 29%|██▉       | 63/217 [15:57<39:00, 15.20s/it]"
          ]
        },
        {
          "name": "stdout",
          "output_type": "stream",
          "text": [
            "=> Retrieved 1 docs\n"
          ]
        },
        {
          "name": "stderr",
          "output_type": "stream",
          "text": [
            "\r 29%|██▉       | 64/217 [16:12<38:54, 15.26s/it]"
          ]
        },
        {
          "name": "stdout",
          "output_type": "stream",
          "text": [
            "=> Retrieved 1 docs\n"
          ]
        },
        {
          "name": "stderr",
          "output_type": "stream",
          "text": [
            "\r 30%|██▉       | 65/217 [16:27<38:12, 15.08s/it]"
          ]
        },
        {
          "name": "stdout",
          "output_type": "stream",
          "text": [
            "=> Retrieved 1 docs\n"
          ]
        },
        {
          "name": "stderr",
          "output_type": "stream",
          "text": [
            "\r 30%|███       | 66/217 [16:42<37:41, 14.98s/it]"
          ]
        },
        {
          "name": "stdout",
          "output_type": "stream",
          "text": [
            "=> Retrieved 1 docs\n"
          ]
        },
        {
          "name": "stderr",
          "output_type": "stream",
          "text": [
            "\r 31%|███       | 67/217 [16:57<37:28, 14.99s/it]"
          ]
        },
        {
          "name": "stdout",
          "output_type": "stream",
          "text": [
            "=> Retrieved 1 docs\n"
          ]
        },
        {
          "name": "stderr",
          "output_type": "stream",
          "text": [
            "\r 31%|███▏      | 68/217 [17:12<37:49, 15.23s/it]"
          ]
        },
        {
          "name": "stdout",
          "output_type": "stream",
          "text": [
            "=> Retrieved 1 docs\n"
          ]
        },
        {
          "name": "stderr",
          "output_type": "stream",
          "text": [
            "\r 32%|███▏      | 69/217 [17:28<37:48, 15.33s/it]"
          ]
        },
        {
          "name": "stdout",
          "output_type": "stream",
          "text": [
            "=> Retrieved 1 docs\n"
          ]
        },
        {
          "name": "stderr",
          "output_type": "stream",
          "text": [
            "\r 32%|███▏      | 70/217 [17:43<37:11, 15.18s/it]"
          ]
        },
        {
          "name": "stdout",
          "output_type": "stream",
          "text": [
            "=> Retrieved 1 docs\n"
          ]
        },
        {
          "name": "stderr",
          "output_type": "stream",
          "text": [
            "\r 33%|███▎      | 71/217 [17:58<36:35, 15.03s/it]"
          ]
        },
        {
          "name": "stdout",
          "output_type": "stream",
          "text": [
            "=> Retrieved 1 docs\n"
          ]
        },
        {
          "name": "stderr",
          "output_type": "stream",
          "text": [
            "\r 33%|███▎      | 72/217 [18:12<36:06, 14.94s/it]"
          ]
        },
        {
          "name": "stdout",
          "output_type": "stream",
          "text": [
            "=> Retrieved 1 docs\n"
          ]
        },
        {
          "name": "stderr",
          "output_type": "stream",
          "text": [
            "\r 34%|███▎      | 73/217 [18:27<35:42, 14.88s/it]"
          ]
        },
        {
          "name": "stdout",
          "output_type": "stream",
          "text": [
            "=> Retrieved 1 docs\n"
          ]
        },
        {
          "name": "stderr",
          "output_type": "stream",
          "text": [
            "\r 34%|███▍      | 74/217 [18:42<35:38, 14.96s/it]"
          ]
        },
        {
          "name": "stdout",
          "output_type": "stream",
          "text": [
            "=> Retrieved 1 docs\n"
          ]
        },
        {
          "name": "stderr",
          "output_type": "stream",
          "text": [
            "\r 35%|███▍      | 75/217 [18:59<36:53, 15.59s/it]"
          ]
        },
        {
          "name": "stdout",
          "output_type": "stream",
          "text": [
            "=> Retrieved 1 docs\n"
          ]
        },
        {
          "name": "stderr",
          "output_type": "stream",
          "text": [
            "\r 35%|███▌      | 76/217 [19:14<36:12, 15.41s/it]"
          ]
        },
        {
          "name": "stdout",
          "output_type": "stream",
          "text": [
            "=> Retrieved 1 docs\n"
          ]
        },
        {
          "name": "stderr",
          "output_type": "stream",
          "text": [
            "\r 35%|███▌      | 77/217 [19:29<35:31, 15.22s/it]"
          ]
        },
        {
          "name": "stdout",
          "output_type": "stream",
          "text": [
            "=> Retrieved 1 docs\n"
          ]
        },
        {
          "name": "stderr",
          "output_type": "stream",
          "text": [
            "\r 36%|███▌      | 78/217 [19:44<34:54, 15.07s/it]"
          ]
        },
        {
          "name": "stdout",
          "output_type": "stream",
          "text": [
            "=> Retrieved 1 docs\n"
          ]
        },
        {
          "name": "stderr",
          "output_type": "stream",
          "text": [
            "\r 36%|███▋      | 79/217 [19:59<34:32, 15.02s/it]"
          ]
        },
        {
          "name": "stdout",
          "output_type": "stream",
          "text": [
            "=> Retrieved 1 docs\n"
          ]
        },
        {
          "name": "stderr",
          "output_type": "stream",
          "text": [
            "\r 37%|███▋      | 80/217 [20:14<34:25, 15.07s/it]"
          ]
        },
        {
          "name": "stdout",
          "output_type": "stream",
          "text": [
            "=> Retrieved 1 docs\n"
          ]
        },
        {
          "name": "stderr",
          "output_type": "stream",
          "text": [
            "\r 37%|███▋      | 81/217 [20:30<34:47, 15.35s/it]"
          ]
        },
        {
          "name": "stdout",
          "output_type": "stream",
          "text": [
            "=> Retrieved 1 docs\n"
          ]
        },
        {
          "name": "stderr",
          "output_type": "stream",
          "text": [
            "\r 38%|███▊      | 82/217 [20:45<34:46, 15.45s/it]"
          ]
        },
        {
          "name": "stdout",
          "output_type": "stream",
          "text": [
            "=> Retrieved 1 docs\n"
          ]
        },
        {
          "name": "stderr",
          "output_type": "stream",
          "text": [
            "\r 38%|███▊      | 83/217 [21:01<34:17, 15.36s/it]"
          ]
        },
        {
          "name": "stdout",
          "output_type": "stream",
          "text": [
            "=> Retrieved 1 docs\n"
          ]
        },
        {
          "name": "stderr",
          "output_type": "stream",
          "text": [
            "\r 39%|███▊      | 84/217 [21:16<33:51, 15.27s/it]"
          ]
        },
        {
          "name": "stdout",
          "output_type": "stream",
          "text": [
            "=> Retrieved 1 docs\n"
          ]
        },
        {
          "name": "stderr",
          "output_type": "stream",
          "text": [
            "\r 39%|███▉      | 85/217 [21:31<33:25, 15.19s/it]"
          ]
        },
        {
          "name": "stdout",
          "output_type": "stream",
          "text": [
            "=> Retrieved 1 docs\n"
          ]
        },
        {
          "name": "stderr",
          "output_type": "stream",
          "text": [
            "\r 40%|███▉      | 86/217 [21:46<33:22, 15.29s/it]"
          ]
        },
        {
          "name": "stdout",
          "output_type": "stream",
          "text": [
            "=> Retrieved 1 docs\n"
          ]
        },
        {
          "name": "stderr",
          "output_type": "stream",
          "text": [
            "\r 40%|████      | 87/217 [22:02<33:17, 15.36s/it]"
          ]
        },
        {
          "name": "stdout",
          "output_type": "stream",
          "text": [
            "=> Retrieved 1 docs\n"
          ]
        },
        {
          "name": "stderr",
          "output_type": "stream",
          "text": [
            "\r 41%|████      | 88/217 [22:18<33:23, 15.53s/it]"
          ]
        },
        {
          "name": "stdout",
          "output_type": "stream",
          "text": [
            "=> Retrieved 1 docs\n"
          ]
        },
        {
          "name": "stderr",
          "output_type": "stream",
          "text": [
            "\r 41%|████      | 89/217 [22:33<33:09, 15.54s/it]"
          ]
        },
        {
          "name": "stdout",
          "output_type": "stream",
          "text": [
            "=> Retrieved 1 docs\n"
          ]
        },
        {
          "name": "stderr",
          "output_type": "stream",
          "text": [
            "\r 41%|████▏     | 90/217 [22:48<32:29, 15.35s/it]"
          ]
        },
        {
          "name": "stdout",
          "output_type": "stream",
          "text": [
            "=> Retrieved 1 docs\n"
          ]
        },
        {
          "name": "stderr",
          "output_type": "stream",
          "text": [
            "\r 42%|████▏     | 91/217 [23:03<32:02, 15.26s/it]"
          ]
        },
        {
          "name": "stdout",
          "output_type": "stream",
          "text": [
            "=> Retrieved 1 docs\n"
          ]
        },
        {
          "name": "stderr",
          "output_type": "stream",
          "text": [
            "\r 42%|████▏     | 92/217 [23:18<31:28, 15.10s/it]"
          ]
        },
        {
          "name": "stdout",
          "output_type": "stream",
          "text": [
            "=> Retrieved 1 docs\n"
          ]
        },
        {
          "name": "stderr",
          "output_type": "stream",
          "text": [
            "\r 43%|████▎     | 93/217 [23:32<30:53, 14.95s/it]"
          ]
        },
        {
          "name": "stdout",
          "output_type": "stream",
          "text": [
            "=> Retrieved 1 docs\n"
          ]
        },
        {
          "name": "stderr",
          "output_type": "stream",
          "text": [
            "\r 43%|████▎     | 94/217 [23:48<30:51, 15.05s/it]"
          ]
        },
        {
          "name": "stdout",
          "output_type": "stream",
          "text": [
            "=> Retrieved 1 docs\n"
          ]
        },
        {
          "name": "stderr",
          "output_type": "stream",
          "text": [
            "\r 44%|████▍     | 95/217 [24:04<31:09, 15.33s/it]"
          ]
        },
        {
          "name": "stdout",
          "output_type": "stream",
          "text": [
            "=> Retrieved 1 docs\n"
          ]
        },
        {
          "name": "stderr",
          "output_type": "stream",
          "text": [
            "\r 44%|████▍     | 96/217 [24:19<30:42, 15.23s/it]"
          ]
        },
        {
          "name": "stdout",
          "output_type": "stream",
          "text": [
            "=> Retrieved 1 docs\n"
          ]
        },
        {
          "name": "stderr",
          "output_type": "stream",
          "text": [
            "\r 45%|████▍     | 97/217 [24:34<30:45, 15.38s/it]"
          ]
        },
        {
          "name": "stdout",
          "output_type": "stream",
          "text": [
            "=> Retrieved 1 docs\n"
          ]
        },
        {
          "name": "stderr",
          "output_type": "stream",
          "text": [
            "\r 45%|████▌     | 98/217 [24:49<30:07, 15.19s/it]"
          ]
        },
        {
          "name": "stdout",
          "output_type": "stream",
          "text": [
            "=> Retrieved 1 docs\n"
          ]
        },
        {
          "name": "stderr",
          "output_type": "stream",
          "text": [
            "\r 46%|████▌     | 99/217 [25:04<29:38, 15.07s/it]"
          ]
        },
        {
          "name": "stdout",
          "output_type": "stream",
          "text": [
            "=> Retrieved 1 docs\n"
          ]
        },
        {
          "name": "stderr",
          "output_type": "stream",
          "text": [
            "\r 46%|████▌     | 100/217 [25:20<29:39, 15.21s/it]"
          ]
        },
        {
          "name": "stdout",
          "output_type": "stream",
          "text": [
            "=> Retrieved 1 docs\n"
          ]
        },
        {
          "name": "stderr",
          "output_type": "stream",
          "text": [
            "\r 47%|████▋     | 101/217 [25:36<29:51, 15.44s/it]"
          ]
        },
        {
          "name": "stdout",
          "output_type": "stream",
          "text": [
            "=> Retrieved 1 docs\n"
          ]
        },
        {
          "name": "stderr",
          "output_type": "stream",
          "text": [
            "\r 47%|████▋     | 102/217 [25:51<29:25, 15.35s/it]"
          ]
        },
        {
          "name": "stdout",
          "output_type": "stream",
          "text": [
            "=> Retrieved 1 docs\n"
          ]
        },
        {
          "name": "stderr",
          "output_type": "stream",
          "text": [
            "\r 47%|████▋     | 103/217 [26:06<28:55, 15.23s/it]"
          ]
        },
        {
          "name": "stdout",
          "output_type": "stream",
          "text": [
            "=> Retrieved 1 docs\n"
          ]
        },
        {
          "name": "stderr",
          "output_type": "stream",
          "text": [
            "\r 48%|████▊     | 104/217 [26:21<28:33, 15.16s/it]"
          ]
        },
        {
          "name": "stdout",
          "output_type": "stream",
          "text": [
            "=> Retrieved 1 docs\n"
          ]
        },
        {
          "name": "stderr",
          "output_type": "stream",
          "text": [
            "\r 48%|████▊     | 105/217 [26:35<28:01, 15.01s/it]"
          ]
        },
        {
          "name": "stdout",
          "output_type": "stream",
          "text": [
            "=> Retrieved 1 docs\n"
          ]
        },
        {
          "name": "stderr",
          "output_type": "stream",
          "text": [
            "\r 49%|████▉     | 106/217 [26:50<27:44, 14.99s/it]"
          ]
        },
        {
          "name": "stdout",
          "output_type": "stream",
          "text": [
            "=> Retrieved 1 docs\n"
          ]
        },
        {
          "name": "stderr",
          "output_type": "stream",
          "text": [
            "\r 49%|████▉     | 107/217 [27:06<28:11, 15.38s/it]"
          ]
        },
        {
          "name": "stdout",
          "output_type": "stream",
          "text": [
            "=> Retrieved 1 docs\n"
          ]
        },
        {
          "name": "stderr",
          "output_type": "stream",
          "text": [
            "\r 50%|████▉     | 108/217 [27:22<28:09, 15.50s/it]"
          ]
        },
        {
          "name": "stdout",
          "output_type": "stream",
          "text": [
            "=> Retrieved 1 docs\n"
          ]
        },
        {
          "name": "stderr",
          "output_type": "stream",
          "text": [
            "\r 50%|█████     | 109/217 [27:37<27:29, 15.27s/it]"
          ]
        },
        {
          "name": "stdout",
          "output_type": "stream",
          "text": [
            "=> Retrieved 1 docs\n"
          ]
        },
        {
          "name": "stderr",
          "output_type": "stream",
          "text": [
            "\r 51%|█████     | 110/217 [27:52<27:12, 15.26s/it]"
          ]
        },
        {
          "name": "stdout",
          "output_type": "stream",
          "text": [
            "=> Retrieved 1 docs\n"
          ]
        },
        {
          "name": "stderr",
          "output_type": "stream",
          "text": [
            "\r 51%|█████     | 111/217 [28:07<26:45, 15.14s/it]"
          ]
        },
        {
          "name": "stdout",
          "output_type": "stream",
          "text": [
            "=> Retrieved 1 docs\n"
          ]
        },
        {
          "name": "stderr",
          "output_type": "stream",
          "text": [
            "\r 52%|█████▏    | 112/217 [28:22<26:15, 15.01s/it]"
          ]
        },
        {
          "name": "stdout",
          "output_type": "stream",
          "text": [
            "=> Retrieved 1 docs\n"
          ]
        },
        {
          "name": "stderr",
          "output_type": "stream",
          "text": [
            "\r 52%|█████▏    | 113/217 [28:37<26:04, 15.04s/it]"
          ]
        },
        {
          "name": "stdout",
          "output_type": "stream",
          "text": [
            "=> Retrieved 1 docs\n"
          ]
        },
        {
          "name": "stderr",
          "output_type": "stream",
          "text": [
            "\r 53%|█████▎    | 114/217 [28:53<26:23, 15.37s/it]"
          ]
        },
        {
          "name": "stdout",
          "output_type": "stream",
          "text": [
            "=> Retrieved 1 docs\n"
          ]
        },
        {
          "name": "stderr",
          "output_type": "stream",
          "text": [
            "\r 53%|█████▎    | 115/217 [29:09<26:10, 15.40s/it]"
          ]
        },
        {
          "name": "stdout",
          "output_type": "stream",
          "text": [
            "=> Retrieved 1 docs\n"
          ]
        },
        {
          "name": "stderr",
          "output_type": "stream",
          "text": [
            "\r 53%|█████▎    | 116/217 [29:23<25:38, 15.23s/it]"
          ]
        },
        {
          "name": "stdout",
          "output_type": "stream",
          "text": [
            "=> Retrieved 1 docs\n"
          ]
        },
        {
          "name": "stderr",
          "output_type": "stream",
          "text": [
            "\r 54%|█████▍    | 117/217 [29:38<25:18, 15.19s/it]"
          ]
        },
        {
          "name": "stdout",
          "output_type": "stream",
          "text": [
            "=> Retrieved 1 docs\n"
          ]
        },
        {
          "name": "stderr",
          "output_type": "stream",
          "text": [
            "\r 54%|█████▍    | 118/217 [29:55<25:31, 15.47s/it]"
          ]
        },
        {
          "name": "stdout",
          "output_type": "stream",
          "text": [
            "=> Retrieved 1 docs\n"
          ]
        },
        {
          "name": "stderr",
          "output_type": "stream",
          "text": [
            "\r 55%|█████▍    | 119/217 [30:10<25:08, 15.39s/it]"
          ]
        },
        {
          "name": "stdout",
          "output_type": "stream",
          "text": [
            "=> Retrieved 1 docs\n"
          ]
        },
        {
          "name": "stderr",
          "output_type": "stream",
          "text": [
            "\r 55%|█████▌    | 120/217 [30:26<25:08, 15.56s/it]"
          ]
        },
        {
          "name": "stdout",
          "output_type": "stream",
          "text": [
            "=> Retrieved 1 docs\n"
          ]
        },
        {
          "name": "stderr",
          "output_type": "stream",
          "text": [
            "\r 56%|█████▌    | 121/217 [30:41<24:56, 15.59s/it]"
          ]
        },
        {
          "name": "stdout",
          "output_type": "stream",
          "text": [
            "=> Retrieved 1 docs\n"
          ]
        },
        {
          "name": "stderr",
          "output_type": "stream",
          "text": [
            "\r 56%|█████▌    | 122/217 [30:56<24:17, 15.34s/it]"
          ]
        },
        {
          "name": "stdout",
          "output_type": "stream",
          "text": [
            "=> Retrieved 1 docs\n"
          ]
        },
        {
          "name": "stderr",
          "output_type": "stream",
          "text": [
            "\r 57%|█████▋    | 123/217 [31:11<23:54, 15.26s/it]"
          ]
        },
        {
          "name": "stdout",
          "output_type": "stream",
          "text": [
            "=> Retrieved 1 docs\n"
          ]
        },
        {
          "name": "stderr",
          "output_type": "stream",
          "text": [
            "\r 57%|█████▋    | 124/217 [31:26<23:22, 15.08s/it]"
          ]
        },
        {
          "name": "stdout",
          "output_type": "stream",
          "text": [
            "=> Retrieved 1 docs\n"
          ]
        },
        {
          "name": "stderr",
          "output_type": "stream",
          "text": [
            "\r 58%|█████▊    | 125/217 [31:41<23:06, 15.07s/it]"
          ]
        },
        {
          "name": "stdout",
          "output_type": "stream",
          "text": [
            "=> Retrieved 1 docs\n"
          ]
        },
        {
          "name": "stderr",
          "output_type": "stream",
          "text": [
            "\r 58%|█████▊    | 126/217 [31:57<23:14, 15.32s/it]"
          ]
        },
        {
          "name": "stdout",
          "output_type": "stream",
          "text": [
            "=> Retrieved 1 docs\n"
          ]
        },
        {
          "name": "stderr",
          "output_type": "stream",
          "text": [
            "\r 59%|█████▊    | 127/217 [32:12<23:02, 15.36s/it]"
          ]
        },
        {
          "name": "stdout",
          "output_type": "stream",
          "text": [
            "=> Retrieved 1 docs\n"
          ]
        },
        {
          "name": "stderr",
          "output_type": "stream",
          "text": [
            "\r 59%|█████▉    | 128/217 [32:28<22:47, 15.36s/it]"
          ]
        },
        {
          "name": "stdout",
          "output_type": "stream",
          "text": [
            "=> Retrieved 1 docs\n"
          ]
        },
        {
          "name": "stderr",
          "output_type": "stream",
          "text": [
            "\r 59%|█████▉    | 129/217 [32:42<22:13, 15.15s/it]"
          ]
        },
        {
          "name": "stdout",
          "output_type": "stream",
          "text": [
            "=> Retrieved 1 docs\n"
          ]
        },
        {
          "name": "stderr",
          "output_type": "stream",
          "text": [
            "\r 60%|█████▉    | 130/217 [32:57<21:46, 15.02s/it]"
          ]
        },
        {
          "name": "stdout",
          "output_type": "stream",
          "text": [
            "=> Retrieved 1 docs\n"
          ]
        },
        {
          "name": "stderr",
          "output_type": "stream",
          "text": [
            "\r 60%|██████    | 131/217 [33:12<21:38, 15.10s/it]"
          ]
        },
        {
          "name": "stdout",
          "output_type": "stream",
          "text": [
            "=> Retrieved 1 docs\n"
          ]
        },
        {
          "name": "stderr",
          "output_type": "stream",
          "text": [
            "\r 61%|██████    | 132/217 [33:28<21:39, 15.29s/it]"
          ]
        },
        {
          "name": "stdout",
          "output_type": "stream",
          "text": [
            "=> Retrieved 1 docs\n"
          ]
        },
        {
          "name": "stderr",
          "output_type": "stream",
          "text": [
            "\r 61%|██████▏   | 133/217 [33:44<21:37, 15.44s/it]"
          ]
        },
        {
          "name": "stdout",
          "output_type": "stream",
          "text": [
            "=> Retrieved 1 docs\n"
          ]
        },
        {
          "name": "stderr",
          "output_type": "stream",
          "text": [
            "\r 62%|██████▏   | 134/217 [33:59<21:09, 15.30s/it]"
          ]
        },
        {
          "name": "stdout",
          "output_type": "stream",
          "text": [
            "=> Retrieved 1 docs\n"
          ]
        },
        {
          "name": "stderr",
          "output_type": "stream",
          "text": [
            "\r 62%|██████▏   | 135/217 [34:14<20:43, 15.17s/it]"
          ]
        },
        {
          "name": "stdout",
          "output_type": "stream",
          "text": [
            "=> Retrieved 1 docs\n"
          ]
        },
        {
          "name": "stderr",
          "output_type": "stream",
          "text": [
            "\r 63%|██████▎   | 136/217 [34:29<20:19, 15.06s/it]"
          ]
        },
        {
          "name": "stdout",
          "output_type": "stream",
          "text": [
            "=> Retrieved 1 docs\n"
          ]
        },
        {
          "name": "stderr",
          "output_type": "stream",
          "text": [
            "\r 63%|██████▎   | 137/217 [34:43<19:59, 14.99s/it]"
          ]
        },
        {
          "name": "stdout",
          "output_type": "stream",
          "text": [
            "=> Retrieved 1 docs\n"
          ]
        },
        {
          "name": "stderr",
          "output_type": "stream",
          "text": [
            "\r 64%|██████▎   | 138/217 [34:59<19:53, 15.10s/it]"
          ]
        },
        {
          "name": "stdout",
          "output_type": "stream",
          "text": [
            "=> Retrieved 1 docs\n"
          ]
        },
        {
          "name": "stderr",
          "output_type": "stream",
          "text": [
            "\r 64%|██████▍   | 139/217 [35:15<20:11, 15.53s/it]"
          ]
        },
        {
          "name": "stdout",
          "output_type": "stream",
          "text": [
            "=> Retrieved 1 docs\n"
          ]
        },
        {
          "name": "stderr",
          "output_type": "stream",
          "text": [
            "\r 65%|██████▍   | 140/217 [35:31<19:56, 15.53s/it]"
          ]
        },
        {
          "name": "stdout",
          "output_type": "stream",
          "text": [
            "=> Retrieved 1 docs\n"
          ]
        },
        {
          "name": "stderr",
          "output_type": "stream",
          "text": [
            "\r 65%|██████▍   | 141/217 [35:46<19:28, 15.37s/it]"
          ]
        },
        {
          "name": "stdout",
          "output_type": "stream",
          "text": [
            "=> Retrieved 1 docs\n"
          ]
        },
        {
          "name": "stderr",
          "output_type": "stream",
          "text": [
            "\r 65%|██████▌   | 142/217 [36:01<19:03, 15.24s/it]"
          ]
        },
        {
          "name": "stdout",
          "output_type": "stream",
          "text": [
            "=> Retrieved 1 docs\n"
          ]
        },
        {
          "name": "stderr",
          "output_type": "stream",
          "text": [
            "\r 66%|██████▌   | 143/217 [36:16<18:38, 15.11s/it]"
          ]
        },
        {
          "name": "stdout",
          "output_type": "stream",
          "text": [
            "=> Retrieved 1 docs\n"
          ]
        },
        {
          "name": "stderr",
          "output_type": "stream",
          "text": [
            "\r 66%|██████▋   | 144/217 [36:31<18:24, 15.13s/it]"
          ]
        },
        {
          "name": "stdout",
          "output_type": "stream",
          "text": [
            "=> Retrieved 1 docs\n"
          ]
        },
        {
          "name": "stderr",
          "output_type": "stream",
          "text": [
            "\r 67%|██████▋   | 145/217 [36:47<18:26, 15.37s/it]"
          ]
        },
        {
          "name": "stdout",
          "output_type": "stream",
          "text": [
            "=> Retrieved 1 docs\n"
          ]
        },
        {
          "name": "stderr",
          "output_type": "stream",
          "text": [
            "\r 67%|██████▋   | 146/217 [37:02<18:17, 15.45s/it]"
          ]
        },
        {
          "name": "stdout",
          "output_type": "stream",
          "text": [
            "=> Retrieved 1 docs\n"
          ]
        },
        {
          "name": "stderr",
          "output_type": "stream",
          "text": [
            "\r 68%|██████▊   | 147/217 [37:17<17:51, 15.30s/it]"
          ]
        },
        {
          "name": "stdout",
          "output_type": "stream",
          "text": [
            "=> Retrieved 1 docs\n"
          ]
        },
        {
          "name": "stderr",
          "output_type": "stream",
          "text": [
            "\r 68%|██████▊   | 148/217 [37:32<17:27, 15.18s/it]"
          ]
        },
        {
          "name": "stdout",
          "output_type": "stream",
          "text": [
            "=> Retrieved 1 docs\n"
          ]
        },
        {
          "name": "stderr",
          "output_type": "stream",
          "text": [
            "\r 69%|██████▊   | 149/217 [37:47<17:06, 15.09s/it]"
          ]
        },
        {
          "name": "stdout",
          "output_type": "stream",
          "text": [
            "=> Retrieved 1 docs\n"
          ]
        },
        {
          "name": "stderr",
          "output_type": "stream",
          "text": [
            "\r 69%|██████▉   | 150/217 [38:02<16:49, 15.07s/it]"
          ]
        },
        {
          "name": "stdout",
          "output_type": "stream",
          "text": [
            "=> Retrieved 1 docs\n"
          ]
        },
        {
          "name": "stderr",
          "output_type": "stream",
          "text": [
            "\r 70%|██████▉   | 151/217 [38:18<16:51, 15.33s/it]"
          ]
        },
        {
          "name": "stdout",
          "output_type": "stream",
          "text": [
            "=> Retrieved 1 docs\n"
          ]
        },
        {
          "name": "stderr",
          "output_type": "stream",
          "text": [
            "\r 70%|███████   | 152/217 [38:34<16:49, 15.53s/it]"
          ]
        },
        {
          "name": "stdout",
          "output_type": "stream",
          "text": [
            "=> Retrieved 1 docs\n"
          ]
        },
        {
          "name": "stderr",
          "output_type": "stream",
          "text": [
            "\r 71%|███████   | 153/217 [38:49<16:27, 15.43s/it]"
          ]
        },
        {
          "name": "stdout",
          "output_type": "stream",
          "text": [
            "=> Retrieved 1 docs\n"
          ]
        },
        {
          "name": "stderr",
          "output_type": "stream",
          "text": [
            "\r 71%|███████   | 154/217 [39:04<16:01, 15.27s/it]"
          ]
        },
        {
          "name": "stdout",
          "output_type": "stream",
          "text": [
            "=> Retrieved 1 docs\n"
          ]
        },
        {
          "name": "stderr",
          "output_type": "stream",
          "text": [
            "\r 71%|███████▏  | 155/217 [39:19<15:36, 15.11s/it]"
          ]
        },
        {
          "name": "stdout",
          "output_type": "stream",
          "text": [
            "=> Retrieved 1 docs\n"
          ]
        },
        {
          "name": "stderr",
          "output_type": "stream",
          "text": [
            "\r 72%|███████▏  | 156/217 [39:33<15:14, 14.99s/it]"
          ]
        },
        {
          "name": "stdout",
          "output_type": "stream",
          "text": [
            "=> Retrieved 1 docs\n"
          ]
        },
        {
          "name": "stderr",
          "output_type": "stream",
          "text": [
            "\r 72%|███████▏  | 157/217 [39:49<15:09, 15.16s/it]"
          ]
        },
        {
          "name": "stdout",
          "output_type": "stream",
          "text": [
            "=> Retrieved 1 docs\n"
          ]
        },
        {
          "name": "stderr",
          "output_type": "stream",
          "text": [
            "\r 73%|███████▎  | 158/217 [40:05<15:14, 15.49s/it]"
          ]
        },
        {
          "name": "stdout",
          "output_type": "stream",
          "text": [
            "=> Retrieved 1 docs\n"
          ]
        },
        {
          "name": "stderr",
          "output_type": "stream",
          "text": [
            "\r 73%|███████▎  | 159/217 [40:21<14:54, 15.42s/it]"
          ]
        },
        {
          "name": "stdout",
          "output_type": "stream",
          "text": [
            "=> Retrieved 1 docs\n"
          ]
        },
        {
          "name": "stderr",
          "output_type": "stream",
          "text": [
            "\r 74%|███████▎  | 160/217 [40:35<14:27, 15.23s/it]"
          ]
        },
        {
          "name": "stdout",
          "output_type": "stream",
          "text": [
            "=> Retrieved 1 docs\n"
          ]
        },
        {
          "name": "stderr",
          "output_type": "stream",
          "text": [
            "\r 74%|███████▍  | 161/217 [40:50<14:07, 15.13s/it]"
          ]
        },
        {
          "name": "stdout",
          "output_type": "stream",
          "text": [
            "=> Retrieved 1 docs\n"
          ]
        },
        {
          "name": "stderr",
          "output_type": "stream",
          "text": [
            "\r 75%|███████▍  | 162/217 [41:05<13:44, 14.99s/it]"
          ]
        },
        {
          "name": "stdout",
          "output_type": "stream",
          "text": [
            "=> Retrieved 1 docs\n"
          ]
        },
        {
          "name": "stderr",
          "output_type": "stream",
          "text": [
            "\r 75%|███████▌  | 163/217 [41:19<13:20, 14.82s/it]"
          ]
        },
        {
          "name": "stdout",
          "output_type": "stream",
          "text": [
            "=> Retrieved 1 docs\n"
          ]
        },
        {
          "name": "stderr",
          "output_type": "stream",
          "text": [
            "\r 76%|███████▌  | 164/217 [41:35<13:12, 14.95s/it]"
          ]
        },
        {
          "name": "stdout",
          "output_type": "stream",
          "text": [
            "=> Retrieved 1 docs\n"
          ]
        },
        {
          "name": "stderr",
          "output_type": "stream",
          "text": [
            "\r 76%|███████▌  | 165/217 [41:50<13:10, 15.21s/it]"
          ]
        },
        {
          "name": "stdout",
          "output_type": "stream",
          "text": [
            "=> Retrieved 1 docs\n"
          ]
        },
        {
          "name": "stderr",
          "output_type": "stream",
          "text": [
            "\r 76%|███████▋  | 166/217 [42:06<12:55, 15.21s/it]"
          ]
        },
        {
          "name": "stdout",
          "output_type": "stream",
          "text": [
            "=> Retrieved 1 docs\n"
          ]
        },
        {
          "name": "stderr",
          "output_type": "stream",
          "text": [
            "\r 77%|███████▋  | 167/217 [42:20<12:33, 15.07s/it]"
          ]
        },
        {
          "name": "stdout",
          "output_type": "stream",
          "text": [
            "=> Retrieved 1 docs\n"
          ]
        },
        {
          "name": "stderr",
          "output_type": "stream",
          "text": [
            "\r 77%|███████▋  | 168/217 [42:35<12:12, 14.95s/it]"
          ]
        },
        {
          "name": "stdout",
          "output_type": "stream",
          "text": [
            "=> Retrieved 1 docs\n"
          ]
        },
        {
          "name": "stderr",
          "output_type": "stream",
          "text": [
            "\r 78%|███████▊  | 169/217 [42:50<11:58, 14.96s/it]"
          ]
        },
        {
          "name": "stdout",
          "output_type": "stream",
          "text": [
            "=> Retrieved 1 docs\n"
          ]
        },
        {
          "name": "stderr",
          "output_type": "stream",
          "text": [
            "\r 78%|███████▊  | 170/217 [43:04<11:36, 14.82s/it]"
          ]
        },
        {
          "name": "stdout",
          "output_type": "stream",
          "text": [
            "=> Retrieved 1 docs\n"
          ]
        },
        {
          "name": "stderr",
          "output_type": "stream",
          "text": [
            "\r 79%|███████▉  | 171/217 [43:19<11:24, 14.87s/it]"
          ]
        },
        {
          "name": "stdout",
          "output_type": "stream",
          "text": [
            "=> Retrieved 1 docs\n"
          ]
        },
        {
          "name": "stderr",
          "output_type": "stream",
          "text": [
            "\r 79%|███████▉  | 172/217 [43:35<11:17, 15.05s/it]"
          ]
        },
        {
          "name": "stdout",
          "output_type": "stream",
          "text": [
            "=> Retrieved 1 docs\n"
          ]
        },
        {
          "name": "stderr",
          "output_type": "stream",
          "text": [
            "\r 80%|███████▉  | 173/217 [43:50<11:07, 15.17s/it]"
          ]
        },
        {
          "name": "stdout",
          "output_type": "stream",
          "text": [
            "=> Retrieved 1 docs\n"
          ]
        },
        {
          "name": "stderr",
          "output_type": "stream",
          "text": [
            "\r 80%|████████  | 174/217 [44:05<10:48, 15.09s/it]"
          ]
        },
        {
          "name": "stdout",
          "output_type": "stream",
          "text": [
            "=> Retrieved 1 docs\n"
          ]
        },
        {
          "name": "stderr",
          "output_type": "stream",
          "text": [
            "\r 81%|████████  | 175/217 [44:20<10:32, 15.06s/it]"
          ]
        },
        {
          "name": "stdout",
          "output_type": "stream",
          "text": [
            "=> Retrieved 1 docs\n"
          ]
        },
        {
          "name": "stderr",
          "output_type": "stream",
          "text": [
            "\r 81%|████████  | 176/217 [44:35<10:15, 15.01s/it]"
          ]
        },
        {
          "name": "stdout",
          "output_type": "stream",
          "text": [
            "=> Retrieved 1 docs\n"
          ]
        },
        {
          "name": "stderr",
          "output_type": "stream",
          "text": [
            "\r 82%|████████▏ | 177/217 [44:50<09:54, 14.87s/it]"
          ]
        },
        {
          "name": "stdout",
          "output_type": "stream",
          "text": [
            "=> Retrieved 1 docs\n"
          ]
        },
        {
          "name": "stderr",
          "output_type": "stream",
          "text": [
            "\r 82%|████████▏ | 178/217 [45:05<09:45, 15.01s/it]"
          ]
        },
        {
          "name": "stdout",
          "output_type": "stream",
          "text": [
            "=> Retrieved 1 docs\n"
          ]
        },
        {
          "name": "stderr",
          "output_type": "stream",
          "text": [
            "\r 82%|████████▏ | 179/217 [45:21<09:42, 15.32s/it]"
          ]
        },
        {
          "name": "stdout",
          "output_type": "stream",
          "text": [
            "=> Retrieved 1 docs\n"
          ]
        },
        {
          "name": "stderr",
          "output_type": "stream",
          "text": [
            "\r 83%|████████▎ | 180/217 [45:36<09:26, 15.32s/it]"
          ]
        },
        {
          "name": "stdout",
          "output_type": "stream",
          "text": [
            "=> Retrieved 1 docs\n"
          ]
        },
        {
          "name": "stderr",
          "output_type": "stream",
          "text": [
            "\r 83%|████████▎ | 181/217 [45:51<09:06, 15.18s/it]"
          ]
        },
        {
          "name": "stdout",
          "output_type": "stream",
          "text": [
            "=> Retrieved 1 docs\n"
          ]
        },
        {
          "name": "stderr",
          "output_type": "stream",
          "text": [
            "\r 84%|████████▍ | 182/217 [46:06<08:47, 15.06s/it]"
          ]
        },
        {
          "name": "stdout",
          "output_type": "stream",
          "text": [
            "=> Retrieved 1 docs\n"
          ]
        },
        {
          "name": "stderr",
          "output_type": "stream",
          "text": [
            "\r 84%|████████▍ | 183/217 [46:21<08:28, 14.95s/it]"
          ]
        },
        {
          "name": "stdout",
          "output_type": "stream",
          "text": [
            "=> Retrieved 1 docs\n"
          ]
        },
        {
          "name": "stderr",
          "output_type": "stream",
          "text": [
            "\r 85%|████████▍ | 184/217 [46:36<08:13, 14.97s/it]"
          ]
        },
        {
          "name": "stdout",
          "output_type": "stream",
          "text": [
            "=> Retrieved 1 docs\n"
          ]
        },
        {
          "name": "stderr",
          "output_type": "stream",
          "text": [
            "\r 85%|████████▌ | 185/217 [46:51<08:05, 15.16s/it]"
          ]
        },
        {
          "name": "stdout",
          "output_type": "stream",
          "text": [
            "=> Retrieved 1 docs\n"
          ]
        },
        {
          "name": "stderr",
          "output_type": "stream",
          "text": [
            "\r 86%|████████▌ | 186/217 [47:07<07:53, 15.26s/it]"
          ]
        },
        {
          "name": "stdout",
          "output_type": "stream",
          "text": [
            "=> Retrieved 1 docs\n"
          ]
        },
        {
          "name": "stderr",
          "output_type": "stream",
          "text": [
            "\r 86%|████████▌ | 187/217 [47:22<07:32, 15.08s/it]"
          ]
        },
        {
          "name": "stdout",
          "output_type": "stream",
          "text": [
            "=> Retrieved 1 docs\n"
          ]
        },
        {
          "name": "stderr",
          "output_type": "stream",
          "text": [
            "\r 87%|████████▋ | 188/217 [47:36<07:14, 15.00s/it]"
          ]
        },
        {
          "name": "stdout",
          "output_type": "stream",
          "text": [
            "=> Retrieved 1 docs\n"
          ]
        },
        {
          "name": "stderr",
          "output_type": "stream",
          "text": [
            "\r 87%|████████▋ | 189/217 [47:51<06:57, 14.90s/it]"
          ]
        },
        {
          "name": "stdout",
          "output_type": "stream",
          "text": [
            "=> Retrieved 1 docs\n"
          ]
        },
        {
          "name": "stderr",
          "output_type": "stream",
          "text": [
            "\r 88%|████████▊ | 190/217 [48:06<06:40, 14.83s/it]"
          ]
        },
        {
          "name": "stdout",
          "output_type": "stream",
          "text": [
            "=> Retrieved 1 docs\n"
          ]
        },
        {
          "name": "stderr",
          "output_type": "stream",
          "text": [
            "\r 88%|████████▊ | 191/217 [48:21<06:26, 14.86s/it]"
          ]
        },
        {
          "name": "stdout",
          "output_type": "stream",
          "text": [
            "=> Retrieved 1 docs\n"
          ]
        },
        {
          "name": "stderr",
          "output_type": "stream",
          "text": [
            "\r 88%|████████▊ | 192/217 [48:36<06:16, 15.07s/it]"
          ]
        },
        {
          "name": "stdout",
          "output_type": "stream",
          "text": [
            "=> Retrieved 1 docs\n"
          ]
        },
        {
          "name": "stderr",
          "output_type": "stream",
          "text": [
            "\r 89%|████████▉ | 193/217 [48:52<06:04, 15.18s/it]"
          ]
        },
        {
          "name": "stdout",
          "output_type": "stream",
          "text": [
            "=> Retrieved 1 docs\n"
          ]
        },
        {
          "name": "stderr",
          "output_type": "stream",
          "text": [
            "\r 89%|████████▉ | 194/217 [49:06<05:44, 14.99s/it]"
          ]
        },
        {
          "name": "stdout",
          "output_type": "stream",
          "text": [
            "=> Retrieved 1 docs\n"
          ]
        },
        {
          "name": "stderr",
          "output_type": "stream",
          "text": [
            "\r 90%|████████▉ | 195/217 [49:21<05:27, 14.87s/it]"
          ]
        },
        {
          "name": "stdout",
          "output_type": "stream",
          "text": [
            "=> Retrieved 1 docs\n"
          ]
        },
        {
          "name": "stderr",
          "output_type": "stream",
          "text": [
            "\r 90%|█████████ | 196/217 [49:36<05:12, 14.86s/it]"
          ]
        },
        {
          "name": "stdout",
          "output_type": "stream",
          "text": [
            "=> Retrieved 1 docs\n"
          ]
        },
        {
          "name": "stderr",
          "output_type": "stream",
          "text": [
            "\r 91%|█████████ | 197/217 [49:50<04:56, 14.82s/it]"
          ]
        },
        {
          "name": "stdout",
          "output_type": "stream",
          "text": [
            "=> Retrieved 1 docs\n"
          ]
        },
        {
          "name": "stderr",
          "output_type": "stream",
          "text": [
            "\r 91%|█████████ | 198/217 [50:05<04:42, 14.89s/it]"
          ]
        },
        {
          "name": "stdout",
          "output_type": "stream",
          "text": [
            "=> Retrieved 1 docs\n"
          ]
        },
        {
          "name": "stderr",
          "output_type": "stream",
          "text": [
            "\r 92%|█████████▏| 199/217 [50:21<04:33, 15.19s/it]"
          ]
        },
        {
          "name": "stdout",
          "output_type": "stream",
          "text": [
            "=> Retrieved 1 docs\n"
          ]
        },
        {
          "name": "stderr",
          "output_type": "stream",
          "text": [
            "\r 92%|█████████▏| 200/217 [50:37<04:19, 15.27s/it]"
          ]
        },
        {
          "name": "stdout",
          "output_type": "stream",
          "text": [
            "=> Retrieved 1 docs\n"
          ]
        },
        {
          "name": "stderr",
          "output_type": "stream",
          "text": [
            "\r 93%|█████████▎| 201/217 [50:51<04:00, 15.05s/it]"
          ]
        },
        {
          "name": "stdout",
          "output_type": "stream",
          "text": [
            "=> Retrieved 1 docs\n"
          ]
        },
        {
          "name": "stderr",
          "output_type": "stream",
          "text": [
            "\r 93%|█████████▎| 202/217 [51:06<03:43, 14.88s/it]"
          ]
        },
        {
          "name": "stdout",
          "output_type": "stream",
          "text": [
            "=> Retrieved 1 docs\n"
          ]
        },
        {
          "name": "stderr",
          "output_type": "stream",
          "text": [
            "\r 94%|█████████▎| 203/217 [51:20<03:27, 14.83s/it]"
          ]
        },
        {
          "name": "stdout",
          "output_type": "stream",
          "text": [
            "=> Retrieved 1 docs\n"
          ]
        },
        {
          "name": "stderr",
          "output_type": "stream",
          "text": [
            "\r 94%|█████████▍| 204/217 [51:35<03:11, 14.71s/it]"
          ]
        },
        {
          "name": "stdout",
          "output_type": "stream",
          "text": [
            "=> Retrieved 1 docs\n"
          ]
        },
        {
          "name": "stderr",
          "output_type": "stream",
          "text": [
            "\r 94%|█████████▍| 205/217 [51:50<02:56, 14.70s/it]"
          ]
        },
        {
          "name": "stdout",
          "output_type": "stream",
          "text": [
            "=> Retrieved 1 docs\n"
          ]
        },
        {
          "name": "stderr",
          "output_type": "stream",
          "text": [
            "\r 95%|█████████▍| 206/217 [52:05<02:43, 14.86s/it]"
          ]
        },
        {
          "name": "stdout",
          "output_type": "stream",
          "text": [
            "=> Retrieved 1 docs\n"
          ]
        },
        {
          "name": "stderr",
          "output_type": "stream",
          "text": [
            "\r 95%|█████████▌| 207/217 [52:21<02:31, 15.15s/it]"
          ]
        },
        {
          "name": "stdout",
          "output_type": "stream",
          "text": [
            "=> Retrieved 1 docs\n"
          ]
        },
        {
          "name": "stderr",
          "output_type": "stream",
          "text": [
            "\r 96%|█████████▌| 208/217 [52:36<02:16, 15.22s/it]"
          ]
        },
        {
          "name": "stdout",
          "output_type": "stream",
          "text": [
            "=> Retrieved 1 docs\n"
          ]
        },
        {
          "name": "stderr",
          "output_type": "stream",
          "text": [
            "\r 96%|█████████▋| 209/217 [52:51<02:00, 15.08s/it]"
          ]
        },
        {
          "name": "stdout",
          "output_type": "stream",
          "text": [
            "=> Retrieved 1 docs\n"
          ]
        },
        {
          "name": "stderr",
          "output_type": "stream",
          "text": [
            "\r 97%|█████████▋| 210/217 [53:05<01:44, 14.96s/it]"
          ]
        },
        {
          "name": "stdout",
          "output_type": "stream",
          "text": [
            "=> Retrieved 1 docs\n"
          ]
        },
        {
          "name": "stderr",
          "output_type": "stream",
          "text": [
            "\r 97%|█████████▋| 211/217 [53:20<01:29, 14.88s/it]"
          ]
        },
        {
          "name": "stdout",
          "output_type": "stream",
          "text": [
            "=> Retrieved 1 docs\n"
          ]
        },
        {
          "name": "stderr",
          "output_type": "stream",
          "text": [
            "\r 98%|█████████▊| 212/217 [53:35<01:13, 14.78s/it]"
          ]
        },
        {
          "name": "stdout",
          "output_type": "stream",
          "text": [
            "=> Retrieved 1 docs\n"
          ]
        },
        {
          "name": "stderr",
          "output_type": "stream",
          "text": [
            "\r 98%|█████████▊| 213/217 [53:50<00:59, 14.90s/it]"
          ]
        },
        {
          "name": "stdout",
          "output_type": "stream",
          "text": [
            "=> Retrieved 1 docs\n"
          ]
        },
        {
          "name": "stderr",
          "output_type": "stream",
          "text": [
            "\r 99%|█████████▊| 214/217 [54:06<00:45, 15.17s/it]"
          ]
        },
        {
          "name": "stdout",
          "output_type": "stream",
          "text": [
            "=> Retrieved 1 docs\n"
          ]
        },
        {
          "name": "stderr",
          "output_type": "stream",
          "text": [
            "\r 99%|█████████▉| 215/217 [54:21<00:30, 15.23s/it]"
          ]
        },
        {
          "name": "stdout",
          "output_type": "stream",
          "text": [
            "=> Retrieved 1 docs\n"
          ]
        },
        {
          "name": "stderr",
          "output_type": "stream",
          "text": [
            "\r100%|█████████▉| 216/217 [54:36<00:15, 15.06s/it]"
          ]
        },
        {
          "name": "stdout",
          "output_type": "stream",
          "text": [
            "=> Retrieved 1 docs\n"
          ]
        },
        {
          "name": "stderr",
          "output_type": "stream",
          "text": [
            "100%|██████████| 217/217 [54:50<00:00, 15.17s/it]\n"
          ]
        }
      ],
      "source": [
        "ragas_input_ds = assemble_ragas_dataset(df)"
      ]
    },
    {
      "cell_type": "code",
      "execution_count": 50,
      "metadata": {
        "colab": {
          "base_uri": "https://localhost:8080/"
        },
        "execution": {
          "iopub.execute_input": "2024-08-16T16:12:39.635258Z",
          "iopub.status.busy": "2024-08-16T16:12:39.634389Z",
          "iopub.status.idle": "2024-08-16T16:12:39.649277Z",
          "shell.execute_reply": "2024-08-16T16:12:39.648312Z",
          "shell.execute_reply.started": "2024-08-16T16:12:39.635224Z"
        },
        "id": "AxVEyrGXVrbp",
        "outputId": "2e9fdc08-49b8-4099-ba4e-58721c2a6869",
        "trusted": true
      },
      "outputs": [
        {
          "name": "stdout",
          "output_type": "stream",
          "text": [
            "Dataset has been successfully saved to ragas_dataset.json\n",
            "Dataset has been successfully saved to ragas_dataset2.json\n"
          ]
        }
      ],
      "source": [
        "import json\n",
        "\n",
        "# Specify the output file path\n",
        "output_file = 'ragas_dataset.json'\n",
        "output_file2 = 'ragas_dataset2.json'\n",
        "\n",
        "# Open the file in write mode\n",
        "# Initialize a list to hold the dataset entries\n",
        "dataset_list = []\n",
        "dataset_list2 = []\n",
        "\n",
        "# Iterate over the dataset rows\n",
        "for row in ragas_input_ds:\n",
        "    # Extract the question, contexts, answer, and ground truth from the row\n",
        "    entry = {\n",
        "        \"question\": row['question'],\n",
        "        \"contexts\": row['contexts'],  # This is a list of contexts\n",
        "        \"answer\": row['answer'],\n",
        "        \"ground_truth\": row['ground_truth']\n",
        "    }\n",
        "\n",
        "    # Append the entry to the list\n",
        "    dataset_list.append(entry)\n",
        "\n",
        "# Write the list of entries to a JSON file\n",
        "with open(output_file, 'w', encoding='utf-8') as file:\n",
        "    json.dump(dataset_list, file, indent=4, ensure_ascii=False)\n",
        "\n",
        "print(f\"Dataset has been successfully saved to {output_file}\")\n",
        "\n",
        "with open(output_file2, 'w', encoding='utf-8') as file:\n",
        "    # Iterate over the dataset rows\n",
        "    for row in ragas_input_ds:\n",
        "    # Extract the question, contexts, answer, and ground truth from the row\n",
        "        entry = {\n",
        "            \"question\": row['question'],\n",
        "            \"answer\": row['answer'],\n",
        "            \"ground_truth\": row['ground_truth']\n",
        "        }\n",
        "\n",
        "        # Append the entry to the list\n",
        "        dataset_list2.append(entry)\n",
        "\n",
        "# Write the list of entries to a JSON file\n",
        "with open(output_file2, 'w', encoding='utf-8') as file:\n",
        "    json.dump(dataset_list2, file, indent=4, ensure_ascii=False)\n",
        "\n",
        "print(f\"Dataset has been successfully saved to {output_file2}\")"
      ]
    },
    {
      "cell_type": "code",
      "execution_count": 51,
      "metadata": {
        "colab": {
          "base_uri": "https://localhost:8080/"
        },
        "execution": {
          "iopub.execute_input": "2024-08-16T15:32:14.154255Z",
          "iopub.status.busy": "2024-08-16T15:32:14.153557Z",
          "iopub.status.idle": "2024-08-16T15:32:14.160210Z",
          "shell.execute_reply": "2024-08-16T15:32:14.159199Z",
          "shell.execute_reply.started": "2024-08-16T15:32:14.154223Z"
        },
        "id": "DShbZNe_Vrbp",
        "outputId": "a33cc723-d867-4f55-f709-93db5d4454c9",
        "trusted": true
      },
      "outputs": [
        {
          "data": {
            "text/plain": [
              "Dataset({\n",
              "    features: ['question', 'contexts', 'answer', 'ground_truth'],\n",
              "    num_rows: 217\n",
              "})"
            ]
          },
          "execution_count": 51,
          "metadata": {},
          "output_type": "execute_result"
        }
      ],
      "source": [
        "ragas_input_ds"
      ]
    },
    {
      "cell_type": "code",
      "execution_count": 52,
      "metadata": {
        "execution": {
          "iopub.execute_input": "2024-08-16T15:32:15.189015Z",
          "iopub.status.busy": "2024-08-16T15:32:15.188631Z",
          "iopub.status.idle": "2024-08-16T15:32:15.193690Z",
          "shell.execute_reply": "2024-08-16T15:32:15.192563Z",
          "shell.execute_reply.started": "2024-08-16T15:32:15.188984Z"
        },
        "id": "WmuaKdHtVrbq",
        "trusted": true
      },
      "outputs": [],
      "source": [
        "import os\n"
      ]
    },
    {
      "cell_type": "code",
      "execution_count": null,
      "metadata": {
        "colab": {
          "base_uri": "https://localhost:8080/",
          "height": 1000,
          "referenced_widgets": [
            "06c0da0f47ee4699a5250968e94406e5",
            "3d60d66a84734f828e1434d8163d7458",
            "88eb7266645c486db9e023d9004c0428",
            "c58dbcc66c0b4dbbb432b657e7e4b237",
            "132a71ebc4034acfbda37a49ab625ac4",
            "a5939beac0624ddba76aa4b4e48af2bc",
            "cbd372902d044f7dbc81fc6d3303b58b",
            "6072edc04b3a45fcad8afc726d78f9fe",
            "35505693aa3d403a8e132db8b388e56d",
            "69181b0f0dfa4e1592426406b54638d2",
            "c8c627ef40fb4205b0d288663d75a40b"
          ]
        },
        "execution": {
          "iopub.execute_input": "2024-08-16T16:03:35.837142Z",
          "iopub.status.busy": "2024-08-16T16:03:35.836732Z",
          "iopub.status.idle": "2024-08-16T16:05:17.134217Z",
          "shell.execute_reply": "2024-08-16T16:05:17.133236Z",
          "shell.execute_reply.started": "2024-08-16T16:03:35.837113Z"
        },
        "id": "MeWuqZdvVrbq",
        "outputId": "03b95dc7-6901-4aed-f006-6d45b3625615",
        "trusted": true
      },
      "outputs": [
        {
          "data": {
            "application/vnd.jupyter.widget-view+json": {
              "model_id": "06c0da0f47ee4699a5250968e94406e5",
              "version_major": 2,
              "version_minor": 0
            },
            "text/plain": [
              "Evaluating:   0%|          | 0/1085 [00:00<?, ?it/s]"
            ]
          },
          "metadata": {},
          "output_type": "display_data"
        },
        {
          "name": "stderr",
          "output_type": "stream",
          "text": [
            "ERROR:ragas.executor:Exception raised in Job[174]: RateLimitError(Error code: 429 - {'error': {'message': 'Rate limit reached for gpt-4o-mini in organization org-YLs5lrVWnJuzLrj3LSIS8Spq on tokens per min (TPM): Limit 200000, Used 199562, Requested 1449. Please try again in 303ms. Visit https://platform.openai.com/account/rate-limits to learn more.', 'type': 'tokens', 'param': None, 'code': 'rate_limit_exceeded'}})\n",
            "ERROR:ragas.executor:Exception raised in Job[898]: RateLimitError(Error code: 429 - {'error': {'message': 'Rate limit reached for gpt-4o-mini in organization org-YLs5lrVWnJuzLrj3LSIS8Spq on tokens per min (TPM): Limit 200000, Used 199035, Requested 1380. Please try again in 124ms. Visit https://platform.openai.com/account/rate-limits to learn more.', 'type': 'tokens', 'param': None, 'code': 'rate_limit_exceeded'}})\n",
            "ERROR:ragas.executor:Exception raised in Job[899]: RateLimitError(Error code: 429 - {'error': {'message': 'Rate limit reached for gpt-4o-mini in organization org-YLs5lrVWnJuzLrj3LSIS8Spq on tokens per min (TPM): Limit 200000, Used 199774, Requested 1456. Please try again in 369ms. Visit https://platform.openai.com/account/rate-limits to learn more.', 'type': 'tokens', 'param': None, 'code': 'rate_limit_exceeded'}})\n",
            "ERROR:ragas.executor:Exception raised in Job[895]: RateLimitError(Error code: 429 - {'error': {'message': 'Rate limit reached for gpt-4o-mini in organization org-YLs5lrVWnJuzLrj3LSIS8Spq on tokens per min (TPM): Limit 200000, Used 199460, Requested 1380. Please try again in 251ms. Visit https://platform.openai.com/account/rate-limits to learn more.', 'type': 'tokens', 'param': None, 'code': 'rate_limit_exceeded'}})\n",
            "ERROR:ragas.executor:Exception raised in Job[608]: RateLimitError(Error code: 429 - {'error': {'message': 'Rate limit reached for gpt-4o-mini in organization org-YLs5lrVWnJuzLrj3LSIS8Spq on tokens per min (TPM): Limit 200000, Used 199502, Requested 1358. Please try again in 258ms. Visit https://platform.openai.com/account/rate-limits to learn more.', 'type': 'tokens', 'param': None, 'code': 'rate_limit_exceeded'}})\n",
            "ERROR:ragas.executor:Exception raised in Job[170]: RateLimitError(Error code: 429 - {'error': {'message': 'Rate limit reached for gpt-4o-mini in organization org-YLs5lrVWnJuzLrj3LSIS8Spq on tokens per min (TPM): Limit 200000, Used 199575, Requested 1367. Please try again in 282ms. Visit https://platform.openai.com/account/rate-limits to learn more.', 'type': 'tokens', 'param': None, 'code': 'rate_limit_exceeded'}})\n",
            "ERROR:ragas.executor:Exception raised in Job[175]: RateLimitError(Error code: 429 - {'error': {'message': 'Rate limit reached for gpt-4o-mini in organization org-YLs5lrVWnJuzLrj3LSIS8Spq on tokens per min (TPM): Limit 200000, Used 199393, Requested 1394. Please try again in 236ms. Visit https://platform.openai.com/account/rate-limits to learn more.', 'type': 'tokens', 'param': None, 'code': 'rate_limit_exceeded'}})\n",
            "ERROR:ragas.executor:Exception raised in Job[605]: TimeoutError()\n",
            "ERROR:ragas.executor:Exception raised in Job[171]: TimeoutError()\n",
            "ERROR:ragas.executor:Exception raised in Job[896]: TimeoutError()\n",
            "ERROR:ragas.executor:Exception raised in Job[897]: TimeoutError()\n",
            "ERROR:ragas.executor:Exception raised in Job[606]: TimeoutError()\n",
            "ERROR:ragas.executor:Exception raised in Job[607]: TimeoutError()\n",
            "ERROR:ragas.executor:Exception raised in Job[178]: InternalServerError(<html>\n",
            "<head><title>500 Internal Server Error</title></head>\n",
            "<body>\n",
            "<center><h1>500 Internal Server Error</h1></center>\n",
            "<hr><center>nginx</center>\n",
            "</body>\n",
            "</html>)\n",
            "ERROR:ragas.executor:Exception raised in Job[900]: RateLimitError(Error code: 429 - {'error': {'message': 'Rate limit reached for gpt-4o-mini in organization org-YLs5lrVWnJuzLrj3LSIS8Spq on tokens per min (TPM): Limit 200000, Used 199392, Requested 1390. Please try again in 234ms. Visit https://platform.openai.com/account/rate-limits to learn more.', 'type': 'tokens', 'param': None, 'code': 'rate_limit_exceeded'}})\n",
            "ERROR:ragas.executor:Exception raised in Job[904]: RateLimitError(Error code: 429 - {'error': {'message': 'Rate limit reached for gpt-4o-mini in organization org-YLs5lrVWnJuzLrj3LSIS8Spq on tokens per min (TPM): Limit 200000, Used 199299, Requested 1437. Please try again in 220ms. Visit https://platform.openai.com/account/rate-limits to learn more.', 'type': 'tokens', 'param': None, 'code': 'rate_limit_exceeded'}})\n",
            "ERROR:ragas.executor:Exception raised in Job[176]: TimeoutError()\n",
            "ERROR:ragas.executor:Exception raised in Job[901]: RateLimitError(Error code: 429 - {'error': {'message': 'Rate limit reached for gpt-4o-mini in organization org-YLs5lrVWnJuzLrj3LSIS8Spq on tokens per min (TPM): Limit 200000, Used 199758, Requested 1094. Please try again in 255ms. Visit https://platform.openai.com/account/rate-limits to learn more.', 'type': 'tokens', 'param': None, 'code': 'rate_limit_exceeded'}})\n",
            "ERROR:ragas.executor:Exception raised in Job[611]: TimeoutError()\n",
            "ERROR:ragas.executor:Exception raised in Job[612]: TimeoutError()\n",
            "ERROR:ragas.executor:Exception raised in Job[179]: RateLimitError(Error code: 429 - {'error': {'message': 'Rate limit reached for gpt-4o-mini in organization org-YLs5lrVWnJuzLrj3LSIS8Spq on tokens per min (TPM): Limit 200000, Used 199415, Requested 1477. Please try again in 267ms. Visit https://platform.openai.com/account/rate-limits to learn more.', 'type': 'tokens', 'param': None, 'code': 'rate_limit_exceeded'}})\n",
            "ERROR:ragas.executor:Exception raised in Job[902]: TimeoutError()\n",
            "ERROR:ragas.executor:Exception raised in Job[614]: RateLimitError(Error code: 429 - {'error': {'message': 'Rate limit reached for gpt-4o-mini in organization org-YLs5lrVWnJuzLrj3LSIS8Spq on requests per day (RPD): Limit 10000, Used 10000, Requested 1. Please try again in 8.64s. Visit https://platform.openai.com/account/rate-limits to learn more.', 'type': 'requests', 'param': None, 'code': 'rate_limit_exceeded'}})\n",
            "ERROR:ragas.executor:Exception raised in Job[905]: RateLimitError(Error code: 429 - {'error': {'message': 'Rate limit reached for gpt-4o-mini in organization org-YLs5lrVWnJuzLrj3LSIS8Spq on tokens per min (TPM): Limit 200000, Used 199075, Requested 1362. Please try again in 131ms. Visit https://platform.openai.com/account/rate-limits to learn more.', 'type': 'tokens', 'param': None, 'code': 'rate_limit_exceeded'}})\n",
            "ERROR:ragas.executor:Exception raised in Job[903]: RateLimitError(Error code: 429 - {'error': {'message': 'Rate limit reached for gpt-4o-mini in organization org-YLs5lrVWnJuzLrj3LSIS8Spq on tokens per min (TPM): Limit 200000, Used 199142, Requested 1390. Please try again in 159ms. Visit https://platform.openai.com/account/rate-limits to learn more.', 'type': 'tokens', 'param': None, 'code': 'rate_limit_exceeded'}})\n",
            "ERROR:ragas.executor:Exception raised in Job[613]: TimeoutError()\n",
            "ERROR:ragas.executor:Exception raised in Job[180]: TimeoutError()\n",
            "ERROR:ragas.executor:Exception raised in Job[615]: TimeoutError()\n",
            "ERROR:ragas.executor:Exception raised in Job[181]: TimeoutError()\n",
            "ERROR:ragas.executor:Exception raised in Job[616]: TimeoutError()\n",
            "ERROR:ragas.executor:Exception raised in Job[183]: RateLimitError(Error code: 429 - {'error': {'message': 'Rate limit reached for gpt-4o-mini in organization org-YLs5lrVWnJuzLrj3LSIS8Spq on requests per day (RPD): Limit 10000, Used 10000, Requested 1. Please try again in 8.64s. Visit https://platform.openai.com/account/rate-limits to learn more.', 'type': 'requests', 'param': None, 'code': 'rate_limit_exceeded'}})\n",
            "ERROR:ragas.executor:Exception raised in Job[906]: TimeoutError()\n",
            "ERROR:ragas.executor:Exception raised in Job[617]: TimeoutError()\n",
            "ERROR:ragas.executor:Exception raised in Job[618]: TimeoutError()\n",
            "ERROR:ragas.executor:Exception raised in Job[620]: RateLimitError(Error code: 429 - {'error': {'message': 'Rate limit reached for gpt-4o-mini in organization org-YLs5lrVWnJuzLrj3LSIS8Spq on tokens per min (TPM): Limit 200000, Used 199365, Requested 1362. Please try again in 218ms. Visit https://platform.openai.com/account/rate-limits to learn more.', 'type': 'tokens', 'param': None, 'code': 'rate_limit_exceeded'}})\n",
            "ERROR:ragas.executor:Exception raised in Job[184]: TimeoutError()\n",
            "ERROR:ragas.executor:Exception raised in Job[909]: TimeoutError()\n",
            "ERROR:ragas.executor:Exception raised in Job[185]: TimeoutError()\n",
            "ERROR:ragas.executor:Exception raised in Job[186]: RateLimitError(Error code: 429 - {'error': {'message': 'Rate limit reached for gpt-4o-mini in organization org-YLs5lrVWnJuzLrj3LSIS8Spq on requests per day (RPD): Limit 10000, Used 10000, Requested 1. Please try again in 8.64s. Visit https://platform.openai.com/account/rate-limits to learn more.', 'type': 'requests', 'param': None, 'code': 'rate_limit_exceeded'}})\n",
            "ERROR:ragas.executor:Exception raised in Job[621]: TimeoutError()\n",
            "ERROR:ragas.executor:Exception raised in Job[911]: TimeoutError()\n",
            "ERROR:ragas.executor:Exception raised in Job[187]: TimeoutError()\n",
            "ERROR:ragas.executor:Exception raised in Job[188]: RateLimitError(Error code: 429 - {'error': {'message': 'Rate limit reached for gpt-4o-mini in organization org-YLs5lrVWnJuzLrj3LSIS8Spq on tokens per min (TPM): Limit 200000, Used 199029, Requested 1371. Please try again in 120ms. Visit https://platform.openai.com/account/rate-limits to learn more.', 'type': 'tokens', 'param': None, 'code': 'rate_limit_exceeded'}})\n",
            "ERROR:ragas.executor:Exception raised in Job[912]: TimeoutError()\n",
            "ERROR:ragas.executor:Exception raised in Job[915]: RateLimitError(Error code: 429 - {'error': {'message': 'Rate limit reached for gpt-4o-mini in organization org-YLs5lrVWnJuzLrj3LSIS8Spq on requests per day (RPD): Limit 10000, Used 10000, Requested 1. Please try again in 8.64s. Visit https://platform.openai.com/account/rate-limits to learn more.', 'type': 'requests', 'param': None, 'code': 'rate_limit_exceeded'}})\n",
            "ERROR:ragas.executor:Exception raised in Job[623]: TimeoutError()\n",
            "ERROR:ragas.executor:Exception raised in Job[913]: TimeoutError()\n",
            "ERROR:ragas.executor:Exception raised in Job[189]: TimeoutError()\n",
            "ERROR:ragas.executor:Exception raised in Job[190]: RateLimitError(Error code: 429 - {'error': {'message': 'Rate limit reached for gpt-4o-mini in organization org-YLs5lrVWnJuzLrj3LSIS8Spq on tokens per min (TPM): Limit 200000, Used 198963, Requested 1396. Please try again in 107ms. Visit https://platform.openai.com/account/rate-limits to learn more.', 'type': 'tokens', 'param': None, 'code': 'rate_limit_exceeded'}})\n",
            "ERROR:ragas.executor:Exception raised in Job[624]: TimeoutError()\n",
            "ERROR:ragas.executor:Exception raised in Job[625]: TimeoutError()\n",
            "ERROR:ragas.executor:Exception raised in Job[918]: RateLimitError(Error code: 429 - {'error': {'message': 'Rate limit reached for gpt-4o-mini in organization org-YLs5lrVWnJuzLrj3LSIS8Spq on tokens per min (TPM): Limit 200000, Used 199224, Requested 1399. Please try again in 186ms. Visit https://platform.openai.com/account/rate-limits to learn more.', 'type': 'tokens', 'param': None, 'code': 'rate_limit_exceeded'}})\n",
            "ERROR:ragas.executor:Exception raised in Job[191]: TimeoutError()\n",
            "ERROR:ragas.executor:Exception raised in Job[626]: TimeoutError()\n",
            "ERROR:ragas.executor:Exception raised in Job[916]: TimeoutError()\n",
            "ERROR:ragas.executor:Exception raised in Job[628]: RateLimitError(Error code: 429 - {'error': {'message': 'Rate limit reached for gpt-4o-mini in organization org-YLs5lrVWnJuzLrj3LSIS8Spq on tokens per min (TPM): Limit 200000, Used 199243, Requested 1361. Please try again in 181ms. Visit https://platform.openai.com/account/rate-limits to learn more.', 'type': 'tokens', 'param': None, 'code': 'rate_limit_exceeded'}})\n",
            "ERROR:ragas.executor:Exception raised in Job[192]: TimeoutError()\n",
            "ERROR:ragas.executor:Exception raised in Job[919]: RateLimitError(Error code: 429 - {'error': {'message': 'Rate limit reached for gpt-4o-mini in organization org-YLs5lrVWnJuzLrj3LSIS8Spq on tokens per min (TPM): Limit 200000, Used 199386, Requested 1505. Please try again in 267ms. Visit https://platform.openai.com/account/rate-limits to learn more.', 'type': 'tokens', 'param': None, 'code': 'rate_limit_exceeded'}})\n",
            "ERROR:ragas.executor:Exception raised in Job[195]: RateLimitError(Error code: 429 - {'error': {'message': 'Rate limit reached for gpt-4o-mini in organization org-YLs5lrVWnJuzLrj3LSIS8Spq on tokens per min (TPM): Limit 200000, Used 199543, Requested 1395. Please try again in 281ms. Visit https://platform.openai.com/account/rate-limits to learn more.', 'type': 'tokens', 'param': None, 'code': 'rate_limit_exceeded'}})\n",
            "ERROR:ragas.executor:Exception raised in Job[630]: RateLimitError(Error code: 429 - {'error': {'message': 'Rate limit reached for gpt-4o-mini in organization org-YLs5lrVWnJuzLrj3LSIS8Spq on requests per day (RPD): Limit 10000, Used 10000, Requested 1. Please try again in 8.64s. Visit https://platform.openai.com/account/rate-limits to learn more.', 'type': 'requests', 'param': None, 'code': 'rate_limit_exceeded'}})\n",
            "ERROR:ragas.executor:Exception raised in Job[194]: TimeoutError()\n",
            "ERROR:ragas.executor:Exception raised in Job[629]: TimeoutError()\n",
            "ERROR:ragas.executor:Exception raised in Job[921]: RateLimitError(Error code: 429 - {'error': {'message': 'Rate limit reached for gpt-4o-mini in organization org-YLs5lrVWnJuzLrj3LSIS8Spq on requests per day (RPD): Limit 10000, Used 10000, Requested 1. Please try again in 8.64s. Visit https://platform.openai.com/account/rate-limits to learn more.', 'type': 'requests', 'param': None, 'code': 'rate_limit_exceeded'}})\n",
            "ERROR:ragas.executor:Exception raised in Job[198]: RateLimitError(Error code: 429 - {'error': {'message': 'Rate limit reached for gpt-4o-mini in organization org-YLs5lrVWnJuzLrj3LSIS8Spq on requests per day (RPD): Limit 10000, Used 10000, Requested 1. Please try again in 8.64s. Visit https://platform.openai.com/account/rate-limits to learn more.', 'type': 'requests', 'param': None, 'code': 'rate_limit_exceeded'}})\n",
            "ERROR:ragas.executor:Exception raised in Job[920]: RateLimitError(Error code: 429 - {'error': {'message': 'Rate limit reached for gpt-4o-mini in organization org-YLs5lrVWnJuzLrj3LSIS8Spq on tokens per min (TPM): Limit 200000, Used 199460, Requested 1443. Please try again in 270ms. Visit https://platform.openai.com/account/rate-limits to learn more.', 'type': 'tokens', 'param': None, 'code': 'rate_limit_exceeded'}})\n",
            "ERROR:ragas.executor:Exception raised in Job[922]: RateLimitError(Error code: 429 - {'error': {'message': 'Rate limit reached for gpt-4o-mini in organization org-YLs5lrVWnJuzLrj3LSIS8Spq on tokens per min (TPM): Limit 200000, Used 199141, Requested 1514. Please try again in 196ms. Visit https://platform.openai.com/account/rate-limits to learn more.', 'type': 'tokens', 'param': None, 'code': 'rate_limit_exceeded'}})\n",
            "ERROR:ragas.executor:Exception raised in Job[196]: TimeoutError()\n",
            "ERROR:ragas.executor:Exception raised in Job[631]: TimeoutError()\n",
            "ERROR:ragas.executor:Exception raised in Job[923]: RateLimitError(Error code: 429 - {'error': {'message': 'Rate limit reached for gpt-4o-mini in organization org-YLs5lrVWnJuzLrj3LSIS8Spq on tokens per min (TPM): Limit 200000, Used 199419, Requested 1443. Please try again in 258ms. Visit https://platform.openai.com/account/rate-limits to learn more.', 'type': 'tokens', 'param': None, 'code': 'rate_limit_exceeded'}})\n",
            "ERROR:ragas.executor:Exception raised in Job[197]: TimeoutError()\n",
            "ERROR:ragas.executor:Exception raised in Job[632]: TimeoutError()\n",
            "ERROR:ragas.executor:Exception raised in Job[199]: RateLimitError(Error code: 429 - {'error': {'message': 'Rate limit reached for gpt-4o-mini in organization org-YLs5lrVWnJuzLrj3LSIS8Spq on tokens per min (TPM): Limit 200000, Used 199575, Requested 1454. Please try again in 308ms. Visit https://platform.openai.com/account/rate-limits to learn more.', 'type': 'tokens', 'param': None, 'code': 'rate_limit_exceeded'}})\n",
            "ERROR:ragas.executor:Exception raised in Job[924]: RateLimitError(Error code: 429 - {'error': {'message': 'Rate limit reached for gpt-4o-mini in organization org-YLs5lrVWnJuzLrj3LSIS8Spq on tokens per min (TPM): Limit 200000, Used 198608, Requested 2030. Please try again in 191ms. Visit https://platform.openai.com/account/rate-limits to learn more.', 'type': 'tokens', 'param': None, 'code': 'rate_limit_exceeded'}})\n",
            "ERROR:ragas.executor:Exception raised in Job[200]: RateLimitError(Error code: 429 - {'error': {'message': 'Rate limit reached for gpt-4o-mini in organization org-YLs5lrVWnJuzLrj3LSIS8Spq on tokens per min (TPM): Limit 200000, Used 199083, Requested 1369. Please try again in 135ms. Visit https://platform.openai.com/account/rate-limits to learn more.', 'type': 'tokens', 'param': None, 'code': 'rate_limit_exceeded'}})\n",
            "ERROR:ragas.executor:Exception raised in Job[204]: RateLimitError(Error code: 429 - {'error': {'message': 'Rate limit reached for gpt-4o-mini in organization org-YLs5lrVWnJuzLrj3LSIS8Spq on requests per day (RPD): Limit 10000, Used 10000, Requested 1. Please try again in 8.64s. Visit https://platform.openai.com/account/rate-limits to learn more.', 'type': 'requests', 'param': None, 'code': 'rate_limit_exceeded'}})\n",
            "ERROR:ragas.executor:Exception raised in Job[635]: TimeoutError()\n",
            "ERROR:ragas.executor:Exception raised in Job[201]: TimeoutError()\n",
            "ERROR:ragas.executor:Exception raised in Job[636]: TimeoutError()\n",
            "ERROR:ragas.executor:Exception raised in Job[638]: RateLimitError(Error code: 429 - {'error': {'message': 'Rate limit reached for gpt-4o-mini in organization org-YLs5lrVWnJuzLrj3LSIS8Spq on tokens per min (TPM): Limit 200000, Used 199192, Requested 1365. Please try again in 167ms. Visit https://platform.openai.com/account/rate-limits to learn more.', 'type': 'tokens', 'param': None, 'code': 'rate_limit_exceeded'}})\n",
            "ERROR:ragas.executor:Exception raised in Job[928]: RateLimitError(Error code: 429 - {'error': {'message': 'Rate limit reached for gpt-4o-mini in organization org-YLs5lrVWnJuzLrj3LSIS8Spq on tokens per min (TPM): Limit 200000, Used 199664, Requested 1382. Please try again in 313ms. Visit https://platform.openai.com/account/rate-limits to learn more.', 'type': 'tokens', 'param': None, 'code': 'rate_limit_exceeded'}})\n",
            "ERROR:ragas.executor:Exception raised in Job[926]: TimeoutError()\n",
            "ERROR:ragas.executor:Exception raised in Job[929]: RateLimitError(Error code: 429 - {'error': {'message': 'Rate limit reached for gpt-4o-mini in organization org-YLs5lrVWnJuzLrj3LSIS8Spq on tokens per min (TPM): Limit 200000, Used 199684, Requested 1442. Please try again in 337ms. Visit https://platform.openai.com/account/rate-limits to learn more.', 'type': 'tokens', 'param': None, 'code': 'rate_limit_exceeded'}})\n",
            "ERROR:ragas.executor:Exception raised in Job[927]: TimeoutError()\n",
            "ERROR:ragas.executor:Exception raised in Job[639]: RateLimitError(Error code: 429 - {'error': {'message': 'Rate limit reached for gpt-4o-mini in organization org-YLs5lrVWnJuzLrj3LSIS8Spq on tokens per min (TPM): Limit 200000, Used 199423, Requested 1433. Please try again in 256ms. Visit https://platform.openai.com/account/rate-limits to learn more.', 'type': 'tokens', 'param': None, 'code': 'rate_limit_exceeded'}})\n",
            "ERROR:ragas.executor:Exception raised in Job[205]: RateLimitError(Error code: 429 - {'error': {'message': 'Rate limit reached for gpt-4o-mini in organization org-YLs5lrVWnJuzLrj3LSIS8Spq on tokens per min (TPM): Limit 200000, Used 199156, Requested 1368. Please try again in 157ms. Visit https://platform.openai.com/account/rate-limits to learn more.', 'type': 'tokens', 'param': None, 'code': 'rate_limit_exceeded'}})\n",
            "ERROR:ragas.executor:Exception raised in Job[203]: TimeoutError()\n",
            "ERROR:ragas.executor:Exception raised in Job[930]: RateLimitError(Error code: 429 - {'error': {'message': 'Rate limit reached for gpt-4o-mini in organization org-YLs5lrVWnJuzLrj3LSIS8Spq on tokens per min (TPM): Limit 200000, Used 199571, Requested 1377. Please try again in 284ms. Visit https://platform.openai.com/account/rate-limits to learn more.', 'type': 'tokens', 'param': None, 'code': 'rate_limit_exceeded'}})\n",
            "ERROR:ragas.executor:Exception raised in Job[644]: RateLimitError(Error code: 429 - {'error': {'message': 'Rate limit reached for gpt-4o-mini in organization org-YLs5lrVWnJuzLrj3LSIS8Spq on tokens per min (TPM): Limit 200000, Used 199490, Requested 1453. Please try again in 282ms. Visit https://platform.openai.com/account/rate-limits to learn more.', 'type': 'tokens', 'param': None, 'code': 'rate_limit_exceeded'}})\n",
            "ERROR:ragas.executor:Exception raised in Job[933]: RateLimitError(Error code: 429 - {'error': {'message': 'Rate limit reached for gpt-4o-mini in organization org-YLs5lrVWnJuzLrj3LSIS8Spq on tokens per min (TPM): Limit 200000, Used 199876, Requested 1377. Please try again in 375ms. Visit https://platform.openai.com/account/rate-limits to learn more.', 'type': 'tokens', 'param': None, 'code': 'rate_limit_exceeded'}})\n",
            "ERROR:ragas.executor:Exception raised in Job[641]: RateLimitError(Error code: 429 - {'error': {'message': 'Rate limit reached for gpt-4o-mini in organization org-YLs5lrVWnJuzLrj3LSIS8Spq on requests per min (RPM): Limit 500, Used 500, Requested 1. Please try again in 120ms. Visit https://platform.openai.com/account/rate-limits to learn more.', 'type': 'requests', 'param': None, 'code': 'rate_limit_exceeded'}})\n",
            "ERROR:ragas.executor:Exception raised in Job[640]: RateLimitError(Error code: 429 - {'error': {'message': 'Rate limit reached for gpt-4o-mini in organization org-YLs5lrVWnJuzLrj3LSIS8Spq on tokens per min (TPM): Limit 200000, Used 199527, Requested 1364. Please try again in 267ms. Visit https://platform.openai.com/account/rate-limits to learn more.', 'type': 'tokens', 'param': None, 'code': 'rate_limit_exceeded'}})\n",
            "ERROR:ragas.executor:Exception raised in Job[206]: TimeoutError()\n",
            "ERROR:ragas.executor:Exception raised in Job[643]: RateLimitError(Error code: 429 - {'error': {'message': 'Rate limit reached for gpt-4o-mini in organization org-YLs5lrVWnJuzLrj3LSIS8Spq on tokens per min (TPM): Limit 200000, Used 199955, Requested 1364. Please try again in 395ms. Visit https://platform.openai.com/account/rate-limits to learn more.', 'type': 'tokens', 'param': None, 'code': 'rate_limit_exceeded'}})\n",
            "ERROR:ragas.executor:Exception raised in Job[931]: TimeoutError()\n",
            "ERROR:ragas.executor:Exception raised in Job[209]: RateLimitError(Error code: 429 - {'error': {'message': 'Rate limit reached for gpt-4o-mini in organization org-YLs5lrVWnJuzLrj3LSIS8Spq on tokens per min (TPM): Limit 200000, Used 199257, Requested 1429. Please try again in 205ms. Visit https://platform.openai.com/account/rate-limits to learn more.', 'type': 'tokens', 'param': None, 'code': 'rate_limit_exceeded'}})\n",
            "ERROR:ragas.executor:Exception raised in Job[210]: RateLimitError(Error code: 429 - {'error': {'message': 'Rate limit reached for gpt-4o-mini in organization org-YLs5lrVWnJuzLrj3LSIS8Spq on tokens per min (TPM): Limit 200000, Used 199109, Requested 1362. Please try again in 141ms. Visit https://platform.openai.com/account/rate-limits to learn more.', 'type': 'tokens', 'param': None, 'code': 'rate_limit_exceeded'}})\n",
            "ERROR:ragas.executor:Exception raised in Job[934]: RateLimitError(Error code: 429 - {'error': {'message': 'Rate limit reached for gpt-4o-mini in organization org-YLs5lrVWnJuzLrj3LSIS8Spq on tokens per min (TPM): Limit 200000, Used 199324, Requested 1459. Please try again in 234ms. Visit https://platform.openai.com/account/rate-limits to learn more.', 'type': 'tokens', 'param': None, 'code': 'rate_limit_exceeded'}})\n",
            "ERROR:ragas.executor:Exception raised in Job[642]: RateLimitError(Error code: 429 - {'error': {'message': 'Rate limit reached for gpt-4o-mini in organization org-YLs5lrVWnJuzLrj3LSIS8Spq on tokens per min (TPM): Limit 200000, Used 199492, Requested 1002. Please try again in 148ms. Visit https://platform.openai.com/account/rate-limits to learn more.', 'type': 'tokens', 'param': None, 'code': 'rate_limit_exceeded'}})\n",
            "ERROR:ragas.executor:Exception raised in Job[932]: RateLimitError(Error code: 429 - {'error': {'message': 'Rate limit reached for gpt-4o-mini in organization org-YLs5lrVWnJuzLrj3LSIS8Spq on requests per day (RPD): Limit 10000, Used 10000, Requested 1. Please try again in 8.64s. Visit https://platform.openai.com/account/rate-limits to learn more.', 'type': 'requests', 'param': None, 'code': 'rate_limit_exceeded'}})\n",
            "ERROR:ragas.executor:Exception raised in Job[645]: RateLimitError(Error code: 429 - {'error': {'message': 'Rate limit reached for gpt-4o-mini in organization org-YLs5lrVWnJuzLrj3LSIS8Spq on tokens per min (TPM): Limit 200000, Used 199049, Requested 1396. Please try again in 133ms. Visit https://platform.openai.com/account/rate-limits to learn more.', 'type': 'tokens', 'param': None, 'code': 'rate_limit_exceeded'}})\n",
            "ERROR:ragas.executor:Exception raised in Job[935]: TimeoutError()\n",
            "ERROR:ragas.executor:Exception raised in Job[211]: TimeoutError()\n",
            "ERROR:ragas.executor:Exception raised in Job[214]: RateLimitError(Error code: 429 - {'error': {'message': 'Rate limit reached for gpt-4o-mini in organization org-YLs5lrVWnJuzLrj3LSIS8Spq on tokens per min (TPM): Limit 200000, Used 199185, Requested 1432. Please try again in 185ms. Visit https://platform.openai.com/account/rate-limits to learn more.', 'type': 'tokens', 'param': None, 'code': 'rate_limit_exceeded'}})\n",
            "ERROR:ragas.executor:Exception raised in Job[646]: TimeoutError()\n",
            "ERROR:ragas.executor:Exception raised in Job[939]: RateLimitError(Error code: 429 - {'error': {'message': 'Rate limit reached for gpt-4o-mini in organization org-YLs5lrVWnJuzLrj3LSIS8Spq on tokens per min (TPM): Limit 200000, Used 199385, Requested 1449. Please try again in 250ms. Visit https://platform.openai.com/account/rate-limits to learn more.', 'type': 'tokens', 'param': None, 'code': 'rate_limit_exceeded'}})\n",
            "ERROR:ragas.executor:Exception raised in Job[936]: TimeoutError()\n",
            "ERROR:ragas.executor:Exception raised in Job[213]: RateLimitError(Error code: 429 - {'error': {'message': 'Rate limit reached for gpt-4o-mini in organization org-YLs5lrVWnJuzLrj3LSIS8Spq on tokens per min (TPM): Limit 200000, Used 199615, Requested 1362. Please try again in 293ms. Visit https://platform.openai.com/account/rate-limits to learn more.', 'type': 'tokens', 'param': None, 'code': 'rate_limit_exceeded'}})\n",
            "ERROR:ragas.executor:Exception raised in Job[647]: TimeoutError()\n",
            "ERROR:ragas.executor:Exception raised in Job[649]: RateLimitError(Error code: 429 - {'error': {'message': 'Rate limit reached for gpt-4o-mini in organization org-YLs5lrVWnJuzLrj3LSIS8Spq on tokens per min (TPM): Limit 200000, Used 199227, Requested 1473. Please try again in 210ms. Visit https://platform.openai.com/account/rate-limits to learn more.', 'type': 'tokens', 'param': None, 'code': 'rate_limit_exceeded'}})\n",
            "ERROR:ragas.executor:Exception raised in Job[648]: RateLimitError(Error code: 429 - {'error': {'message': 'Rate limit reached for gpt-4o-mini in organization org-YLs5lrVWnJuzLrj3LSIS8Spq on tokens per min (TPM): Limit 200000, Used 198704, Requested 1396. Please try again in 30ms. Visit https://platform.openai.com/account/rate-limits to learn more.', 'type': 'tokens', 'param': None, 'code': 'rate_limit_exceeded'}})\n",
            "ERROR:ragas.executor:Exception raised in Job[215]: RateLimitError(Error code: 429 - {'error': {'message': 'Rate limit reached for gpt-4o-mini in organization org-YLs5lrVWnJuzLrj3LSIS8Spq on tokens per min (TPM): Limit 200000, Used 199481, Requested 1367. Please try again in 254ms. Visit https://platform.openai.com/account/rate-limits to learn more.', 'type': 'tokens', 'param': None, 'code': 'rate_limit_exceeded'}})\n",
            "ERROR:ragas.executor:Exception raised in Job[940]: RateLimitError(Error code: 429 - {'error': {'message': 'Rate limit reached for gpt-4o-mini in organization org-YLs5lrVWnJuzLrj3LSIS8Spq on tokens per min (TPM): Limit 200000, Used 199620, Requested 1382. Please try again in 300ms. Visit https://platform.openai.com/account/rate-limits to learn more.', 'type': 'tokens', 'param': None, 'code': 'rate_limit_exceeded'}})\n",
            "ERROR:ragas.executor:Exception raised in Job[938]: TimeoutError()\n",
            "ERROR:ragas.executor:Exception raised in Job[650]: TimeoutError()\n",
            "ERROR:ragas.executor:Exception raised in Job[216]: TimeoutError()\n",
            "ERROR:ragas.executor:Exception raised in Job[219]: RateLimitError(Error code: 429 - {'error': {'message': 'Rate limit reached for gpt-4o-mini in organization org-YLs5lrVWnJuzLrj3LSIS8Spq on tokens per min (TPM): Limit 200000, Used 199478, Requested 1444. Please try again in 276ms. Visit https://platform.openai.com/account/rate-limits to learn more.', 'type': 'tokens', 'param': None, 'code': 'rate_limit_exceeded'}})\n",
            "ERROR:ragas.executor:Exception raised in Job[943]: RateLimitError(Error code: 429 - {'error': {'message': 'Rate limit reached for gpt-4o-mini in organization org-YLs5lrVWnJuzLrj3LSIS8Spq on tokens per min (TPM): Limit 200000, Used 199397, Requested 1382. Please try again in 233ms. Visit https://platform.openai.com/account/rate-limits to learn more.', 'type': 'tokens', 'param': None, 'code': 'rate_limit_exceeded'}})\n",
            "ERROR:ragas.executor:Exception raised in Job[653]: RateLimitError(Error code: 429 - {'error': {'message': 'Rate limit reached for gpt-4o-mini in organization org-YLs5lrVWnJuzLrj3LSIS8Spq on tokens per min (TPM): Limit 200000, Used 199440, Requested 1356. Please try again in 238ms. Visit https://platform.openai.com/account/rate-limits to learn more.', 'type': 'tokens', 'param': None, 'code': 'rate_limit_exceeded'}})\n",
            "ERROR:ragas.executor:Exception raised in Job[654]: RateLimitError(Error code: 429 - {'error': {'message': 'Rate limit reached for gpt-4o-mini in organization org-YLs5lrVWnJuzLrj3LSIS8Spq on tokens per min (TPM): Limit 200000, Used 199443, Requested 1460. Please try again in 270ms. Visit https://platform.openai.com/account/rate-limits to learn more.', 'type': 'tokens', 'param': None, 'code': 'rate_limit_exceeded'}})\n",
            "ERROR:ragas.executor:Exception raised in Job[651]: TimeoutError()\n",
            "ERROR:ragas.executor:Exception raised in Job[941]: RateLimitError(Error code: 429 - {'error': {'message': 'Rate limit reached for gpt-4o-mini in organization org-YLs5lrVWnJuzLrj3LSIS8Spq on requests per day (RPD): Limit 10000, Used 10000, Requested 1. Please try again in 8.64s. Visit https://platform.openai.com/account/rate-limits to learn more.', 'type': 'requests', 'param': None, 'code': 'rate_limit_exceeded'}})\n"
          ]
        }
      ],
      "source": [
        "import os\n",
        "import openai\n",
        "import pprint\n",
        "from openai import OpenAI\n",
        "from ragas import evaluate\n",
        "from ragas.metrics import context_precision, context_recall, faithfulness, answer_relevancy, summarization_score, context_precision, context_utilization, context_entity_recall\n",
        "from ragas.llms import llm_factory\n",
        "from langchain_openai.embeddings import OpenAIEmbeddings\n",
        "from ragas.embeddings import LangchainEmbeddingsWrapper\n",
        "from datasets import Dataset\n",
        "\n",
        "# Save the API key in an environment variable.\n",
        "openai_api_key = os.environ.get('OPENAI_API_KEY')\n",
        "\n",
        "# Choose the metrics you want to see.\n",
        "metrics = [context_precision, faithfulness, answer_relevancy,\n",
        "        context_precision, context_utilization]\n",
        "\n",
        "# Change the llm-as-critic to use a specific OpenAI model.\n",
        "LLM_NAME = \"gpt-4o-mini\"\n",
        "ragas_llm = llm_factory(model=LLM_NAME)\n",
        "\n",
        "# Use the OpenAI embeddings for context comparison.\n",
        "lc_embeddings = OpenAIEmbeddings(model=\"text-embedding-3-small\")\n",
        "ragas_emb = LangchainEmbeddingsWrapper(embeddings=lc_embeddings)\n",
        "\n",
        "# Assign the default models (LLM and embeddings) used for each metric.\n",
        "for metric in metrics:\n",
        "    metric.llm = ragas_llm\n",
        "    metric.embeddings = ragas_emb\n",
        "\n",
        "# Assuming the dataset has already been prepared using the 'assemble_ragas_dataset' function\n",
        "# ragas_input_ds = assemble_ragas_dataset(eval_df)  # `eval_df` is prepared from the scenario file\n",
        "\n",
        "# Evaluate the dataset directly\n",
        "ragas_result = evaluate(\n",
        "    ragas_input_ds,\n",
        "    metrics=metrics,\n",
        "    llm=ragas_llm,\n",
        ")\n",
        "\n",
        "# Convert the results to a Pandas DataFrame for viewing.\n",
        "ragas_output_df = ragas_result.to_pandas()\n",
        "print(ragas_output_df)"
      ]
    },
    {
      "cell_type": "code",
      "execution_count": null,
      "metadata": {
        "execution": {
          "iopub.execute_input": "2024-08-16T15:25:59.684992Z",
          "iopub.status.busy": "2024-08-16T15:25:59.684107Z",
          "iopub.status.idle": "2024-08-16T15:25:59.698164Z",
          "shell.execute_reply": "2024-08-16T15:25:59.697145Z",
          "shell.execute_reply.started": "2024-08-16T15:25:59.684959Z"
        },
        "id": "v1cqQEdpVrbq",
        "outputId": "9991885c-00da-4b33-b7fa-507b1717d13d",
        "trusted": true
      },
      "outputs": [
        {
          "name": "stdout",
          "output_type": "stream",
          "text": [
            "                                                                                                                                                                                   question  \\\n",
            "0  A 6-year-old girl has difficulty making eye contact and often repeats phrases she hears from her favorite TV show. She becomes extremely distressed when her daily routine is disrupted.   \n",
            "1                                                    An 8-year-old boy has limited interests, focusing only on trains. He struggles to interact with peers and prefers solitary activities.   \n",
            "2                                                      A 4-year-old child does not respond to their name and avoids physical contact. They engage in repetitive hand flapping when excited.   \n",
            "3                                                            A 7-year-old girl has significant delays in language development and prefers to play alone, often spinning objects repeatedly.   \n",
            "4                                                                    A 5-year-old boy has intense reactions to certain sounds and textures, leading to frequent meltdowns in public places.   \n",
            "5                                             A 10-year-old boy has difficulty staying seated in class and frequently interrupts others. He often forgets to complete homework assignments.   \n",
            "6                                                           An 8-year-old girl is easily distracted and often loses her school supplies. She has trouble following multi-step instructions.   \n",
            "7                                                                   A 12-year-old boy is constantly fidgeting and talks excessively. He struggles to wait his turn during group activities.   \n",
            "8                                       A 9-year-old girl has trouble focusing on reading assignments and often daydreams during lessons. Her grades are slipping despite her intelligence.   \n",
            "9                                              An 11-year-old boy is forgetful in daily activities, frequently misplacing his belongings and failing to meet deadlines for school projects.   \n",
            "\n",
            "                                                                                                                                                                                                                                                                                                                                                                                                                                                                                                                                                                                                                                                                                                                                                                                                                                                                                                                                                                                                                                                                                                                                                                                                                                                                                                                                                                                                                                                                                                                                                                                                                                                                                                                                                                                                                                                                                                                                                                                                                                                                                                                                                                                                                                                                                                                                                                                                                                                                                                                                                                                                                                                                                                                                                                                                                                                                                                                                                                                                                                                                                                                                                                                                                                                                                                                                                                                                                                                                                                                                         contexts  \\\n",
            "0                                                                                                                                                     [frequent and interfering, occurring on the most meaningful words or phrases in the utterance. As the child becomes aware of the speech difficulty, he or she may develop mechanisms for avoiding the dys fluencies and emotional responses, including avoidance of public speaking and use of short and simple utterances., been shown to exacerbate dysfluency. Childhood-onset fluency disorder may also be accompanied by motor movements (e.g., eye blinks, tics, tremors of the lips or face, jerking of the head, breathing movements, fist clenching). Children with fluency disorder show a range of language abilities, and the relationship, lack of social and communication abil ities may hamper learning, especially learning through social interaction or in settings with peers. In the home, insistence on routines and aversion to change, as well as sensory sensitivities, may interfere with eating and sleeping and make routine care (e.g., haircuts,, behavior and lack of reticence with un familiar adults in toddlerhood are accompanied by attention-seeking behaviors in pre schoolers. When the disorder persists into middle childhood, clinical features manifest as verbal and physical overfamiliarity as well as inauthentic expression of emotions. These signs appear particularly apparent when the, staring at them). Children with this disorder may be de scribed as demanding, intrusive, and in need of constant attention, and, as adults, may ap pear dependent and overprotective. The individual's excessive demands often become a source of frustration for family members, leading to resentment and conflict in, may have a persistent or shifting array of learning difficulties across the lifespan. Examples of symptoms that may be observed among preschool-age children include a lack of interest in playing games with language sounds (e.g., repetition, rhyming), and they may have trouble learning nursery rhymes. Preschool children with, ally resolves with age. Complex stereotypies are less common in typically developing children and can usually be suppressed by distraction or sensory stimulation. The indi vidual's daily routine is rarely affected, and the movements generally do not cause the child distress. The diagnosis would not be appropriate in these, learning disorders are also more common among affected individuals. Development and Course Because social (pragmatic) communication depends on adequate developmental progress in speech and language, diagnosis of social (pragmatic) communication disorder is rare among children younger than 4 years. By age 4 or 5 years, most children should possess, may show anger or occasionally aggression toward someone who is forcing separa tion. When alone, especially in the evening or the dark, young children may report unusual perceptual experiences (e.g., seeing people peering into their room, frightening creatures reaching for them, feeling eyes staring at them). Children with, anxiety. Children with selective mutism of ten refuse to speak at school, leading to academic or educational impairment, as teachers often find it difficult to assess skills such as reading. The lack of speech may interfere with social communication, although children with this disorder sometimes use nonspoken or nonverbal]   \n",
            "1  [There may be absent, reduced, or atyp ical social interest, manifested by rejection of others, passivity, or inappropriate ap proaches that seem aggressive or disruptive. These difficulties are particularly evident in young children, in whom there is often a lack of shared social play and imagination (e.g.,, Family relation ships may be characterized by discord and negative interactions. Peer relationships afe often disrupted by peer rejection, neglect, or teasing of the individual with ADHD. On av erage, individuals with ADHD obtain less schooling, have poorer vocational achievement, and have reduced intellectual scores than their peers, although, may be too anxious to en gage in reciprocal social interaction with other children. As children with selective mutism mature, they may face increasing social isolation. In school settings, these children may suffer academic impairment, because often they do not communicate with teachers re garding their academic or personal needs, with, and even accompany adults. In preschool children, verbal and social intrusiveness appear most prominent, often accompanied by attention-seeking behavior. Verbal and physical overfamiliarity continue through middle childhood, accompanied by inauthentic expressions of emotion. In adolescence, indis criminate behavior extends to peers. Relative to healthy adolescents,, anxiety. Children with selective mutism of ten refuse to speak at school, leading to academic or educational impairment, as teachers often find it difficult to assess skills such as reading. The lack of speech may interfere with social communication, although children with this disorder sometimes use nonspoken or nonverbal, of life through adolescence. There are some differences in manifestations of the disorder from early childhood through adolescence. At the youngest ages, across many cultures, children show reticence when interacting with strangers. Young children with the disorder fail to show reticence to approach, engage with, and even accompany adults., violates the social boundaries of the culture. A diagnosis of disinhibited social engagement disorder should not be made before children are developmentally able to form selective attachments. For this reason, the child must have a developmental age of at least 9 months. Associated Features Supporting Diagnosis Because of the, which a child actively approaches and interacts with unfamiliar adults and exhibits at least two of the following: 1. Reduced or absent reticence in approaching and interacting with unfamiliar adults. 2. Overly familiar verbal or physical behavior (that is not consistent with culturally sanctioned and with age-appropriate social boundaries)., intellectual or language disabili ties learn to suppress repetitive behavior in public. Special interests may be a source of pleasure and motivation and provide avenues for education and employment later in life. Diagnostic criteria may be met when restricted, repetitive patterns of behavior, interests, or activities were clearly present during, learning disorders are also more common among affected individuals. Development and Course Because social (pragmatic) communication depends on adequate developmental progress in speech and language, diagnosis of social (pragmatic) communication disorder is rare among children younger than 4 years. By age 4 or 5 years, most children should possess]   \n",
            "2                                                                                             [These clinical features manifest as excessive adherence to rituals and routines; restricted, fixated interests; and unusual sensory reactions. However, it is important to note that children with either con dition can exhibit stereotypic behaviors such as rocking or flapping. Children with either disorder also may exhibit a range of, respond to efforts to stop them. Among typically devel oping children, the repetitive movements may be stopped when attention is directed to them or when the child is distracted from performing them. Among children with neuro developmental disorders, the behaviors are typically less responsive to such efforts. In other, hand without any attempt to look at them), odd play patterns (e.g., carrying toys around but never playing with them), and unusual communication patterns (e.g., knowing the alphabet but not responding to own name). Deafness may be suspected but is typically ruled out. During the second year,, behavior and lack of reticence with un familiar adults in toddlerhood are accompanied by attention-seeking behaviors in pre schoolers. When the disorder persists into middle childhood, clinical features manifest as verbal and physical overfamiliarity as well as inauthentic expression of emotions. These signs appear particularly apparent when the, of non-self-injurious stereotypic movements include, but are not limited to, body rocking, bilateral flapping or rotating hand movements, flicking or fluttering fingers in front of the face, arm waving or flapping, and head nodding. Stereotyped self-injurious behaviors include, but are not limited to, re petitive head, not be appropriate in these circumstances. Autism spectrum disorder. Stereotypic movements may be a presenting symptom of autism spectrum disorder and should be considered when repetitive movements and be haviors are being evaluated. Deficits of social communication and reciprocity manifesting in autism spectrum disorder are generally absent in stereotypic, which a child actively approaches and interacts with unfamiliar adults and exhibits at least two of the following: 1. Reduced or absent reticence in approaching and interacting with unfamiliar adults. 2. Overly familiar verbal or physical behavior (that is not consistent with culturally sanctioned and with age-appropriate social boundaries)., There may be absent, reduced, or atyp ical social interest, manifested by rejection of others, passivity, or inappropriate ap proaches that seem aggressive or disruptive. These difficulties are particularly evident in young children, in whom there is often a lack of shared social play and imagination (e.g.,, neurological condition and is not better explained by another neurodevelopmental or mental disorder. The presence of stereotypic movements may indicate an undetected neurodevelopmental problem, espe cially in children ages 1-3 years. Prevalence Simple stereotypic movements (e.g., rocking) are common in young typically developing chil dren., the second birthday (see also Rett syndrome in the section \"Differential Diagnosis\" for this disorder). First symptoms of autism spectrum disorder frequently involve delayed language de velopment, often accompanied by lack of social interest or unusual social interactions (e.g., pulling individuals by the hand without any attempt to]   \n",
            "3                                                                                                                                                                                                                                                                 [neurological condition and is not better explained by another neurodevelopmental or mental disorder. The presence of stereotypic movements may indicate an undetected neurodevelopmental problem, espe cially in children ages 1-3 years. Prevalence Simple stereotypic movements (e.g., rocking) are common in young typically developing chil dren., Language regression. Loss of speech and language in a child younger than 3 years may be a sign of autism spectrum disorder (with developmental regression) or a specific neuro logical condition, such as Landau-Kleffner syndrome. Among children older than 3 years, language loss may be a symptom of, children, these movements resolve over time or can be suppressed. Onset of complex motor stereotypies may be in infancy or later in the developmental period. Among individuals with intellectual disability, the stereotyped, self-injurious behaviors may persist for years, even though the typography or pattern of self-injury may, may have a persistent or shifting array of learning difficulties across the lifespan. Examples of symptoms that may be observed among preschool-age children include a lack of interest in playing games with language sounds (e.g., repetition, rhyming), and they may have trouble learning nursery rhymes. Preschool children with, play and imagination (e.g., age-appropriate flexible pretend play) and, later, insistence on playing by very fixed rules. Older individuals may struggle to understand what behavior is considered appropriate in one situation but not another (e.g., casual behavior during a job interview), or the different ways that language may, the longer term, problems with coor dinated movements continue through adolescence in an estimated 50%-70% of children. Onset is in early childhood. Delayed motor milestones may be the first signs, or the disor der is first recognized when the child attempts tasks such as holding a knife and fork,, may be involved in acquisition of motor mastery. In chil dren who develop complex motor stereotypies, approximately 80% exhibit symptoms before 24 months of age, 12% between 24 and 35 months, and 8% at 36 months or older. In most typ ically developing children, these movements resolve over, out. During the second year, odd and repetitive behaviors and the absence of typical play become more apparent. Since many typically developing young children have strong preferences and enjoy repetition (e.g., eating the same foods, watching the same video multiple times), distinguishing restricted and repetitive behav iors that, disorder, although in young children (under 3 years) differentiation may be difficult, particularly when there is no or minimal general body motor involve ment (as in, e.g., Worster-Drought syndrome). Selective mutism. Limited use of speech may be a sign of selective mutism, an anxiety disorder that is, skills. In cases where skills have been lost, parents or caregivers may give a history of a gradual or relatively rapid deterioration in social behaviors or language skills. Typically, this would occur be tween 12 and 24 months of age and is distinguished from the rare instances of developmen]   \n",
            "4                                                  [These clinical features manifest as excessive adherence to rituals and routines; restricted, fixated interests; and unusual sensory reactions. However, it is important to note that children with either con dition can exhibit stereotypic behaviors such as rocking or flapping. Children with either disorder also may exhibit a range of, example, their routines are disturbed. In that instance, the temper outbursts would be considered secondary to the autism spectrum disorder, and the child should not receive the diagnosis of disruptive mood dysregulation disorder. Intermittent explosive disorder. Children with symptoms suggestive of intermittent explosive disorder present with instances of severe, commonly so cial anxiety disorder, followed by separation anxiety disorder and specific phobia. Oppo sitional behaviors have been noted to occur in children with selective mutism, although oppositional behavior may be limited to situations requiring speech. Communication de lays or disorders also may appear in some children with selective, as earthquakes or nuclear war. Children with the disorder may be overly conforming, per fectionist, and unsure of themselves and tend to redo tasks because of excessive dissatis faction with less-than-perfect performance. They are typically overzealous in seeking reassurance and approval and require excessive reassurance about their, may show anger or occasionally aggression toward someone who is forcing separa tion. When alone, especially in the evening or the dark, young children may report unusual perceptual experiences (e.g., seeing people peering into their room, frightening creatures reaching for them, feeling eyes staring at them). Children with, of selective mutism may include excessive shyness, fear of social em barrassment, social isolation and withdrawal, clinging, compulsive traits, negativism, temper tantrums, or mild oppositional behavior. Although children with this disorder generally have normal language skills, there may occasionally be an associated commu- nication disorder, although, frequent and interfering, occurring on the most meaningful words or phrases in the utterance. As the child becomes aware of the speech difficulty, he or she may develop mechanisms for avoiding the dys fluencies and emotional responses, including avoidance of public speaking and use of short and simple utterances., distinguished from normal fantasy play. Disorganized speech occurs in many disorders with childhood onset (e.g., autism spectrum disorder), as does disorganized behavior (e.g., attention-deficit/ hyperactivity disorder). These symptoms should not be attributed to schizophrenia with out due consideration of the more common disorders of childhood., high-functioning autism and selec tive mutism are common. Panic Disorder Diagnostic Criteria 300.01 (F41.0) A. Recurrent unexpected panic attacks. A panic attack is an abrupt surge of intense fear or intense discomfort that reaches a peak within minutes, and during which time four (or more) of the, sometimes apparent indifference to pain, heat, or cold. Extreme re action to or rituals involving taste, smell, texture, or appearance of food or excessive food restrictions are common and may be a presenting feature of autism spectrum disorder. Many adults with autism spectrum disorder without intellectual or language disabili]   \n",
            "5                                                                                                                                                                                                                                                [anxiety. Children with selective mutism of ten refuse to speak at school, leading to academic or educational impairment, as teachers often find it difficult to assess skills such as reading. The lack of speech may interfere with social communication, although children with this disorder sometimes use nonspoken or nonverbal, They may appear easily distracted or complain of memory diffi culties. Those engaged in cognitively demanding pursuits are often unable to function. In children, a precipitous drop in grades may reflect poor concentration. In elderly individ uals, memory difficulties may be the chief complaint and may be mistaken, is reluctant to engage in tasks that require sustained mental effort (e.g., schoolwork or homework; for older adolescents and adults, preparing reports, completing forms, reviewing lengthy papers). g. Often loses things necessary for tasks or activities (e.g., school materials, pen cils, books, tools, wallets, keys,, as in school performance. Because of their extremely low frustration tolerance, such children generally have difficulty succeeding in school; they are often unable to participate in the activities typically enjoyed by healthy children; their family life is severely disrupted by their outbursts and irritability; and they have trouble initiating or, during other activities (e.g., overlooks or misses details, work is inaccurate). b. Often has difficulty sustaining attention in tasks or play activities (e.g., has diffi culty remaining focused during lectures, conversations, or lengthy reading). c. Often does not seem to listen when spoken to directly (e.g.,, telephone numbers and may have trouble completing homework or tests on time. Children in the middle grades also may have poor comprehension with or without slow, effortful, and inaccurate reading, and they may have trouble reading small function words (e.g., that, the, an, in). They may have very, their academic or personal needs (e.g., not understanding a class assignment, not asking to use the restroom). Severe impairment in school and social functioning, including that resulting from teasing by peers, is common. In certain instances, selective mutism may serve as a compensatory strategy to decrease anxious arousal, may be too anxious to en gage in reciprocal social interaction with other children. As children with selective mutism mature, they may face increasing social isolation. In school settings, these children may suffer academic impairment, because often they do not communicate with teachers re garding their academic or personal needs, spoken to directly (e.g., mind seems else where, even in the absence of any obvious distraction). d. Often does not follow through on instructions and fails to finish schoolwork, chores, or duties in the workplace (e.g., starts tasks but quickly loses focus and is easily sidetracked). e., grades (grades 4-6) may mispronounce or skip parts of long, multisyllable words (e.g., say \"conible\" for \"convertible,\" \"aminal\" for \"animal\") and confuse words that sound alike (e.g., \"tornado\" for \"volcano\"). They may have trouble remembering dates, names, and telephone numbers and may have]   \n",
            "6                                                                                                                                                                                                                 [is reluctant to engage in tasks that require sustained mental effort (e.g., schoolwork or homework; for older adolescents and adults, preparing reports, completing forms, reviewing lengthy papers). g. Often loses things necessary for tasks or activities (e.g., school materials, pen cils, books, tools, wallets, keys,, books, tools, wallets, keys, papenwork, eyeglasses, mobile telephones). h. Is often easily distracted by extraneous stimuli (for older adolescents and adults, may include unrelated thoughts). i. Is often forgetful in daily activities (e.g., doing chores, running errands; for older adolescents and adults, returning calls,, and letters. Children in grades 1-3 also may have difficulty remembering number facts or arithmetic procedures for adding, subtracting, and so forth, and may complain that read ing or arithmetic is hard and avoid doing it. Children with specific learning disorder in the middle grades (grades 4-6) may, telephone numbers and may have trouble completing homework or tests on time. Children in the middle grades also may have poor comprehension with or without slow, effortful, and inaccurate reading, and they may have trouble reading small function words (e.g., that, the, an, in). They may have very, holding a knife and fork, but toning clothes, or playing ball games. In middle childhood, there are difficulties with motor aspects of assembling puzzles, building models, playing ball, and handwriting, as well as with organizing belongings, when motor sequencing and coordination are re quired. In early adulthood, there, Kindergarten-age children with specific learning disorder may be unable to recognize and write letters, may be unable to write their own names, or may use invented spelling. They may have trouble breaking down spoken words into syllables (e.g., \"cowboy\" into \"cow\" and \"boy\") and trouble recognizing words that, adulthood, individuals with specific learning disorder may continue to make numerous spelling mistakes and read single words and connected text slowly and with much effort, with trouble pronouncing multi syllable words. They may frequently need to reread material to understand or get the main point and have trouble making, below average for age (Criterion B). One robust clinical indicator of difficulties learning academic skills is low academic achievement for age or average achievement that is sustain able only by extraordinarily high levels of effort or support. In children, the low academic skills cause significant interference in school performance, and without mess, engaging in physical games with others, using specific tools in class such as rulers and scissors, and participating in team exercise activities at school. Not only is ability to perform these ac tions impaired, but also marked slowness in execution is common. Handwriting compe tence is, as in school performance. Because of their extremely low frustration tolerance, such children generally have difficulty succeeding in school; they are often unable to participate in the activities typically enjoyed by healthy children; their family life is severely disrupted by their outbursts and irritability; and they have trouble initiating or]   \n",
            "7                                                                                                               [of ADHD. Prolonged observation may be needed to differentiate fidgetiness from bouts of multiple tics. Specific learning disorder. Children with specific learning disorder may appear inat tentive because of frustration, lack of interest, or limited ability. However, inattention in individuals with a specific learning disorder who do not, psychomotor agitation Excessive motor activity associated with a feeling of inner tension. The activity is usuaUy nonproductive and repetitious and consists of behaviors such as pac ing, fidgeting, wringing of the hands, pulling of clothes, and inability to sit still. psychomotor retardation Visible generalized slowing of movements, anxiety. Children with selective mutism of ten refuse to speak at school, leading to academic or educational impairment, as teachers often find it difficult to assess skills such as reading. The lack of speech may interfere with social communication, although children with this disorder sometimes use nonspoken or nonverbal, as earthquakes or nuclear war. Children with the disorder may be overly conforming, per fectionist, and unsure of themselves and tend to redo tasks because of excessive dissatis faction with less-than-perfect performance. They are typically overzealous in seeking reassurance and approval and require excessive reassurance about their, been shown to exacerbate dysfluency. Childhood-onset fluency disorder may also be accompanied by motor movements (e.g., eye blinks, tics, tremors of the lips or face, jerking of the head, breathing movements, fist clenching). Children with fluency disorder show a range of language abilities, and the relationship, ally resolves with age. Complex stereotypies are less common in typically developing children and can usually be suppressed by distraction or sensory stimulation. The indi vidual's daily routine is rarely affected, and the movements generally do not cause the child distress. The diagnosis would not be appropriate in these, commonly so cial anxiety disorder, followed by separation anxiety disorder and specific phobia. Oppo sitional behaviors have been noted to occur in children with selective mutism, although oppositional behavior may be limited to situations requiring speech. Communication de lays or disorders also may appear in some children with selective, disorder, although in young children (under 3 years) differentiation may be difficult, particularly when there is no or minimal general body motor involve ment (as in, e.g., Worster-Drought syndrome). Selective mutism. Limited use of speech may be a sign of selective mutism, an anxiety disorder that is, may be too anxious to en gage in reciprocal social interaction with other children. As children with selective mutism mature, they may face increasing social isolation. In school settings, these children may suffer academic impairment, because often they do not communicate with teachers re garding their academic or personal needs, adolescents and adults, returning calls, paying bills, keeping appointments). 2. Hyperactivity and impuisivity: Six (or more) of the following symptoms have per sisted for at least 6 months to a degree that is inconsistent with developmental level and that negatively impacts directly on social and academic/occupational activities: Note:]   \n",
            "8                                                                                                                                                        [They may appear easily distracted or complain of memory diffi culties. Those engaged in cognitively demanding pursuits are often unable to function. In children, a precipitous drop in grades may reflect poor concentration. In elderly individ uals, memory difficulties may be the chief complaint and may be mistaken, and letters. Children in grades 1-3 also may have difficulty remembering number facts or arithmetic procedures for adding, subtracting, and so forth, and may complain that read ing or arithmetic is hard and avoid doing it. Children with specific learning disorder in the middle grades (grades 4-6) may, ongoing difficulties in literacy or numeracy skills that manifest during childhood or adolescence, as indicated by cumulative evidence from school reports, evaluated portfolios of work, or previous assessments. A second key feature is that the individual's performance of the affected academic skills is well below average for age (Criterion, adolescents may have mastered word decoding, but reading remains slow and effortful, and they are likely to show marked problems in reading comprehension and written expression (including poor spelling) and poor mastery of math facts or mathemat ical problem solving. During adolescence and into adulthood, individuals with specific learning, difficulties with learning foimdational academic skills in reading, writing, and/or math. The individual's performance of the affected academic skills is well below average for age, or acceptable performance levels are achieved only with extraordinary effort. Specific learning disorder may occur in individuals identified as intellec tually gifted and, telephone numbers and may have trouble completing homework or tests on time. Children in the middle grades also may have poor comprehension with or without slow, effortful, and inaccurate reading, and they may have trouble reading small function words (e.g., that, the, an, in). They may have very, grades (grades 4-6) may mispronounce or skip parts of long, multisyllable words (e.g., say \"conible\" for \"convertible,\" \"aminal\" for \"animal\") and confuse words that sound alike (e.g., \"tornado\" for \"volcano\"). They may have trouble remembering dates, names, and telephone numbers and may have, with brain maturation, academic skills (e.g., reading, spelling, writing, mathematics) have to be taught and learned explicitly. Specific learning disorder disrupts the normal pattern of learning academic skills; it is not sim ply a consequence of lack of opportunity of learning or inadequate instruction. Difficulties mastering these key, below average for age (Criterion B). One robust clinical indicator of difficulties learning academic skills is low academic achievement for age or average achievement that is sustain able only by extraordinarily high levels of effort or support. In children, the low academic skills cause significant interference in school performance, adulthood, individuals with specific learning disorder may continue to make numerous spelling mistakes and read single words and connected text slowly and with much effort, with trouble pronouncing multi syllable words. They may frequently need to reread material to understand or get the main point and have trouble making]   \n",
            "9                                                                                                                                                                                                                                                                                  [is reluctant to engage in tasks that require sustained mental effort (e.g., schoolwork or homework; for older adolescents and adults, preparing reports, completing forms, reviewing lengthy papers). g. Often loses things necessary for tasks or activities (e.g., school materials, pen cils, books, tools, wallets, keys,, They may appear easily distracted or complain of memory diffi culties. Those engaged in cognitively demanding pursuits are often unable to function. In children, a precipitous drop in grades may reflect poor concentration. In elderly individ uals, memory difficulties may be the chief complaint and may be mistaken, books, tools, wallets, keys, papenwork, eyeglasses, mobile telephones). h. Is often easily distracted by extraneous stimuli (for older adolescents and adults, may include unrelated thoughts). i. Is often forgetful in daily activities (e.g., doing chores, running errands; for older adolescents and adults, returning calls,, but conveys little information because it is overconcrete, overab stract, repetitive, or stereotyped (termed poverty of content). amnesia An inability to recall important autobiographical information that is inconsis tent with ordinary forgetting. anhedonia Lack of enjoyment from, engagement in, or energy for life's experiences; def icits, to impulsivity (as in attention-deficit/hyper- activity disorder) but include socially disinhiblted behavior. C. The child has experienced a pattern of extremes of insufficient care as evidenced by at least one of the following: 1. Social neglect or deprivation in the form of persistent lack of having basic emotional, during other activities (e.g., overlooks or misses details, work is inaccurate). b. Often has difficulty sustaining attention in tasks or play activities (e.g., has diffi culty remaining focused during lectures, conversations, or lengthy reading). c. Often does not seem to listen when spoken to directly (e.g.,, telephone numbers and may have trouble completing homework or tests on time. Children in the middle grades also may have poor comprehension with or without slow, effortful, and inaccurate reading, and they may have trouble reading small function words (e.g., that, the, an, in). They may have very, is easily sidetracked). e. Often has difficulty organizing tasks and activities (e.g., difficulty managing se quential tasks; difficulty keeping materials and belongings in order; messy, dis organized work; has poor time management; fails to meet deadlines). f. Often avoids, dislikes, or is reluctant to engage in, spoken to directly (e.g., mind seems else where, even in the absence of any obvious distraction). d. Often does not follow through on instructions and fails to finish schoolwork, chores, or duties in the workplace (e.g., starts tasks but quickly loses focus and is easily sidetracked). e., grades (grades 4-6) may mispronounce or skip parts of long, multisyllable words (e.g., say \"conible\" for \"convertible,\" \"aminal\" for \"animal\") and confuse words that sound alike (e.g., \"tornado\" for \"volcano\"). They may have trouble remembering dates, names, and telephone numbers and may have]   \n",
            "\n",
            "                                                                                                                                                                                                                                                                                                                                                                                                                                                                                                                                                                                                                                                                                                                                                                                                                                                                                                                                                                                                                                                                                                                                                                                                                                                                                                                                                                                                                                                                                                                                                                                                                                                                                                                                                                                                                                                                                                                                                                                                                                                                                                                                                                                                                                                                                                                                                                                                                                                                                                                                                                                                                                                                                                                                                                                                                                                                                                                                                                                                                                                                                                                                                                                                                                                                                                                                                                                                                                                                                                                                                                                                                                                                                                                                                                                                                                                                                                                                                                                                                                                                                                                                                                                                                                                                                                                                                                                                                                                                                                                                                                                                                                                                                                                                                                                                                                                                                                                                                                                                                                                                                                                                                                                                                            answer  \\\n",
            "0                                                                                                                                                                                                                                                                                                                                                                                                                                                                                                                                                                                                                                                                                                                                                                                                                                                                                                                                                                                                                                                                                                                                                                                                                                                                                                                                                                                                                                                                                                                                                                                                                                                                                                                                                                                                                                                                                                                                                                                                                                                                                                                                                                                                                                                                                                                                                                                                                                                                                                                                                                                                                                                                                                                                                                                                                                                                                                                                                                                                                                                                                                                                                                                                                                                                                                                                                                                                                                                                                                                                                                                                                                                                                                                                                                                                                                                                                                                                                                                                                                                                                                                                                                                                                                                                                                                                                                                                                                                                                                                                                                                                                                                                                                                                                                                                                                                                                                                                                                                                                                                                                                                                                                                                                      Answer: Dis   \n",
            "1                                                                                                                                                                                                                                                                                                                                                                                                                                                                                                                                                                                                                                                                                                                                                                                                                                                                                                                                                                                                                                                                                                                                                                                                                                                                                                                                                                                                                                                                                                                                                                                                                                                                                                                                                                                                                                                                                                                                                                                                                                                                                                                                                                                                                                                                                                                                                                                                                                                                                                                                                                                                                                                                                                                                                                                                                                                                                                                                                                                                                                                                                                                                                                                                                                                                                                                                                                                                                                                                                                                                                                                                                                                                                                                                                                                                                                                                                                                                                                                                                                                                                                                                                                                                                                                                                                                                                                                                                                                                                                                                                                                                                                                                                                                                                                                                                                                                      Answer: Disorder Name: Autism Spectrum Disorder, Category Name: Neurodevelopmental Disorders\\n        Reasoning: The child's limited interests, difficulty in social interactions, and challenges in understanding social cues are indicative of Autism Spectrum Disorder. These symptoms have been present since early childhood, which aligns with the di   \n",
            "2                                                                                                                                                                                                                                                                                                                                                                                                                                                                                                                                                                                                                                                                                                                                                                                                                                                                                                                                                                                                                                                                                                                                                                                                                                                                                                                                                                                                                                                                                                                                                                                                                                                                                                                                                                                                                                                                                                                                                                                                                                                                                                                                                                                                                                                                                                                                                                                                                                                                                                                                                                                                                                                                                                                                                                                                                                                                                                                                                                                                                                                                                                                                                                                                                                                                                                                                                                                                                                                                                                                                                                                                                                                                                                                                                                                                                                                                                                                                                                                                                                                                                                                                                                                                                                                                                                                                                                                                                                                                                                                                                                                                                                                                                                                                                                                                                                                                                    Answer: Autism Spectrum Disorder, which is a type of Neurodevelopmental Disorders.\\n\\n        The child's symptoms align with the diagnostic criteria for Autism Spectrum Disorder (ASD). The lack of response to their name and avoidance of physical contact indicate deficits in social communication and reciprocity. The repetitive hand   \n",
            "3                                                                                                                                                                                                                                                                                                                                                                                                                                                                                                                                                                                                                                                                                                                                                                                                                                                                                                                                                                                                                                                                                                                                                                                                                                                                                                                                                                                                                                                                                                                                                                                                                                                                                                                                                                                                                                                                                                                                                                                                                                                                                                                                                                                                                                                                                                                                                                                                                                                                                                                                                                                                                                                                                                                                                                                                                                                                                                                                                                                                                                                                                                                                                                                                                                                                                                                                                                                                                                                                                                                                                                                                                                                                                                                                                                                                                                                                                                                                                                                                                                                                                                                                                                                                                                                                                                                                                                                                                                                                                                                                                                                                                                                                                                                                                                                                                                                                                                                      Answer: Disorder Name: Autism Spectrum Disorder, Category Name: Neurodevelopmental Disorders\\n        Reasoning: The child's symptoms align with the diagnostic criteria for Autism Spectrum Disorder (ASD). She exhibits significant delays in language development, prefers solitary play, and engages in   \n",
            "4                                                                                                                                                                                                                                                                                                                                                                                                                                                                                                                                                                                                                                                                                                                                                                                                                                                                                                                                                                                                                                                                                                                                                                                                                                                                                                                                                                                                                                                                                                                                                                                                                                                                                                                                                                                                                                                                                                                                                                                                                                                                                                                                                                                                                                                                                                                                                                                                                                                                                                                                                                                                                                                                                                                                                                                                                                                                                                                                                                                                                                                                                                                                                                                                                                                                                                                                                                                                                                                                                                                                                                                                                                                                                                                                                                                                                                                                                                                                                                                                                                                                                                                                                                                                                                                                                                                                                                                                                                                                                                                                                                                                                                                                                                                                                                                                                                                                                                                                        Answer: Disorder Name: Autism Spectrum Disorder, Category Name: Neurodevelopmental Disorders\\n\\n        Reasoning: The child's symptoms align with several diagnostic criteria for Autism Spectrum Disorder (ASD). The intense reactions to sensory stimuli, such as sounds and textures,   \n",
            "5                                                                                                                                                                                                                                                                                                                                                                                                                                                                                                                                                                                                                                                                                                                                                                                                                                                                                                                                                                                                                                                                                                                                                                                                                                                                                                                                                                                                                                                                                                                                                                                                                                                                                                                                                                                                                                                                                                                                                                                                                                                                                                                                                                                                                                                                                                                                                                                                                                                                                                                                                                                                                                                                                                                                                                                                                                                                                                                                                                                                                                                                                                                                                                                                                                                                                                                                                                                                                                                                                                                                                                                                                                                                                                                                                                                                                                                                                                                                                                                                                                                                                                                                                                                                                                                                                                                                                                                                                                                                                                                                                                                                                                                                                                                                                                                                                                                                                       Answer: Disorder Name: Attention-Deficit/Hyperactivity Disorder (ADHD), Category Name: Neurodevelopmental Disorders\\n\\n        Reasoning: The child's symptoms align with the diagnostic criteria for ADHD, which includes inattentiveness, hyperactivity, and impulsivity. The child's difficulty staying seated, frequently interrupting   \n",
            "6                                                                          System: You are a professional psychologist with expertise in diagnosing mental health conditions.\\n        Based on the provided scenario in the context, your task is to:\\n\\n        1. Identify the most probable psychological disorder in this format: \\n           \"Disorder Name\", \\n           which is a type of \"Category Name\" (e.g., Autism Spectrum Disorder, which is a type of Neurodevelopmental Disorders).\\n        2. Provide reasoning for your diagnosis based on established psychological principles and diagnostic criteria.\\n        3. Respond as a licensed psychologist, ensuring your explanation is professional and clear without any mention of being an AI or automated system.\\n\\n        Focus solely on the most probable disorder and offer a clear, well-reasoned explanation, ensuring the format remains as specified.\\nHuman: Context:\\n        ['Kindergarten-age children with specific learning disorder may be unable to recognize and write letters, may be unable to write their own names, or may use invented spelling. They may have trouble breaking down spoken words into syllables (e.g., \"cowboy\" into \"cow\" and \"boy\") and trouble recognizing words that', 'as in school performance. Because of their extremely low frustration tolerance, such children generally have difficulty succeeding in school; they are often unable to participate in the activities typically enjoyed by healthy children; their family life is severely disrupted by their outbursts and irritability; and they have trouble initiating or', 'and letters. Children in grades 1-3 also may have difficulty remembering number facts or arithmetic procedures for adding, subtracting, and so forth, and may complain that read ing or arithmetic is hard and avoid doing it. Children with specific learning disorder in the middle grades (grades 4-6) may', 'telephone numbers and may have trouble completing homework or tests on time. Children in the middle grades also may have poor comprehension with or without slow, effortful, and inaccurate reading, and they may have trouble reading small function words (e.g., that, the, an, in). They may have very', 'adulthood, individuals with specific learning disorder may continue to make numerous spelling mistakes and read single words and connected text slowly and with much effort, with trouble pronouncing multi syllable words. They may frequently need to reread material to understand or get the main point and have trouble making', 'books, tools, wallets, keys, papenwork, eyeglasses, mobile telephones). h. Is often easily distracted by extraneous stimuli (for older adolescents and adults, may include unrelated thoughts). i. Is often forgetful in daily activities (e.g., doing chores, running errands; for older adolescents and adults, returning calls,', 'is reluctant to engage in tasks that require sustained mental effort (e.g., schoolwork or homework; for older adolescents and adults, preparing reports, completing forms, reviewing lengthy papers). g. Often loses things necessary for tasks or activities (e.g., school materials, pen cils, books, tools, wallets, keys,', 'holding a knife and fork, but toning clothes, or playing ball games. In middle childhood, there are difficulties with motor aspects of assembling puzzles, building models, playing ball, and handwriting, as well as with organizing belongings, when motor sequencing and coordination are re quired. In early adulthood, there', 'below average for age (Criterion B). One robust clinical indicator of difficulties learning academic skills is low academic achievement for age or average achievement that is sustain able only by extraordinarily high levels of effort or support. In children, the low academic skills cause significant interference in school performance', 'and without mess, engaging in physical games with others, using specific tools in class such as rulers and scissors, and participating in team exercise activities at school. Not only is ability to perform these ac tions impaired, but also marked slowness in execution is common. Handwriting compe tence is']\\n        ---\\n        Now, here is the question you need to answer:\\n\\n        Question: An 8-year-old girl is easily distracted and often loses her school supplies. She has trouble following multi-step instructions. She frequently forgets to complete her homework and has difficulty remembering the steps involved in completing tasks. She is reluctant to engage in tasks that require sustained mental effort and often avoids activities that involve fine motor skills, such as writing or using scissors. She has difficulty recognizing and writing letters and often uses invented spelling. She has trouble breaking down spoken words into syllables and recognizing words. She has difficulty remembering number facts and arithmetic procedures. She frequently needs to reread material to understand or get the main point and has trouble making inferences from text. She has poor   \n",
            "7  System: You are a professional psychologist with expertise in diagnosing mental health conditions.\\n        Based on the provided scenario in the context, your task is to:\\n\\n        1. Identify the most probable psychological disorder in this format: \\n           \"Disorder Name\", \\n           which is a type of \"Category Name\" (e.g., Autism Spectrum Disorder, which is a type of Neurodevelopmental Disorders).\\n        2. Provide reasoning for your diagnosis based on established psychological principles and diagnostic criteria.\\n        3. Respond as a licensed psychologist, ensuring your explanation is professional and clear without any mention of being an AI or automated system.\\n\\n        Focus solely on the most probable disorder and offer a clear, well-reasoned explanation, ensuring the format remains as specified.\\nHuman: Context:\\n        ['anxiety. Children with selective mutism of ten refuse to speak at school, leading to academic or educational impairment, as teachers often find it difficult to assess skills such as reading. The lack of speech may interfere with social communication, although children with this disorder sometimes use nonspoken or nonverbal', 'of ADHD. Prolonged observation may be needed to differentiate fidgetiness from bouts of multiple tics. Specific learning disorder. Children with specific learning disorder may appear inat tentive because of frustration, lack of interest, or limited ability. However, inattention in individuals with a specific learning disorder who do not', 'as earthquakes or nuclear war. Children with the disorder may be overly conforming, per fectionist, and unsure of themselves and tend to redo tasks because of excessive dissatis faction with less-than-perfect performance. They are typically overzealous in seeking reassurance and approval and require excessive reassurance about their', 'may be too anxious to en gage in reciprocal social interaction with other children. As children with selective mutism mature, they may face increasing social isolation. In school settings, these children may suffer academic impairment, because often they do not communicate with teachers re garding their academic or personal needs', 'disorder, although in young children (under 3 years) differentiation may be difficult, particularly when there is no or minimal general body motor involve ment (as in, e.g., Worster-Drought syndrome). Selective mutism. Limited use of speech may be a sign of selective mutism, an anxiety disorder that is', \"ally resolves with age. Complex stereotypies are less common in typically developing children and can usually be suppressed by distraction or sensory stimulation. The indi vidual's daily routine is rarely affected, and the movements generally do not cause the child distress. The diagnosis would not be appropriate in these\", 'been shown to exacerbate dysfluency. Childhood-onset fluency disorder may also be accompanied by motor movements (e.g., eye blinks, tics, tremors of the lips or face, jerking of the head, breathing movements, fist clenching). Children with fluency disorder show a range of language abilities, and the relationship', 'adolescents and adults, returning calls, paying bills, keeping appointments). 2. Hyperactivity and impuisivity: Six (or more) of the following symptoms have per sisted for at least 6 months to a degree that is inconsistent with developmental level and that negatively impacts directly on social and academic/occupational activities: Note:', 'commonly so cial anxiety disorder, followed by separation anxiety disorder and specific phobia. Oppo sitional behaviors have been noted to occur in children with selective mutism, although oppositional behavior may be limited to situations requiring speech. Communication de lays or disorders also may appear in some children with selective', 'psychomotor agitation Excessive motor activity associated with a feeling of inner tension. The activity is usuaUy nonproductive and repetitious and consists of behaviors such as pac ing, fidgeting, wringing of the hands, pulling of clothes, and inability to sit still. psychomotor retardation Visible generalized slowing of movements']\\n        ---\\n        Now, here is the question you need to answer:\\n\\n        Question: A 12-year-old boy is constantly fidgeting and talks excessively. He struggles to wait his turn during group activities. He often interrupts others and has difficulty following instructions. He also has a hard time focusing on tasks and frequently loses his belongings. He is easily distracted and has a short attention span. He is often forgetful in daily activities. He has difficulty organizing tasks and activities. He is impulsive and has difficulty waiting for his turn. He often blurts out answers without waiting for his turn. He has difficulty following through on instructions and often fails to finish tasks. He is often forgetful in daily activities. He has difficulty organizing tasks and activities. He is impulsive and has difficulty waiting for   \n",
            "8                                                                                                                                                                                                                                                                                                                                                                                                                                                                                                                                                                                                                                                                                                                                                                                                                                                                                                                                                                                                                                                                                                                                                                                                                                                                                                                                                                                                                                                                                                                                                                                                                                                                                                                                                                                                                                                                                                                                                                                                                                                                                                                                                                                                                                                                                                                                                                                                                                                                                                                                                                                                                                                                                                                                                                                                                                                                                                                                                                                                                                                                                                                                                                                                                                                                                                                                                                                                                                                                                                                                                                                                                                                                                                                                                                                                                                                                                                                                                                                                                                                                                                                                                                                                                                                                                                                                                                                                                                                                                                                                                                                                                                                                                                                                                  Answer: Specific Learning Disorder, which is a type of Neurodevelopmental Disorders.\\n        Reasoning: The girl's symptoms align with the diagnostic criteria for Specific Learning Disorder. She has difficulty focusing on reading assignments, which indicates a problem with reading comprehension. Her frequent daydreaming during lessons suggests issues with attention. Her slipping grades despite her intelligence indicate that her academic skills are well below   \n",
            "9                                                                                                                                                                                                                                                                                                                                                                                                                                                                                                                                                                                                                                                                                                                                                                                                                                                                                                                                                                                                                                                                                                                                                                                                                                                                                                                                                                                                                                                                                                                                                                                                                                                                                                                                                                                                                                                                                                                                                                                                                                                                                                                                                                                                                                                                                                                                                                                                                                                                                                                                                                                                                                                                                                                                                                                                                                                                                                                                                                                                                                                                                                                                                                                                                                                                                                                                                                                                                                                                                                                                                                                                                                                                                                                                                                                                                                                                                                                                                                                                                                                                                                                                                                                                                                                                                                                                                                                                                                                                                                                                                                                                                                                                                                                                                                                                                                                                                            Answer: Disorder Name: Attention-Deficit/Hyperactivity Disorder (ADHD)\\n        Category Name: Neurodevelopmental Disorders\\n\\n        Reasoning: The symptoms described in the context align with the diagnostic criteria for ADHD, which includes inattentiveness, hyperactivity, and impulsivity. The boy's forgetfulness in daily   \n",
            "\n",
            "                                                                       ground_truth  \\\n",
            "0                  Autism Spectrum Disorder  Category: Neurodevelopmental Disorders   \n",
            "1                  Autism Spectrum Disorder  Category: Neurodevelopmental Disorders   \n",
            "2                  Autism Spectrum Disorder  Category: Neurodevelopmental Disorders   \n",
            "3                  Autism Spectrum Disorder  Category: Neurodevelopmental Disorders   \n",
            "4                  Autism Spectrum Disorder  Category: Neurodevelopmental Disorders   \n",
            "5  Attention-Deficit/Hyperactivity Disorder  Category: Neurodevelopmental Disorders   \n",
            "6  Attention-Deficit/Hyperactivity Disorder  Category: Neurodevelopmental Disorders   \n",
            "7  Attention-Deficit/Hyperactivity Disorder  Category: Neurodevelopmental Disorders   \n",
            "8  Attention-Deficit/Hyperactivity Disorder  Category: Neurodevelopmental Disorders   \n",
            "9  Attention-Deficit/Hyperactivity Disorder  Category: Neurodevelopmental Disorders   \n",
            "\n",
            "   context_precision  faithfulness  answer_relevancy  context_utilization  \n",
            "0           0.333333           NaN          0.000000             0.000000  \n",
            "1           1.000000      0.500000          0.640253             0.611111  \n",
            "2           0.722222      0.800000          0.380641             0.703571  \n",
            "3           0.500000      0.000000          0.652135             0.812500  \n",
            "4           0.766667      1.000000          0.480898             0.683333  \n",
            "5           0.355556      0.000000          0.475788             0.401587  \n",
            "6           1.000000      0.588235          0.693785             1.000000  \n",
            "7           0.766667      0.000000          0.730604             0.838591  \n",
            "8           0.111111      0.666667          0.717710             0.388194  \n",
            "9           0.671627      0.500000          0.417098             0.906041  \n"
          ]
        }
      ],
      "source": [
        "print(ragas_output_df)"
      ]
    },
    {
      "cell_type": "code",
      "execution_count": null,
      "metadata": {
        "id": "KH9rTNHdVrbq"
      },
      "outputs": [],
      "source": []
    }
  ],
  "metadata": {
    "accelerator": "GPU",
    "colab": {
      "gpuType": "T4",
      "provenance": []
    },
    "kaggle": {
      "accelerator": "nvidiaTeslaT4",
      "dataSources": [
        {
          "datasetId": 5552280,
          "sourceId": 9185382,
          "sourceType": "datasetVersion"
        },
        {
          "datasetId": 5552859,
          "sourceId": 9186181,
          "sourceType": "datasetVersion"
        },
        {
          "datasetId": 5552919,
          "sourceId": 9186260,
          "sourceType": "datasetVersion"
        },
        {
          "datasetId": 5553172,
          "sourceId": 9186597,
          "sourceType": "datasetVersion"
        }
      ],
      "dockerImageVersionId": 30747,
      "isGpuEnabled": true,
      "isInternetEnabled": true,
      "language": "python",
      "sourceType": "notebook"
    },
    "kernelspec": {
      "display_name": "Python 3",
      "language": "python",
      "name": "python3"
    },
    "language_info": {
      "codemirror_mode": {
        "name": "ipython",
        "version": 3
      },
      "file_extension": ".py",
      "mimetype": "text/x-python",
      "name": "python",
      "nbconvert_exporter": "python",
      "pygments_lexer": "ipython3",
      "version": "3.10.13"
    },
    "widgets": {
      "application/vnd.jupyter.widget-state+json": {
        "008e5e719f2046779b8a22be3a1deb56": {
          "model_module": "@jupyter-widgets/base",
          "model_module_version": "1.2.0",
          "model_name": "LayoutModel",
          "state": {
            "_model_module": "@jupyter-widgets/base",
            "_model_module_version": "1.2.0",
            "_model_name": "LayoutModel",
            "_view_count": null,
            "_view_module": "@jupyter-widgets/base",
            "_view_module_version": "1.2.0",
            "_view_name": "LayoutView",
            "align_content": null,
            "align_items": null,
            "align_self": null,
            "border": null,
            "bottom": null,
            "display": null,
            "flex": null,
            "flex_flow": null,
            "grid_area": null,
            "grid_auto_columns": null,
            "grid_auto_flow": null,
            "grid_auto_rows": null,
            "grid_column": null,
            "grid_gap": null,
            "grid_row": null,
            "grid_template_areas": null,
            "grid_template_columns": null,
            "grid_template_rows": null,
            "height": null,
            "justify_content": null,
            "justify_items": null,
            "left": null,
            "margin": null,
            "max_height": null,
            "max_width": null,
            "min_height": null,
            "min_width": null,
            "object_fit": null,
            "object_position": null,
            "order": null,
            "overflow": null,
            "overflow_x": null,
            "overflow_y": null,
            "padding": null,
            "right": null,
            "top": null,
            "visibility": null,
            "width": null
          }
        },
        "01102d3750544024bf4450d75adf1fee": {
          "model_module": "@jupyter-widgets/base",
          "model_module_version": "1.2.0",
          "model_name": "LayoutModel",
          "state": {
            "_model_module": "@jupyter-widgets/base",
            "_model_module_version": "1.2.0",
            "_model_name": "LayoutModel",
            "_view_count": null,
            "_view_module": "@jupyter-widgets/base",
            "_view_module_version": "1.2.0",
            "_view_name": "LayoutView",
            "align_content": null,
            "align_items": null,
            "align_self": null,
            "border": null,
            "bottom": null,
            "display": null,
            "flex": null,
            "flex_flow": null,
            "grid_area": null,
            "grid_auto_columns": null,
            "grid_auto_flow": null,
            "grid_auto_rows": null,
            "grid_column": null,
            "grid_gap": null,
            "grid_row": null,
            "grid_template_areas": null,
            "grid_template_columns": null,
            "grid_template_rows": null,
            "height": null,
            "justify_content": null,
            "justify_items": null,
            "left": null,
            "margin": null,
            "max_height": null,
            "max_width": null,
            "min_height": null,
            "min_width": null,
            "object_fit": null,
            "object_position": null,
            "order": null,
            "overflow": null,
            "overflow_x": null,
            "overflow_y": null,
            "padding": null,
            "right": null,
            "top": null,
            "visibility": null,
            "width": null
          }
        },
        "020ce049c28249768a55478da50e8ee8": {
          "model_module": "@jupyter-widgets/controls",
          "model_module_version": "1.5.0",
          "model_name": "FloatProgressModel",
          "state": {
            "_dom_classes": [],
            "_model_module": "@jupyter-widgets/controls",
            "_model_module_version": "1.5.0",
            "_model_name": "FloatProgressModel",
            "_view_count": null,
            "_view_module": "@jupyter-widgets/controls",
            "_view_module_version": "1.5.0",
            "_view_name": "ProgressView",
            "bar_style": "success",
            "description": "",
            "description_tooltip": null,
            "layout": "IPY_MODEL_9e67eba6f2cd4808a84ee79ea5352ebf",
            "max": 68084,
            "min": 0,
            "orientation": "horizontal",
            "style": "IPY_MODEL_a29d6a0ed6b44e13b150ed9d1f67ab31",
            "value": 68084
          }
        },
        "0269e7f713a64dd9aecb7f606624439f": {
          "model_module": "@jupyter-widgets/base",
          "model_module_version": "1.2.0",
          "model_name": "LayoutModel",
          "state": {
            "_model_module": "@jupyter-widgets/base",
            "_model_module_version": "1.2.0",
            "_model_name": "LayoutModel",
            "_view_count": null,
            "_view_module": "@jupyter-widgets/base",
            "_view_module_version": "1.2.0",
            "_view_name": "LayoutView",
            "align_content": null,
            "align_items": null,
            "align_self": null,
            "border": null,
            "bottom": null,
            "display": null,
            "flex": null,
            "flex_flow": null,
            "grid_area": null,
            "grid_auto_columns": null,
            "grid_auto_flow": null,
            "grid_auto_rows": null,
            "grid_column": null,
            "grid_gap": null,
            "grid_row": null,
            "grid_template_areas": null,
            "grid_template_columns": null,
            "grid_template_rows": null,
            "height": null,
            "justify_content": null,
            "justify_items": null,
            "left": null,
            "margin": null,
            "max_height": null,
            "max_width": null,
            "min_height": null,
            "min_width": null,
            "object_fit": null,
            "object_position": null,
            "order": null,
            "overflow": null,
            "overflow_x": null,
            "overflow_y": null,
            "padding": null,
            "right": null,
            "top": null,
            "visibility": null,
            "width": null
          }
        },
        "0512c0d30c9d4ab9849014f935516012": {
          "model_module": "@jupyter-widgets/base",
          "model_module_version": "1.2.0",
          "model_name": "LayoutModel",
          "state": {
            "_model_module": "@jupyter-widgets/base",
            "_model_module_version": "1.2.0",
            "_model_name": "LayoutModel",
            "_view_count": null,
            "_view_module": "@jupyter-widgets/base",
            "_view_module_version": "1.2.0",
            "_view_name": "LayoutView",
            "align_content": null,
            "align_items": null,
            "align_self": null,
            "border": null,
            "bottom": null,
            "display": null,
            "flex": null,
            "flex_flow": null,
            "grid_area": null,
            "grid_auto_columns": null,
            "grid_auto_flow": null,
            "grid_auto_rows": null,
            "grid_column": null,
            "grid_gap": null,
            "grid_row": null,
            "grid_template_areas": null,
            "grid_template_columns": null,
            "grid_template_rows": null,
            "height": null,
            "justify_content": null,
            "justify_items": null,
            "left": null,
            "margin": null,
            "max_height": null,
            "max_width": null,
            "min_height": null,
            "min_width": null,
            "object_fit": null,
            "object_position": null,
            "order": null,
            "overflow": null,
            "overflow_x": null,
            "overflow_y": null,
            "padding": null,
            "right": null,
            "top": null,
            "visibility": null,
            "width": null
          }
        },
        "065401c62ce24f17a54f135db3eec684": {
          "model_module": "@jupyter-widgets/base",
          "model_module_version": "1.2.0",
          "model_name": "LayoutModel",
          "state": {
            "_model_module": "@jupyter-widgets/base",
            "_model_module_version": "1.2.0",
            "_model_name": "LayoutModel",
            "_view_count": null,
            "_view_module": "@jupyter-widgets/base",
            "_view_module_version": "1.2.0",
            "_view_name": "LayoutView",
            "align_content": null,
            "align_items": null,
            "align_self": null,
            "border": null,
            "bottom": null,
            "display": null,
            "flex": null,
            "flex_flow": null,
            "grid_area": null,
            "grid_auto_columns": null,
            "grid_auto_flow": null,
            "grid_auto_rows": null,
            "grid_column": null,
            "grid_gap": null,
            "grid_row": null,
            "grid_template_areas": null,
            "grid_template_columns": null,
            "grid_template_rows": null,
            "height": null,
            "justify_content": null,
            "justify_items": null,
            "left": null,
            "margin": null,
            "max_height": null,
            "max_width": null,
            "min_height": null,
            "min_width": null,
            "object_fit": null,
            "object_position": null,
            "order": null,
            "overflow": null,
            "overflow_x": null,
            "overflow_y": null,
            "padding": null,
            "right": null,
            "top": null,
            "visibility": null,
            "width": null
          }
        },
        "06c0da0f47ee4699a5250968e94406e5": {
          "model_module": "@jupyter-widgets/controls",
          "model_module_version": "1.5.0",
          "model_name": "HBoxModel",
          "state": {
            "_dom_classes": [],
            "_model_module": "@jupyter-widgets/controls",
            "_model_module_version": "1.5.0",
            "_model_name": "HBoxModel",
            "_view_count": null,
            "_view_module": "@jupyter-widgets/controls",
            "_view_module_version": "1.5.0",
            "_view_name": "HBoxView",
            "box_style": "",
            "children": [
              "IPY_MODEL_3d60d66a84734f828e1434d8163d7458",
              "IPY_MODEL_88eb7266645c486db9e023d9004c0428",
              "IPY_MODEL_c58dbcc66c0b4dbbb432b657e7e4b237"
            ],
            "layout": "IPY_MODEL_132a71ebc4034acfbda37a49ab625ac4"
          }
        },
        "072b74ebae06439da00f1d8d89cdc3ff": {
          "model_module": "@jupyter-widgets/base",
          "model_module_version": "1.2.0",
          "model_name": "LayoutModel",
          "state": {
            "_model_module": "@jupyter-widgets/base",
            "_model_module_version": "1.2.0",
            "_model_name": "LayoutModel",
            "_view_count": null,
            "_view_module": "@jupyter-widgets/base",
            "_view_module_version": "1.2.0",
            "_view_name": "LayoutView",
            "align_content": null,
            "align_items": null,
            "align_self": null,
            "border": null,
            "bottom": null,
            "display": null,
            "flex": null,
            "flex_flow": null,
            "grid_area": null,
            "grid_auto_columns": null,
            "grid_auto_flow": null,
            "grid_auto_rows": null,
            "grid_column": null,
            "grid_gap": null,
            "grid_row": null,
            "grid_template_areas": null,
            "grid_template_columns": null,
            "grid_template_rows": null,
            "height": null,
            "justify_content": null,
            "justify_items": null,
            "left": null,
            "margin": null,
            "max_height": null,
            "max_width": null,
            "min_height": null,
            "min_width": null,
            "object_fit": null,
            "object_position": null,
            "order": null,
            "overflow": null,
            "overflow_x": null,
            "overflow_y": null,
            "padding": null,
            "right": null,
            "top": null,
            "visibility": null,
            "width": null
          }
        },
        "08a7c7b70f77439ea52140cbd5a5245b": {
          "model_module": "@jupyter-widgets/controls",
          "model_module_version": "1.5.0",
          "model_name": "ProgressStyleModel",
          "state": {
            "_model_module": "@jupyter-widgets/controls",
            "_model_module_version": "1.5.0",
            "_model_name": "ProgressStyleModel",
            "_view_count": null,
            "_view_module": "@jupyter-widgets/base",
            "_view_module_version": "1.2.0",
            "_view_name": "StyleView",
            "bar_color": null,
            "description_width": ""
          }
        },
        "09be5dd9f90c46b5b0c4115e1ed1cc05": {
          "model_module": "@jupyter-widgets/controls",
          "model_module_version": "1.5.0",
          "model_name": "FloatProgressModel",
          "state": {
            "_dom_classes": [],
            "_model_module": "@jupyter-widgets/controls",
            "_model_module_version": "1.5.0",
            "_model_name": "FloatProgressModel",
            "_view_count": null,
            "_view_module": "@jupyter-widgets/controls",
            "_view_module_version": "1.5.0",
            "_view_name": "ProgressView",
            "bar_style": "success",
            "description": "",
            "description_tooltip": null,
            "layout": "IPY_MODEL_c08e8ed882c64da8a5b57f571e0fedc2",
            "max": 385,
            "min": 0,
            "orientation": "horizontal",
            "style": "IPY_MODEL_a62a65a4bce7421793aebf5ed5dffb8e",
            "value": 385
          }
        },
        "0a7b1331bf2049dbada5d0d02d77eb8d": {
          "model_module": "@jupyter-widgets/base",
          "model_module_version": "1.2.0",
          "model_name": "LayoutModel",
          "state": {
            "_model_module": "@jupyter-widgets/base",
            "_model_module_version": "1.2.0",
            "_model_name": "LayoutModel",
            "_view_count": null,
            "_view_module": "@jupyter-widgets/base",
            "_view_module_version": "1.2.0",
            "_view_name": "LayoutView",
            "align_content": null,
            "align_items": null,
            "align_self": null,
            "border": null,
            "bottom": null,
            "display": null,
            "flex": null,
            "flex_flow": null,
            "grid_area": null,
            "grid_auto_columns": null,
            "grid_auto_flow": null,
            "grid_auto_rows": null,
            "grid_column": null,
            "grid_gap": null,
            "grid_row": null,
            "grid_template_areas": null,
            "grid_template_columns": null,
            "grid_template_rows": null,
            "height": null,
            "justify_content": null,
            "justify_items": null,
            "left": null,
            "margin": null,
            "max_height": null,
            "max_width": null,
            "min_height": null,
            "min_width": null,
            "object_fit": null,
            "object_position": null,
            "order": null,
            "overflow": null,
            "overflow_x": null,
            "overflow_y": null,
            "padding": null,
            "right": null,
            "top": null,
            "visibility": null,
            "width": null
          }
        },
        "0bc0f6968d7f408e8184edf34a5a54c0": {
          "model_module": "@jupyter-widgets/controls",
          "model_module_version": "1.5.0",
          "model_name": "HTMLModel",
          "state": {
            "_dom_classes": [],
            "_model_module": "@jupyter-widgets/controls",
            "_model_module_version": "1.5.0",
            "_model_name": "HTMLModel",
            "_view_count": null,
            "_view_module": "@jupyter-widgets/controls",
            "_view_module_version": "1.5.0",
            "_view_name": "HTMLView",
            "description": "",
            "description_tooltip": null,
            "layout": "IPY_MODEL_0a7b1331bf2049dbada5d0d02d77eb8d",
            "placeholder": "​",
            "style": "IPY_MODEL_2ffabe2f54d949ffa5d94d3d09c0b5a4",
            "value": " 2/2 [00:36&lt;00:00, 17.36s/it]"
          }
        },
        "0d85bf2d05e14ab2a88b6ceb58170f01": {
          "model_module": "@jupyter-widgets/controls",
          "model_module_version": "1.5.0",
          "model_name": "DescriptionStyleModel",
          "state": {
            "_model_module": "@jupyter-widgets/controls",
            "_model_module_version": "1.5.0",
            "_model_name": "DescriptionStyleModel",
            "_view_count": null,
            "_view_module": "@jupyter-widgets/base",
            "_view_module_version": "1.2.0",
            "_view_name": "StyleView",
            "description_width": ""
          }
        },
        "0dd95fe4d17e421a9a090466381533d4": {
          "model_module": "@jupyter-widgets/controls",
          "model_module_version": "1.5.0",
          "model_name": "DescriptionStyleModel",
          "state": {
            "_model_module": "@jupyter-widgets/controls",
            "_model_module_version": "1.5.0",
            "_model_name": "DescriptionStyleModel",
            "_view_count": null,
            "_view_module": "@jupyter-widgets/base",
            "_view_module_version": "1.2.0",
            "_view_name": "StyleView",
            "description_width": ""
          }
        },
        "0eb8c34ded4947d6b928d6526f8b8434": {
          "model_module": "@jupyter-widgets/controls",
          "model_module_version": "1.5.0",
          "model_name": "HTMLModel",
          "state": {
            "_dom_classes": [],
            "_model_module": "@jupyter-widgets/controls",
            "_model_module_version": "1.5.0",
            "_model_name": "HTMLModel",
            "_view_count": null,
            "_view_module": "@jupyter-widgets/controls",
            "_view_module_version": "1.5.0",
            "_view_name": "HTMLView",
            "description": "",
            "description_tooltip": null,
            "layout": "IPY_MODEL_c7d98db60dff4b7289d5402c45dfe5e5",
            "placeholder": "​",
            "style": "IPY_MODEL_e549e9a396f542c0be5af2903a839f62",
            "value": " 405/405 [00:00&lt;00:00, 20.4kB/s]"
          }
        },
        "102fe8d038e749a5bc9bf9e82d7f5273": {
          "model_module": "@jupyter-widgets/base",
          "model_module_version": "1.2.0",
          "model_name": "LayoutModel",
          "state": {
            "_model_module": "@jupyter-widgets/base",
            "_model_module_version": "1.2.0",
            "_model_name": "LayoutModel",
            "_view_count": null,
            "_view_module": "@jupyter-widgets/base",
            "_view_module_version": "1.2.0",
            "_view_name": "LayoutView",
            "align_content": null,
            "align_items": null,
            "align_self": null,
            "border": null,
            "bottom": null,
            "display": null,
            "flex": null,
            "flex_flow": null,
            "grid_area": null,
            "grid_auto_columns": null,
            "grid_auto_flow": null,
            "grid_auto_rows": null,
            "grid_column": null,
            "grid_gap": null,
            "grid_row": null,
            "grid_template_areas": null,
            "grid_template_columns": null,
            "grid_template_rows": null,
            "height": null,
            "justify_content": null,
            "justify_items": null,
            "left": null,
            "margin": null,
            "max_height": null,
            "max_width": null,
            "min_height": null,
            "min_width": null,
            "object_fit": null,
            "object_position": null,
            "order": null,
            "overflow": null,
            "overflow_x": null,
            "overflow_y": null,
            "padding": null,
            "right": null,
            "top": null,
            "visibility": null,
            "width": null
          }
        },
        "1074db11928a4663aafb036e5dea3389": {
          "model_module": "@jupyter-widgets/controls",
          "model_module_version": "1.5.0",
          "model_name": "HTMLModel",
          "state": {
            "_dom_classes": [],
            "_model_module": "@jupyter-widgets/controls",
            "_model_module_version": "1.5.0",
            "_model_name": "HTMLModel",
            "_view_count": null,
            "_view_module": "@jupyter-widgets/controls",
            "_view_module_version": "1.5.0",
            "_view_name": "HTMLView",
            "description": "",
            "description_tooltip": null,
            "layout": "IPY_MODEL_97329a0f918943e9ab703cf6659419b0",
            "placeholder": "​",
            "style": "IPY_MODEL_48b77f774e8242bfbccd588e5db57382",
            "value": "special_tokens_map.json: 100%"
          }
        },
        "1169ccf32a2c4731889e02725a47700f": {
          "model_module": "@jupyter-widgets/controls",
          "model_module_version": "1.5.0",
          "model_name": "HTMLModel",
          "state": {
            "_dom_classes": [],
            "_model_module": "@jupyter-widgets/controls",
            "_model_module_version": "1.5.0",
            "_model_name": "HTMLModel",
            "_view_count": null,
            "_view_module": "@jupyter-widgets/controls",
            "_view_module_version": "1.5.0",
            "_view_name": "HTMLView",
            "description": "",
            "description_tooltip": null,
            "layout": "IPY_MODEL_065401c62ce24f17a54f135db3eec684",
            "placeholder": "​",
            "style": "IPY_MODEL_387b8667cd1647d8bca60336d85607ca",
            "value": " 125/125 [00:00&lt;00:00, 10.4kB/s]"
          }
        },
        "132a71ebc4034acfbda37a49ab625ac4": {
          "model_module": "@jupyter-widgets/base",
          "model_module_version": "1.2.0",
          "model_name": "LayoutModel",
          "state": {
            "_model_module": "@jupyter-widgets/base",
            "_model_module_version": "1.2.0",
            "_model_name": "LayoutModel",
            "_view_count": null,
            "_view_module": "@jupyter-widgets/base",
            "_view_module_version": "1.2.0",
            "_view_name": "LayoutView",
            "align_content": null,
            "align_items": null,
            "align_self": null,
            "border": null,
            "bottom": null,
            "display": null,
            "flex": null,
            "flex_flow": null,
            "grid_area": null,
            "grid_auto_columns": null,
            "grid_auto_flow": null,
            "grid_auto_rows": null,
            "grid_column": null,
            "grid_gap": null,
            "grid_row": null,
            "grid_template_areas": null,
            "grid_template_columns": null,
            "grid_template_rows": null,
            "height": null,
            "justify_content": null,
            "justify_items": null,
            "left": null,
            "margin": null,
            "max_height": null,
            "max_width": null,
            "min_height": null,
            "min_width": null,
            "object_fit": null,
            "object_position": null,
            "order": null,
            "overflow": null,
            "overflow_x": null,
            "overflow_y": null,
            "padding": null,
            "right": null,
            "top": null,
            "visibility": null,
            "width": null
          }
        },
        "13e5f21da39a4182af5ddf6369da979a": {
          "model_module": "@jupyter-widgets/base",
          "model_module_version": "1.2.0",
          "model_name": "LayoutModel",
          "state": {
            "_model_module": "@jupyter-widgets/base",
            "_model_module_version": "1.2.0",
            "_model_name": "LayoutModel",
            "_view_count": null,
            "_view_module": "@jupyter-widgets/base",
            "_view_module_version": "1.2.0",
            "_view_name": "LayoutView",
            "align_content": null,
            "align_items": null,
            "align_self": null,
            "border": null,
            "bottom": null,
            "display": null,
            "flex": null,
            "flex_flow": null,
            "grid_area": null,
            "grid_auto_columns": null,
            "grid_auto_flow": null,
            "grid_auto_rows": null,
            "grid_column": null,
            "grid_gap": null,
            "grid_row": null,
            "grid_template_areas": null,
            "grid_template_columns": null,
            "grid_template_rows": null,
            "height": null,
            "justify_content": null,
            "justify_items": null,
            "left": null,
            "margin": null,
            "max_height": null,
            "max_width": null,
            "min_height": null,
            "min_width": null,
            "object_fit": null,
            "object_position": null,
            "order": null,
            "overflow": null,
            "overflow_x": null,
            "overflow_y": null,
            "padding": null,
            "right": null,
            "top": null,
            "visibility": null,
            "width": null
          }
        },
        "1415f7f357c3496f91c5707905972bbf": {
          "model_module": "@jupyter-widgets/controls",
          "model_module_version": "1.5.0",
          "model_name": "DescriptionStyleModel",
          "state": {
            "_model_module": "@jupyter-widgets/controls",
            "_model_module_version": "1.5.0",
            "_model_name": "DescriptionStyleModel",
            "_view_count": null,
            "_view_module": "@jupyter-widgets/base",
            "_view_module_version": "1.2.0",
            "_view_name": "StyleView",
            "description_width": ""
          }
        },
        "14dddb3438d746d092234e7306bb7ccf": {
          "model_module": "@jupyter-widgets/controls",
          "model_module_version": "1.5.0",
          "model_name": "DescriptionStyleModel",
          "state": {
            "_model_module": "@jupyter-widgets/controls",
            "_model_module_version": "1.5.0",
            "_model_name": "DescriptionStyleModel",
            "_view_count": null,
            "_view_module": "@jupyter-widgets/base",
            "_view_module_version": "1.2.0",
            "_view_name": "StyleView",
            "description_width": ""
          }
        },
        "15fa35d3f46e4757a1dfb25f805dacbb": {
          "model_module": "@jupyter-widgets/controls",
          "model_module_version": "1.5.0",
          "model_name": "ProgressStyleModel",
          "state": {
            "_model_module": "@jupyter-widgets/controls",
            "_model_module_version": "1.5.0",
            "_model_name": "ProgressStyleModel",
            "_view_count": null,
            "_view_module": "@jupyter-widgets/base",
            "_view_module_version": "1.2.0",
            "_view_name": "StyleView",
            "bar_color": null,
            "description_width": ""
          }
        },
        "190a3e44089a46c199a56b8569b38b3c": {
          "model_module": "@jupyter-widgets/base",
          "model_module_version": "1.2.0",
          "model_name": "LayoutModel",
          "state": {
            "_model_module": "@jupyter-widgets/base",
            "_model_module_version": "1.2.0",
            "_model_name": "LayoutModel",
            "_view_count": null,
            "_view_module": "@jupyter-widgets/base",
            "_view_module_version": "1.2.0",
            "_view_name": "LayoutView",
            "align_content": null,
            "align_items": null,
            "align_self": null,
            "border": null,
            "bottom": null,
            "display": null,
            "flex": null,
            "flex_flow": null,
            "grid_area": null,
            "grid_auto_columns": null,
            "grid_auto_flow": null,
            "grid_auto_rows": null,
            "grid_column": null,
            "grid_gap": null,
            "grid_row": null,
            "grid_template_areas": null,
            "grid_template_columns": null,
            "grid_template_rows": null,
            "height": null,
            "justify_content": null,
            "justify_items": null,
            "left": null,
            "margin": null,
            "max_height": null,
            "max_width": null,
            "min_height": null,
            "min_width": null,
            "object_fit": null,
            "object_position": null,
            "order": null,
            "overflow": null,
            "overflow_x": null,
            "overflow_y": null,
            "padding": null,
            "right": null,
            "top": null,
            "visibility": null,
            "width": null
          }
        },
        "19ddd5e5c8ea4406a32079f145a87439": {
          "model_module": "@jupyter-widgets/controls",
          "model_module_version": "1.5.0",
          "model_name": "DescriptionStyleModel",
          "state": {
            "_model_module": "@jupyter-widgets/controls",
            "_model_module_version": "1.5.0",
            "_model_name": "DescriptionStyleModel",
            "_view_count": null,
            "_view_module": "@jupyter-widgets/base",
            "_view_module_version": "1.2.0",
            "_view_name": "StyleView",
            "description_width": ""
          }
        },
        "1a54a6bbebd44764a042c6aea82ea2eb": {
          "model_module": "@jupyter-widgets/base",
          "model_module_version": "1.2.0",
          "model_name": "LayoutModel",
          "state": {
            "_model_module": "@jupyter-widgets/base",
            "_model_module_version": "1.2.0",
            "_model_name": "LayoutModel",
            "_view_count": null,
            "_view_module": "@jupyter-widgets/base",
            "_view_module_version": "1.2.0",
            "_view_name": "LayoutView",
            "align_content": null,
            "align_items": null,
            "align_self": null,
            "border": null,
            "bottom": null,
            "display": null,
            "flex": null,
            "flex_flow": null,
            "grid_area": null,
            "grid_auto_columns": null,
            "grid_auto_flow": null,
            "grid_auto_rows": null,
            "grid_column": null,
            "grid_gap": null,
            "grid_row": null,
            "grid_template_areas": null,
            "grid_template_columns": null,
            "grid_template_rows": null,
            "height": null,
            "justify_content": null,
            "justify_items": null,
            "left": null,
            "margin": null,
            "max_height": null,
            "max_width": null,
            "min_height": null,
            "min_width": null,
            "object_fit": null,
            "object_position": null,
            "order": null,
            "overflow": null,
            "overflow_x": null,
            "overflow_y": null,
            "padding": null,
            "right": null,
            "top": null,
            "visibility": null,
            "width": null
          }
        },
        "1ee4627731974b989ebb77686c6873bc": {
          "model_module": "@jupyter-widgets/controls",
          "model_module_version": "1.5.0",
          "model_name": "HBoxModel",
          "state": {
            "_dom_classes": [],
            "_model_module": "@jupyter-widgets/controls",
            "_model_module_version": "1.5.0",
            "_model_name": "HBoxModel",
            "_view_count": null,
            "_view_module": "@jupyter-widgets/controls",
            "_view_module_version": "1.5.0",
            "_view_name": "HBoxView",
            "box_style": "",
            "children": [
              "IPY_MODEL_602d468ef9a2472ea4ddc8a44a73d305",
              "IPY_MODEL_51039df23e034225bc03860378e906f5",
              "IPY_MODEL_76a331a733b946d2bc1e50fe8ec3ab09"
            ],
            "layout": "IPY_MODEL_c97c8b77efdb41eba15961989df6e9c4"
          }
        },
        "1f30e2d15b8743c7baeeb2c212dd3a78": {
          "model_module": "@jupyter-widgets/controls",
          "model_module_version": "1.5.0",
          "model_name": "FloatProgressModel",
          "state": {
            "_dom_classes": [],
            "_model_module": "@jupyter-widgets/controls",
            "_model_module_version": "1.5.0",
            "_model_name": "FloatProgressModel",
            "_view_count": null,
            "_view_module": "@jupyter-widgets/controls",
            "_view_module_version": "1.5.0",
            "_view_name": "ProgressView",
            "bar_style": "success",
            "description": "",
            "description_tooltip": null,
            "layout": "IPY_MODEL_3f8b3da3465e43fea06311168aa6046f",
            "max": 2,
            "min": 0,
            "orientation": "horizontal",
            "style": "IPY_MODEL_e9cda838602743918881f7f20a84092f",
            "value": 2
          }
        },
        "21e563fbe34a411ca8eee57d9ec8cede": {
          "model_module": "@jupyter-widgets/base",
          "model_module_version": "1.2.0",
          "model_name": "LayoutModel",
          "state": {
            "_model_module": "@jupyter-widgets/base",
            "_model_module_version": "1.2.0",
            "_model_name": "LayoutModel",
            "_view_count": null,
            "_view_module": "@jupyter-widgets/base",
            "_view_module_version": "1.2.0",
            "_view_name": "LayoutView",
            "align_content": null,
            "align_items": null,
            "align_self": null,
            "border": null,
            "bottom": null,
            "display": null,
            "flex": null,
            "flex_flow": null,
            "grid_area": null,
            "grid_auto_columns": null,
            "grid_auto_flow": null,
            "grid_auto_rows": null,
            "grid_column": null,
            "grid_gap": null,
            "grid_row": null,
            "grid_template_areas": null,
            "grid_template_columns": null,
            "grid_template_rows": null,
            "height": null,
            "justify_content": null,
            "justify_items": null,
            "left": null,
            "margin": null,
            "max_height": null,
            "max_width": null,
            "min_height": null,
            "min_width": null,
            "object_fit": null,
            "object_position": null,
            "order": null,
            "overflow": null,
            "overflow_x": null,
            "overflow_y": null,
            "padding": null,
            "right": null,
            "top": null,
            "visibility": null,
            "width": null
          }
        },
        "2249c87a3d964a1abcb68d0065070c3b": {
          "model_module": "@jupyter-widgets/controls",
          "model_module_version": "1.5.0",
          "model_name": "DescriptionStyleModel",
          "state": {
            "_model_module": "@jupyter-widgets/controls",
            "_model_module_version": "1.5.0",
            "_model_name": "DescriptionStyleModel",
            "_view_count": null,
            "_view_module": "@jupyter-widgets/base",
            "_view_module_version": "1.2.0",
            "_view_name": "StyleView",
            "description_width": ""
          }
        },
        "2317562651ed41fc8cb2804bc570cc88": {
          "model_module": "@jupyter-widgets/controls",
          "model_module_version": "1.5.0",
          "model_name": "HTMLModel",
          "state": {
            "_dom_classes": [],
            "_model_module": "@jupyter-widgets/controls",
            "_model_module_version": "1.5.0",
            "_model_name": "HTMLModel",
            "_view_count": null,
            "_view_module": "@jupyter-widgets/controls",
            "_view_module_version": "1.5.0",
            "_view_name": "HTMLView",
            "description": "",
            "description_tooltip": null,
            "layout": "IPY_MODEL_d35b3af37dec42c38f1160781c82331f",
            "placeholder": "​",
            "style": "IPY_MODEL_0d85bf2d05e14ab2a88b6ceb58170f01",
            "value": " 232k/232k [00:00&lt;00:00, 1.80MB/s]"
          }
        },
        "237f704a35654a9cb3552acfc5fcbd4a": {
          "model_module": "@jupyter-widgets/controls",
          "model_module_version": "1.5.0",
          "model_name": "HTMLModel",
          "state": {
            "_dom_classes": [],
            "_model_module": "@jupyter-widgets/controls",
            "_model_module_version": "1.5.0",
            "_model_name": "HTMLModel",
            "_view_count": null,
            "_view_module": "@jupyter-widgets/controls",
            "_view_module_version": "1.5.0",
            "_view_name": "HTMLView",
            "description": "",
            "description_tooltip": null,
            "layout": "IPY_MODEL_5cfca4f1c804404890cecc320728ea93",
            "placeholder": "​",
            "style": "IPY_MODEL_7db03e50e39e43d685099ff0c9b5afed",
            "value": " 66.7M/66.7M [00:00&lt;00:00, 118MB/s]"
          }
        },
        "24d388ca793a4d2f8b2db4e5680d8cc3": {
          "model_module": "@jupyter-widgets/controls",
          "model_module_version": "1.5.0",
          "model_name": "ProgressStyleModel",
          "state": {
            "_model_module": "@jupyter-widgets/controls",
            "_model_module_version": "1.5.0",
            "_model_name": "ProgressStyleModel",
            "_view_count": null,
            "_view_module": "@jupyter-widgets/base",
            "_view_module_version": "1.2.0",
            "_view_name": "StyleView",
            "bar_color": null,
            "description_width": ""
          }
        },
        "24fe885af95b43d5a4fc646332daa988": {
          "model_module": "@jupyter-widgets/controls",
          "model_module_version": "1.5.0",
          "model_name": "HBoxModel",
          "state": {
            "_dom_classes": [],
            "_model_module": "@jupyter-widgets/controls",
            "_model_module_version": "1.5.0",
            "_model_name": "HBoxModel",
            "_view_count": null,
            "_view_module": "@jupyter-widgets/controls",
            "_view_module_version": "1.5.0",
            "_view_name": "HBoxView",
            "box_style": "",
            "children": [
              "IPY_MODEL_83a35d583e1641af9c60488735add458",
              "IPY_MODEL_9afe46534e52483aa884d8b6828934f0",
              "IPY_MODEL_237f704a35654a9cb3552acfc5fcbd4a"
            ],
            "layout": "IPY_MODEL_bb8e1d66541e45cfbcb756195039dd4b"
          }
        },
        "26b405e190334a4e9b2db92ed71fc64f": {
          "model_module": "@jupyter-widgets/base",
          "model_module_version": "1.2.0",
          "model_name": "LayoutModel",
          "state": {
            "_model_module": "@jupyter-widgets/base",
            "_model_module_version": "1.2.0",
            "_model_name": "LayoutModel",
            "_view_count": null,
            "_view_module": "@jupyter-widgets/base",
            "_view_module_version": "1.2.0",
            "_view_name": "LayoutView",
            "align_content": null,
            "align_items": null,
            "align_self": null,
            "border": null,
            "bottom": null,
            "display": null,
            "flex": null,
            "flex_flow": null,
            "grid_area": null,
            "grid_auto_columns": null,
            "grid_auto_flow": null,
            "grid_auto_rows": null,
            "grid_column": null,
            "grid_gap": null,
            "grid_row": null,
            "grid_template_areas": null,
            "grid_template_columns": null,
            "grid_template_rows": null,
            "height": null,
            "justify_content": null,
            "justify_items": null,
            "left": null,
            "margin": null,
            "max_height": null,
            "max_width": null,
            "min_height": null,
            "min_width": null,
            "object_fit": null,
            "object_position": null,
            "order": null,
            "overflow": null,
            "overflow_x": null,
            "overflow_y": null,
            "padding": null,
            "right": null,
            "top": null,
            "visibility": null,
            "width": null
          }
        },
        "27f10aabf07443c695d3389180fb75a2": {
          "model_module": "@jupyter-widgets/base",
          "model_module_version": "1.2.0",
          "model_name": "LayoutModel",
          "state": {
            "_model_module": "@jupyter-widgets/base",
            "_model_module_version": "1.2.0",
            "_model_name": "LayoutModel",
            "_view_count": null,
            "_view_module": "@jupyter-widgets/base",
            "_view_module_version": "1.2.0",
            "_view_name": "LayoutView",
            "align_content": null,
            "align_items": null,
            "align_self": null,
            "border": null,
            "bottom": null,
            "display": null,
            "flex": null,
            "flex_flow": null,
            "grid_area": null,
            "grid_auto_columns": null,
            "grid_auto_flow": null,
            "grid_auto_rows": null,
            "grid_column": null,
            "grid_gap": null,
            "grid_row": null,
            "grid_template_areas": null,
            "grid_template_columns": null,
            "grid_template_rows": null,
            "height": null,
            "justify_content": null,
            "justify_items": null,
            "left": null,
            "margin": null,
            "max_height": null,
            "max_width": null,
            "min_height": null,
            "min_width": null,
            "object_fit": null,
            "object_position": null,
            "order": null,
            "overflow": null,
            "overflow_x": null,
            "overflow_y": null,
            "padding": null,
            "right": null,
            "top": null,
            "visibility": null,
            "width": null
          }
        },
        "2898905bdb1d40fa8ec288346085ef9d": {
          "model_module": "@jupyter-widgets/controls",
          "model_module_version": "1.5.0",
          "model_name": "HTMLModel",
          "state": {
            "_dom_classes": [],
            "_model_module": "@jupyter-widgets/controls",
            "_model_module_version": "1.5.0",
            "_model_name": "HTMLModel",
            "_view_count": null,
            "_view_module": "@jupyter-widgets/controls",
            "_view_module_version": "1.5.0",
            "_view_name": "HTMLView",
            "description": "",
            "description_tooltip": null,
            "layout": "IPY_MODEL_f06ee5fdcdfc442d8ea88556b4806552",
            "placeholder": "​",
            "style": "IPY_MODEL_0dd95fe4d17e421a9a090466381533d4",
            "value": " 466k/466k [00:00&lt;00:00, 17.0MB/s]"
          }
        },
        "2af4a8fe651c4dc9bce961703a5775a6": {
          "model_module": "@jupyter-widgets/controls",
          "model_module_version": "1.5.0",
          "model_name": "FloatProgressModel",
          "state": {
            "_dom_classes": [],
            "_model_module": "@jupyter-widgets/controls",
            "_model_module_version": "1.5.0",
            "_model_name": "FloatProgressModel",
            "_view_count": null,
            "_view_module": "@jupyter-widgets/controls",
            "_view_module_version": "1.5.0",
            "_view_name": "ProgressView",
            "bar_style": "success",
            "description": "",
            "description_tooltip": null,
            "layout": "IPY_MODEL_e867f3f278aa4466a9d9415737dbde11",
            "max": 711661,
            "min": 0,
            "orientation": "horizontal",
            "style": "IPY_MODEL_993925eec1464991acf417f0064e4ab0",
            "value": 711661
          }
        },
        "2b938cf4e3814d9fa1afa0b68ffcb6a5": {
          "model_module": "@jupyter-widgets/controls",
          "model_module_version": "1.5.0",
          "model_name": "DescriptionStyleModel",
          "state": {
            "_model_module": "@jupyter-widgets/controls",
            "_model_module_version": "1.5.0",
            "_model_name": "DescriptionStyleModel",
            "_view_count": null,
            "_view_module": "@jupyter-widgets/base",
            "_view_module_version": "1.2.0",
            "_view_name": "StyleView",
            "description_width": ""
          }
        },
        "2cb3100175bd4134ac48c411078d6a99": {
          "model_module": "@jupyter-widgets/controls",
          "model_module_version": "1.5.0",
          "model_name": "HBoxModel",
          "state": {
            "_dom_classes": [],
            "_model_module": "@jupyter-widgets/controls",
            "_model_module_version": "1.5.0",
            "_model_name": "HBoxModel",
            "_view_count": null,
            "_view_module": "@jupyter-widgets/controls",
            "_view_module_version": "1.5.0",
            "_view_name": "HBoxView",
            "box_style": "",
            "children": [
              "IPY_MODEL_bc24b7acfe474faf8f6d745cfd3f685e",
              "IPY_MODEL_87ba7589ee0643819431719a4053c550",
              "IPY_MODEL_0eb8c34ded4947d6b928d6526f8b8434"
            ],
            "layout": "IPY_MODEL_0512c0d30c9d4ab9849014f935516012"
          }
        },
        "2d88b1818757468c914b9f2913289ea9": {
          "model_module": "@jupyter-widgets/controls",
          "model_module_version": "1.5.0",
          "model_name": "DescriptionStyleModel",
          "state": {
            "_model_module": "@jupyter-widgets/controls",
            "_model_module_version": "1.5.0",
            "_model_name": "DescriptionStyleModel",
            "_view_count": null,
            "_view_module": "@jupyter-widgets/base",
            "_view_module_version": "1.2.0",
            "_view_name": "StyleView",
            "description_width": ""
          }
        },
        "2de1ca42f0e646b4b405f483f2d7955c": {
          "model_module": "@jupyter-widgets/controls",
          "model_module_version": "1.5.0",
          "model_name": "DescriptionStyleModel",
          "state": {
            "_model_module": "@jupyter-widgets/controls",
            "_model_module_version": "1.5.0",
            "_model_name": "DescriptionStyleModel",
            "_view_count": null,
            "_view_module": "@jupyter-widgets/base",
            "_view_module_version": "1.2.0",
            "_view_name": "StyleView",
            "description_width": ""
          }
        },
        "2ffabe2f54d949ffa5d94d3d09c0b5a4": {
          "model_module": "@jupyter-widgets/controls",
          "model_module_version": "1.5.0",
          "model_name": "DescriptionStyleModel",
          "state": {
            "_model_module": "@jupyter-widgets/controls",
            "_model_module_version": "1.5.0",
            "_model_name": "DescriptionStyleModel",
            "_view_count": null,
            "_view_module": "@jupyter-widgets/base",
            "_view_module_version": "1.2.0",
            "_view_name": "StyleView",
            "description_width": ""
          }
        },
        "3018bb644cf84bf4829d2f556864e2ef": {
          "model_module": "@jupyter-widgets/base",
          "model_module_version": "1.2.0",
          "model_name": "LayoutModel",
          "state": {
            "_model_module": "@jupyter-widgets/base",
            "_model_module_version": "1.2.0",
            "_model_name": "LayoutModel",
            "_view_count": null,
            "_view_module": "@jupyter-widgets/base",
            "_view_module_version": "1.2.0",
            "_view_name": "LayoutView",
            "align_content": null,
            "align_items": null,
            "align_self": null,
            "border": null,
            "bottom": null,
            "display": null,
            "flex": null,
            "flex_flow": null,
            "grid_area": null,
            "grid_auto_columns": null,
            "grid_auto_flow": null,
            "grid_auto_rows": null,
            "grid_column": null,
            "grid_gap": null,
            "grid_row": null,
            "grid_template_areas": null,
            "grid_template_columns": null,
            "grid_template_rows": null,
            "height": null,
            "justify_content": null,
            "justify_items": null,
            "left": null,
            "margin": null,
            "max_height": null,
            "max_width": null,
            "min_height": null,
            "min_width": null,
            "object_fit": null,
            "object_position": null,
            "order": null,
            "overflow": null,
            "overflow_x": null,
            "overflow_y": null,
            "padding": null,
            "right": null,
            "top": null,
            "visibility": null,
            "width": null
          }
        },
        "3063f32707274efe9e4d9cf6f41a8727": {
          "model_module": "@jupyter-widgets/base",
          "model_module_version": "1.2.0",
          "model_name": "LayoutModel",
          "state": {
            "_model_module": "@jupyter-widgets/base",
            "_model_module_version": "1.2.0",
            "_model_name": "LayoutModel",
            "_view_count": null,
            "_view_module": "@jupyter-widgets/base",
            "_view_module_version": "1.2.0",
            "_view_name": "LayoutView",
            "align_content": null,
            "align_items": null,
            "align_self": null,
            "border": null,
            "bottom": null,
            "display": null,
            "flex": null,
            "flex_flow": null,
            "grid_area": null,
            "grid_auto_columns": null,
            "grid_auto_flow": null,
            "grid_auto_rows": null,
            "grid_column": null,
            "grid_gap": null,
            "grid_row": null,
            "grid_template_areas": null,
            "grid_template_columns": null,
            "grid_template_rows": null,
            "height": null,
            "justify_content": null,
            "justify_items": null,
            "left": null,
            "margin": null,
            "max_height": null,
            "max_width": null,
            "min_height": null,
            "min_width": null,
            "object_fit": null,
            "object_position": null,
            "order": null,
            "overflow": null,
            "overflow_x": null,
            "overflow_y": null,
            "padding": null,
            "right": null,
            "top": null,
            "visibility": null,
            "width": null
          }
        },
        "318d07d670ff4a9687cc5a050611f747": {
          "model_module": "@jupyter-widgets/base",
          "model_module_version": "1.2.0",
          "model_name": "LayoutModel",
          "state": {
            "_model_module": "@jupyter-widgets/base",
            "_model_module_version": "1.2.0",
            "_model_name": "LayoutModel",
            "_view_count": null,
            "_view_module": "@jupyter-widgets/base",
            "_view_module_version": "1.2.0",
            "_view_name": "LayoutView",
            "align_content": null,
            "align_items": null,
            "align_self": null,
            "border": null,
            "bottom": null,
            "display": null,
            "flex": null,
            "flex_flow": null,
            "grid_area": null,
            "grid_auto_columns": null,
            "grid_auto_flow": null,
            "grid_auto_rows": null,
            "grid_column": null,
            "grid_gap": null,
            "grid_row": null,
            "grid_template_areas": null,
            "grid_template_columns": null,
            "grid_template_rows": null,
            "height": null,
            "justify_content": null,
            "justify_items": null,
            "left": null,
            "margin": null,
            "max_height": null,
            "max_width": null,
            "min_height": null,
            "min_width": null,
            "object_fit": null,
            "object_position": null,
            "order": null,
            "overflow": null,
            "overflow_x": null,
            "overflow_y": null,
            "padding": null,
            "right": null,
            "top": null,
            "visibility": null,
            "width": null
          }
        },
        "3195089f2e5c4987ad75e884d0cd3dac": {
          "model_module": "@jupyter-widgets/base",
          "model_module_version": "1.2.0",
          "model_name": "LayoutModel",
          "state": {
            "_model_module": "@jupyter-widgets/base",
            "_model_module_version": "1.2.0",
            "_model_name": "LayoutModel",
            "_view_count": null,
            "_view_module": "@jupyter-widgets/base",
            "_view_module_version": "1.2.0",
            "_view_name": "LayoutView",
            "align_content": null,
            "align_items": null,
            "align_self": null,
            "border": null,
            "bottom": null,
            "display": null,
            "flex": null,
            "flex_flow": null,
            "grid_area": null,
            "grid_auto_columns": null,
            "grid_auto_flow": null,
            "grid_auto_rows": null,
            "grid_column": null,
            "grid_gap": null,
            "grid_row": null,
            "grid_template_areas": null,
            "grid_template_columns": null,
            "grid_template_rows": null,
            "height": null,
            "justify_content": null,
            "justify_items": null,
            "left": null,
            "margin": null,
            "max_height": null,
            "max_width": null,
            "min_height": null,
            "min_width": null,
            "object_fit": null,
            "object_position": null,
            "order": null,
            "overflow": null,
            "overflow_x": null,
            "overflow_y": null,
            "padding": null,
            "right": null,
            "top": null,
            "visibility": null,
            "width": null
          }
        },
        "338cc4d0dbe14ad3a93494ce5e98ef49": {
          "model_module": "@jupyter-widgets/base",
          "model_module_version": "1.2.0",
          "model_name": "LayoutModel",
          "state": {
            "_model_module": "@jupyter-widgets/base",
            "_model_module_version": "1.2.0",
            "_model_name": "LayoutModel",
            "_view_count": null,
            "_view_module": "@jupyter-widgets/base",
            "_view_module_version": "1.2.0",
            "_view_name": "LayoutView",
            "align_content": null,
            "align_items": null,
            "align_self": null,
            "border": null,
            "bottom": null,
            "display": null,
            "flex": null,
            "flex_flow": null,
            "grid_area": null,
            "grid_auto_columns": null,
            "grid_auto_flow": null,
            "grid_auto_rows": null,
            "grid_column": null,
            "grid_gap": null,
            "grid_row": null,
            "grid_template_areas": null,
            "grid_template_columns": null,
            "grid_template_rows": null,
            "height": null,
            "justify_content": null,
            "justify_items": null,
            "left": null,
            "margin": null,
            "max_height": null,
            "max_width": null,
            "min_height": null,
            "min_width": null,
            "object_fit": null,
            "object_position": null,
            "order": null,
            "overflow": null,
            "overflow_x": null,
            "overflow_y": null,
            "padding": null,
            "right": null,
            "top": null,
            "visibility": null,
            "width": null
          }
        },
        "3523b96232154f6889ff118dd75dd097": {
          "model_module": "@jupyter-widgets/controls",
          "model_module_version": "1.5.0",
          "model_name": "HBoxModel",
          "state": {
            "_dom_classes": [],
            "_model_module": "@jupyter-widgets/controls",
            "_model_module_version": "1.5.0",
            "_model_name": "HBoxModel",
            "_view_count": null,
            "_view_module": "@jupyter-widgets/controls",
            "_view_module_version": "1.5.0",
            "_view_name": "HBoxView",
            "box_style": "",
            "children": [
              "IPY_MODEL_a0d305189f9c44258a3f06b22e490509",
              "IPY_MODEL_a688908d1d3e4594aac870335f12924e",
              "IPY_MODEL_b883609e9284449bb8f9775f69b70cd1"
            ],
            "layout": "IPY_MODEL_c3c8dfec96ff4860820fd5061a0f626f"
          }
        },
        "35505693aa3d403a8e132db8b388e56d": {
          "model_module": "@jupyter-widgets/controls",
          "model_module_version": "1.5.0",
          "model_name": "ProgressStyleModel",
          "state": {
            "_model_module": "@jupyter-widgets/controls",
            "_model_module_version": "1.5.0",
            "_model_name": "ProgressStyleModel",
            "_view_count": null,
            "_view_module": "@jupyter-widgets/base",
            "_view_module_version": "1.2.0",
            "_view_name": "StyleView",
            "bar_color": null,
            "description_width": ""
          }
        },
        "35da8c3c8437456b920309f9efc6fbf8": {
          "model_module": "@jupyter-widgets/base",
          "model_module_version": "1.2.0",
          "model_name": "LayoutModel",
          "state": {
            "_model_module": "@jupyter-widgets/base",
            "_model_module_version": "1.2.0",
            "_model_name": "LayoutModel",
            "_view_count": null,
            "_view_module": "@jupyter-widgets/base",
            "_view_module_version": "1.2.0",
            "_view_name": "LayoutView",
            "align_content": null,
            "align_items": null,
            "align_self": null,
            "border": null,
            "bottom": null,
            "display": null,
            "flex": null,
            "flex_flow": null,
            "grid_area": null,
            "grid_auto_columns": null,
            "grid_auto_flow": null,
            "grid_auto_rows": null,
            "grid_column": null,
            "grid_gap": null,
            "grid_row": null,
            "grid_template_areas": null,
            "grid_template_columns": null,
            "grid_template_rows": null,
            "height": null,
            "justify_content": null,
            "justify_items": null,
            "left": null,
            "margin": null,
            "max_height": null,
            "max_width": null,
            "min_height": null,
            "min_width": null,
            "object_fit": null,
            "object_position": null,
            "order": null,
            "overflow": null,
            "overflow_x": null,
            "overflow_y": null,
            "padding": null,
            "right": null,
            "top": null,
            "visibility": null,
            "width": null
          }
        },
        "35e15e940ff0423498501a36008b4cc8": {
          "model_module": "@jupyter-widgets/controls",
          "model_module_version": "1.5.0",
          "model_name": "FloatProgressModel",
          "state": {
            "_dom_classes": [],
            "_model_module": "@jupyter-widgets/controls",
            "_model_module_version": "1.5.0",
            "_model_name": "FloatProgressModel",
            "_view_count": null,
            "_view_module": "@jupyter-widgets/controls",
            "_view_module_version": "1.5.0",
            "_view_name": "ProgressView",
            "bar_style": "success",
            "description": "",
            "description_tooltip": null,
            "layout": "IPY_MODEL_318d07d670ff4a9687cc5a050611f747",
            "max": 125,
            "min": 0,
            "orientation": "horizontal",
            "style": "IPY_MODEL_b9dd6c99f335458299250a0abd685921",
            "value": 125
          }
        },
        "37136f2a502b401fbe914d1fff85a1a8": {
          "model_module": "@jupyter-widgets/controls",
          "model_module_version": "1.5.0",
          "model_name": "FloatProgressModel",
          "state": {
            "_dom_classes": [],
            "_model_module": "@jupyter-widgets/controls",
            "_model_module_version": "1.5.0",
            "_model_name": "FloatProgressModel",
            "_view_count": null,
            "_view_module": "@jupyter-widgets/controls",
            "_view_module_version": "1.5.0",
            "_view_name": "ProgressView",
            "bar_style": "success",
            "description": "",
            "description_tooltip": null,
            "layout": "IPY_MODEL_a2b26d41485740f682fc2b060dd31f4c",
            "max": 394,
            "min": 0,
            "orientation": "horizontal",
            "style": "IPY_MODEL_5a498b225ab2419a927ac9cb07fd917b",
            "value": 394
          }
        },
        "37504c661b4a437e8459cd199c832990": {
          "model_module": "@jupyter-widgets/base",
          "model_module_version": "1.2.0",
          "model_name": "LayoutModel",
          "state": {
            "_model_module": "@jupyter-widgets/base",
            "_model_module_version": "1.2.0",
            "_model_name": "LayoutModel",
            "_view_count": null,
            "_view_module": "@jupyter-widgets/base",
            "_view_module_version": "1.2.0",
            "_view_name": "LayoutView",
            "align_content": null,
            "align_items": null,
            "align_self": null,
            "border": null,
            "bottom": null,
            "display": null,
            "flex": null,
            "flex_flow": null,
            "grid_area": null,
            "grid_auto_columns": null,
            "grid_auto_flow": null,
            "grid_auto_rows": null,
            "grid_column": null,
            "grid_gap": null,
            "grid_row": null,
            "grid_template_areas": null,
            "grid_template_columns": null,
            "grid_template_rows": null,
            "height": null,
            "justify_content": null,
            "justify_items": null,
            "left": null,
            "margin": null,
            "max_height": null,
            "max_width": null,
            "min_height": null,
            "min_width": null,
            "object_fit": null,
            "object_position": null,
            "order": null,
            "overflow": null,
            "overflow_x": null,
            "overflow_y": null,
            "padding": null,
            "right": null,
            "top": null,
            "visibility": null,
            "width": null
          }
        },
        "37844d2a7c5f4218a2240e82ce97cf19": {
          "model_module": "@jupyter-widgets/base",
          "model_module_version": "1.2.0",
          "model_name": "LayoutModel",
          "state": {
            "_model_module": "@jupyter-widgets/base",
            "_model_module_version": "1.2.0",
            "_model_name": "LayoutModel",
            "_view_count": null,
            "_view_module": "@jupyter-widgets/base",
            "_view_module_version": "1.2.0",
            "_view_name": "LayoutView",
            "align_content": null,
            "align_items": null,
            "align_self": null,
            "border": null,
            "bottom": null,
            "display": null,
            "flex": null,
            "flex_flow": null,
            "grid_area": null,
            "grid_auto_columns": null,
            "grid_auto_flow": null,
            "grid_auto_rows": null,
            "grid_column": null,
            "grid_gap": null,
            "grid_row": null,
            "grid_template_areas": null,
            "grid_template_columns": null,
            "grid_template_rows": null,
            "height": null,
            "justify_content": null,
            "justify_items": null,
            "left": null,
            "margin": null,
            "max_height": null,
            "max_width": null,
            "min_height": null,
            "min_width": null,
            "object_fit": null,
            "object_position": null,
            "order": null,
            "overflow": null,
            "overflow_x": null,
            "overflow_y": null,
            "padding": null,
            "right": null,
            "top": null,
            "visibility": null,
            "width": null
          }
        },
        "387b8667cd1647d8bca60336d85607ca": {
          "model_module": "@jupyter-widgets/controls",
          "model_module_version": "1.5.0",
          "model_name": "DescriptionStyleModel",
          "state": {
            "_model_module": "@jupyter-widgets/controls",
            "_model_module_version": "1.5.0",
            "_model_name": "DescriptionStyleModel",
            "_view_count": null,
            "_view_module": "@jupyter-widgets/base",
            "_view_module_version": "1.2.0",
            "_view_name": "StyleView",
            "description_width": ""
          }
        },
        "38bff6f532af4119ad181db5dbe9dd09": {
          "model_module": "@jupyter-widgets/controls",
          "model_module_version": "1.5.0",
          "model_name": "FloatProgressModel",
          "state": {
            "_dom_classes": [],
            "_model_module": "@jupyter-widgets/controls",
            "_model_module_version": "1.5.0",
            "_model_name": "FloatProgressModel",
            "_view_count": null,
            "_view_module": "@jupyter-widgets/controls",
            "_view_module_version": "1.5.0",
            "_view_name": "ProgressView",
            "bar_style": "success",
            "description": "",
            "description_tooltip": null,
            "layout": "IPY_MODEL_47953e5b73ec4bd8aa11df90d123144c",
            "max": 190,
            "min": 0,
            "orientation": "horizontal",
            "style": "IPY_MODEL_7f5a3a01e8c24e0587a9f3fbbaf62849",
            "value": 190
          }
        },
        "3acedf500033442987549fd05e95a734": {
          "model_module": "@jupyter-widgets/base",
          "model_module_version": "1.2.0",
          "model_name": "LayoutModel",
          "state": {
            "_model_module": "@jupyter-widgets/base",
            "_model_module_version": "1.2.0",
            "_model_name": "LayoutModel",
            "_view_count": null,
            "_view_module": "@jupyter-widgets/base",
            "_view_module_version": "1.2.0",
            "_view_name": "LayoutView",
            "align_content": null,
            "align_items": null,
            "align_self": null,
            "border": null,
            "bottom": null,
            "display": null,
            "flex": null,
            "flex_flow": null,
            "grid_area": null,
            "grid_auto_columns": null,
            "grid_auto_flow": null,
            "grid_auto_rows": null,
            "grid_column": null,
            "grid_gap": null,
            "grid_row": null,
            "grid_template_areas": null,
            "grid_template_columns": null,
            "grid_template_rows": null,
            "height": null,
            "justify_content": null,
            "justify_items": null,
            "left": null,
            "margin": null,
            "max_height": null,
            "max_width": null,
            "min_height": null,
            "min_width": null,
            "object_fit": null,
            "object_position": null,
            "order": null,
            "overflow": null,
            "overflow_x": null,
            "overflow_y": null,
            "padding": null,
            "right": null,
            "top": null,
            "visibility": null,
            "width": null
          }
        },
        "3b75f6b2cc514c9e922b98dc7ece86f8": {
          "model_module": "@jupyter-widgets/controls",
          "model_module_version": "1.5.0",
          "model_name": "DescriptionStyleModel",
          "state": {
            "_model_module": "@jupyter-widgets/controls",
            "_model_module_version": "1.5.0",
            "_model_name": "DescriptionStyleModel",
            "_view_count": null,
            "_view_module": "@jupyter-widgets/base",
            "_view_module_version": "1.2.0",
            "_view_name": "StyleView",
            "description_width": ""
          }
        },
        "3caba0cf4eb649c796110423ddb41d76": {
          "model_module": "@jupyter-widgets/controls",
          "model_module_version": "1.5.0",
          "model_name": "HTMLModel",
          "state": {
            "_dom_classes": [],
            "_model_module": "@jupyter-widgets/controls",
            "_model_module_version": "1.5.0",
            "_model_name": "HTMLModel",
            "_view_count": null,
            "_view_module": "@jupyter-widgets/controls",
            "_view_module_version": "1.5.0",
            "_view_name": "HTMLView",
            "description": "",
            "description_tooltip": null,
            "layout": "IPY_MODEL_ae33322780664d6ea7d1d391ebc995ef",
            "placeholder": "​",
            "style": "IPY_MODEL_5630f5a53c304cf894c62791f5d50317",
            "value": " 712k/712k [00:00&lt;00:00, 6.54MB/s]"
          }
        },
        "3d60d66a84734f828e1434d8163d7458": {
          "model_module": "@jupyter-widgets/controls",
          "model_module_version": "1.5.0",
          "model_name": "HTMLModel",
          "state": {
            "_dom_classes": [],
            "_model_module": "@jupyter-widgets/controls",
            "_model_module_version": "1.5.0",
            "_model_name": "HTMLModel",
            "_view_count": null,
            "_view_module": "@jupyter-widgets/controls",
            "_view_module_version": "1.5.0",
            "_view_name": "HTMLView",
            "description": "",
            "description_tooltip": null,
            "layout": "IPY_MODEL_a5939beac0624ddba76aa4b4e48af2bc",
            "placeholder": "​",
            "style": "IPY_MODEL_cbd372902d044f7dbc81fc6d3303b58b",
            "value": "Evaluating:  13%"
          }
        },
        "3d7aeff90eb746e59e5e03517826b962": {
          "model_module": "@jupyter-widgets/controls",
          "model_module_version": "1.5.0",
          "model_name": "HTMLModel",
          "state": {
            "_dom_classes": [],
            "_model_module": "@jupyter-widgets/controls",
            "_model_module_version": "1.5.0",
            "_model_name": "HTMLModel",
            "_view_count": null,
            "_view_module": "@jupyter-widgets/controls",
            "_view_module_version": "1.5.0",
            "_view_name": "HTMLView",
            "description": "",
            "description_tooltip": null,
            "layout": "IPY_MODEL_9d251f4e96a2461f9930a7be5ddc5949",
            "placeholder": "​",
            "style": "IPY_MODEL_1415f7f357c3496f91c5707905972bbf",
            "value": "sentence_bert_config.json: 100%"
          }
        },
        "3f8b3da3465e43fea06311168aa6046f": {
          "model_module": "@jupyter-widgets/base",
          "model_module_version": "1.2.0",
          "model_name": "LayoutModel",
          "state": {
            "_model_module": "@jupyter-widgets/base",
            "_model_module_version": "1.2.0",
            "_model_name": "LayoutModel",
            "_view_count": null,
            "_view_module": "@jupyter-widgets/base",
            "_view_module_version": "1.2.0",
            "_view_name": "LayoutView",
            "align_content": null,
            "align_items": null,
            "align_self": null,
            "border": null,
            "bottom": null,
            "display": null,
            "flex": null,
            "flex_flow": null,
            "grid_area": null,
            "grid_auto_columns": null,
            "grid_auto_flow": null,
            "grid_auto_rows": null,
            "grid_column": null,
            "grid_gap": null,
            "grid_row": null,
            "grid_template_areas": null,
            "grid_template_columns": null,
            "grid_template_rows": null,
            "height": null,
            "justify_content": null,
            "justify_items": null,
            "left": null,
            "margin": null,
            "max_height": null,
            "max_width": null,
            "min_height": null,
            "min_width": null,
            "object_fit": null,
            "object_position": null,
            "order": null,
            "overflow": null,
            "overflow_x": null,
            "overflow_y": null,
            "padding": null,
            "right": null,
            "top": null,
            "visibility": null,
            "width": null
          }
        },
        "406f8e522bb3466e9d44378095dc6800": {
          "model_module": "@jupyter-widgets/base",
          "model_module_version": "1.2.0",
          "model_name": "LayoutModel",
          "state": {
            "_model_module": "@jupyter-widgets/base",
            "_model_module_version": "1.2.0",
            "_model_name": "LayoutModel",
            "_view_count": null,
            "_view_module": "@jupyter-widgets/base",
            "_view_module_version": "1.2.0",
            "_view_name": "LayoutView",
            "align_content": null,
            "align_items": null,
            "align_self": null,
            "border": null,
            "bottom": null,
            "display": null,
            "flex": null,
            "flex_flow": null,
            "grid_area": null,
            "grid_auto_columns": null,
            "grid_auto_flow": null,
            "grid_auto_rows": null,
            "grid_column": null,
            "grid_gap": null,
            "grid_row": null,
            "grid_template_areas": null,
            "grid_template_columns": null,
            "grid_template_rows": null,
            "height": null,
            "justify_content": null,
            "justify_items": null,
            "left": null,
            "margin": null,
            "max_height": null,
            "max_width": null,
            "min_height": null,
            "min_width": null,
            "object_fit": null,
            "object_position": null,
            "order": null,
            "overflow": null,
            "overflow_x": null,
            "overflow_y": null,
            "padding": null,
            "right": null,
            "top": null,
            "visibility": null,
            "width": null
          }
        },
        "410a1349155749e3ad74cb8711eff47f": {
          "model_module": "@jupyter-widgets/controls",
          "model_module_version": "1.5.0",
          "model_name": "ProgressStyleModel",
          "state": {
            "_model_module": "@jupyter-widgets/controls",
            "_model_module_version": "1.5.0",
            "_model_name": "ProgressStyleModel",
            "_view_count": null,
            "_view_module": "@jupyter-widgets/base",
            "_view_module_version": "1.2.0",
            "_view_name": "StyleView",
            "bar_color": null,
            "description_width": ""
          }
        },
        "43e5697eb6984c6dabffa45ee82e5ddf": {
          "model_module": "@jupyter-widgets/controls",
          "model_module_version": "1.5.0",
          "model_name": "DescriptionStyleModel",
          "state": {
            "_model_module": "@jupyter-widgets/controls",
            "_model_module_version": "1.5.0",
            "_model_name": "DescriptionStyleModel",
            "_view_count": null,
            "_view_module": "@jupyter-widgets/base",
            "_view_module_version": "1.2.0",
            "_view_name": "StyleView",
            "description_width": ""
          }
        },
        "447612cf95814a0b9d4508ca6cd42755": {
          "model_module": "@jupyter-widgets/controls",
          "model_module_version": "1.5.0",
          "model_name": "HTMLModel",
          "state": {
            "_dom_classes": [],
            "_model_module": "@jupyter-widgets/controls",
            "_model_module_version": "1.5.0",
            "_model_name": "HTMLModel",
            "_view_count": null,
            "_view_module": "@jupyter-widgets/controls",
            "_view_module_version": "1.5.0",
            "_view_name": "HTMLView",
            "description": "",
            "description_tooltip": null,
            "layout": "IPY_MODEL_ec44dfa0aa094c36a095bfc051b371f8",
            "placeholder": "​",
            "style": "IPY_MODEL_b2f52f9ec21b4b6d9d6f920a4d840cf1",
            "value": " 743/743 [00:00&lt;00:00, 55.3kB/s]"
          }
        },
        "45ea17e76fe146b18d43e9aebe14bb83": {
          "model_module": "@jupyter-widgets/base",
          "model_module_version": "1.2.0",
          "model_name": "LayoutModel",
          "state": {
            "_model_module": "@jupyter-widgets/base",
            "_model_module_version": "1.2.0",
            "_model_name": "LayoutModel",
            "_view_count": null,
            "_view_module": "@jupyter-widgets/base",
            "_view_module_version": "1.2.0",
            "_view_name": "LayoutView",
            "align_content": null,
            "align_items": null,
            "align_self": null,
            "border": null,
            "bottom": null,
            "display": null,
            "flex": null,
            "flex_flow": null,
            "grid_area": null,
            "grid_auto_columns": null,
            "grid_auto_flow": null,
            "grid_auto_rows": null,
            "grid_column": null,
            "grid_gap": null,
            "grid_row": null,
            "grid_template_areas": null,
            "grid_template_columns": null,
            "grid_template_rows": null,
            "height": null,
            "justify_content": null,
            "justify_items": null,
            "left": null,
            "margin": null,
            "max_height": null,
            "max_width": null,
            "min_height": null,
            "min_width": null,
            "object_fit": null,
            "object_position": null,
            "order": null,
            "overflow": null,
            "overflow_x": null,
            "overflow_y": null,
            "padding": null,
            "right": null,
            "top": null,
            "visibility": null,
            "width": null
          }
        },
        "4664b270e70c4177b765da68ce6a0f5b": {
          "model_module": "@jupyter-widgets/base",
          "model_module_version": "1.2.0",
          "model_name": "LayoutModel",
          "state": {
            "_model_module": "@jupyter-widgets/base",
            "_model_module_version": "1.2.0",
            "_model_name": "LayoutModel",
            "_view_count": null,
            "_view_module": "@jupyter-widgets/base",
            "_view_module_version": "1.2.0",
            "_view_name": "LayoutView",
            "align_content": null,
            "align_items": null,
            "align_self": null,
            "border": null,
            "bottom": null,
            "display": null,
            "flex": null,
            "flex_flow": null,
            "grid_area": null,
            "grid_auto_columns": null,
            "grid_auto_flow": null,
            "grid_auto_rows": null,
            "grid_column": null,
            "grid_gap": null,
            "grid_row": null,
            "grid_template_areas": null,
            "grid_template_columns": null,
            "grid_template_rows": null,
            "height": null,
            "justify_content": null,
            "justify_items": null,
            "left": null,
            "margin": null,
            "max_height": null,
            "max_width": null,
            "min_height": null,
            "min_width": null,
            "object_fit": null,
            "object_position": null,
            "order": null,
            "overflow": null,
            "overflow_x": null,
            "overflow_y": null,
            "padding": null,
            "right": null,
            "top": null,
            "visibility": null,
            "width": null
          }
        },
        "46d675fe44df47cd887d2c7386dcac9a": {
          "model_module": "@jupyter-widgets/base",
          "model_module_version": "1.2.0",
          "model_name": "LayoutModel",
          "state": {
            "_model_module": "@jupyter-widgets/base",
            "_model_module_version": "1.2.0",
            "_model_name": "LayoutModel",
            "_view_count": null,
            "_view_module": "@jupyter-widgets/base",
            "_view_module_version": "1.2.0",
            "_view_name": "LayoutView",
            "align_content": null,
            "align_items": null,
            "align_self": null,
            "border": null,
            "bottom": null,
            "display": null,
            "flex": null,
            "flex_flow": null,
            "grid_area": null,
            "grid_auto_columns": null,
            "grid_auto_flow": null,
            "grid_auto_rows": null,
            "grid_column": null,
            "grid_gap": null,
            "grid_row": null,
            "grid_template_areas": null,
            "grid_template_columns": null,
            "grid_template_rows": null,
            "height": null,
            "justify_content": null,
            "justify_items": null,
            "left": null,
            "margin": null,
            "max_height": null,
            "max_width": null,
            "min_height": null,
            "min_width": null,
            "object_fit": null,
            "object_position": null,
            "order": null,
            "overflow": null,
            "overflow_x": null,
            "overflow_y": null,
            "padding": null,
            "right": null,
            "top": null,
            "visibility": null,
            "width": null
          }
        },
        "4784697b98e8497ea66d8695d37a8704": {
          "model_module": "@jupyter-widgets/base",
          "model_module_version": "1.2.0",
          "model_name": "LayoutModel",
          "state": {
            "_model_module": "@jupyter-widgets/base",
            "_model_module_version": "1.2.0",
            "_model_name": "LayoutModel",
            "_view_count": null,
            "_view_module": "@jupyter-widgets/base",
            "_view_module_version": "1.2.0",
            "_view_name": "LayoutView",
            "align_content": null,
            "align_items": null,
            "align_self": null,
            "border": null,
            "bottom": null,
            "display": null,
            "flex": null,
            "flex_flow": null,
            "grid_area": null,
            "grid_auto_columns": null,
            "grid_auto_flow": null,
            "grid_auto_rows": null,
            "grid_column": null,
            "grid_gap": null,
            "grid_row": null,
            "grid_template_areas": null,
            "grid_template_columns": null,
            "grid_template_rows": null,
            "height": null,
            "justify_content": null,
            "justify_items": null,
            "left": null,
            "margin": null,
            "max_height": null,
            "max_width": null,
            "min_height": null,
            "min_width": null,
            "object_fit": null,
            "object_position": null,
            "order": null,
            "overflow": null,
            "overflow_x": null,
            "overflow_y": null,
            "padding": null,
            "right": null,
            "top": null,
            "visibility": null,
            "width": null
          }
        },
        "47953e5b73ec4bd8aa11df90d123144c": {
          "model_module": "@jupyter-widgets/base",
          "model_module_version": "1.2.0",
          "model_name": "LayoutModel",
          "state": {
            "_model_module": "@jupyter-widgets/base",
            "_model_module_version": "1.2.0",
            "_model_name": "LayoutModel",
            "_view_count": null,
            "_view_module": "@jupyter-widgets/base",
            "_view_module_version": "1.2.0",
            "_view_name": "LayoutView",
            "align_content": null,
            "align_items": null,
            "align_self": null,
            "border": null,
            "bottom": null,
            "display": null,
            "flex": null,
            "flex_flow": null,
            "grid_area": null,
            "grid_auto_columns": null,
            "grid_auto_flow": null,
            "grid_auto_rows": null,
            "grid_column": null,
            "grid_gap": null,
            "grid_row": null,
            "grid_template_areas": null,
            "grid_template_columns": null,
            "grid_template_rows": null,
            "height": null,
            "justify_content": null,
            "justify_items": null,
            "left": null,
            "margin": null,
            "max_height": null,
            "max_width": null,
            "min_height": null,
            "min_width": null,
            "object_fit": null,
            "object_position": null,
            "order": null,
            "overflow": null,
            "overflow_x": null,
            "overflow_y": null,
            "padding": null,
            "right": null,
            "top": null,
            "visibility": null,
            "width": null
          }
        },
        "47c3e2d888f34ea0b0db1d607df23010": {
          "model_module": "@jupyter-widgets/base",
          "model_module_version": "1.2.0",
          "model_name": "LayoutModel",
          "state": {
            "_model_module": "@jupyter-widgets/base",
            "_model_module_version": "1.2.0",
            "_model_name": "LayoutModel",
            "_view_count": null,
            "_view_module": "@jupyter-widgets/base",
            "_view_module_version": "1.2.0",
            "_view_name": "LayoutView",
            "align_content": null,
            "align_items": null,
            "align_self": null,
            "border": null,
            "bottom": null,
            "display": null,
            "flex": null,
            "flex_flow": null,
            "grid_area": null,
            "grid_auto_columns": null,
            "grid_auto_flow": null,
            "grid_auto_rows": null,
            "grid_column": null,
            "grid_gap": null,
            "grid_row": null,
            "grid_template_areas": null,
            "grid_template_columns": null,
            "grid_template_rows": null,
            "height": null,
            "justify_content": null,
            "justify_items": null,
            "left": null,
            "margin": null,
            "max_height": null,
            "max_width": null,
            "min_height": null,
            "min_width": null,
            "object_fit": null,
            "object_position": null,
            "order": null,
            "overflow": null,
            "overflow_x": null,
            "overflow_y": null,
            "padding": null,
            "right": null,
            "top": null,
            "visibility": null,
            "width": null
          }
        },
        "47cb9d463511430db1971a55fb18fc0e": {
          "model_module": "@jupyter-widgets/controls",
          "model_module_version": "1.5.0",
          "model_name": "HTMLModel",
          "state": {
            "_dom_classes": [],
            "_model_module": "@jupyter-widgets/controls",
            "_model_module_version": "1.5.0",
            "_model_name": "HTMLModel",
            "_view_count": null,
            "_view_module": "@jupyter-widgets/controls",
            "_view_module_version": "1.5.0",
            "_view_name": "HTMLView",
            "description": "",
            "description_tooltip": null,
            "layout": "IPY_MODEL_d39adc1a7dcd4cd9a868ecd9eec8a363",
            "placeholder": "​",
            "style": "IPY_MODEL_a2e9817392934fd9abe31d7285bcca79",
            "value": " 190/190 [00:00&lt;00:00, 9.70kB/s]"
          }
        },
        "48b77f774e8242bfbccd588e5db57382": {
          "model_module": "@jupyter-widgets/controls",
          "model_module_version": "1.5.0",
          "model_name": "DescriptionStyleModel",
          "state": {
            "_model_module": "@jupyter-widgets/controls",
            "_model_module_version": "1.5.0",
            "_model_name": "DescriptionStyleModel",
            "_view_count": null,
            "_view_module": "@jupyter-widgets/base",
            "_view_module_version": "1.2.0",
            "_view_name": "StyleView",
            "description_width": ""
          }
        },
        "49db9fec5b3a4d83aee48c819ba35271": {
          "model_module": "@jupyter-widgets/controls",
          "model_module_version": "1.5.0",
          "model_name": "HTMLModel",
          "state": {
            "_dom_classes": [],
            "_model_module": "@jupyter-widgets/controls",
            "_model_module_version": "1.5.0",
            "_model_name": "HTMLModel",
            "_view_count": null,
            "_view_module": "@jupyter-widgets/controls",
            "_view_module_version": "1.5.0",
            "_view_name": "HTMLView",
            "description": "",
            "description_tooltip": null,
            "layout": "IPY_MODEL_eee34618d08048b6886f2cc6635a079c",
            "placeholder": "​",
            "style": "IPY_MODEL_2de1ca42f0e646b4b405f483f2d7955c",
            "value": "tokenizer_config.json: 100%"
          }
        },
        "4aa3f187f761430387d3be91160e3ced": {
          "model_module": "@jupyter-widgets/controls",
          "model_module_version": "1.5.0",
          "model_name": "DescriptionStyleModel",
          "state": {
            "_model_module": "@jupyter-widgets/controls",
            "_model_module_version": "1.5.0",
            "_model_name": "DescriptionStyleModel",
            "_view_count": null,
            "_view_module": "@jupyter-widgets/base",
            "_view_module_version": "1.2.0",
            "_view_name": "StyleView",
            "description_width": ""
          }
        },
        "4b6fb204b6ff435e811f74d70f6d73ba": {
          "model_module": "@jupyter-widgets/controls",
          "model_module_version": "1.5.0",
          "model_name": "DescriptionStyleModel",
          "state": {
            "_model_module": "@jupyter-widgets/controls",
            "_model_module_version": "1.5.0",
            "_model_name": "DescriptionStyleModel",
            "_view_count": null,
            "_view_module": "@jupyter-widgets/base",
            "_view_module_version": "1.2.0",
            "_view_name": "StyleView",
            "description_width": ""
          }
        },
        "51039df23e034225bc03860378e906f5": {
          "model_module": "@jupyter-widgets/controls",
          "model_module_version": "1.5.0",
          "model_name": "FloatProgressModel",
          "state": {
            "_dom_classes": [],
            "_model_module": "@jupyter-widgets/controls",
            "_model_module_version": "1.5.0",
            "_model_name": "FloatProgressModel",
            "_view_count": null,
            "_view_module": "@jupyter-widgets/controls",
            "_view_module_version": "1.5.0",
            "_view_name": "ProgressView",
            "bar_style": "success",
            "description": "",
            "description_tooltip": null,
            "layout": "IPY_MODEL_21e563fbe34a411ca8eee57d9ec8cede",
            "max": 231508,
            "min": 0,
            "orientation": "horizontal",
            "style": "IPY_MODEL_a95eed872de042d3a7f856805d9ad72d",
            "value": 231508
          }
        },
        "525d283ec1d74fb9a3964fdf1b5f7031": {
          "model_module": "@jupyter-widgets/base",
          "model_module_version": "1.2.0",
          "model_name": "LayoutModel",
          "state": {
            "_model_module": "@jupyter-widgets/base",
            "_model_module_version": "1.2.0",
            "_model_name": "LayoutModel",
            "_view_count": null,
            "_view_module": "@jupyter-widgets/base",
            "_view_module_version": "1.2.0",
            "_view_name": "LayoutView",
            "align_content": null,
            "align_items": null,
            "align_self": null,
            "border": null,
            "bottom": null,
            "display": null,
            "flex": null,
            "flex_flow": null,
            "grid_area": null,
            "grid_auto_columns": null,
            "grid_auto_flow": null,
            "grid_auto_rows": null,
            "grid_column": null,
            "grid_gap": null,
            "grid_row": null,
            "grid_template_areas": null,
            "grid_template_columns": null,
            "grid_template_rows": null,
            "height": null,
            "justify_content": null,
            "justify_items": null,
            "left": null,
            "margin": null,
            "max_height": null,
            "max_width": null,
            "min_height": null,
            "min_width": null,
            "object_fit": null,
            "object_position": null,
            "order": null,
            "overflow": null,
            "overflow_x": null,
            "overflow_y": null,
            "padding": null,
            "right": null,
            "top": null,
            "visibility": null,
            "width": null
          }
        },
        "539ff4d4093a46f2b5aca4049dec78cd": {
          "model_module": "@jupyter-widgets/controls",
          "model_module_version": "1.5.0",
          "model_name": "FloatProgressModel",
          "state": {
            "_dom_classes": [],
            "_model_module": "@jupyter-widgets/controls",
            "_model_module_version": "1.5.0",
            "_model_name": "FloatProgressModel",
            "_view_count": null,
            "_view_module": "@jupyter-widgets/controls",
            "_view_module_version": "1.5.0",
            "_view_name": "ProgressView",
            "bar_style": "success",
            "description": "",
            "description_tooltip": null,
            "layout": "IPY_MODEL_6e45ee5eba6743aaa7566c3c7eeab729",
            "max": 112,
            "min": 0,
            "orientation": "horizontal",
            "style": "IPY_MODEL_9f68f7cd2dad4fb9a4ab79825ee83bb9",
            "value": 112
          }
        },
        "55a83d40c1a4440bbc295ead729f87fa": {
          "model_module": "@jupyter-widgets/controls",
          "model_module_version": "1.5.0",
          "model_name": "HTMLModel",
          "state": {
            "_dom_classes": [],
            "_model_module": "@jupyter-widgets/controls",
            "_model_module_version": "1.5.0",
            "_model_name": "HTMLModel",
            "_view_count": null,
            "_view_module": "@jupyter-widgets/controls",
            "_view_module_version": "1.5.0",
            "_view_name": "HTMLView",
            "description": "",
            "description_tooltip": null,
            "layout": "IPY_MODEL_a4d3dcccae804dc58ac0f7c69ce8a8d5",
            "placeholder": "​",
            "style": "IPY_MODEL_a9e4bce77e7a4c91a41899df31a43d3b",
            "value": "1_Pooling/config.json: 100%"
          }
        },
        "5630f5a53c304cf894c62791f5d50317": {
          "model_module": "@jupyter-widgets/controls",
          "model_module_version": "1.5.0",
          "model_name": "DescriptionStyleModel",
          "state": {
            "_model_module": "@jupyter-widgets/controls",
            "_model_module_version": "1.5.0",
            "_model_name": "DescriptionStyleModel",
            "_view_count": null,
            "_view_module": "@jupyter-widgets/base",
            "_view_module_version": "1.2.0",
            "_view_name": "StyleView",
            "description_width": ""
          }
        },
        "57f06bdc4c1c4a00bd1968a99eb62f00": {
          "model_module": "@jupyter-widgets/controls",
          "model_module_version": "1.5.0",
          "model_name": "DescriptionStyleModel",
          "state": {
            "_model_module": "@jupyter-widgets/controls",
            "_model_module_version": "1.5.0",
            "_model_name": "DescriptionStyleModel",
            "_view_count": null,
            "_view_module": "@jupyter-widgets/base",
            "_view_module_version": "1.2.0",
            "_view_name": "StyleView",
            "description_width": ""
          }
        },
        "5965ee3b04de4f6cac5b0844a4f8532c": {
          "model_module": "@jupyter-widgets/controls",
          "model_module_version": "1.5.0",
          "model_name": "DescriptionStyleModel",
          "state": {
            "_model_module": "@jupyter-widgets/controls",
            "_model_module_version": "1.5.0",
            "_model_name": "DescriptionStyleModel",
            "_view_count": null,
            "_view_module": "@jupyter-widgets/base",
            "_view_module_version": "1.2.0",
            "_view_name": "StyleView",
            "description_width": ""
          }
        },
        "5a498b225ab2419a927ac9cb07fd917b": {
          "model_module": "@jupyter-widgets/controls",
          "model_module_version": "1.5.0",
          "model_name": "ProgressStyleModel",
          "state": {
            "_model_module": "@jupyter-widgets/controls",
            "_model_module_version": "1.5.0",
            "_model_name": "ProgressStyleModel",
            "_view_count": null,
            "_view_module": "@jupyter-widgets/base",
            "_view_module_version": "1.2.0",
            "_view_name": "StyleView",
            "bar_color": null,
            "description_width": ""
          }
        },
        "5c92e8d30e284b11b3bfad767eae619d": {
          "model_module": "@jupyter-widgets/controls",
          "model_module_version": "1.5.0",
          "model_name": "FloatProgressModel",
          "state": {
            "_dom_classes": [],
            "_model_module": "@jupyter-widgets/controls",
            "_model_module_version": "1.5.0",
            "_model_name": "FloatProgressModel",
            "_view_count": null,
            "_view_module": "@jupyter-widgets/controls",
            "_view_module_version": "1.5.0",
            "_view_name": "ProgressView",
            "bar_style": "success",
            "description": "",
            "description_tooltip": null,
            "layout": "IPY_MODEL_37844d2a7c5f4218a2240e82ce97cf19",
            "max": 181,
            "min": 0,
            "orientation": "horizontal",
            "style": "IPY_MODEL_15fa35d3f46e4757a1dfb25f805dacbb",
            "value": 181
          }
        },
        "5cfca4f1c804404890cecc320728ea93": {
          "model_module": "@jupyter-widgets/base",
          "model_module_version": "1.2.0",
          "model_name": "LayoutModel",
          "state": {
            "_model_module": "@jupyter-widgets/base",
            "_model_module_version": "1.2.0",
            "_model_name": "LayoutModel",
            "_view_count": null,
            "_view_module": "@jupyter-widgets/base",
            "_view_module_version": "1.2.0",
            "_view_name": "LayoutView",
            "align_content": null,
            "align_items": null,
            "align_self": null,
            "border": null,
            "bottom": null,
            "display": null,
            "flex": null,
            "flex_flow": null,
            "grid_area": null,
            "grid_auto_columns": null,
            "grid_auto_flow": null,
            "grid_auto_rows": null,
            "grid_column": null,
            "grid_gap": null,
            "grid_row": null,
            "grid_template_areas": null,
            "grid_template_columns": null,
            "grid_template_rows": null,
            "height": null,
            "justify_content": null,
            "justify_items": null,
            "left": null,
            "margin": null,
            "max_height": null,
            "max_width": null,
            "min_height": null,
            "min_width": null,
            "object_fit": null,
            "object_position": null,
            "order": null,
            "overflow": null,
            "overflow_x": null,
            "overflow_y": null,
            "padding": null,
            "right": null,
            "top": null,
            "visibility": null,
            "width": null
          }
        },
        "5f36f3bbf91f4769bef2ddd0d67cc0fe": {
          "model_module": "@jupyter-widgets/controls",
          "model_module_version": "1.5.0",
          "model_name": "DescriptionStyleModel",
          "state": {
            "_model_module": "@jupyter-widgets/controls",
            "_model_module_version": "1.5.0",
            "_model_name": "DescriptionStyleModel",
            "_view_count": null,
            "_view_module": "@jupyter-widgets/base",
            "_view_module_version": "1.2.0",
            "_view_name": "StyleView",
            "description_width": ""
          }
        },
        "602d468ef9a2472ea4ddc8a44a73d305": {
          "model_module": "@jupyter-widgets/controls",
          "model_module_version": "1.5.0",
          "model_name": "HTMLModel",
          "state": {
            "_dom_classes": [],
            "_model_module": "@jupyter-widgets/controls",
            "_model_module_version": "1.5.0",
            "_model_name": "HTMLModel",
            "_view_count": null,
            "_view_module": "@jupyter-widgets/controls",
            "_view_module_version": "1.5.0",
            "_view_name": "HTMLView",
            "description": "",
            "description_tooltip": null,
            "layout": "IPY_MODEL_e8876471964842298f2b53c2db9f5855",
            "placeholder": "​",
            "style": "IPY_MODEL_19ddd5e5c8ea4406a32079f145a87439",
            "value": "vocab.txt: 100%"
          }
        },
        "6072edc04b3a45fcad8afc726d78f9fe": {
          "model_module": "@jupyter-widgets/base",
          "model_module_version": "1.2.0",
          "model_name": "LayoutModel",
          "state": {
            "_model_module": "@jupyter-widgets/base",
            "_model_module_version": "1.2.0",
            "_model_name": "LayoutModel",
            "_view_count": null,
            "_view_module": "@jupyter-widgets/base",
            "_view_module_version": "1.2.0",
            "_view_name": "LayoutView",
            "align_content": null,
            "align_items": null,
            "align_self": null,
            "border": null,
            "bottom": null,
            "display": null,
            "flex": null,
            "flex_flow": null,
            "grid_area": null,
            "grid_auto_columns": null,
            "grid_auto_flow": null,
            "grid_auto_rows": null,
            "grid_column": null,
            "grid_gap": null,
            "grid_row": null,
            "grid_template_areas": null,
            "grid_template_columns": null,
            "grid_template_rows": null,
            "height": null,
            "justify_content": null,
            "justify_items": null,
            "left": null,
            "margin": null,
            "max_height": null,
            "max_width": null,
            "min_height": null,
            "min_width": null,
            "object_fit": null,
            "object_position": null,
            "order": null,
            "overflow": null,
            "overflow_x": null,
            "overflow_y": null,
            "padding": null,
            "right": null,
            "top": null,
            "visibility": null,
            "width": null
          }
        },
        "61d475cb9b1a4323be12cd751bbd18ac": {
          "model_module": "@jupyter-widgets/controls",
          "model_module_version": "1.5.0",
          "model_name": "HTMLModel",
          "state": {
            "_dom_classes": [],
            "_model_module": "@jupyter-widgets/controls",
            "_model_module_version": "1.5.0",
            "_model_name": "HTMLModel",
            "_view_count": null,
            "_view_module": "@jupyter-widgets/controls",
            "_view_module_version": "1.5.0",
            "_view_name": "HTMLView",
            "description": "",
            "description_tooltip": null,
            "layout": "IPY_MODEL_3018bb644cf84bf4829d2f556864e2ef",
            "placeholder": "​",
            "style": "IPY_MODEL_d27beb13dcde45239e96c5d049c4286e",
            "value": " 181/181 [00:00&lt;00:00, 10.3kB/s]"
          }
        },
        "6257382ca558490e8311aab9f326c2b8": {
          "model_module": "@jupyter-widgets/base",
          "model_module_version": "1.2.0",
          "model_name": "LayoutModel",
          "state": {
            "_model_module": "@jupyter-widgets/base",
            "_model_module_version": "1.2.0",
            "_model_name": "LayoutModel",
            "_view_count": null,
            "_view_module": "@jupyter-widgets/base",
            "_view_module_version": "1.2.0",
            "_view_name": "LayoutView",
            "align_content": null,
            "align_items": null,
            "align_self": null,
            "border": null,
            "bottom": null,
            "display": null,
            "flex": null,
            "flex_flow": null,
            "grid_area": null,
            "grid_auto_columns": null,
            "grid_auto_flow": null,
            "grid_auto_rows": null,
            "grid_column": null,
            "grid_gap": null,
            "grid_row": null,
            "grid_template_areas": null,
            "grid_template_columns": null,
            "grid_template_rows": null,
            "height": null,
            "justify_content": null,
            "justify_items": null,
            "left": null,
            "margin": null,
            "max_height": null,
            "max_width": null,
            "min_height": null,
            "min_width": null,
            "object_fit": null,
            "object_position": null,
            "order": null,
            "overflow": null,
            "overflow_x": null,
            "overflow_y": null,
            "padding": null,
            "right": null,
            "top": null,
            "visibility": null,
            "width": null
          }
        },
        "64fdce2d565142f7946e6fcb454fb7e0": {
          "model_module": "@jupyter-widgets/controls",
          "model_module_version": "1.5.0",
          "model_name": "FloatProgressModel",
          "state": {
            "_dom_classes": [],
            "_model_module": "@jupyter-widgets/controls",
            "_model_module_version": "1.5.0",
            "_model_name": "FloatProgressModel",
            "_view_count": null,
            "_view_module": "@jupyter-widgets/controls",
            "_view_module_version": "1.5.0",
            "_view_name": "ProgressView",
            "bar_style": "success",
            "description": "",
            "description_tooltip": null,
            "layout": "IPY_MODEL_c87f800a5968474483f9df1d34087f5b",
            "max": 438349816,
            "min": 0,
            "orientation": "horizontal",
            "style": "IPY_MODEL_7abee038384641fc845300194389baf9",
            "value": 438349816
          }
        },
        "6542a2a21446425394edc42c6d3964fc": {
          "model_module": "@jupyter-widgets/base",
          "model_module_version": "1.2.0",
          "model_name": "LayoutModel",
          "state": {
            "_model_module": "@jupyter-widgets/base",
            "_model_module_version": "1.2.0",
            "_model_name": "LayoutModel",
            "_view_count": null,
            "_view_module": "@jupyter-widgets/base",
            "_view_module_version": "1.2.0",
            "_view_name": "LayoutView",
            "align_content": null,
            "align_items": null,
            "align_self": null,
            "border": null,
            "bottom": null,
            "display": null,
            "flex": null,
            "flex_flow": null,
            "grid_area": null,
            "grid_auto_columns": null,
            "grid_auto_flow": null,
            "grid_auto_rows": null,
            "grid_column": null,
            "grid_gap": null,
            "grid_row": null,
            "grid_template_areas": null,
            "grid_template_columns": null,
            "grid_template_rows": null,
            "height": null,
            "justify_content": null,
            "justify_items": null,
            "left": null,
            "margin": null,
            "max_height": null,
            "max_width": null,
            "min_height": null,
            "min_width": null,
            "object_fit": null,
            "object_position": null,
            "order": null,
            "overflow": null,
            "overflow_x": null,
            "overflow_y": null,
            "padding": null,
            "right": null,
            "top": null,
            "visibility": null,
            "width": null
          }
        },
        "6551e1c893e642159afb8225aa3ee973": {
          "model_module": "@jupyter-widgets/controls",
          "model_module_version": "1.5.0",
          "model_name": "DescriptionStyleModel",
          "state": {
            "_model_module": "@jupyter-widgets/controls",
            "_model_module_version": "1.5.0",
            "_model_name": "DescriptionStyleModel",
            "_view_count": null,
            "_view_module": "@jupyter-widgets/base",
            "_view_module_version": "1.2.0",
            "_view_name": "StyleView",
            "description_width": ""
          }
        },
        "69181b0f0dfa4e1592426406b54638d2": {
          "model_module": "@jupyter-widgets/base",
          "model_module_version": "1.2.0",
          "model_name": "LayoutModel",
          "state": {
            "_model_module": "@jupyter-widgets/base",
            "_model_module_version": "1.2.0",
            "_model_name": "LayoutModel",
            "_view_count": null,
            "_view_module": "@jupyter-widgets/base",
            "_view_module_version": "1.2.0",
            "_view_name": "LayoutView",
            "align_content": null,
            "align_items": null,
            "align_self": null,
            "border": null,
            "bottom": null,
            "display": null,
            "flex": null,
            "flex_flow": null,
            "grid_area": null,
            "grid_auto_columns": null,
            "grid_auto_flow": null,
            "grid_auto_rows": null,
            "grid_column": null,
            "grid_gap": null,
            "grid_row": null,
            "grid_template_areas": null,
            "grid_template_columns": null,
            "grid_template_rows": null,
            "height": null,
            "justify_content": null,
            "justify_items": null,
            "left": null,
            "margin": null,
            "max_height": null,
            "max_width": null,
            "min_height": null,
            "min_width": null,
            "object_fit": null,
            "object_position": null,
            "order": null,
            "overflow": null,
            "overflow_x": null,
            "overflow_y": null,
            "padding": null,
            "right": null,
            "top": null,
            "visibility": null,
            "width": null
          }
        },
        "6afeb80768ae4fe79180629a17f46cae": {
          "model_module": "@jupyter-widgets/controls",
          "model_module_version": "1.5.0",
          "model_name": "ProgressStyleModel",
          "state": {
            "_model_module": "@jupyter-widgets/controls",
            "_model_module_version": "1.5.0",
            "_model_name": "ProgressStyleModel",
            "_view_count": null,
            "_view_module": "@jupyter-widgets/base",
            "_view_module_version": "1.2.0",
            "_view_name": "StyleView",
            "bar_color": null,
            "description_width": ""
          }
        },
        "6cc99046da41443fb751109f1eba4ae3": {
          "model_module": "@jupyter-widgets/controls",
          "model_module_version": "1.5.0",
          "model_name": "HTMLModel",
          "state": {
            "_dom_classes": [],
            "_model_module": "@jupyter-widgets/controls",
            "_model_module_version": "1.5.0",
            "_model_name": "HTMLModel",
            "_view_count": null,
            "_view_module": "@jupyter-widgets/controls",
            "_view_module_version": "1.5.0",
            "_view_name": "HTMLView",
            "description": "",
            "description_tooltip": null,
            "layout": "IPY_MODEL_6542a2a21446425394edc42c6d3964fc",
            "placeholder": "​",
            "style": "IPY_MODEL_5965ee3b04de4f6cac5b0844a4f8532c",
            "value": "Loading checkpoint shards: 100%"
          }
        },
        "6e45ee5eba6743aaa7566c3c7eeab729": {
          "model_module": "@jupyter-widgets/base",
          "model_module_version": "1.2.0",
          "model_name": "LayoutModel",
          "state": {
            "_model_module": "@jupyter-widgets/base",
            "_model_module_version": "1.2.0",
            "_model_name": "LayoutModel",
            "_view_count": null,
            "_view_module": "@jupyter-widgets/base",
            "_view_module_version": "1.2.0",
            "_view_name": "LayoutView",
            "align_content": null,
            "align_items": null,
            "align_self": null,
            "border": null,
            "bottom": null,
            "display": null,
            "flex": null,
            "flex_flow": null,
            "grid_area": null,
            "grid_auto_columns": null,
            "grid_auto_flow": null,
            "grid_auto_rows": null,
            "grid_column": null,
            "grid_gap": null,
            "grid_row": null,
            "grid_template_areas": null,
            "grid_template_columns": null,
            "grid_template_rows": null,
            "height": null,
            "justify_content": null,
            "justify_items": null,
            "left": null,
            "margin": null,
            "max_height": null,
            "max_width": null,
            "min_height": null,
            "min_width": null,
            "object_fit": null,
            "object_position": null,
            "order": null,
            "overflow": null,
            "overflow_x": null,
            "overflow_y": null,
            "padding": null,
            "right": null,
            "top": null,
            "visibility": null,
            "width": null
          }
        },
        "6f0697d1b2e84657a3bf61c7854ddf8f": {
          "model_module": "@jupyter-widgets/base",
          "model_module_version": "1.2.0",
          "model_name": "LayoutModel",
          "state": {
            "_model_module": "@jupyter-widgets/base",
            "_model_module_version": "1.2.0",
            "_model_name": "LayoutModel",
            "_view_count": null,
            "_view_module": "@jupyter-widgets/base",
            "_view_module_version": "1.2.0",
            "_view_name": "LayoutView",
            "align_content": null,
            "align_items": null,
            "align_self": null,
            "border": null,
            "bottom": null,
            "display": null,
            "flex": null,
            "flex_flow": null,
            "grid_area": null,
            "grid_auto_columns": null,
            "grid_auto_flow": null,
            "grid_auto_rows": null,
            "grid_column": null,
            "grid_gap": null,
            "grid_row": null,
            "grid_template_areas": null,
            "grid_template_columns": null,
            "grid_template_rows": null,
            "height": null,
            "justify_content": null,
            "justify_items": null,
            "left": null,
            "margin": null,
            "max_height": null,
            "max_width": null,
            "min_height": null,
            "min_width": null,
            "object_fit": null,
            "object_position": null,
            "order": null,
            "overflow": null,
            "overflow_x": null,
            "overflow_y": null,
            "padding": null,
            "right": null,
            "top": null,
            "visibility": null,
            "width": null
          }
        },
        "6f4fd051163d4bec831437b609d93759": {
          "model_module": "@jupyter-widgets/controls",
          "model_module_version": "1.5.0",
          "model_name": "HTMLModel",
          "state": {
            "_dom_classes": [],
            "_model_module": "@jupyter-widgets/controls",
            "_model_module_version": "1.5.0",
            "_model_name": "HTMLModel",
            "_view_count": null,
            "_view_module": "@jupyter-widgets/controls",
            "_view_module_version": "1.5.0",
            "_view_name": "HTMLView",
            "description": "",
            "description_tooltip": null,
            "layout": "IPY_MODEL_102fe8d038e749a5bc9bf9e82d7f5273",
            "placeholder": "​",
            "style": "IPY_MODEL_c4bdd73ba4ec43a8ad6c845628b6e1e6",
            "value": "vocab.txt: 100%"
          }
        },
        "707a7cfb4ac64c90965263706db66a41": {
          "model_module": "@jupyter-widgets/base",
          "model_module_version": "1.2.0",
          "model_name": "LayoutModel",
          "state": {
            "_model_module": "@jupyter-widgets/base",
            "_model_module_version": "1.2.0",
            "_model_name": "LayoutModel",
            "_view_count": null,
            "_view_module": "@jupyter-widgets/base",
            "_view_module_version": "1.2.0",
            "_view_name": "LayoutView",
            "align_content": null,
            "align_items": null,
            "align_self": null,
            "border": null,
            "bottom": null,
            "display": null,
            "flex": null,
            "flex_flow": null,
            "grid_area": null,
            "grid_auto_columns": null,
            "grid_auto_flow": null,
            "grid_auto_rows": null,
            "grid_column": null,
            "grid_gap": null,
            "grid_row": null,
            "grid_template_areas": null,
            "grid_template_columns": null,
            "grid_template_rows": null,
            "height": null,
            "justify_content": null,
            "justify_items": null,
            "left": null,
            "margin": null,
            "max_height": null,
            "max_width": null,
            "min_height": null,
            "min_width": null,
            "object_fit": null,
            "object_position": null,
            "order": null,
            "overflow": null,
            "overflow_x": null,
            "overflow_y": null,
            "padding": null,
            "right": null,
            "top": null,
            "visibility": null,
            "width": null
          }
        },
        "70b139c3cc8441a3b6a70425774aeaa9": {
          "model_module": "@jupyter-widgets/controls",
          "model_module_version": "1.5.0",
          "model_name": "HBoxModel",
          "state": {
            "_dom_classes": [],
            "_model_module": "@jupyter-widgets/controls",
            "_model_module_version": "1.5.0",
            "_model_name": "HBoxModel",
            "_view_count": null,
            "_view_module": "@jupyter-widgets/controls",
            "_view_module_version": "1.5.0",
            "_view_name": "HBoxView",
            "box_style": "",
            "children": [
              "IPY_MODEL_3d7aeff90eb746e59e5e03517826b962",
              "IPY_MODEL_d518299f7b2d49a0bc0dcb403d898ca9",
              "IPY_MODEL_ab6c35e0b56641babbb2bfb0f27b5702"
            ],
            "layout": "IPY_MODEL_6257382ca558490e8311aab9f326c2b8"
          }
        },
        "70d80ab0c46b47b8b8ac1e9269896b20": {
          "model_module": "@jupyter-widgets/controls",
          "model_module_version": "1.5.0",
          "model_name": "DescriptionStyleModel",
          "state": {
            "_model_module": "@jupyter-widgets/controls",
            "_model_module_version": "1.5.0",
            "_model_name": "DescriptionStyleModel",
            "_view_count": null,
            "_view_module": "@jupyter-widgets/base",
            "_view_module_version": "1.2.0",
            "_view_name": "StyleView",
            "description_width": ""
          }
        },
        "7439c355ee934c2bb73696c65ba0bb4d": {
          "model_module": "@jupyter-widgets/base",
          "model_module_version": "1.2.0",
          "model_name": "LayoutModel",
          "state": {
            "_model_module": "@jupyter-widgets/base",
            "_model_module_version": "1.2.0",
            "_model_name": "LayoutModel",
            "_view_count": null,
            "_view_module": "@jupyter-widgets/base",
            "_view_module_version": "1.2.0",
            "_view_name": "LayoutView",
            "align_content": null,
            "align_items": null,
            "align_self": null,
            "border": null,
            "bottom": null,
            "display": null,
            "flex": null,
            "flex_flow": null,
            "grid_area": null,
            "grid_auto_columns": null,
            "grid_auto_flow": null,
            "grid_auto_rows": null,
            "grid_column": null,
            "grid_gap": null,
            "grid_row": null,
            "grid_template_areas": null,
            "grid_template_columns": null,
            "grid_template_rows": null,
            "height": null,
            "justify_content": null,
            "justify_items": null,
            "left": null,
            "margin": null,
            "max_height": null,
            "max_width": null,
            "min_height": null,
            "min_width": null,
            "object_fit": null,
            "object_position": null,
            "order": null,
            "overflow": null,
            "overflow_x": null,
            "overflow_y": null,
            "padding": null,
            "right": null,
            "top": null,
            "visibility": null,
            "width": null
          }
        },
        "7456d6d612ae41babac7e8c6f73ce860": {
          "model_module": "@jupyter-widgets/controls",
          "model_module_version": "1.5.0",
          "model_name": "FloatProgressModel",
          "state": {
            "_dom_classes": [],
            "_model_module": "@jupyter-widgets/controls",
            "_model_module_version": "1.5.0",
            "_model_name": "FloatProgressModel",
            "_view_count": null,
            "_view_module": "@jupyter-widgets/controls",
            "_view_module_version": "1.5.0",
            "_view_name": "ProgressView",
            "bar_style": "success",
            "description": "",
            "description_tooltip": null,
            "layout": "IPY_MODEL_a0aa2c7b2fa94333bcb9f946cf0ce39a",
            "max": 743,
            "min": 0,
            "orientation": "horizontal",
            "style": "IPY_MODEL_e617330e9ddc42d48dfdc1a36a3afb1e",
            "value": 743
          }
        },
        "762235359f714f31a027d552b7b962b7": {
          "model_module": "@jupyter-widgets/controls",
          "model_module_version": "1.5.0",
          "model_name": "HBoxModel",
          "state": {
            "_dom_classes": [],
            "_model_module": "@jupyter-widgets/controls",
            "_model_module_version": "1.5.0",
            "_model_name": "HBoxModel",
            "_view_count": null,
            "_view_module": "@jupyter-widgets/controls",
            "_view_module_version": "1.5.0",
            "_view_name": "HBoxView",
            "box_style": "",
            "children": [
              "IPY_MODEL_8d9bf73514614e30ae3b0eadb831a277",
              "IPY_MODEL_64fdce2d565142f7946e6fcb454fb7e0",
              "IPY_MODEL_cc789f44fb0141188ccb8516b7f17aa8"
            ],
            "layout": "IPY_MODEL_c530662271d8403cafa3a9f85aa3c6b0"
          }
        },
        "76a331a733b946d2bc1e50fe8ec3ab09": {
          "model_module": "@jupyter-widgets/controls",
          "model_module_version": "1.5.0",
          "model_name": "HTMLModel",
          "state": {
            "_dom_classes": [],
            "_model_module": "@jupyter-widgets/controls",
            "_model_module_version": "1.5.0",
            "_model_name": "HTMLModel",
            "_view_count": null,
            "_view_module": "@jupyter-widgets/controls",
            "_view_module_version": "1.5.0",
            "_view_name": "HTMLView",
            "description": "",
            "description_tooltip": null,
            "layout": "IPY_MODEL_3063f32707274efe9e4d9cf6f41a8727",
            "placeholder": "​",
            "style": "IPY_MODEL_8ee20d7ca3714fd8b23915bcbc2e36e3",
            "value": " 232k/232k [00:00&lt;00:00, 6.69MB/s]"
          }
        },
        "78e442a86d0546be98bbc02f3879d0c6": {
          "model_module": "@jupyter-widgets/controls",
          "model_module_version": "1.5.0",
          "model_name": "DescriptionStyleModel",
          "state": {
            "_model_module": "@jupyter-widgets/controls",
            "_model_module_version": "1.5.0",
            "_model_name": "DescriptionStyleModel",
            "_view_count": null,
            "_view_module": "@jupyter-widgets/base",
            "_view_module_version": "1.2.0",
            "_view_name": "StyleView",
            "description_width": ""
          }
        },
        "798905c2ba5543e7b8caa4d73d4697f4": {
          "model_module": "@jupyter-widgets/controls",
          "model_module_version": "1.5.0",
          "model_name": "HTMLModel",
          "state": {
            "_dom_classes": [],
            "_model_module": "@jupyter-widgets/controls",
            "_model_module_version": "1.5.0",
            "_model_name": "HTMLModel",
            "_view_count": null,
            "_view_module": "@jupyter-widgets/controls",
            "_view_module_version": "1.5.0",
            "_view_name": "HTMLView",
            "description": "",
            "description_tooltip": null,
            "layout": "IPY_MODEL_45ea17e76fe146b18d43e9aebe14bb83",
            "placeholder": "​",
            "style": "IPY_MODEL_14dddb3438d746d092234e7306bb7ccf",
            "value": " 68.1k/68.1k [00:00&lt;00:00, 5.38MB/s]"
          }
        },
        "7abee038384641fc845300194389baf9": {
          "model_module": "@jupyter-widgets/controls",
          "model_module_version": "1.5.0",
          "model_name": "ProgressStyleModel",
          "state": {
            "_model_module": "@jupyter-widgets/controls",
            "_model_module_version": "1.5.0",
            "_model_name": "ProgressStyleModel",
            "_view_count": null,
            "_view_module": "@jupyter-widgets/base",
            "_view_module_version": "1.2.0",
            "_view_name": "StyleView",
            "bar_color": null,
            "description_width": ""
          }
        },
        "7db03e50e39e43d685099ff0c9b5afed": {
          "model_module": "@jupyter-widgets/controls",
          "model_module_version": "1.5.0",
          "model_name": "DescriptionStyleModel",
          "state": {
            "_model_module": "@jupyter-widgets/controls",
            "_model_module_version": "1.5.0",
            "_model_name": "DescriptionStyleModel",
            "_view_count": null,
            "_view_module": "@jupyter-widgets/base",
            "_view_module_version": "1.2.0",
            "_view_name": "StyleView",
            "description_width": ""
          }
        },
        "7ddda285495743b1a4c2db28928f6803": {
          "model_module": "@jupyter-widgets/controls",
          "model_module_version": "1.5.0",
          "model_name": "HTMLModel",
          "state": {
            "_dom_classes": [],
            "_model_module": "@jupyter-widgets/controls",
            "_model_module_version": "1.5.0",
            "_model_name": "HTMLModel",
            "_view_count": null,
            "_view_module": "@jupyter-widgets/controls",
            "_view_module_version": "1.5.0",
            "_view_name": "HTMLView",
            "description": "",
            "description_tooltip": null,
            "layout": "IPY_MODEL_a40adbec32c7472c93f684482ce71511",
            "placeholder": "​",
            "style": "IPY_MODEL_f5269cda66df4e0fa637a455bed9284d",
            "value": " 112/112 [00:00&lt;00:00, 7.23kB/s]"
          }
        },
        "7f5a3a01e8c24e0587a9f3fbbaf62849": {
          "model_module": "@jupyter-widgets/controls",
          "model_module_version": "1.5.0",
          "model_name": "ProgressStyleModel",
          "state": {
            "_model_module": "@jupyter-widgets/controls",
            "_model_module_version": "1.5.0",
            "_model_name": "ProgressStyleModel",
            "_view_count": null,
            "_view_module": "@jupyter-widgets/base",
            "_view_module_version": "1.2.0",
            "_view_name": "StyleView",
            "bar_color": null,
            "description_width": ""
          }
        },
        "8066c5f06129408f94465487945fdbf3": {
          "model_module": "@jupyter-widgets/base",
          "model_module_version": "1.2.0",
          "model_name": "LayoutModel",
          "state": {
            "_model_module": "@jupyter-widgets/base",
            "_model_module_version": "1.2.0",
            "_model_name": "LayoutModel",
            "_view_count": null,
            "_view_module": "@jupyter-widgets/base",
            "_view_module_version": "1.2.0",
            "_view_name": "LayoutView",
            "align_content": null,
            "align_items": null,
            "align_self": null,
            "border": null,
            "bottom": null,
            "display": null,
            "flex": null,
            "flex_flow": null,
            "grid_area": null,
            "grid_auto_columns": null,
            "grid_auto_flow": null,
            "grid_auto_rows": null,
            "grid_column": null,
            "grid_gap": null,
            "grid_row": null,
            "grid_template_areas": null,
            "grid_template_columns": null,
            "grid_template_rows": null,
            "height": null,
            "justify_content": null,
            "justify_items": null,
            "left": null,
            "margin": null,
            "max_height": null,
            "max_width": null,
            "min_height": null,
            "min_width": null,
            "object_fit": null,
            "object_position": null,
            "order": null,
            "overflow": null,
            "overflow_x": null,
            "overflow_y": null,
            "padding": null,
            "right": null,
            "top": null,
            "visibility": null,
            "width": null
          }
        },
        "80a499b8566a42e089305dd96ad87d78": {
          "model_module": "@jupyter-widgets/controls",
          "model_module_version": "1.5.0",
          "model_name": "HBoxModel",
          "state": {
            "_dom_classes": [],
            "_model_module": "@jupyter-widgets/controls",
            "_model_module_version": "1.5.0",
            "_model_name": "HBoxModel",
            "_view_count": null,
            "_view_module": "@jupyter-widgets/controls",
            "_view_module_version": "1.5.0",
            "_view_name": "HBoxView",
            "box_style": "",
            "children": [
              "IPY_MODEL_1074db11928a4663aafb036e5dea3389",
              "IPY_MODEL_35e15e940ff0423498501a36008b4cc8",
              "IPY_MODEL_1169ccf32a2c4731889e02725a47700f"
            ],
            "layout": "IPY_MODEL_fa24ca3089de46f5b32af04d60718dc3"
          }
        },
        "83a35d583e1641af9c60488735add458": {
          "model_module": "@jupyter-widgets/controls",
          "model_module_version": "1.5.0",
          "model_name": "HTMLModel",
          "state": {
            "_dom_classes": [],
            "_model_module": "@jupyter-widgets/controls",
            "_model_module_version": "1.5.0",
            "_model_name": "HTMLModel",
            "_view_count": null,
            "_view_module": "@jupyter-widgets/controls",
            "_view_module_version": "1.5.0",
            "_view_name": "HTMLView",
            "description": "",
            "description_tooltip": null,
            "layout": "IPY_MODEL_9c0330bb97194a96b6b04b33f913fd9f",
            "placeholder": "​",
            "style": "IPY_MODEL_6551e1c893e642159afb8225aa3ee973",
            "value": "model.safetensors: 100%"
          }
        },
        "87ba7589ee0643819431719a4053c550": {
          "model_module": "@jupyter-widgets/controls",
          "model_module_version": "1.5.0",
          "model_name": "FloatProgressModel",
          "state": {
            "_dom_classes": [],
            "_model_module": "@jupyter-widgets/controls",
            "_model_module_version": "1.5.0",
            "_model_name": "FloatProgressModel",
            "_view_count": null,
            "_view_module": "@jupyter-widgets/controls",
            "_view_module_version": "1.5.0",
            "_view_name": "ProgressView",
            "bar_style": "success",
            "description": "",
            "description_tooltip": null,
            "layout": "IPY_MODEL_949bd60868aa4ba682259ac4d9c8beec",
            "max": 405,
            "min": 0,
            "orientation": "horizontal",
            "style": "IPY_MODEL_b2ae16f5e05c478bad07f12ff6899b42",
            "value": 405
          }
        },
        "88c9c5f435544ea094e0febf8f6a258e": {
          "model_module": "@jupyter-widgets/base",
          "model_module_version": "1.2.0",
          "model_name": "LayoutModel",
          "state": {
            "_model_module": "@jupyter-widgets/base",
            "_model_module_version": "1.2.0",
            "_model_name": "LayoutModel",
            "_view_count": null,
            "_view_module": "@jupyter-widgets/base",
            "_view_module_version": "1.2.0",
            "_view_name": "LayoutView",
            "align_content": null,
            "align_items": null,
            "align_self": null,
            "border": null,
            "bottom": null,
            "display": null,
            "flex": null,
            "flex_flow": null,
            "grid_area": null,
            "grid_auto_columns": null,
            "grid_auto_flow": null,
            "grid_auto_rows": null,
            "grid_column": null,
            "grid_gap": null,
            "grid_row": null,
            "grid_template_areas": null,
            "grid_template_columns": null,
            "grid_template_rows": null,
            "height": null,
            "justify_content": null,
            "justify_items": null,
            "left": null,
            "margin": null,
            "max_height": null,
            "max_width": null,
            "min_height": null,
            "min_width": null,
            "object_fit": null,
            "object_position": null,
            "order": null,
            "overflow": null,
            "overflow_x": null,
            "overflow_y": null,
            "padding": null,
            "right": null,
            "top": null,
            "visibility": null,
            "width": null
          }
        },
        "88eb7266645c486db9e023d9004c0428": {
          "model_module": "@jupyter-widgets/controls",
          "model_module_version": "1.5.0",
          "model_name": "FloatProgressModel",
          "state": {
            "_dom_classes": [],
            "_model_module": "@jupyter-widgets/controls",
            "_model_module_version": "1.5.0",
            "_model_name": "FloatProgressModel",
            "_view_count": null,
            "_view_module": "@jupyter-widgets/controls",
            "_view_module_version": "1.5.0",
            "_view_name": "ProgressView",
            "bar_style": "",
            "description": "",
            "description_tooltip": null,
            "layout": "IPY_MODEL_6072edc04b3a45fcad8afc726d78f9fe",
            "max": 1085,
            "min": 0,
            "orientation": "horizontal",
            "style": "IPY_MODEL_35505693aa3d403a8e132db8b388e56d",
            "value": 146
          }
        },
        "8d67c311b2d64a9c8385de0efc8be6ec": {
          "model_module": "@jupyter-widgets/controls",
          "model_module_version": "1.5.0",
          "model_name": "HBoxModel",
          "state": {
            "_dom_classes": [],
            "_model_module": "@jupyter-widgets/controls",
            "_model_module_version": "1.5.0",
            "_model_name": "HBoxModel",
            "_view_count": null,
            "_view_module": "@jupyter-widgets/controls",
            "_view_module_version": "1.5.0",
            "_view_name": "HBoxView",
            "box_style": "",
            "children": [
              "IPY_MODEL_6cc99046da41443fb751109f1eba4ae3",
              "IPY_MODEL_1f30e2d15b8743c7baeeb2c212dd3a78",
              "IPY_MODEL_0bc0f6968d7f408e8184edf34a5a54c0"
            ],
            "layout": "IPY_MODEL_bd403d6d0bf34ba08add5d9e9b2e5903"
          }
        },
        "8d9bf73514614e30ae3b0eadb831a277": {
          "model_module": "@jupyter-widgets/controls",
          "model_module_version": "1.5.0",
          "model_name": "HTMLModel",
          "state": {
            "_dom_classes": [],
            "_model_module": "@jupyter-widgets/controls",
            "_model_module_version": "1.5.0",
            "_model_name": "HTMLModel",
            "_view_count": null,
            "_view_module": "@jupyter-widgets/controls",
            "_view_module_version": "1.5.0",
            "_view_name": "HTMLView",
            "description": "",
            "description_tooltip": null,
            "layout": "IPY_MODEL_4664b270e70c4177b765da68ce6a0f5b",
            "placeholder": "​",
            "style": "IPY_MODEL_a80e23d4913e466f83e7b24f387219c1",
            "value": "model.safetensors: 100%"
          }
        },
        "8ee20d7ca3714fd8b23915bcbc2e36e3": {
          "model_module": "@jupyter-widgets/controls",
          "model_module_version": "1.5.0",
          "model_name": "DescriptionStyleModel",
          "state": {
            "_model_module": "@jupyter-widgets/controls",
            "_model_module_version": "1.5.0",
            "_model_name": "DescriptionStyleModel",
            "_view_count": null,
            "_view_module": "@jupyter-widgets/base",
            "_view_module_version": "1.2.0",
            "_view_name": "StyleView",
            "description_width": ""
          }
        },
        "949bd60868aa4ba682259ac4d9c8beec": {
          "model_module": "@jupyter-widgets/base",
          "model_module_version": "1.2.0",
          "model_name": "LayoutModel",
          "state": {
            "_model_module": "@jupyter-widgets/base",
            "_model_module_version": "1.2.0",
            "_model_name": "LayoutModel",
            "_view_count": null,
            "_view_module": "@jupyter-widgets/base",
            "_view_module_version": "1.2.0",
            "_view_name": "LayoutView",
            "align_content": null,
            "align_items": null,
            "align_self": null,
            "border": null,
            "bottom": null,
            "display": null,
            "flex": null,
            "flex_flow": null,
            "grid_area": null,
            "grid_auto_columns": null,
            "grid_auto_flow": null,
            "grid_auto_rows": null,
            "grid_column": null,
            "grid_gap": null,
            "grid_row": null,
            "grid_template_areas": null,
            "grid_template_columns": null,
            "grid_template_rows": null,
            "height": null,
            "justify_content": null,
            "justify_items": null,
            "left": null,
            "margin": null,
            "max_height": null,
            "max_width": null,
            "min_height": null,
            "min_width": null,
            "object_fit": null,
            "object_position": null,
            "order": null,
            "overflow": null,
            "overflow_x": null,
            "overflow_y": null,
            "padding": null,
            "right": null,
            "top": null,
            "visibility": null,
            "width": null
          }
        },
        "95761cdf486e4f2590edff39ec60eaba": {
          "model_module": "@jupyter-widgets/controls",
          "model_module_version": "1.5.0",
          "model_name": "HBoxModel",
          "state": {
            "_dom_classes": [],
            "_model_module": "@jupyter-widgets/controls",
            "_model_module_version": "1.5.0",
            "_model_name": "HBoxModel",
            "_view_count": null,
            "_view_module": "@jupyter-widgets/controls",
            "_view_module_version": "1.5.0",
            "_view_name": "HBoxView",
            "box_style": "",
            "children": [
              "IPY_MODEL_9657e1f3ac934fed9712995270bc8748",
              "IPY_MODEL_020ce049c28249768a55478da50e8ee8",
              "IPY_MODEL_798905c2ba5543e7b8caa4d73d4697f4"
            ],
            "layout": "IPY_MODEL_8066c5f06129408f94465487945fdbf3"
          }
        },
        "9657e1f3ac934fed9712995270bc8748": {
          "model_module": "@jupyter-widgets/controls",
          "model_module_version": "1.5.0",
          "model_name": "HTMLModel",
          "state": {
            "_dom_classes": [],
            "_model_module": "@jupyter-widgets/controls",
            "_model_module_version": "1.5.0",
            "_model_name": "HTMLModel",
            "_view_count": null,
            "_view_module": "@jupyter-widgets/controls",
            "_view_module_version": "1.5.0",
            "_view_name": "HTMLView",
            "description": "",
            "description_tooltip": null,
            "layout": "IPY_MODEL_3195089f2e5c4987ad75e884d0cd3dac",
            "placeholder": "​",
            "style": "IPY_MODEL_2b938cf4e3814d9fa1afa0b68ffcb6a5",
            "value": "README.md: 100%"
          }
        },
        "97329a0f918943e9ab703cf6659419b0": {
          "model_module": "@jupyter-widgets/base",
          "model_module_version": "1.2.0",
          "model_name": "LayoutModel",
          "state": {
            "_model_module": "@jupyter-widgets/base",
            "_model_module_version": "1.2.0",
            "_model_name": "LayoutModel",
            "_view_count": null,
            "_view_module": "@jupyter-widgets/base",
            "_view_module_version": "1.2.0",
            "_view_name": "LayoutView",
            "align_content": null,
            "align_items": null,
            "align_self": null,
            "border": null,
            "bottom": null,
            "display": null,
            "flex": null,
            "flex_flow": null,
            "grid_area": null,
            "grid_auto_columns": null,
            "grid_auto_flow": null,
            "grid_auto_rows": null,
            "grid_column": null,
            "grid_gap": null,
            "grid_row": null,
            "grid_template_areas": null,
            "grid_template_columns": null,
            "grid_template_rows": null,
            "height": null,
            "justify_content": null,
            "justify_items": null,
            "left": null,
            "margin": null,
            "max_height": null,
            "max_width": null,
            "min_height": null,
            "min_width": null,
            "object_fit": null,
            "object_position": null,
            "order": null,
            "overflow": null,
            "overflow_x": null,
            "overflow_y": null,
            "padding": null,
            "right": null,
            "top": null,
            "visibility": null,
            "width": null
          }
        },
        "97784a5ea66c43328c660a3582837881": {
          "model_module": "@jupyter-widgets/controls",
          "model_module_version": "1.5.0",
          "model_name": "HBoxModel",
          "state": {
            "_dom_classes": [],
            "_model_module": "@jupyter-widgets/controls",
            "_model_module_version": "1.5.0",
            "_model_name": "HBoxModel",
            "_view_count": null,
            "_view_module": "@jupyter-widgets/controls",
            "_view_module_version": "1.5.0",
            "_view_name": "HBoxView",
            "box_style": "",
            "children": [
              "IPY_MODEL_49db9fec5b3a4d83aee48c819ba35271",
              "IPY_MODEL_37136f2a502b401fbe914d1fff85a1a8",
              "IPY_MODEL_d1ef4ef5b8984b57a054e40f7e3e3aeb"
            ],
            "layout": "IPY_MODEL_0269e7f713a64dd9aecb7f606624439f"
          }
        },
        "97e226ab5add49e7990a5290028d13e5": {
          "model_module": "@jupyter-widgets/controls",
          "model_module_version": "1.5.0",
          "model_name": "DescriptionStyleModel",
          "state": {
            "_model_module": "@jupyter-widgets/controls",
            "_model_module_version": "1.5.0",
            "_model_name": "DescriptionStyleModel",
            "_view_count": null,
            "_view_module": "@jupyter-widgets/base",
            "_view_module_version": "1.2.0",
            "_view_name": "StyleView",
            "description_width": ""
          }
        },
        "993925eec1464991acf417f0064e4ab0": {
          "model_module": "@jupyter-widgets/controls",
          "model_module_version": "1.5.0",
          "model_name": "ProgressStyleModel",
          "state": {
            "_model_module": "@jupyter-widgets/controls",
            "_model_module_version": "1.5.0",
            "_model_name": "ProgressStyleModel",
            "_view_count": null,
            "_view_module": "@jupyter-widgets/base",
            "_view_module_version": "1.2.0",
            "_view_name": "StyleView",
            "bar_color": null,
            "description_width": ""
          }
        },
        "9959cbe616dd4390ad9e67a90c51b76b": {
          "model_module": "@jupyter-widgets/controls",
          "model_module_version": "1.5.0",
          "model_name": "FloatProgressModel",
          "state": {
            "_dom_classes": [],
            "_model_module": "@jupyter-widgets/controls",
            "_model_module_version": "1.5.0",
            "_model_name": "FloatProgressModel",
            "_view_count": null,
            "_view_module": "@jupyter-widgets/controls",
            "_view_module_version": "1.5.0",
            "_view_name": "ProgressView",
            "bar_style": "success",
            "description": "",
            "description_tooltip": null,
            "layout": "IPY_MODEL_c9e95e01be38487fa47315df425f93d7",
            "max": 231508,
            "min": 0,
            "orientation": "horizontal",
            "style": "IPY_MODEL_410a1349155749e3ad74cb8711eff47f",
            "value": 231508
          }
        },
        "9996785a43f74aa0bc1bd74899482f15": {
          "model_module": "@jupyter-widgets/base",
          "model_module_version": "1.2.0",
          "model_name": "LayoutModel",
          "state": {
            "_model_module": "@jupyter-widgets/base",
            "_model_module_version": "1.2.0",
            "_model_name": "LayoutModel",
            "_view_count": null,
            "_view_module": "@jupyter-widgets/base",
            "_view_module_version": "1.2.0",
            "_view_name": "LayoutView",
            "align_content": null,
            "align_items": null,
            "align_self": null,
            "border": null,
            "bottom": null,
            "display": null,
            "flex": null,
            "flex_flow": null,
            "grid_area": null,
            "grid_auto_columns": null,
            "grid_auto_flow": null,
            "grid_auto_rows": null,
            "grid_column": null,
            "grid_gap": null,
            "grid_row": null,
            "grid_template_areas": null,
            "grid_template_columns": null,
            "grid_template_rows": null,
            "height": null,
            "justify_content": null,
            "justify_items": null,
            "left": null,
            "margin": null,
            "max_height": null,
            "max_width": null,
            "min_height": null,
            "min_width": null,
            "object_fit": null,
            "object_position": null,
            "order": null,
            "overflow": null,
            "overflow_x": null,
            "overflow_y": null,
            "padding": null,
            "right": null,
            "top": null,
            "visibility": null,
            "width": null
          }
        },
        "9afe46534e52483aa884d8b6828934f0": {
          "model_module": "@jupyter-widgets/controls",
          "model_module_version": "1.5.0",
          "model_name": "FloatProgressModel",
          "state": {
            "_dom_classes": [],
            "_model_module": "@jupyter-widgets/controls",
            "_model_module_version": "1.5.0",
            "_model_name": "FloatProgressModel",
            "_view_count": null,
            "_view_module": "@jupyter-widgets/controls",
            "_view_module_version": "1.5.0",
            "_view_name": "ProgressView",
            "bar_style": "success",
            "description": "",
            "description_tooltip": null,
            "layout": "IPY_MODEL_525d283ec1d74fb9a3964fdf1b5f7031",
            "max": 66746168,
            "min": 0,
            "orientation": "horizontal",
            "style": "IPY_MODEL_24d388ca793a4d2f8b2db4e5680d8cc3",
            "value": 66746168
          }
        },
        "9c0330bb97194a96b6b04b33f913fd9f": {
          "model_module": "@jupyter-widgets/base",
          "model_module_version": "1.2.0",
          "model_name": "LayoutModel",
          "state": {
            "_model_module": "@jupyter-widgets/base",
            "_model_module_version": "1.2.0",
            "_model_name": "LayoutModel",
            "_view_count": null,
            "_view_module": "@jupyter-widgets/base",
            "_view_module_version": "1.2.0",
            "_view_name": "LayoutView",
            "align_content": null,
            "align_items": null,
            "align_self": null,
            "border": null,
            "bottom": null,
            "display": null,
            "flex": null,
            "flex_flow": null,
            "grid_area": null,
            "grid_auto_columns": null,
            "grid_auto_flow": null,
            "grid_auto_rows": null,
            "grid_column": null,
            "grid_gap": null,
            "grid_row": null,
            "grid_template_areas": null,
            "grid_template_columns": null,
            "grid_template_rows": null,
            "height": null,
            "justify_content": null,
            "justify_items": null,
            "left": null,
            "margin": null,
            "max_height": null,
            "max_width": null,
            "min_height": null,
            "min_width": null,
            "object_fit": null,
            "object_position": null,
            "order": null,
            "overflow": null,
            "overflow_x": null,
            "overflow_y": null,
            "padding": null,
            "right": null,
            "top": null,
            "visibility": null,
            "width": null
          }
        },
        "9d1719854c754ba1a2880c7198f22696": {
          "model_module": "@jupyter-widgets/base",
          "model_module_version": "1.2.0",
          "model_name": "LayoutModel",
          "state": {
            "_model_module": "@jupyter-widgets/base",
            "_model_module_version": "1.2.0",
            "_model_name": "LayoutModel",
            "_view_count": null,
            "_view_module": "@jupyter-widgets/base",
            "_view_module_version": "1.2.0",
            "_view_name": "LayoutView",
            "align_content": null,
            "align_items": null,
            "align_self": null,
            "border": null,
            "bottom": null,
            "display": null,
            "flex": null,
            "flex_flow": null,
            "grid_area": null,
            "grid_auto_columns": null,
            "grid_auto_flow": null,
            "grid_auto_rows": null,
            "grid_column": null,
            "grid_gap": null,
            "grid_row": null,
            "grid_template_areas": null,
            "grid_template_columns": null,
            "grid_template_rows": null,
            "height": null,
            "justify_content": null,
            "justify_items": null,
            "left": null,
            "margin": null,
            "max_height": null,
            "max_width": null,
            "min_height": null,
            "min_width": null,
            "object_fit": null,
            "object_position": null,
            "order": null,
            "overflow": null,
            "overflow_x": null,
            "overflow_y": null,
            "padding": null,
            "right": null,
            "top": null,
            "visibility": null,
            "width": null
          }
        },
        "9d251f4e96a2461f9930a7be5ddc5949": {
          "model_module": "@jupyter-widgets/base",
          "model_module_version": "1.2.0",
          "model_name": "LayoutModel",
          "state": {
            "_model_module": "@jupyter-widgets/base",
            "_model_module_version": "1.2.0",
            "_model_name": "LayoutModel",
            "_view_count": null,
            "_view_module": "@jupyter-widgets/base",
            "_view_module_version": "1.2.0",
            "_view_name": "LayoutView",
            "align_content": null,
            "align_items": null,
            "align_self": null,
            "border": null,
            "bottom": null,
            "display": null,
            "flex": null,
            "flex_flow": null,
            "grid_area": null,
            "grid_auto_columns": null,
            "grid_auto_flow": null,
            "grid_auto_rows": null,
            "grid_column": null,
            "grid_gap": null,
            "grid_row": null,
            "grid_template_areas": null,
            "grid_template_columns": null,
            "grid_template_rows": null,
            "height": null,
            "justify_content": null,
            "justify_items": null,
            "left": null,
            "margin": null,
            "max_height": null,
            "max_width": null,
            "min_height": null,
            "min_width": null,
            "object_fit": null,
            "object_position": null,
            "order": null,
            "overflow": null,
            "overflow_x": null,
            "overflow_y": null,
            "padding": null,
            "right": null,
            "top": null,
            "visibility": null,
            "width": null
          }
        },
        "9e67eba6f2cd4808a84ee79ea5352ebf": {
          "model_module": "@jupyter-widgets/base",
          "model_module_version": "1.2.0",
          "model_name": "LayoutModel",
          "state": {
            "_model_module": "@jupyter-widgets/base",
            "_model_module_version": "1.2.0",
            "_model_name": "LayoutModel",
            "_view_count": null,
            "_view_module": "@jupyter-widgets/base",
            "_view_module_version": "1.2.0",
            "_view_name": "LayoutView",
            "align_content": null,
            "align_items": null,
            "align_self": null,
            "border": null,
            "bottom": null,
            "display": null,
            "flex": null,
            "flex_flow": null,
            "grid_area": null,
            "grid_auto_columns": null,
            "grid_auto_flow": null,
            "grid_auto_rows": null,
            "grid_column": null,
            "grid_gap": null,
            "grid_row": null,
            "grid_template_areas": null,
            "grid_template_columns": null,
            "grid_template_rows": null,
            "height": null,
            "justify_content": null,
            "justify_items": null,
            "left": null,
            "margin": null,
            "max_height": null,
            "max_width": null,
            "min_height": null,
            "min_width": null,
            "object_fit": null,
            "object_position": null,
            "order": null,
            "overflow": null,
            "overflow_x": null,
            "overflow_y": null,
            "padding": null,
            "right": null,
            "top": null,
            "visibility": null,
            "width": null
          }
        },
        "9ee4bf1a2afa41949eafe1ece1badf12": {
          "model_module": "@jupyter-widgets/controls",
          "model_module_version": "1.5.0",
          "model_name": "ProgressStyleModel",
          "state": {
            "_model_module": "@jupyter-widgets/controls",
            "_model_module_version": "1.5.0",
            "_model_name": "ProgressStyleModel",
            "_view_count": null,
            "_view_module": "@jupyter-widgets/base",
            "_view_module_version": "1.2.0",
            "_view_name": "StyleView",
            "bar_color": null,
            "description_width": ""
          }
        },
        "9f68f7cd2dad4fb9a4ab79825ee83bb9": {
          "model_module": "@jupyter-widgets/controls",
          "model_module_version": "1.5.0",
          "model_name": "ProgressStyleModel",
          "state": {
            "_model_module": "@jupyter-widgets/controls",
            "_model_module_version": "1.5.0",
            "_model_name": "ProgressStyleModel",
            "_view_count": null,
            "_view_module": "@jupyter-widgets/base",
            "_view_module_version": "1.2.0",
            "_view_name": "StyleView",
            "bar_color": null,
            "description_width": ""
          }
        },
        "9fe46e4c6466491985e4691fb67cad04": {
          "model_module": "@jupyter-widgets/controls",
          "model_module_version": "1.5.0",
          "model_name": "HBoxModel",
          "state": {
            "_dom_classes": [],
            "_model_module": "@jupyter-widgets/controls",
            "_model_module_version": "1.5.0",
            "_model_name": "HBoxModel",
            "_view_count": null,
            "_view_module": "@jupyter-widgets/controls",
            "_view_module_version": "1.5.0",
            "_view_name": "HBoxView",
            "box_style": "",
            "children": [
              "IPY_MODEL_eda62242fad6414e949ad8b9117a75b6",
              "IPY_MODEL_09be5dd9f90c46b5b0c4115e1ed1cc05",
              "IPY_MODEL_f0219c64f8de419983f2adbb410117f7"
            ],
            "layout": "IPY_MODEL_35da8c3c8437456b920309f9efc6fbf8"
          }
        },
        "a0aa2c7b2fa94333bcb9f946cf0ce39a": {
          "model_module": "@jupyter-widgets/base",
          "model_module_version": "1.2.0",
          "model_name": "LayoutModel",
          "state": {
            "_model_module": "@jupyter-widgets/base",
            "_model_module_version": "1.2.0",
            "_model_name": "LayoutModel",
            "_view_count": null,
            "_view_module": "@jupyter-widgets/base",
            "_view_module_version": "1.2.0",
            "_view_name": "LayoutView",
            "align_content": null,
            "align_items": null,
            "align_self": null,
            "border": null,
            "bottom": null,
            "display": null,
            "flex": null,
            "flex_flow": null,
            "grid_area": null,
            "grid_auto_columns": null,
            "grid_auto_flow": null,
            "grid_auto_rows": null,
            "grid_column": null,
            "grid_gap": null,
            "grid_row": null,
            "grid_template_areas": null,
            "grid_template_columns": null,
            "grid_template_rows": null,
            "height": null,
            "justify_content": null,
            "justify_items": null,
            "left": null,
            "margin": null,
            "max_height": null,
            "max_width": null,
            "min_height": null,
            "min_width": null,
            "object_fit": null,
            "object_position": null,
            "order": null,
            "overflow": null,
            "overflow_x": null,
            "overflow_y": null,
            "padding": null,
            "right": null,
            "top": null,
            "visibility": null,
            "width": null
          }
        },
        "a0d305189f9c44258a3f06b22e490509": {
          "model_module": "@jupyter-widgets/controls",
          "model_module_version": "1.5.0",
          "model_name": "HTMLModel",
          "state": {
            "_dom_classes": [],
            "_model_module": "@jupyter-widgets/controls",
            "_model_module_version": "1.5.0",
            "_model_name": "HTMLModel",
            "_view_count": null,
            "_view_module": "@jupyter-widgets/controls",
            "_view_module_version": "1.5.0",
            "_view_name": "HTMLView",
            "description": "",
            "description_tooltip": null,
            "layout": "IPY_MODEL_27f10aabf07443c695d3389180fb75a2",
            "placeholder": "​",
            "style": "IPY_MODEL_57f06bdc4c1c4a00bd1968a99eb62f00",
            "value": "artifact.metadata: 100%"
          }
        },
        "a28fd3b428ce4528928750eb66ec0e52": {
          "model_module": "@jupyter-widgets/controls",
          "model_module_version": "1.5.0",
          "model_name": "FloatProgressModel",
          "state": {
            "_dom_classes": [],
            "_model_module": "@jupyter-widgets/controls",
            "_model_module_version": "1.5.0",
            "_model_name": "FloatProgressModel",
            "_view_count": null,
            "_view_module": "@jupyter-widgets/controls",
            "_view_module_version": "1.5.0",
            "_view_name": "ProgressView",
            "bar_style": "success",
            "description": "",
            "description_tooltip": null,
            "layout": "IPY_MODEL_9996785a43f74aa0bc1bd74899482f15",
            "max": 583,
            "min": 0,
            "orientation": "horizontal",
            "style": "IPY_MODEL_b8688f3db14849f3a2052f195bc6ec32",
            "value": 583
          }
        },
        "a29d6a0ed6b44e13b150ed9d1f67ab31": {
          "model_module": "@jupyter-widgets/controls",
          "model_module_version": "1.5.0",
          "model_name": "ProgressStyleModel",
          "state": {
            "_model_module": "@jupyter-widgets/controls",
            "_model_module_version": "1.5.0",
            "_model_name": "ProgressStyleModel",
            "_view_count": null,
            "_view_module": "@jupyter-widgets/base",
            "_view_module_version": "1.2.0",
            "_view_name": "StyleView",
            "bar_color": null,
            "description_width": ""
          }
        },
        "a2b26d41485740f682fc2b060dd31f4c": {
          "model_module": "@jupyter-widgets/base",
          "model_module_version": "1.2.0",
          "model_name": "LayoutModel",
          "state": {
            "_model_module": "@jupyter-widgets/base",
            "_model_module_version": "1.2.0",
            "_model_name": "LayoutModel",
            "_view_count": null,
            "_view_module": "@jupyter-widgets/base",
            "_view_module_version": "1.2.0",
            "_view_name": "LayoutView",
            "align_content": null,
            "align_items": null,
            "align_self": null,
            "border": null,
            "bottom": null,
            "display": null,
            "flex": null,
            "flex_flow": null,
            "grid_area": null,
            "grid_auto_columns": null,
            "grid_auto_flow": null,
            "grid_auto_rows": null,
            "grid_column": null,
            "grid_gap": null,
            "grid_row": null,
            "grid_template_areas": null,
            "grid_template_columns": null,
            "grid_template_rows": null,
            "height": null,
            "justify_content": null,
            "justify_items": null,
            "left": null,
            "margin": null,
            "max_height": null,
            "max_width": null,
            "min_height": null,
            "min_width": null,
            "object_fit": null,
            "object_position": null,
            "order": null,
            "overflow": null,
            "overflow_x": null,
            "overflow_y": null,
            "padding": null,
            "right": null,
            "top": null,
            "visibility": null,
            "width": null
          }
        },
        "a2e9817392934fd9abe31d7285bcca79": {
          "model_module": "@jupyter-widgets/controls",
          "model_module_version": "1.5.0",
          "model_name": "DescriptionStyleModel",
          "state": {
            "_model_module": "@jupyter-widgets/controls",
            "_model_module_version": "1.5.0",
            "_model_name": "DescriptionStyleModel",
            "_view_count": null,
            "_view_module": "@jupyter-widgets/base",
            "_view_module_version": "1.2.0",
            "_view_name": "StyleView",
            "description_width": ""
          }
        },
        "a40adbec32c7472c93f684482ce71511": {
          "model_module": "@jupyter-widgets/base",
          "model_module_version": "1.2.0",
          "model_name": "LayoutModel",
          "state": {
            "_model_module": "@jupyter-widgets/base",
            "_model_module_version": "1.2.0",
            "_model_name": "LayoutModel",
            "_view_count": null,
            "_view_module": "@jupyter-widgets/base",
            "_view_module_version": "1.2.0",
            "_view_name": "LayoutView",
            "align_content": null,
            "align_items": null,
            "align_self": null,
            "border": null,
            "bottom": null,
            "display": null,
            "flex": null,
            "flex_flow": null,
            "grid_area": null,
            "grid_auto_columns": null,
            "grid_auto_flow": null,
            "grid_auto_rows": null,
            "grid_column": null,
            "grid_gap": null,
            "grid_row": null,
            "grid_template_areas": null,
            "grid_template_columns": null,
            "grid_template_rows": null,
            "height": null,
            "justify_content": null,
            "justify_items": null,
            "left": null,
            "margin": null,
            "max_height": null,
            "max_width": null,
            "min_height": null,
            "min_width": null,
            "object_fit": null,
            "object_position": null,
            "order": null,
            "overflow": null,
            "overflow_x": null,
            "overflow_y": null,
            "padding": null,
            "right": null,
            "top": null,
            "visibility": null,
            "width": null
          }
        },
        "a480adec5a694887a21a45d9aa00c23c": {
          "model_module": "@jupyter-widgets/base",
          "model_module_version": "1.2.0",
          "model_name": "LayoutModel",
          "state": {
            "_model_module": "@jupyter-widgets/base",
            "_model_module_version": "1.2.0",
            "_model_name": "LayoutModel",
            "_view_count": null,
            "_view_module": "@jupyter-widgets/base",
            "_view_module_version": "1.2.0",
            "_view_name": "LayoutView",
            "align_content": null,
            "align_items": null,
            "align_self": null,
            "border": null,
            "bottom": null,
            "display": null,
            "flex": null,
            "flex_flow": null,
            "grid_area": null,
            "grid_auto_columns": null,
            "grid_auto_flow": null,
            "grid_auto_rows": null,
            "grid_column": null,
            "grid_gap": null,
            "grid_row": null,
            "grid_template_areas": null,
            "grid_template_columns": null,
            "grid_template_rows": null,
            "height": null,
            "justify_content": null,
            "justify_items": null,
            "left": null,
            "margin": null,
            "max_height": null,
            "max_width": null,
            "min_height": null,
            "min_width": null,
            "object_fit": null,
            "object_position": null,
            "order": null,
            "overflow": null,
            "overflow_x": null,
            "overflow_y": null,
            "padding": null,
            "right": null,
            "top": null,
            "visibility": null,
            "width": null
          }
        },
        "a4d3dcccae804dc58ac0f7c69ce8a8d5": {
          "model_module": "@jupyter-widgets/base",
          "model_module_version": "1.2.0",
          "model_name": "LayoutModel",
          "state": {
            "_model_module": "@jupyter-widgets/base",
            "_model_module_version": "1.2.0",
            "_model_name": "LayoutModel",
            "_view_count": null,
            "_view_module": "@jupyter-widgets/base",
            "_view_module_version": "1.2.0",
            "_view_name": "LayoutView",
            "align_content": null,
            "align_items": null,
            "align_self": null,
            "border": null,
            "bottom": null,
            "display": null,
            "flex": null,
            "flex_flow": null,
            "grid_area": null,
            "grid_auto_columns": null,
            "grid_auto_flow": null,
            "grid_auto_rows": null,
            "grid_column": null,
            "grid_gap": null,
            "grid_row": null,
            "grid_template_areas": null,
            "grid_template_columns": null,
            "grid_template_rows": null,
            "height": null,
            "justify_content": null,
            "justify_items": null,
            "left": null,
            "margin": null,
            "max_height": null,
            "max_width": null,
            "min_height": null,
            "min_width": null,
            "object_fit": null,
            "object_position": null,
            "order": null,
            "overflow": null,
            "overflow_x": null,
            "overflow_y": null,
            "padding": null,
            "right": null,
            "top": null,
            "visibility": null,
            "width": null
          }
        },
        "a54eb7172d2b4a9eb83c88ebffb63ba7": {
          "model_module": "@jupyter-widgets/controls",
          "model_module_version": "1.5.0",
          "model_name": "DescriptionStyleModel",
          "state": {
            "_model_module": "@jupyter-widgets/controls",
            "_model_module_version": "1.5.0",
            "_model_name": "DescriptionStyleModel",
            "_view_count": null,
            "_view_module": "@jupyter-widgets/base",
            "_view_module_version": "1.2.0",
            "_view_name": "StyleView",
            "description_width": ""
          }
        },
        "a5939beac0624ddba76aa4b4e48af2bc": {
          "model_module": "@jupyter-widgets/base",
          "model_module_version": "1.2.0",
          "model_name": "LayoutModel",
          "state": {
            "_model_module": "@jupyter-widgets/base",
            "_model_module_version": "1.2.0",
            "_model_name": "LayoutModel",
            "_view_count": null,
            "_view_module": "@jupyter-widgets/base",
            "_view_module_version": "1.2.0",
            "_view_name": "LayoutView",
            "align_content": null,
            "align_items": null,
            "align_self": null,
            "border": null,
            "bottom": null,
            "display": null,
            "flex": null,
            "flex_flow": null,
            "grid_area": null,
            "grid_auto_columns": null,
            "grid_auto_flow": null,
            "grid_auto_rows": null,
            "grid_column": null,
            "grid_gap": null,
            "grid_row": null,
            "grid_template_areas": null,
            "grid_template_columns": null,
            "grid_template_rows": null,
            "height": null,
            "justify_content": null,
            "justify_items": null,
            "left": null,
            "margin": null,
            "max_height": null,
            "max_width": null,
            "min_height": null,
            "min_width": null,
            "object_fit": null,
            "object_position": null,
            "order": null,
            "overflow": null,
            "overflow_x": null,
            "overflow_y": null,
            "padding": null,
            "right": null,
            "top": null,
            "visibility": null,
            "width": null
          }
        },
        "a62a65a4bce7421793aebf5ed5dffb8e": {
          "model_module": "@jupyter-widgets/controls",
          "model_module_version": "1.5.0",
          "model_name": "ProgressStyleModel",
          "state": {
            "_model_module": "@jupyter-widgets/controls",
            "_model_module_version": "1.5.0",
            "_model_name": "ProgressStyleModel",
            "_view_count": null,
            "_view_module": "@jupyter-widgets/base",
            "_view_module_version": "1.2.0",
            "_view_name": "StyleView",
            "bar_color": null,
            "description_width": ""
          }
        },
        "a688908d1d3e4594aac870335f12924e": {
          "model_module": "@jupyter-widgets/controls",
          "model_module_version": "1.5.0",
          "model_name": "FloatProgressModel",
          "state": {
            "_dom_classes": [],
            "_model_module": "@jupyter-widgets/controls",
            "_model_module_version": "1.5.0",
            "_model_name": "FloatProgressModel",
            "_view_count": null,
            "_view_module": "@jupyter-widgets/controls",
            "_view_module_version": "1.5.0",
            "_view_name": "ProgressView",
            "bar_style": "success",
            "description": "",
            "description_tooltip": null,
            "layout": "IPY_MODEL_406f8e522bb3466e9d44378095dc6800",
            "max": 1633,
            "min": 0,
            "orientation": "horizontal",
            "style": "IPY_MODEL_08a7c7b70f77439ea52140cbd5a5245b",
            "value": 1633
          }
        },
        "a80e23d4913e466f83e7b24f387219c1": {
          "model_module": "@jupyter-widgets/controls",
          "model_module_version": "1.5.0",
          "model_name": "DescriptionStyleModel",
          "state": {
            "_model_module": "@jupyter-widgets/controls",
            "_model_module_version": "1.5.0",
            "_model_name": "DescriptionStyleModel",
            "_view_count": null,
            "_view_module": "@jupyter-widgets/base",
            "_view_module_version": "1.2.0",
            "_view_name": "StyleView",
            "description_width": ""
          }
        },
        "a95eed872de042d3a7f856805d9ad72d": {
          "model_module": "@jupyter-widgets/controls",
          "model_module_version": "1.5.0",
          "model_name": "ProgressStyleModel",
          "state": {
            "_model_module": "@jupyter-widgets/controls",
            "_model_module_version": "1.5.0",
            "_model_name": "ProgressStyleModel",
            "_view_count": null,
            "_view_module": "@jupyter-widgets/base",
            "_view_module_version": "1.2.0",
            "_view_name": "StyleView",
            "bar_color": null,
            "description_width": ""
          }
        },
        "a9e4bce77e7a4c91a41899df31a43d3b": {
          "model_module": "@jupyter-widgets/controls",
          "model_module_version": "1.5.0",
          "model_name": "DescriptionStyleModel",
          "state": {
            "_model_module": "@jupyter-widgets/controls",
            "_model_module_version": "1.5.0",
            "_model_name": "DescriptionStyleModel",
            "_view_count": null,
            "_view_module": "@jupyter-widgets/base",
            "_view_module_version": "1.2.0",
            "_view_name": "StyleView",
            "description_width": ""
          }
        },
        "aa812b4d063d4e7ba9b8e7c531ab5aaa": {
          "model_module": "@jupyter-widgets/base",
          "model_module_version": "1.2.0",
          "model_name": "LayoutModel",
          "state": {
            "_model_module": "@jupyter-widgets/base",
            "_model_module_version": "1.2.0",
            "_model_name": "LayoutModel",
            "_view_count": null,
            "_view_module": "@jupyter-widgets/base",
            "_view_module_version": "1.2.0",
            "_view_name": "LayoutView",
            "align_content": null,
            "align_items": null,
            "align_self": null,
            "border": null,
            "bottom": null,
            "display": null,
            "flex": null,
            "flex_flow": null,
            "grid_area": null,
            "grid_auto_columns": null,
            "grid_auto_flow": null,
            "grid_auto_rows": null,
            "grid_column": null,
            "grid_gap": null,
            "grid_row": null,
            "grid_template_areas": null,
            "grid_template_columns": null,
            "grid_template_rows": null,
            "height": null,
            "justify_content": null,
            "justify_items": null,
            "left": null,
            "margin": null,
            "max_height": null,
            "max_width": null,
            "min_height": null,
            "min_width": null,
            "object_fit": null,
            "object_position": null,
            "order": null,
            "overflow": null,
            "overflow_x": null,
            "overflow_y": null,
            "padding": null,
            "right": null,
            "top": null,
            "visibility": null,
            "width": null
          }
        },
        "ab6c35e0b56641babbb2bfb0f27b5702": {
          "model_module": "@jupyter-widgets/controls",
          "model_module_version": "1.5.0",
          "model_name": "HTMLModel",
          "state": {
            "_dom_classes": [],
            "_model_module": "@jupyter-widgets/controls",
            "_model_module_version": "1.5.0",
            "_model_name": "HTMLModel",
            "_view_count": null,
            "_view_module": "@jupyter-widgets/controls",
            "_view_module_version": "1.5.0",
            "_view_name": "HTMLView",
            "description": "",
            "description_tooltip": null,
            "layout": "IPY_MODEL_9d1719854c754ba1a2880c7198f22696",
            "placeholder": "​",
            "style": "IPY_MODEL_c46cf61ab55b489da8cd4998c9975168",
            "value": " 57.0/57.0 [00:00&lt;00:00, 3.07kB/s]"
          }
        },
        "ae33322780664d6ea7d1d391ebc995ef": {
          "model_module": "@jupyter-widgets/base",
          "model_module_version": "1.2.0",
          "model_name": "LayoutModel",
          "state": {
            "_model_module": "@jupyter-widgets/base",
            "_model_module_version": "1.2.0",
            "_model_name": "LayoutModel",
            "_view_count": null,
            "_view_module": "@jupyter-widgets/base",
            "_view_module_version": "1.2.0",
            "_view_name": "LayoutView",
            "align_content": null,
            "align_items": null,
            "align_self": null,
            "border": null,
            "bottom": null,
            "display": null,
            "flex": null,
            "flex_flow": null,
            "grid_area": null,
            "grid_auto_columns": null,
            "grid_auto_flow": null,
            "grid_auto_rows": null,
            "grid_column": null,
            "grid_gap": null,
            "grid_row": null,
            "grid_template_areas": null,
            "grid_template_columns": null,
            "grid_template_rows": null,
            "height": null,
            "justify_content": null,
            "justify_items": null,
            "left": null,
            "margin": null,
            "max_height": null,
            "max_width": null,
            "min_height": null,
            "min_width": null,
            "object_fit": null,
            "object_position": null,
            "order": null,
            "overflow": null,
            "overflow_x": null,
            "overflow_y": null,
            "padding": null,
            "right": null,
            "top": null,
            "visibility": null,
            "width": null
          }
        },
        "b2ae16f5e05c478bad07f12ff6899b42": {
          "model_module": "@jupyter-widgets/controls",
          "model_module_version": "1.5.0",
          "model_name": "ProgressStyleModel",
          "state": {
            "_model_module": "@jupyter-widgets/controls",
            "_model_module_version": "1.5.0",
            "_model_name": "ProgressStyleModel",
            "_view_count": null,
            "_view_module": "@jupyter-widgets/base",
            "_view_module_version": "1.2.0",
            "_view_name": "StyleView",
            "bar_color": null,
            "description_width": ""
          }
        },
        "b2f52f9ec21b4b6d9d6f920a4d840cf1": {
          "model_module": "@jupyter-widgets/controls",
          "model_module_version": "1.5.0",
          "model_name": "DescriptionStyleModel",
          "state": {
            "_model_module": "@jupyter-widgets/controls",
            "_model_module_version": "1.5.0",
            "_model_name": "DescriptionStyleModel",
            "_view_count": null,
            "_view_module": "@jupyter-widgets/base",
            "_view_module_version": "1.2.0",
            "_view_name": "StyleView",
            "description_width": ""
          }
        },
        "b8688f3db14849f3a2052f195bc6ec32": {
          "model_module": "@jupyter-widgets/controls",
          "model_module_version": "1.5.0",
          "model_name": "ProgressStyleModel",
          "state": {
            "_model_module": "@jupyter-widgets/controls",
            "_model_module_version": "1.5.0",
            "_model_name": "ProgressStyleModel",
            "_view_count": null,
            "_view_module": "@jupyter-widgets/base",
            "_view_module_version": "1.2.0",
            "_view_name": "StyleView",
            "bar_color": null,
            "description_width": ""
          }
        },
        "b883609e9284449bb8f9775f69b70cd1": {
          "model_module": "@jupyter-widgets/controls",
          "model_module_version": "1.5.0",
          "model_name": "HTMLModel",
          "state": {
            "_dom_classes": [],
            "_model_module": "@jupyter-widgets/controls",
            "_model_module_version": "1.5.0",
            "_model_name": "HTMLModel",
            "_view_count": null,
            "_view_module": "@jupyter-widgets/controls",
            "_view_module_version": "1.5.0",
            "_view_name": "HTMLView",
            "description": "",
            "description_tooltip": null,
            "layout": "IPY_MODEL_4784697b98e8497ea66d8695d37a8704",
            "placeholder": "​",
            "style": "IPY_MODEL_5f36f3bbf91f4769bef2ddd0d67cc0fe",
            "value": " 1.63k/1.63k [00:00&lt;00:00, 84.5kB/s]"
          }
        },
        "b9dd6c99f335458299250a0abd685921": {
          "model_module": "@jupyter-widgets/controls",
          "model_module_version": "1.5.0",
          "model_name": "ProgressStyleModel",
          "state": {
            "_model_module": "@jupyter-widgets/controls",
            "_model_module_version": "1.5.0",
            "_model_name": "ProgressStyleModel",
            "_view_count": null,
            "_view_module": "@jupyter-widgets/base",
            "_view_module_version": "1.2.0",
            "_view_name": "StyleView",
            "bar_color": null,
            "description_width": ""
          }
        },
        "bb8e1d66541e45cfbcb756195039dd4b": {
          "model_module": "@jupyter-widgets/base",
          "model_module_version": "1.2.0",
          "model_name": "LayoutModel",
          "state": {
            "_model_module": "@jupyter-widgets/base",
            "_model_module_version": "1.2.0",
            "_model_name": "LayoutModel",
            "_view_count": null,
            "_view_module": "@jupyter-widgets/base",
            "_view_module_version": "1.2.0",
            "_view_name": "LayoutView",
            "align_content": null,
            "align_items": null,
            "align_self": null,
            "border": null,
            "bottom": null,
            "display": null,
            "flex": null,
            "flex_flow": null,
            "grid_area": null,
            "grid_auto_columns": null,
            "grid_auto_flow": null,
            "grid_auto_rows": null,
            "grid_column": null,
            "grid_gap": null,
            "grid_row": null,
            "grid_template_areas": null,
            "grid_template_columns": null,
            "grid_template_rows": null,
            "height": null,
            "justify_content": null,
            "justify_items": null,
            "left": null,
            "margin": null,
            "max_height": null,
            "max_width": null,
            "min_height": null,
            "min_width": null,
            "object_fit": null,
            "object_position": null,
            "order": null,
            "overflow": null,
            "overflow_x": null,
            "overflow_y": null,
            "padding": null,
            "right": null,
            "top": null,
            "visibility": null,
            "width": null
          }
        },
        "bc24b7acfe474faf8f6d745cfd3f685e": {
          "model_module": "@jupyter-widgets/controls",
          "model_module_version": "1.5.0",
          "model_name": "HTMLModel",
          "state": {
            "_dom_classes": [],
            "_model_module": "@jupyter-widgets/controls",
            "_model_module_version": "1.5.0",
            "_model_name": "HTMLModel",
            "_view_count": null,
            "_view_module": "@jupyter-widgets/controls",
            "_view_module_version": "1.5.0",
            "_view_name": "HTMLView",
            "description": "",
            "description_tooltip": null,
            "layout": "IPY_MODEL_707a7cfb4ac64c90965263706db66a41",
            "placeholder": "​",
            "style": "IPY_MODEL_78e442a86d0546be98bbc02f3879d0c6",
            "value": "tokenizer_config.json: 100%"
          }
        },
        "bc5b68fa0b5a402c8c84476bc08f0db3": {
          "model_module": "@jupyter-widgets/controls",
          "model_module_version": "1.5.0",
          "model_name": "HTMLModel",
          "state": {
            "_dom_classes": [],
            "_model_module": "@jupyter-widgets/controls",
            "_model_module_version": "1.5.0",
            "_model_name": "HTMLModel",
            "_view_count": null,
            "_view_module": "@jupyter-widgets/controls",
            "_view_module_version": "1.5.0",
            "_view_name": "HTMLView",
            "description": "",
            "description_tooltip": null,
            "layout": "IPY_MODEL_47c3e2d888f34ea0b0db1d607df23010",
            "placeholder": "​",
            "style": "IPY_MODEL_70d80ab0c46b47b8b8ac1e9269896b20",
            "value": "config.json: 100%"
          }
        },
        "bd403d6d0bf34ba08add5d9e9b2e5903": {
          "model_module": "@jupyter-widgets/base",
          "model_module_version": "1.2.0",
          "model_name": "LayoutModel",
          "state": {
            "_model_module": "@jupyter-widgets/base",
            "_model_module_version": "1.2.0",
            "_model_name": "LayoutModel",
            "_view_count": null,
            "_view_module": "@jupyter-widgets/base",
            "_view_module_version": "1.2.0",
            "_view_name": "LayoutView",
            "align_content": null,
            "align_items": null,
            "align_self": null,
            "border": null,
            "bottom": null,
            "display": null,
            "flex": null,
            "flex_flow": null,
            "grid_area": null,
            "grid_auto_columns": null,
            "grid_auto_flow": null,
            "grid_auto_rows": null,
            "grid_column": null,
            "grid_gap": null,
            "grid_row": null,
            "grid_template_areas": null,
            "grid_template_columns": null,
            "grid_template_rows": null,
            "height": null,
            "justify_content": null,
            "justify_items": null,
            "left": null,
            "margin": null,
            "max_height": null,
            "max_width": null,
            "min_height": null,
            "min_width": null,
            "object_fit": null,
            "object_position": null,
            "order": null,
            "overflow": null,
            "overflow_x": null,
            "overflow_y": null,
            "padding": null,
            "right": null,
            "top": null,
            "visibility": null,
            "width": null
          }
        },
        "c08e8ed882c64da8a5b57f571e0fedc2": {
          "model_module": "@jupyter-widgets/base",
          "model_module_version": "1.2.0",
          "model_name": "LayoutModel",
          "state": {
            "_model_module": "@jupyter-widgets/base",
            "_model_module_version": "1.2.0",
            "_model_name": "LayoutModel",
            "_view_count": null,
            "_view_module": "@jupyter-widgets/base",
            "_view_module_version": "1.2.0",
            "_view_name": "LayoutView",
            "align_content": null,
            "align_items": null,
            "align_self": null,
            "border": null,
            "bottom": null,
            "display": null,
            "flex": null,
            "flex_flow": null,
            "grid_area": null,
            "grid_auto_columns": null,
            "grid_auto_flow": null,
            "grid_auto_rows": null,
            "grid_column": null,
            "grid_gap": null,
            "grid_row": null,
            "grid_template_areas": null,
            "grid_template_columns": null,
            "grid_template_rows": null,
            "height": null,
            "justify_content": null,
            "justify_items": null,
            "left": null,
            "margin": null,
            "max_height": null,
            "max_width": null,
            "min_height": null,
            "min_width": null,
            "object_fit": null,
            "object_position": null,
            "order": null,
            "overflow": null,
            "overflow_x": null,
            "overflow_y": null,
            "padding": null,
            "right": null,
            "top": null,
            "visibility": null,
            "width": null
          }
        },
        "c3c8dfec96ff4860820fd5061a0f626f": {
          "model_module": "@jupyter-widgets/base",
          "model_module_version": "1.2.0",
          "model_name": "LayoutModel",
          "state": {
            "_model_module": "@jupyter-widgets/base",
            "_model_module_version": "1.2.0",
            "_model_name": "LayoutModel",
            "_view_count": null,
            "_view_module": "@jupyter-widgets/base",
            "_view_module_version": "1.2.0",
            "_view_name": "LayoutView",
            "align_content": null,
            "align_items": null,
            "align_self": null,
            "border": null,
            "bottom": null,
            "display": null,
            "flex": null,
            "flex_flow": null,
            "grid_area": null,
            "grid_auto_columns": null,
            "grid_auto_flow": null,
            "grid_auto_rows": null,
            "grid_column": null,
            "grid_gap": null,
            "grid_row": null,
            "grid_template_areas": null,
            "grid_template_columns": null,
            "grid_template_rows": null,
            "height": null,
            "justify_content": null,
            "justify_items": null,
            "left": null,
            "margin": null,
            "max_height": null,
            "max_width": null,
            "min_height": null,
            "min_width": null,
            "object_fit": null,
            "object_position": null,
            "order": null,
            "overflow": null,
            "overflow_x": null,
            "overflow_y": null,
            "padding": null,
            "right": null,
            "top": null,
            "visibility": null,
            "width": null
          }
        },
        "c46cf61ab55b489da8cd4998c9975168": {
          "model_module": "@jupyter-widgets/controls",
          "model_module_version": "1.5.0",
          "model_name": "DescriptionStyleModel",
          "state": {
            "_model_module": "@jupyter-widgets/controls",
            "_model_module_version": "1.5.0",
            "_model_name": "DescriptionStyleModel",
            "_view_count": null,
            "_view_module": "@jupyter-widgets/base",
            "_view_module_version": "1.2.0",
            "_view_name": "StyleView",
            "description_width": ""
          }
        },
        "c4bdd73ba4ec43a8ad6c845628b6e1e6": {
          "model_module": "@jupyter-widgets/controls",
          "model_module_version": "1.5.0",
          "model_name": "DescriptionStyleModel",
          "state": {
            "_model_module": "@jupyter-widgets/controls",
            "_model_module_version": "1.5.0",
            "_model_name": "DescriptionStyleModel",
            "_view_count": null,
            "_view_module": "@jupyter-widgets/base",
            "_view_module_version": "1.2.0",
            "_view_name": "StyleView",
            "description_width": ""
          }
        },
        "c530662271d8403cafa3a9f85aa3c6b0": {
          "model_module": "@jupyter-widgets/base",
          "model_module_version": "1.2.0",
          "model_name": "LayoutModel",
          "state": {
            "_model_module": "@jupyter-widgets/base",
            "_model_module_version": "1.2.0",
            "_model_name": "LayoutModel",
            "_view_count": null,
            "_view_module": "@jupyter-widgets/base",
            "_view_module_version": "1.2.0",
            "_view_name": "LayoutView",
            "align_content": null,
            "align_items": null,
            "align_self": null,
            "border": null,
            "bottom": null,
            "display": null,
            "flex": null,
            "flex_flow": null,
            "grid_area": null,
            "grid_auto_columns": null,
            "grid_auto_flow": null,
            "grid_auto_rows": null,
            "grid_column": null,
            "grid_gap": null,
            "grid_row": null,
            "grid_template_areas": null,
            "grid_template_columns": null,
            "grid_template_rows": null,
            "height": null,
            "justify_content": null,
            "justify_items": null,
            "left": null,
            "margin": null,
            "max_height": null,
            "max_width": null,
            "min_height": null,
            "min_width": null,
            "object_fit": null,
            "object_position": null,
            "order": null,
            "overflow": null,
            "overflow_x": null,
            "overflow_y": null,
            "padding": null,
            "right": null,
            "top": null,
            "visibility": null,
            "width": null
          }
        },
        "c58dbcc66c0b4dbbb432b657e7e4b237": {
          "model_module": "@jupyter-widgets/controls",
          "model_module_version": "1.5.0",
          "model_name": "HTMLModel",
          "state": {
            "_dom_classes": [],
            "_model_module": "@jupyter-widgets/controls",
            "_model_module_version": "1.5.0",
            "_model_name": "HTMLModel",
            "_view_count": null,
            "_view_module": "@jupyter-widgets/controls",
            "_view_module_version": "1.5.0",
            "_view_name": "HTMLView",
            "description": "",
            "description_tooltip": null,
            "layout": "IPY_MODEL_69181b0f0dfa4e1592426406b54638d2",
            "placeholder": "​",
            "style": "IPY_MODEL_c8c627ef40fb4205b0d288663d75a40b",
            "value": " 146/1085 [22:17&lt;2:06:11,  8.06s/it]"
          }
        },
        "c7d98db60dff4b7289d5402c45dfe5e5": {
          "model_module": "@jupyter-widgets/base",
          "model_module_version": "1.2.0",
          "model_name": "LayoutModel",
          "state": {
            "_model_module": "@jupyter-widgets/base",
            "_model_module_version": "1.2.0",
            "_model_name": "LayoutModel",
            "_view_count": null,
            "_view_module": "@jupyter-widgets/base",
            "_view_module_version": "1.2.0",
            "_view_name": "LayoutView",
            "align_content": null,
            "align_items": null,
            "align_self": null,
            "border": null,
            "bottom": null,
            "display": null,
            "flex": null,
            "flex_flow": null,
            "grid_area": null,
            "grid_auto_columns": null,
            "grid_auto_flow": null,
            "grid_auto_rows": null,
            "grid_column": null,
            "grid_gap": null,
            "grid_row": null,
            "grid_template_areas": null,
            "grid_template_columns": null,
            "grid_template_rows": null,
            "height": null,
            "justify_content": null,
            "justify_items": null,
            "left": null,
            "margin": null,
            "max_height": null,
            "max_width": null,
            "min_height": null,
            "min_width": null,
            "object_fit": null,
            "object_position": null,
            "order": null,
            "overflow": null,
            "overflow_x": null,
            "overflow_y": null,
            "padding": null,
            "right": null,
            "top": null,
            "visibility": null,
            "width": null
          }
        },
        "c87f800a5968474483f9df1d34087f5b": {
          "model_module": "@jupyter-widgets/base",
          "model_module_version": "1.2.0",
          "model_name": "LayoutModel",
          "state": {
            "_model_module": "@jupyter-widgets/base",
            "_model_module_version": "1.2.0",
            "_model_name": "LayoutModel",
            "_view_count": null,
            "_view_module": "@jupyter-widgets/base",
            "_view_module_version": "1.2.0",
            "_view_name": "LayoutView",
            "align_content": null,
            "align_items": null,
            "align_self": null,
            "border": null,
            "bottom": null,
            "display": null,
            "flex": null,
            "flex_flow": null,
            "grid_area": null,
            "grid_auto_columns": null,
            "grid_auto_flow": null,
            "grid_auto_rows": null,
            "grid_column": null,
            "grid_gap": null,
            "grid_row": null,
            "grid_template_areas": null,
            "grid_template_columns": null,
            "grid_template_rows": null,
            "height": null,
            "justify_content": null,
            "justify_items": null,
            "left": null,
            "margin": null,
            "max_height": null,
            "max_width": null,
            "min_height": null,
            "min_width": null,
            "object_fit": null,
            "object_position": null,
            "order": null,
            "overflow": null,
            "overflow_x": null,
            "overflow_y": null,
            "padding": null,
            "right": null,
            "top": null,
            "visibility": null,
            "width": null
          }
        },
        "c8c627ef40fb4205b0d288663d75a40b": {
          "model_module": "@jupyter-widgets/controls",
          "model_module_version": "1.5.0",
          "model_name": "DescriptionStyleModel",
          "state": {
            "_model_module": "@jupyter-widgets/controls",
            "_model_module_version": "1.5.0",
            "_model_name": "DescriptionStyleModel",
            "_view_count": null,
            "_view_module": "@jupyter-widgets/base",
            "_view_module_version": "1.2.0",
            "_view_name": "StyleView",
            "description_width": ""
          }
        },
        "c97c8b77efdb41eba15961989df6e9c4": {
          "model_module": "@jupyter-widgets/base",
          "model_module_version": "1.2.0",
          "model_name": "LayoutModel",
          "state": {
            "_model_module": "@jupyter-widgets/base",
            "_model_module_version": "1.2.0",
            "_model_name": "LayoutModel",
            "_view_count": null,
            "_view_module": "@jupyter-widgets/base",
            "_view_module_version": "1.2.0",
            "_view_name": "LayoutView",
            "align_content": null,
            "align_items": null,
            "align_self": null,
            "border": null,
            "bottom": null,
            "display": null,
            "flex": null,
            "flex_flow": null,
            "grid_area": null,
            "grid_auto_columns": null,
            "grid_auto_flow": null,
            "grid_auto_rows": null,
            "grid_column": null,
            "grid_gap": null,
            "grid_row": null,
            "grid_template_areas": null,
            "grid_template_columns": null,
            "grid_template_rows": null,
            "height": null,
            "justify_content": null,
            "justify_items": null,
            "left": null,
            "margin": null,
            "max_height": null,
            "max_width": null,
            "min_height": null,
            "min_width": null,
            "object_fit": null,
            "object_position": null,
            "order": null,
            "overflow": null,
            "overflow_x": null,
            "overflow_y": null,
            "padding": null,
            "right": null,
            "top": null,
            "visibility": null,
            "width": null
          }
        },
        "c9e95e01be38487fa47315df425f93d7": {
          "model_module": "@jupyter-widgets/base",
          "model_module_version": "1.2.0",
          "model_name": "LayoutModel",
          "state": {
            "_model_module": "@jupyter-widgets/base",
            "_model_module_version": "1.2.0",
            "_model_name": "LayoutModel",
            "_view_count": null,
            "_view_module": "@jupyter-widgets/base",
            "_view_module_version": "1.2.0",
            "_view_name": "LayoutView",
            "align_content": null,
            "align_items": null,
            "align_self": null,
            "border": null,
            "bottom": null,
            "display": null,
            "flex": null,
            "flex_flow": null,
            "grid_area": null,
            "grid_auto_columns": null,
            "grid_auto_flow": null,
            "grid_auto_rows": null,
            "grid_column": null,
            "grid_gap": null,
            "grid_row": null,
            "grid_template_areas": null,
            "grid_template_columns": null,
            "grid_template_rows": null,
            "height": null,
            "justify_content": null,
            "justify_items": null,
            "left": null,
            "margin": null,
            "max_height": null,
            "max_width": null,
            "min_height": null,
            "min_width": null,
            "object_fit": null,
            "object_position": null,
            "order": null,
            "overflow": null,
            "overflow_x": null,
            "overflow_y": null,
            "padding": null,
            "right": null,
            "top": null,
            "visibility": null,
            "width": null
          }
        },
        "cbc7040c07bc451988bfad19a82f57e7": {
          "model_module": "@jupyter-widgets/controls",
          "model_module_version": "1.5.0",
          "model_name": "HBoxModel",
          "state": {
            "_dom_classes": [],
            "_model_module": "@jupyter-widgets/controls",
            "_model_module_version": "1.5.0",
            "_model_name": "HBoxModel",
            "_view_count": null,
            "_view_module": "@jupyter-widgets/controls",
            "_view_module_version": "1.5.0",
            "_view_name": "HBoxView",
            "box_style": "",
            "children": [
              "IPY_MODEL_fb08b354e17445d2b82818d000c9c7a1",
              "IPY_MODEL_5c92e8d30e284b11b3bfad767eae619d",
              "IPY_MODEL_61d475cb9b1a4323be12cd751bbd18ac"
            ],
            "layout": "IPY_MODEL_26b405e190334a4e9b2db92ed71fc64f"
          }
        },
        "cbd372902d044f7dbc81fc6d3303b58b": {
          "model_module": "@jupyter-widgets/controls",
          "model_module_version": "1.5.0",
          "model_name": "DescriptionStyleModel",
          "state": {
            "_model_module": "@jupyter-widgets/controls",
            "_model_module_version": "1.5.0",
            "_model_name": "DescriptionStyleModel",
            "_view_count": null,
            "_view_module": "@jupyter-widgets/base",
            "_view_module_version": "1.2.0",
            "_view_name": "StyleView",
            "description_width": ""
          }
        },
        "cbda7f7671724c07a7e841a974fe1d27": {
          "model_module": "@jupyter-widgets/base",
          "model_module_version": "1.2.0",
          "model_name": "LayoutModel",
          "state": {
            "_model_module": "@jupyter-widgets/base",
            "_model_module_version": "1.2.0",
            "_model_name": "LayoutModel",
            "_view_count": null,
            "_view_module": "@jupyter-widgets/base",
            "_view_module_version": "1.2.0",
            "_view_name": "LayoutView",
            "align_content": null,
            "align_items": null,
            "align_self": null,
            "border": null,
            "bottom": null,
            "display": null,
            "flex": null,
            "flex_flow": null,
            "grid_area": null,
            "grid_auto_columns": null,
            "grid_auto_flow": null,
            "grid_auto_rows": null,
            "grid_column": null,
            "grid_gap": null,
            "grid_row": null,
            "grid_template_areas": null,
            "grid_template_columns": null,
            "grid_template_rows": null,
            "height": null,
            "justify_content": null,
            "justify_items": null,
            "left": null,
            "margin": null,
            "max_height": null,
            "max_width": null,
            "min_height": null,
            "min_width": null,
            "object_fit": null,
            "object_position": null,
            "order": null,
            "overflow": null,
            "overflow_x": null,
            "overflow_y": null,
            "padding": null,
            "right": null,
            "top": null,
            "visibility": null,
            "width": null
          }
        },
        "cc028d0a932744eebb3fafd00f7c1bf7": {
          "model_module": "@jupyter-widgets/controls",
          "model_module_version": "1.5.0",
          "model_name": "HBoxModel",
          "state": {
            "_dom_classes": [],
            "_model_module": "@jupyter-widgets/controls",
            "_model_module_version": "1.5.0",
            "_model_name": "HBoxModel",
            "_view_count": null,
            "_view_module": "@jupyter-widgets/controls",
            "_view_module_version": "1.5.0",
            "_view_name": "HBoxView",
            "box_style": "",
            "children": [
              "IPY_MODEL_6f4fd051163d4bec831437b609d93759",
              "IPY_MODEL_9959cbe616dd4390ad9e67a90c51b76b",
              "IPY_MODEL_2317562651ed41fc8cb2804bc570cc88"
            ],
            "layout": "IPY_MODEL_072b74ebae06439da00f1d8d89cdc3ff"
          }
        },
        "cc789f44fb0141188ccb8516b7f17aa8": {
          "model_module": "@jupyter-widgets/controls",
          "model_module_version": "1.5.0",
          "model_name": "HTMLModel",
          "state": {
            "_dom_classes": [],
            "_model_module": "@jupyter-widgets/controls",
            "_model_module_version": "1.5.0",
            "_model_name": "HTMLModel",
            "_view_count": null,
            "_view_module": "@jupyter-widgets/controls",
            "_view_module_version": "1.5.0",
            "_view_name": "HTMLView",
            "description": "",
            "description_tooltip": null,
            "layout": "IPY_MODEL_37504c661b4a437e8459cd199c832990",
            "placeholder": "​",
            "style": "IPY_MODEL_4aa3f187f761430387d3be91160e3ced",
            "value": " 438M/438M [00:01&lt;00:00, 234MB/s]"
          }
        },
        "cde5792c832841a69faac93c74cfe272": {
          "model_module": "@jupyter-widgets/controls",
          "model_module_version": "1.5.0",
          "model_name": "HBoxModel",
          "state": {
            "_dom_classes": [],
            "_model_module": "@jupyter-widgets/controls",
            "_model_module_version": "1.5.0",
            "_model_name": "HBoxModel",
            "_view_count": null,
            "_view_module": "@jupyter-widgets/controls",
            "_view_module_version": "1.5.0",
            "_view_name": "HBoxView",
            "box_style": "",
            "children": [
              "IPY_MODEL_bc5b68fa0b5a402c8c84476bc08f0db3",
              "IPY_MODEL_7456d6d612ae41babac7e8c6f73ce860",
              "IPY_MODEL_447612cf95814a0b9d4508ca6cd42755"
            ],
            "layout": "IPY_MODEL_aa812b4d063d4e7ba9b8e7c531ab5aaa"
          }
        },
        "ceb13c3187fa435095498c21918e0c3c": {
          "model_module": "@jupyter-widgets/controls",
          "model_module_version": "1.5.0",
          "model_name": "HBoxModel",
          "state": {
            "_dom_classes": [],
            "_model_module": "@jupyter-widgets/controls",
            "_model_module_version": "1.5.0",
            "_model_name": "HBoxModel",
            "_view_count": null,
            "_view_module": "@jupyter-widgets/controls",
            "_view_module_version": "1.5.0",
            "_view_name": "HBoxView",
            "box_style": "",
            "children": [
              "IPY_MODEL_55a83d40c1a4440bbc295ead729f87fa",
              "IPY_MODEL_38bff6f532af4119ad181db5dbe9dd09",
              "IPY_MODEL_47cb9d463511430db1971a55fb18fc0e"
            ],
            "layout": "IPY_MODEL_46d675fe44df47cd887d2c7386dcac9a"
          }
        },
        "cf30cb1c7678422299fe8164f674564c": {
          "model_module": "@jupyter-widgets/controls",
          "model_module_version": "1.5.0",
          "model_name": "DescriptionStyleModel",
          "state": {
            "_model_module": "@jupyter-widgets/controls",
            "_model_module_version": "1.5.0",
            "_model_name": "DescriptionStyleModel",
            "_view_count": null,
            "_view_module": "@jupyter-widgets/base",
            "_view_module_version": "1.2.0",
            "_view_name": "StyleView",
            "description_width": ""
          }
        },
        "cfb84971b0364c6f9c2ce48ea3d65c69": {
          "model_module": "@jupyter-widgets/controls",
          "model_module_version": "1.5.0",
          "model_name": "FloatProgressModel",
          "state": {
            "_dom_classes": [],
            "_model_module": "@jupyter-widgets/controls",
            "_model_module_version": "1.5.0",
            "_model_name": "FloatProgressModel",
            "_view_count": null,
            "_view_module": "@jupyter-widgets/controls",
            "_view_module_version": "1.5.0",
            "_view_name": "ProgressView",
            "bar_style": "success",
            "description": "",
            "description_tooltip": null,
            "layout": "IPY_MODEL_cbda7f7671724c07a7e841a974fe1d27",
            "max": 466081,
            "min": 0,
            "orientation": "horizontal",
            "style": "IPY_MODEL_9ee4bf1a2afa41949eafe1ece1badf12",
            "value": 466081
          }
        },
        "d1ef4ef5b8984b57a054e40f7e3e3aeb": {
          "model_module": "@jupyter-widgets/controls",
          "model_module_version": "1.5.0",
          "model_name": "HTMLModel",
          "state": {
            "_dom_classes": [],
            "_model_module": "@jupyter-widgets/controls",
            "_model_module_version": "1.5.0",
            "_model_name": "HTMLModel",
            "_view_count": null,
            "_view_module": "@jupyter-widgets/controls",
            "_view_module_version": "1.5.0",
            "_view_name": "HTMLView",
            "description": "",
            "description_tooltip": null,
            "layout": "IPY_MODEL_ea2f5afb61c24af5912a81a42364eb8a",
            "placeholder": "​",
            "style": "IPY_MODEL_f9a01a07182f4dc88e3d70b760bb1fc7",
            "value": " 394/394 [00:00&lt;00:00, 11.9kB/s]"
          }
        },
        "d27beb13dcde45239e96c5d049c4286e": {
          "model_module": "@jupyter-widgets/controls",
          "model_module_version": "1.5.0",
          "model_name": "DescriptionStyleModel",
          "state": {
            "_model_module": "@jupyter-widgets/controls",
            "_model_module_version": "1.5.0",
            "_model_name": "DescriptionStyleModel",
            "_view_count": null,
            "_view_module": "@jupyter-widgets/base",
            "_view_module_version": "1.2.0",
            "_view_name": "StyleView",
            "description_width": ""
          }
        },
        "d35b3af37dec42c38f1160781c82331f": {
          "model_module": "@jupyter-widgets/base",
          "model_module_version": "1.2.0",
          "model_name": "LayoutModel",
          "state": {
            "_model_module": "@jupyter-widgets/base",
            "_model_module_version": "1.2.0",
            "_model_name": "LayoutModel",
            "_view_count": null,
            "_view_module": "@jupyter-widgets/base",
            "_view_module_version": "1.2.0",
            "_view_name": "LayoutView",
            "align_content": null,
            "align_items": null,
            "align_self": null,
            "border": null,
            "bottom": null,
            "display": null,
            "flex": null,
            "flex_flow": null,
            "grid_area": null,
            "grid_auto_columns": null,
            "grid_auto_flow": null,
            "grid_auto_rows": null,
            "grid_column": null,
            "grid_gap": null,
            "grid_row": null,
            "grid_template_areas": null,
            "grid_template_columns": null,
            "grid_template_rows": null,
            "height": null,
            "justify_content": null,
            "justify_items": null,
            "left": null,
            "margin": null,
            "max_height": null,
            "max_width": null,
            "min_height": null,
            "min_width": null,
            "object_fit": null,
            "object_position": null,
            "order": null,
            "overflow": null,
            "overflow_x": null,
            "overflow_y": null,
            "padding": null,
            "right": null,
            "top": null,
            "visibility": null,
            "width": null
          }
        },
        "d39adc1a7dcd4cd9a868ecd9eec8a363": {
          "model_module": "@jupyter-widgets/base",
          "model_module_version": "1.2.0",
          "model_name": "LayoutModel",
          "state": {
            "_model_module": "@jupyter-widgets/base",
            "_model_module_version": "1.2.0",
            "_model_name": "LayoutModel",
            "_view_count": null,
            "_view_module": "@jupyter-widgets/base",
            "_view_module_version": "1.2.0",
            "_view_name": "LayoutView",
            "align_content": null,
            "align_items": null,
            "align_self": null,
            "border": null,
            "bottom": null,
            "display": null,
            "flex": null,
            "flex_flow": null,
            "grid_area": null,
            "grid_auto_columns": null,
            "grid_auto_flow": null,
            "grid_auto_rows": null,
            "grid_column": null,
            "grid_gap": null,
            "grid_row": null,
            "grid_template_areas": null,
            "grid_template_columns": null,
            "grid_template_rows": null,
            "height": null,
            "justify_content": null,
            "justify_items": null,
            "left": null,
            "margin": null,
            "max_height": null,
            "max_width": null,
            "min_height": null,
            "min_width": null,
            "object_fit": null,
            "object_position": null,
            "order": null,
            "overflow": null,
            "overflow_x": null,
            "overflow_y": null,
            "padding": null,
            "right": null,
            "top": null,
            "visibility": null,
            "width": null
          }
        },
        "d518299f7b2d49a0bc0dcb403d898ca9": {
          "model_module": "@jupyter-widgets/controls",
          "model_module_version": "1.5.0",
          "model_name": "FloatProgressModel",
          "state": {
            "_dom_classes": [],
            "_model_module": "@jupyter-widgets/controls",
            "_model_module_version": "1.5.0",
            "_model_name": "FloatProgressModel",
            "_view_count": null,
            "_view_module": "@jupyter-widgets/controls",
            "_view_module_version": "1.5.0",
            "_view_name": "ProgressView",
            "bar_style": "success",
            "description": "",
            "description_tooltip": null,
            "layout": "IPY_MODEL_1a54a6bbebd44764a042c6aea82ea2eb",
            "max": 57,
            "min": 0,
            "orientation": "horizontal",
            "style": "IPY_MODEL_6afeb80768ae4fe79180629a17f46cae",
            "value": 57
          }
        },
        "d56f8ea6fdb443f1bbc378b38721ef4c": {
          "model_module": "@jupyter-widgets/controls",
          "model_module_version": "1.5.0",
          "model_name": "HBoxModel",
          "state": {
            "_dom_classes": [],
            "_model_module": "@jupyter-widgets/controls",
            "_model_module_version": "1.5.0",
            "_model_name": "HBoxModel",
            "_view_count": null,
            "_view_module": "@jupyter-widgets/controls",
            "_view_module_version": "1.5.0",
            "_view_name": "HBoxView",
            "box_style": "",
            "children": [
              "IPY_MODEL_f989d01112ab4bc18147147d12cc9917",
              "IPY_MODEL_539ff4d4093a46f2b5aca4049dec78cd",
              "IPY_MODEL_7ddda285495743b1a4c2db28928f6803"
            ],
            "layout": "IPY_MODEL_f6f0a5c5efe04a329d1ab4e0f57bf218"
          }
        },
        "d92993ab1df64ebc8807d82f658b1622": {
          "model_module": "@jupyter-widgets/controls",
          "model_module_version": "1.5.0",
          "model_name": "HBoxModel",
          "state": {
            "_dom_classes": [],
            "_model_module": "@jupyter-widgets/controls",
            "_model_module_version": "1.5.0",
            "_model_name": "HBoxModel",
            "_view_count": null,
            "_view_module": "@jupyter-widgets/controls",
            "_view_module_version": "1.5.0",
            "_view_name": "HBoxView",
            "box_style": "",
            "children": [
              "IPY_MODEL_f365965e7ba34cec92a879bb5ce0f439",
              "IPY_MODEL_2af4a8fe651c4dc9bce961703a5775a6",
              "IPY_MODEL_3caba0cf4eb649c796110423ddb41d76"
            ],
            "layout": "IPY_MODEL_7439c355ee934c2bb73696c65ba0bb4d"
          }
        },
        "d97056e3227b40bb8874058f7eece662": {
          "model_module": "@jupyter-widgets/controls",
          "model_module_version": "1.5.0",
          "model_name": "HBoxModel",
          "state": {
            "_dom_classes": [],
            "_model_module": "@jupyter-widgets/controls",
            "_model_module_version": "1.5.0",
            "_model_name": "HBoxModel",
            "_view_count": null,
            "_view_module": "@jupyter-widgets/controls",
            "_view_module_version": "1.5.0",
            "_view_name": "HBoxView",
            "box_style": "",
            "children": [
              "IPY_MODEL_db2be4b2f87944f4b942cb1b193044f1",
              "IPY_MODEL_cfb84971b0364c6f9c2ce48ea3d65c69",
              "IPY_MODEL_2898905bdb1d40fa8ec288346085ef9d"
            ],
            "layout": "IPY_MODEL_13e5f21da39a4182af5ddf6369da979a"
          }
        },
        "db2be4b2f87944f4b942cb1b193044f1": {
          "model_module": "@jupyter-widgets/controls",
          "model_module_version": "1.5.0",
          "model_name": "HTMLModel",
          "state": {
            "_dom_classes": [],
            "_model_module": "@jupyter-widgets/controls",
            "_model_module_version": "1.5.0",
            "_model_name": "HTMLModel",
            "_view_count": null,
            "_view_module": "@jupyter-widgets/controls",
            "_view_module_version": "1.5.0",
            "_view_name": "HTMLView",
            "description": "",
            "description_tooltip": null,
            "layout": "IPY_MODEL_ebdb46361627425bb1d9964177becc6d",
            "placeholder": "​",
            "style": "IPY_MODEL_2d88b1818757468c914b9f2913289ea9",
            "value": "tokenizer.json: 100%"
          }
        },
        "e549e9a396f542c0be5af2903a839f62": {
          "model_module": "@jupyter-widgets/controls",
          "model_module_version": "1.5.0",
          "model_name": "DescriptionStyleModel",
          "state": {
            "_model_module": "@jupyter-widgets/controls",
            "_model_module_version": "1.5.0",
            "_model_name": "DescriptionStyleModel",
            "_view_count": null,
            "_view_module": "@jupyter-widgets/base",
            "_view_module_version": "1.2.0",
            "_view_name": "StyleView",
            "description_width": ""
          }
        },
        "e617330e9ddc42d48dfdc1a36a3afb1e": {
          "model_module": "@jupyter-widgets/controls",
          "model_module_version": "1.5.0",
          "model_name": "ProgressStyleModel",
          "state": {
            "_model_module": "@jupyter-widgets/controls",
            "_model_module_version": "1.5.0",
            "_model_name": "ProgressStyleModel",
            "_view_count": null,
            "_view_module": "@jupyter-widgets/base",
            "_view_module_version": "1.2.0",
            "_view_name": "StyleView",
            "bar_color": null,
            "description_width": ""
          }
        },
        "e867f3f278aa4466a9d9415737dbde11": {
          "model_module": "@jupyter-widgets/base",
          "model_module_version": "1.2.0",
          "model_name": "LayoutModel",
          "state": {
            "_model_module": "@jupyter-widgets/base",
            "_model_module_version": "1.2.0",
            "_model_name": "LayoutModel",
            "_view_count": null,
            "_view_module": "@jupyter-widgets/base",
            "_view_module_version": "1.2.0",
            "_view_name": "LayoutView",
            "align_content": null,
            "align_items": null,
            "align_self": null,
            "border": null,
            "bottom": null,
            "display": null,
            "flex": null,
            "flex_flow": null,
            "grid_area": null,
            "grid_auto_columns": null,
            "grid_auto_flow": null,
            "grid_auto_rows": null,
            "grid_column": null,
            "grid_gap": null,
            "grid_row": null,
            "grid_template_areas": null,
            "grid_template_columns": null,
            "grid_template_rows": null,
            "height": null,
            "justify_content": null,
            "justify_items": null,
            "left": null,
            "margin": null,
            "max_height": null,
            "max_width": null,
            "min_height": null,
            "min_width": null,
            "object_fit": null,
            "object_position": null,
            "order": null,
            "overflow": null,
            "overflow_x": null,
            "overflow_y": null,
            "padding": null,
            "right": null,
            "top": null,
            "visibility": null,
            "width": null
          }
        },
        "e8876471964842298f2b53c2db9f5855": {
          "model_module": "@jupyter-widgets/base",
          "model_module_version": "1.2.0",
          "model_name": "LayoutModel",
          "state": {
            "_model_module": "@jupyter-widgets/base",
            "_model_module_version": "1.2.0",
            "_model_name": "LayoutModel",
            "_view_count": null,
            "_view_module": "@jupyter-widgets/base",
            "_view_module_version": "1.2.0",
            "_view_name": "LayoutView",
            "align_content": null,
            "align_items": null,
            "align_self": null,
            "border": null,
            "bottom": null,
            "display": null,
            "flex": null,
            "flex_flow": null,
            "grid_area": null,
            "grid_auto_columns": null,
            "grid_auto_flow": null,
            "grid_auto_rows": null,
            "grid_column": null,
            "grid_gap": null,
            "grid_row": null,
            "grid_template_areas": null,
            "grid_template_columns": null,
            "grid_template_rows": null,
            "height": null,
            "justify_content": null,
            "justify_items": null,
            "left": null,
            "margin": null,
            "max_height": null,
            "max_width": null,
            "min_height": null,
            "min_width": null,
            "object_fit": null,
            "object_position": null,
            "order": null,
            "overflow": null,
            "overflow_x": null,
            "overflow_y": null,
            "padding": null,
            "right": null,
            "top": null,
            "visibility": null,
            "width": null
          }
        },
        "e92491e176df4f12aa301670b1895af3": {
          "model_module": "@jupyter-widgets/controls",
          "model_module_version": "1.5.0",
          "model_name": "HBoxModel",
          "state": {
            "_dom_classes": [],
            "_model_module": "@jupyter-widgets/controls",
            "_model_module_version": "1.5.0",
            "_model_name": "HBoxModel",
            "_view_count": null,
            "_view_module": "@jupyter-widgets/controls",
            "_view_module_version": "1.5.0",
            "_view_name": "HBoxView",
            "box_style": "",
            "children": [
              "IPY_MODEL_ef55ca3b29e44b0484639bb6c98adf6d",
              "IPY_MODEL_a28fd3b428ce4528928750eb66ec0e52",
              "IPY_MODEL_fce8e0744e9b407a82cef0ebc10ecc73"
            ],
            "layout": "IPY_MODEL_a480adec5a694887a21a45d9aa00c23c"
          }
        },
        "e9cda838602743918881f7f20a84092f": {
          "model_module": "@jupyter-widgets/controls",
          "model_module_version": "1.5.0",
          "model_name": "ProgressStyleModel",
          "state": {
            "_model_module": "@jupyter-widgets/controls",
            "_model_module_version": "1.5.0",
            "_model_name": "ProgressStyleModel",
            "_view_count": null,
            "_view_module": "@jupyter-widgets/base",
            "_view_module_version": "1.2.0",
            "_view_name": "StyleView",
            "bar_color": null,
            "description_width": ""
          }
        },
        "ea2f5afb61c24af5912a81a42364eb8a": {
          "model_module": "@jupyter-widgets/base",
          "model_module_version": "1.2.0",
          "model_name": "LayoutModel",
          "state": {
            "_model_module": "@jupyter-widgets/base",
            "_model_module_version": "1.2.0",
            "_model_name": "LayoutModel",
            "_view_count": null,
            "_view_module": "@jupyter-widgets/base",
            "_view_module_version": "1.2.0",
            "_view_name": "LayoutView",
            "align_content": null,
            "align_items": null,
            "align_self": null,
            "border": null,
            "bottom": null,
            "display": null,
            "flex": null,
            "flex_flow": null,
            "grid_area": null,
            "grid_auto_columns": null,
            "grid_auto_flow": null,
            "grid_auto_rows": null,
            "grid_column": null,
            "grid_gap": null,
            "grid_row": null,
            "grid_template_areas": null,
            "grid_template_columns": null,
            "grid_template_rows": null,
            "height": null,
            "justify_content": null,
            "justify_items": null,
            "left": null,
            "margin": null,
            "max_height": null,
            "max_width": null,
            "min_height": null,
            "min_width": null,
            "object_fit": null,
            "object_position": null,
            "order": null,
            "overflow": null,
            "overflow_x": null,
            "overflow_y": null,
            "padding": null,
            "right": null,
            "top": null,
            "visibility": null,
            "width": null
          }
        },
        "ebdb46361627425bb1d9964177becc6d": {
          "model_module": "@jupyter-widgets/base",
          "model_module_version": "1.2.0",
          "model_name": "LayoutModel",
          "state": {
            "_model_module": "@jupyter-widgets/base",
            "_model_module_version": "1.2.0",
            "_model_name": "LayoutModel",
            "_view_count": null,
            "_view_module": "@jupyter-widgets/base",
            "_view_module_version": "1.2.0",
            "_view_name": "LayoutView",
            "align_content": null,
            "align_items": null,
            "align_self": null,
            "border": null,
            "bottom": null,
            "display": null,
            "flex": null,
            "flex_flow": null,
            "grid_area": null,
            "grid_auto_columns": null,
            "grid_auto_flow": null,
            "grid_auto_rows": null,
            "grid_column": null,
            "grid_gap": null,
            "grid_row": null,
            "grid_template_areas": null,
            "grid_template_columns": null,
            "grid_template_rows": null,
            "height": null,
            "justify_content": null,
            "justify_items": null,
            "left": null,
            "margin": null,
            "max_height": null,
            "max_width": null,
            "min_height": null,
            "min_width": null,
            "object_fit": null,
            "object_position": null,
            "order": null,
            "overflow": null,
            "overflow_x": null,
            "overflow_y": null,
            "padding": null,
            "right": null,
            "top": null,
            "visibility": null,
            "width": null
          }
        },
        "ec44dfa0aa094c36a095bfc051b371f8": {
          "model_module": "@jupyter-widgets/base",
          "model_module_version": "1.2.0",
          "model_name": "LayoutModel",
          "state": {
            "_model_module": "@jupyter-widgets/base",
            "_model_module_version": "1.2.0",
            "_model_name": "LayoutModel",
            "_view_count": null,
            "_view_module": "@jupyter-widgets/base",
            "_view_module_version": "1.2.0",
            "_view_name": "LayoutView",
            "align_content": null,
            "align_items": null,
            "align_self": null,
            "border": null,
            "bottom": null,
            "display": null,
            "flex": null,
            "flex_flow": null,
            "grid_area": null,
            "grid_auto_columns": null,
            "grid_auto_flow": null,
            "grid_auto_rows": null,
            "grid_column": null,
            "grid_gap": null,
            "grid_row": null,
            "grid_template_areas": null,
            "grid_template_columns": null,
            "grid_template_rows": null,
            "height": null,
            "justify_content": null,
            "justify_items": null,
            "left": null,
            "margin": null,
            "max_height": null,
            "max_width": null,
            "min_height": null,
            "min_width": null,
            "object_fit": null,
            "object_position": null,
            "order": null,
            "overflow": null,
            "overflow_x": null,
            "overflow_y": null,
            "padding": null,
            "right": null,
            "top": null,
            "visibility": null,
            "width": null
          }
        },
        "eda62242fad6414e949ad8b9117a75b6": {
          "model_module": "@jupyter-widgets/controls",
          "model_module_version": "1.5.0",
          "model_name": "HTMLModel",
          "state": {
            "_dom_classes": [],
            "_model_module": "@jupyter-widgets/controls",
            "_model_module_version": "1.5.0",
            "_model_name": "HTMLModel",
            "_view_count": null,
            "_view_module": "@jupyter-widgets/controls",
            "_view_module_version": "1.5.0",
            "_view_name": "HTMLView",
            "description": "",
            "description_tooltip": null,
            "layout": "IPY_MODEL_3acedf500033442987549fd05e95a734",
            "placeholder": "​",
            "style": "IPY_MODEL_4b6fb204b6ff435e811f74d70f6d73ba",
            "value": "modules.json: 100%"
          }
        },
        "eee34618d08048b6886f2cc6635a079c": {
          "model_module": "@jupyter-widgets/base",
          "model_module_version": "1.2.0",
          "model_name": "LayoutModel",
          "state": {
            "_model_module": "@jupyter-widgets/base",
            "_model_module_version": "1.2.0",
            "_model_name": "LayoutModel",
            "_view_count": null,
            "_view_module": "@jupyter-widgets/base",
            "_view_module_version": "1.2.0",
            "_view_name": "LayoutView",
            "align_content": null,
            "align_items": null,
            "align_self": null,
            "border": null,
            "bottom": null,
            "display": null,
            "flex": null,
            "flex_flow": null,
            "grid_area": null,
            "grid_auto_columns": null,
            "grid_auto_flow": null,
            "grid_auto_rows": null,
            "grid_column": null,
            "grid_gap": null,
            "grid_row": null,
            "grid_template_areas": null,
            "grid_template_columns": null,
            "grid_template_rows": null,
            "height": null,
            "justify_content": null,
            "justify_items": null,
            "left": null,
            "margin": null,
            "max_height": null,
            "max_width": null,
            "min_height": null,
            "min_width": null,
            "object_fit": null,
            "object_position": null,
            "order": null,
            "overflow": null,
            "overflow_x": null,
            "overflow_y": null,
            "padding": null,
            "right": null,
            "top": null,
            "visibility": null,
            "width": null
          }
        },
        "ef55ca3b29e44b0484639bb6c98adf6d": {
          "model_module": "@jupyter-widgets/controls",
          "model_module_version": "1.5.0",
          "model_name": "HTMLModel",
          "state": {
            "_dom_classes": [],
            "_model_module": "@jupyter-widgets/controls",
            "_model_module_version": "1.5.0",
            "_model_name": "HTMLModel",
            "_view_count": null,
            "_view_module": "@jupyter-widgets/controls",
            "_view_module_version": "1.5.0",
            "_view_name": "HTMLView",
            "description": "",
            "description_tooltip": null,
            "layout": "IPY_MODEL_338cc4d0dbe14ad3a93494ce5e98ef49",
            "placeholder": "​",
            "style": "IPY_MODEL_43e5697eb6984c6dabffa45ee82e5ddf",
            "value": "config.json: 100%"
          }
        },
        "f0219c64f8de419983f2adbb410117f7": {
          "model_module": "@jupyter-widgets/controls",
          "model_module_version": "1.5.0",
          "model_name": "HTMLModel",
          "state": {
            "_dom_classes": [],
            "_model_module": "@jupyter-widgets/controls",
            "_model_module_version": "1.5.0",
            "_model_name": "HTMLModel",
            "_view_count": null,
            "_view_module": "@jupyter-widgets/controls",
            "_view_module_version": "1.5.0",
            "_view_name": "HTMLView",
            "description": "",
            "description_tooltip": null,
            "layout": "IPY_MODEL_88c9c5f435544ea094e0febf8f6a258e",
            "placeholder": "​",
            "style": "IPY_MODEL_cf30cb1c7678422299fe8164f674564c",
            "value": " 385/385 [00:00&lt;00:00, 17.2kB/s]"
          }
        },
        "f06ee5fdcdfc442d8ea88556b4806552": {
          "model_module": "@jupyter-widgets/base",
          "model_module_version": "1.2.0",
          "model_name": "LayoutModel",
          "state": {
            "_model_module": "@jupyter-widgets/base",
            "_model_module_version": "1.2.0",
            "_model_name": "LayoutModel",
            "_view_count": null,
            "_view_module": "@jupyter-widgets/base",
            "_view_module_version": "1.2.0",
            "_view_name": "LayoutView",
            "align_content": null,
            "align_items": null,
            "align_self": null,
            "border": null,
            "bottom": null,
            "display": null,
            "flex": null,
            "flex_flow": null,
            "grid_area": null,
            "grid_auto_columns": null,
            "grid_auto_flow": null,
            "grid_auto_rows": null,
            "grid_column": null,
            "grid_gap": null,
            "grid_row": null,
            "grid_template_areas": null,
            "grid_template_columns": null,
            "grid_template_rows": null,
            "height": null,
            "justify_content": null,
            "justify_items": null,
            "left": null,
            "margin": null,
            "max_height": null,
            "max_width": null,
            "min_height": null,
            "min_width": null,
            "object_fit": null,
            "object_position": null,
            "order": null,
            "overflow": null,
            "overflow_x": null,
            "overflow_y": null,
            "padding": null,
            "right": null,
            "top": null,
            "visibility": null,
            "width": null
          }
        },
        "f365965e7ba34cec92a879bb5ce0f439": {
          "model_module": "@jupyter-widgets/controls",
          "model_module_version": "1.5.0",
          "model_name": "HTMLModel",
          "state": {
            "_dom_classes": [],
            "_model_module": "@jupyter-widgets/controls",
            "_model_module_version": "1.5.0",
            "_model_name": "HTMLModel",
            "_view_count": null,
            "_view_module": "@jupyter-widgets/controls",
            "_view_module_version": "1.5.0",
            "_view_name": "HTMLView",
            "description": "",
            "description_tooltip": null,
            "layout": "IPY_MODEL_008e5e719f2046779b8a22be3a1deb56",
            "placeholder": "​",
            "style": "IPY_MODEL_2249c87a3d964a1abcb68d0065070c3b",
            "value": "tokenizer.json: 100%"
          }
        },
        "f5269cda66df4e0fa637a455bed9284d": {
          "model_module": "@jupyter-widgets/controls",
          "model_module_version": "1.5.0",
          "model_name": "DescriptionStyleModel",
          "state": {
            "_model_module": "@jupyter-widgets/controls",
            "_model_module_version": "1.5.0",
            "_model_name": "DescriptionStyleModel",
            "_view_count": null,
            "_view_module": "@jupyter-widgets/base",
            "_view_module_version": "1.2.0",
            "_view_name": "StyleView",
            "description_width": ""
          }
        },
        "f6f0a5c5efe04a329d1ab4e0f57bf218": {
          "model_module": "@jupyter-widgets/base",
          "model_module_version": "1.2.0",
          "model_name": "LayoutModel",
          "state": {
            "_model_module": "@jupyter-widgets/base",
            "_model_module_version": "1.2.0",
            "_model_name": "LayoutModel",
            "_view_count": null,
            "_view_module": "@jupyter-widgets/base",
            "_view_module_version": "1.2.0",
            "_view_name": "LayoutView",
            "align_content": null,
            "align_items": null,
            "align_self": null,
            "border": null,
            "bottom": null,
            "display": null,
            "flex": null,
            "flex_flow": null,
            "grid_area": null,
            "grid_auto_columns": null,
            "grid_auto_flow": null,
            "grid_auto_rows": null,
            "grid_column": null,
            "grid_gap": null,
            "grid_row": null,
            "grid_template_areas": null,
            "grid_template_columns": null,
            "grid_template_rows": null,
            "height": null,
            "justify_content": null,
            "justify_items": null,
            "left": null,
            "margin": null,
            "max_height": null,
            "max_width": null,
            "min_height": null,
            "min_width": null,
            "object_fit": null,
            "object_position": null,
            "order": null,
            "overflow": null,
            "overflow_x": null,
            "overflow_y": null,
            "padding": null,
            "right": null,
            "top": null,
            "visibility": null,
            "width": null
          }
        },
        "f989d01112ab4bc18147147d12cc9917": {
          "model_module": "@jupyter-widgets/controls",
          "model_module_version": "1.5.0",
          "model_name": "HTMLModel",
          "state": {
            "_dom_classes": [],
            "_model_module": "@jupyter-widgets/controls",
            "_model_module_version": "1.5.0",
            "_model_name": "HTMLModel",
            "_view_count": null,
            "_view_module": "@jupyter-widgets/controls",
            "_view_module_version": "1.5.0",
            "_view_name": "HTMLView",
            "description": "",
            "description_tooltip": null,
            "layout": "IPY_MODEL_190a3e44089a46c199a56b8569b38b3c",
            "placeholder": "​",
            "style": "IPY_MODEL_3b75f6b2cc514c9e922b98dc7ece86f8",
            "value": "special_tokens_map.json: 100%"
          }
        },
        "f9a01a07182f4dc88e3d70b760bb1fc7": {
          "model_module": "@jupyter-widgets/controls",
          "model_module_version": "1.5.0",
          "model_name": "DescriptionStyleModel",
          "state": {
            "_model_module": "@jupyter-widgets/controls",
            "_model_module_version": "1.5.0",
            "_model_name": "DescriptionStyleModel",
            "_view_count": null,
            "_view_module": "@jupyter-widgets/base",
            "_view_module_version": "1.2.0",
            "_view_name": "StyleView",
            "description_width": ""
          }
        },
        "fa24ca3089de46f5b32af04d60718dc3": {
          "model_module": "@jupyter-widgets/base",
          "model_module_version": "1.2.0",
          "model_name": "LayoutModel",
          "state": {
            "_model_module": "@jupyter-widgets/base",
            "_model_module_version": "1.2.0",
            "_model_name": "LayoutModel",
            "_view_count": null,
            "_view_module": "@jupyter-widgets/base",
            "_view_module_version": "1.2.0",
            "_view_name": "LayoutView",
            "align_content": null,
            "align_items": null,
            "align_self": null,
            "border": null,
            "bottom": null,
            "display": null,
            "flex": null,
            "flex_flow": null,
            "grid_area": null,
            "grid_auto_columns": null,
            "grid_auto_flow": null,
            "grid_auto_rows": null,
            "grid_column": null,
            "grid_gap": null,
            "grid_row": null,
            "grid_template_areas": null,
            "grid_template_columns": null,
            "grid_template_rows": null,
            "height": null,
            "justify_content": null,
            "justify_items": null,
            "left": null,
            "margin": null,
            "max_height": null,
            "max_width": null,
            "min_height": null,
            "min_width": null,
            "object_fit": null,
            "object_position": null,
            "order": null,
            "overflow": null,
            "overflow_x": null,
            "overflow_y": null,
            "padding": null,
            "right": null,
            "top": null,
            "visibility": null,
            "width": null
          }
        },
        "fb08b354e17445d2b82818d000c9c7a1": {
          "model_module": "@jupyter-widgets/controls",
          "model_module_version": "1.5.0",
          "model_name": "HTMLModel",
          "state": {
            "_dom_classes": [],
            "_model_module": "@jupyter-widgets/controls",
            "_model_module_version": "1.5.0",
            "_model_name": "HTMLModel",
            "_view_count": null,
            "_view_module": "@jupyter-widgets/controls",
            "_view_module_version": "1.5.0",
            "_view_name": "HTMLView",
            "description": "",
            "description_tooltip": null,
            "layout": "IPY_MODEL_01102d3750544024bf4450d75adf1fee",
            "placeholder": "​",
            "style": "IPY_MODEL_a54eb7172d2b4a9eb83c88ebffb63ba7",
            "value": "generation_config.json: 100%"
          }
        },
        "fce8e0744e9b407a82cef0ebc10ecc73": {
          "model_module": "@jupyter-widgets/controls",
          "model_module_version": "1.5.0",
          "model_name": "HTMLModel",
          "state": {
            "_dom_classes": [],
            "_model_module": "@jupyter-widgets/controls",
            "_model_module_version": "1.5.0",
            "_model_name": "HTMLModel",
            "_view_count": null,
            "_view_module": "@jupyter-widgets/controls",
            "_view_module_version": "1.5.0",
            "_view_name": "HTMLView",
            "description": "",
            "description_tooltip": null,
            "layout": "IPY_MODEL_6f0697d1b2e84657a3bf61c7854ddf8f",
            "placeholder": "​",
            "style": "IPY_MODEL_97e226ab5add49e7990a5290028d13e5",
            "value": " 583/583 [00:00&lt;00:00, 37.7kB/s]"
          }
        }
      }
    }
  },
  "nbformat": 4,
  "nbformat_minor": 0
}
